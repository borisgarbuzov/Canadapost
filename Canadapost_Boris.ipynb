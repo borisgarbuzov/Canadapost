{
  "nbformat": 4,
  "nbformat_minor": 0,
  "metadata": {
    "colab": {
      "name": "Canadapost_Yulii_single_file",
      "provenance": [],
      "collapsed_sections": []
    },
    "kernelspec": {
      "name": "python3",
      "display_name": "Python 3"
    }
  },
  "cells": [
    {
      "cell_type": "code",
      "metadata": {
        "id": "zu0VlHjIE_NU",
        "colab_type": "code",
        "cellView": "both",
        "colab": {}
      },
      "source": [
        "#@title\n",
        "import pandas as pd\n",
        "from google.colab import files\n",
        "import io\n",
        "import numpy as np\n",
        "import matplotlib.pyplot as plt\n",
        "%matplotlib inline \n",
        "#https://overcoder.net/q/47263/%D0%BD%D0%B0%D0%B7%D0%BD%D0%B0%D1%87%D0%B5%D0%BD%D0%B8%D0%B5-matplotlib-inline\n",
        "import seaborn as sns #Seaborn is another powerful visualization library for Python\n",
        "from scipy import stats"
      ],
      "execution_count": 27,
      "outputs": []
    },
    {
      "cell_type": "code",
      "metadata": {
        "id": "m9ydITiCEged",
        "colab_type": "code",
        "colab": {}
      },
      "source": [
        "path = \"https://raw.githubusercontent.com/borisgarbuzov/Canadapost/master/data/\"\n",
        "file1 = \"Canada_Post_2019.csv\"\n",
        "file2 = \"Canada_Post_2018_auto_long.csv\"\n",
        "file3 = \"Canada_Post_2017_auto_long.csv\"\n",
        "file4 = \"Canada_Post_united_values.csv\"\n",
        "file5 = \"Canada_Post_events.csv\""
      ],
      "execution_count": 28,
      "outputs": []
    },
    {
      "cell_type": "code",
      "metadata": {
        "id": "IgTd0Ixw996v",
        "colab_type": "code",
        "colab": {
          "base_uri": "https://localhost:8080/",
          "height": 419
        },
        "outputId": "b8d64c55-f404-4a04-c83e-55a01b16fc60"
      },
      "source": [
        "df_2017 = pd.read_csv(path+file3,sep=\";\")\n",
        "df_2017"
      ],
      "execution_count": 29,
      "outputs": [
        {
          "output_type": "execute_result",
          "data": {
            "text/html": [
              "<div>\n",
              "<style scoped>\n",
              "    .dataframe tbody tr th:only-of-type {\n",
              "        vertical-align: middle;\n",
              "    }\n",
              "\n",
              "    .dataframe tbody tr th {\n",
              "        vertical-align: top;\n",
              "    }\n",
              "\n",
              "    .dataframe thead th {\n",
              "        text-align: right;\n",
              "    }\n",
              "</style>\n",
              "<table border=\"1\" class=\"dataframe\">\n",
              "  <thead>\n",
              "    <tr style=\"text-align: right;\">\n",
              "      <th></th>\n",
              "      <th>Row</th>\n",
              "      <th>Column1</th>\n",
              "      <th>Column</th>\n",
              "      <th>Value</th>\n",
              "    </tr>\n",
              "  </thead>\n",
              "  <tbody>\n",
              "    <tr>\n",
              "      <th>0</th>\n",
              "      <td>2017.0</td>\n",
              "      <td>1.0</td>\n",
              "      <td>agulhas</td>\n",
              "      <td>83.0</td>\n",
              "    </tr>\n",
              "    <tr>\n",
              "      <th>1</th>\n",
              "      <td>2017.0</td>\n",
              "      <td>1.0</td>\n",
              "      <td>airline</td>\n",
              "      <td>11.0</td>\n",
              "    </tr>\n",
              "    <tr>\n",
              "      <th>2</th>\n",
              "      <td>2017.0</td>\n",
              "      <td>1.0</td>\n",
              "      <td>allover</td>\n",
              "      <td>365.0</td>\n",
              "    </tr>\n",
              "    <tr>\n",
              "      <th>3</th>\n",
              "      <td>2017.0</td>\n",
              "      <td>1.0</td>\n",
              "      <td>amenity</td>\n",
              "      <td>21.0</td>\n",
              "    </tr>\n",
              "    <tr>\n",
              "      <th>4</th>\n",
              "      <td>2017.0</td>\n",
              "      <td>1.0</td>\n",
              "      <td>anchovy</td>\n",
              "      <td>74.0</td>\n",
              "    </tr>\n",
              "    <tr>\n",
              "      <th>...</th>\n",
              "      <td>...</td>\n",
              "      <td>...</td>\n",
              "      <td>...</td>\n",
              "      <td>...</td>\n",
              "    </tr>\n",
              "    <tr>\n",
              "      <th>5402</th>\n",
              "      <td>2018.0</td>\n",
              "      <td>1.0</td>\n",
              "      <td>trismus</td>\n",
              "      <td>9.0</td>\n",
              "    </tr>\n",
              "    <tr>\n",
              "      <th>5403</th>\n",
              "      <td>2018.0</td>\n",
              "      <td>1.0</td>\n",
              "      <td>twinned</td>\n",
              "      <td>149.0</td>\n",
              "    </tr>\n",
              "    <tr>\n",
              "      <th>5404</th>\n",
              "      <td>2018.0</td>\n",
              "      <td>1.0</td>\n",
              "      <td>vistula</td>\n",
              "      <td>3.0</td>\n",
              "    </tr>\n",
              "    <tr>\n",
              "      <th>5405</th>\n",
              "      <td>2018.0</td>\n",
              "      <td>1.0</td>\n",
              "      <td>woodser</td>\n",
              "      <td>2876.0</td>\n",
              "    </tr>\n",
              "    <tr>\n",
              "      <th>5406</th>\n",
              "      <td>NaN</td>\n",
              "      <td>NaN</td>\n",
              "      <td>NaN</td>\n",
              "      <td>NaN</td>\n",
              "    </tr>\n",
              "  </tbody>\n",
              "</table>\n",
              "<p>5407 rows × 4 columns</p>\n",
              "</div>"
            ],
            "text/plain": [
              "         Row  Column1   Column   Value\n",
              "0     2017.0      1.0  agulhas    83.0\n",
              "1     2017.0      1.0  airline    11.0\n",
              "2     2017.0      1.0  allover   365.0\n",
              "3     2017.0      1.0  amenity    21.0\n",
              "4     2017.0      1.0  anchovy    74.0\n",
              "...      ...      ...      ...     ...\n",
              "5402  2018.0      1.0  trismus     9.0\n",
              "5403  2018.0      1.0  twinned   149.0\n",
              "5404  2018.0      1.0  vistula     3.0\n",
              "5405  2018.0      1.0  woodser  2876.0\n",
              "5406     NaN      NaN      NaN     NaN\n",
              "\n",
              "[5407 rows x 4 columns]"
            ]
          },
          "metadata": {
            "tags": []
          },
          "execution_count": 29
        }
      ]
    },
    {
      "cell_type": "code",
      "metadata": {
        "id": "dG62R0uH_aFj",
        "colab_type": "code",
        "colab": {}
      },
      "source": [
        "df_2017 = df_2017.rename(columns={\"Row\":\"Year\", \"Column\":\"Customer\", \"Value\":\"Volume\", \"Column1\":\"Week_Number\"})"
      ],
      "execution_count": 30,
      "outputs": []
    },
    {
      "cell_type": "code",
      "metadata": {
        "id": "q_sciz3Q-pNp",
        "colab_type": "code",
        "colab": {}
      },
      "source": [
        "#Old Groups 1\n",
        "customer_df_2017 = df_2017[\"Customer\"].unique().tolist()\n",
        "\n",
        "dict_df_2017 = {}\n",
        "for customer in customer_df_2017:\n",
        "  dict_df_2017[customer] = 0\n",
        "\n",
        "\n",
        "for key in dict_df_2017:\n",
        "  x = df_2017.loc[df_2017[\"Customer\"] == key]\n",
        "  sum_of_category = sum(x[\"Volume\"])\n",
        "  dict_df_2017[key] += sum_of_category"
      ],
      "execution_count": 31,
      "outputs": []
    },
    {
      "cell_type": "code",
      "metadata": {
        "id": "3clHg4tL_r4n",
        "colab_type": "code",
        "colab": {
          "base_uri": "https://localhost:8080/",
          "height": 204
        },
        "outputId": "f6fe95b4-3021-4963-eb95-77c4083332f3"
      },
      "source": [
        "#Old Groups 2 for df_2017\n",
        "for  key, value in dict_df_2017.items():\n",
        " #print()\n",
        "  if dict_df_2017[key] < 10000:\n",
        "    dict_df_2017[key] = \"Small\"\n",
        "  elif dict_df_2017[key] >=10000 and dict_df_2017[key] <= 500000:\n",
        "    dict_df_2017[key] = \"Medium\"\n",
        "  else:\n",
        "    dict_df_2017[key] = \"Large\"\n",
        "\n",
        "df_2017.head()    "
      ],
      "execution_count": 32,
      "outputs": [
        {
          "output_type": "execute_result",
          "data": {
            "text/html": [
              "<div>\n",
              "<style scoped>\n",
              "    .dataframe tbody tr th:only-of-type {\n",
              "        vertical-align: middle;\n",
              "    }\n",
              "\n",
              "    .dataframe tbody tr th {\n",
              "        vertical-align: top;\n",
              "    }\n",
              "\n",
              "    .dataframe thead th {\n",
              "        text-align: right;\n",
              "    }\n",
              "</style>\n",
              "<table border=\"1\" class=\"dataframe\">\n",
              "  <thead>\n",
              "    <tr style=\"text-align: right;\">\n",
              "      <th></th>\n",
              "      <th>Year</th>\n",
              "      <th>Week_Number</th>\n",
              "      <th>Customer</th>\n",
              "      <th>Volume</th>\n",
              "    </tr>\n",
              "  </thead>\n",
              "  <tbody>\n",
              "    <tr>\n",
              "      <th>0</th>\n",
              "      <td>2017.0</td>\n",
              "      <td>1.0</td>\n",
              "      <td>agulhas</td>\n",
              "      <td>83.0</td>\n",
              "    </tr>\n",
              "    <tr>\n",
              "      <th>1</th>\n",
              "      <td>2017.0</td>\n",
              "      <td>1.0</td>\n",
              "      <td>airline</td>\n",
              "      <td>11.0</td>\n",
              "    </tr>\n",
              "    <tr>\n",
              "      <th>2</th>\n",
              "      <td>2017.0</td>\n",
              "      <td>1.0</td>\n",
              "      <td>allover</td>\n",
              "      <td>365.0</td>\n",
              "    </tr>\n",
              "    <tr>\n",
              "      <th>3</th>\n",
              "      <td>2017.0</td>\n",
              "      <td>1.0</td>\n",
              "      <td>amenity</td>\n",
              "      <td>21.0</td>\n",
              "    </tr>\n",
              "    <tr>\n",
              "      <th>4</th>\n",
              "      <td>2017.0</td>\n",
              "      <td>1.0</td>\n",
              "      <td>anchovy</td>\n",
              "      <td>74.0</td>\n",
              "    </tr>\n",
              "  </tbody>\n",
              "</table>\n",
              "</div>"
            ],
            "text/plain": [
              "     Year  Week_Number Customer  Volume\n",
              "0  2017.0          1.0  agulhas    83.0\n",
              "1  2017.0          1.0  airline    11.0\n",
              "2  2017.0          1.0  allover   365.0\n",
              "3  2017.0          1.0  amenity    21.0\n",
              "4  2017.0          1.0  anchovy    74.0"
            ]
          },
          "metadata": {
            "tags": []
          },
          "execution_count": 32
        }
      ]
    },
    {
      "cell_type": "code",
      "metadata": {
        "id": "DaDY3A6YAMiy",
        "colab_type": "code",
        "colab": {}
      },
      "source": [
        "df_2017[\"Groups_2017\"] = df_2017[\"Customer\"].map(dict_df_2017)"
      ],
      "execution_count": 33,
      "outputs": []
    },
    {
      "cell_type": "code",
      "metadata": {
        "id": "RywO8N0SNydn",
        "colab_type": "code",
        "colab": {
          "base_uri": "https://localhost:8080/",
          "height": 419
        },
        "outputId": "082fa292-4f16-49ed-cb22-8994ba35330a"
      },
      "source": [
        "df_2017"
      ],
      "execution_count": 34,
      "outputs": [
        {
          "output_type": "execute_result",
          "data": {
            "text/html": [
              "<div>\n",
              "<style scoped>\n",
              "    .dataframe tbody tr th:only-of-type {\n",
              "        vertical-align: middle;\n",
              "    }\n",
              "\n",
              "    .dataframe tbody tr th {\n",
              "        vertical-align: top;\n",
              "    }\n",
              "\n",
              "    .dataframe thead th {\n",
              "        text-align: right;\n",
              "    }\n",
              "</style>\n",
              "<table border=\"1\" class=\"dataframe\">\n",
              "  <thead>\n",
              "    <tr style=\"text-align: right;\">\n",
              "      <th></th>\n",
              "      <th>Year</th>\n",
              "      <th>Week_Number</th>\n",
              "      <th>Customer</th>\n",
              "      <th>Volume</th>\n",
              "      <th>Groups_2017</th>\n",
              "    </tr>\n",
              "  </thead>\n",
              "  <tbody>\n",
              "    <tr>\n",
              "      <th>0</th>\n",
              "      <td>2017.0</td>\n",
              "      <td>1.0</td>\n",
              "      <td>agulhas</td>\n",
              "      <td>83.0</td>\n",
              "      <td>Small</td>\n",
              "    </tr>\n",
              "    <tr>\n",
              "      <th>1</th>\n",
              "      <td>2017.0</td>\n",
              "      <td>1.0</td>\n",
              "      <td>airline</td>\n",
              "      <td>11.0</td>\n",
              "      <td>Small</td>\n",
              "    </tr>\n",
              "    <tr>\n",
              "      <th>2</th>\n",
              "      <td>2017.0</td>\n",
              "      <td>1.0</td>\n",
              "      <td>allover</td>\n",
              "      <td>365.0</td>\n",
              "      <td>Medium</td>\n",
              "    </tr>\n",
              "    <tr>\n",
              "      <th>3</th>\n",
              "      <td>2017.0</td>\n",
              "      <td>1.0</td>\n",
              "      <td>amenity</td>\n",
              "      <td>21.0</td>\n",
              "      <td>Small</td>\n",
              "    </tr>\n",
              "    <tr>\n",
              "      <th>4</th>\n",
              "      <td>2017.0</td>\n",
              "      <td>1.0</td>\n",
              "      <td>anchovy</td>\n",
              "      <td>74.0</td>\n",
              "      <td>Small</td>\n",
              "    </tr>\n",
              "    <tr>\n",
              "      <th>...</th>\n",
              "      <td>...</td>\n",
              "      <td>...</td>\n",
              "      <td>...</td>\n",
              "      <td>...</td>\n",
              "      <td>...</td>\n",
              "    </tr>\n",
              "    <tr>\n",
              "      <th>5402</th>\n",
              "      <td>2018.0</td>\n",
              "      <td>1.0</td>\n",
              "      <td>trismus</td>\n",
              "      <td>9.0</td>\n",
              "      <td>Small</td>\n",
              "    </tr>\n",
              "    <tr>\n",
              "      <th>5403</th>\n",
              "      <td>2018.0</td>\n",
              "      <td>1.0</td>\n",
              "      <td>twinned</td>\n",
              "      <td>149.0</td>\n",
              "      <td>Small</td>\n",
              "    </tr>\n",
              "    <tr>\n",
              "      <th>5404</th>\n",
              "      <td>2018.0</td>\n",
              "      <td>1.0</td>\n",
              "      <td>vistula</td>\n",
              "      <td>3.0</td>\n",
              "      <td>Medium</td>\n",
              "    </tr>\n",
              "    <tr>\n",
              "      <th>5405</th>\n",
              "      <td>2018.0</td>\n",
              "      <td>1.0</td>\n",
              "      <td>woodser</td>\n",
              "      <td>2876.0</td>\n",
              "      <td>Medium</td>\n",
              "    </tr>\n",
              "    <tr>\n",
              "      <th>5406</th>\n",
              "      <td>NaN</td>\n",
              "      <td>NaN</td>\n",
              "      <td>NaN</td>\n",
              "      <td>NaN</td>\n",
              "      <td>Small</td>\n",
              "    </tr>\n",
              "  </tbody>\n",
              "</table>\n",
              "<p>5407 rows × 5 columns</p>\n",
              "</div>"
            ],
            "text/plain": [
              "        Year  Week_Number Customer  Volume Groups_2017\n",
              "0     2017.0          1.0  agulhas    83.0       Small\n",
              "1     2017.0          1.0  airline    11.0       Small\n",
              "2     2017.0          1.0  allover   365.0      Medium\n",
              "3     2017.0          1.0  amenity    21.0       Small\n",
              "4     2017.0          1.0  anchovy    74.0       Small\n",
              "...      ...          ...      ...     ...         ...\n",
              "5402  2018.0          1.0  trismus     9.0       Small\n",
              "5403  2018.0          1.0  twinned   149.0       Small\n",
              "5404  2018.0          1.0  vistula     3.0      Medium\n",
              "5405  2018.0          1.0  woodser  2876.0      Medium\n",
              "5406     NaN          NaN      NaN     NaN       Small\n",
              "\n",
              "[5407 rows x 5 columns]"
            ]
          },
          "metadata": {
            "tags": []
          },
          "execution_count": 34
        }
      ]
    },
    {
      "cell_type": "code",
      "metadata": {
        "id": "i3c0FrSCa8iT",
        "colab_type": "code",
        "colab": {}
      },
      "source": [
        "#again NaN\n",
        "for column in df_2017.columns:\n",
        "  df_2017[column]=df_2017[column].fillna(value = df_2017[column].mode()[0])"
      ],
      "execution_count": 35,
      "outputs": []
    },
    {
      "cell_type": "code",
      "metadata": {
        "id": "NWnbXsgbnSPQ",
        "colab_type": "code",
        "colab": {}
      },
      "source": [
        "df_united_values = pd.read_csv(path+file4,sep=\";\")"
      ],
      "execution_count": 36,
      "outputs": []
    },
    {
      "cell_type": "code",
      "metadata": {
        "id": "gvcbiU5JMBrB",
        "colab_type": "code",
        "colab": {
          "base_uri": "https://localhost:8080/",
          "height": 204
        },
        "outputId": "0e4961cb-54cc-4811-ac09-ba6d19022c4f"
      },
      "source": [
        "df_united_values.head(5)"
      ],
      "execution_count": 37,
      "outputs": [
        {
          "output_type": "execute_result",
          "data": {
            "text/html": [
              "<div>\n",
              "<style scoped>\n",
              "    .dataframe tbody tr th:only-of-type {\n",
              "        vertical-align: middle;\n",
              "    }\n",
              "\n",
              "    .dataframe tbody tr th {\n",
              "        vertical-align: top;\n",
              "    }\n",
              "\n",
              "    .dataframe thead th {\n",
              "        text-align: right;\n",
              "    }\n",
              "</style>\n",
              "<table border=\"1\" class=\"dataframe\">\n",
              "  <thead>\n",
              "    <tr style=\"text-align: right;\">\n",
              "      <th></th>\n",
              "      <th>Row</th>\n",
              "      <th>Column1</th>\n",
              "      <th>Column</th>\n",
              "      <th>Value</th>\n",
              "    </tr>\n",
              "  </thead>\n",
              "  <tbody>\n",
              "    <tr>\n",
              "      <th>0</th>\n",
              "      <td>2017</td>\n",
              "      <td>1</td>\n",
              "      <td>agulhas</td>\n",
              "      <td>83</td>\n",
              "    </tr>\n",
              "    <tr>\n",
              "      <th>1</th>\n",
              "      <td>2017</td>\n",
              "      <td>1</td>\n",
              "      <td>airline</td>\n",
              "      <td>11</td>\n",
              "    </tr>\n",
              "    <tr>\n",
              "      <th>2</th>\n",
              "      <td>2017</td>\n",
              "      <td>1</td>\n",
              "      <td>allover</td>\n",
              "      <td>365</td>\n",
              "    </tr>\n",
              "    <tr>\n",
              "      <th>3</th>\n",
              "      <td>2017</td>\n",
              "      <td>1</td>\n",
              "      <td>amenity</td>\n",
              "      <td>21</td>\n",
              "    </tr>\n",
              "    <tr>\n",
              "      <th>4</th>\n",
              "      <td>2017</td>\n",
              "      <td>1</td>\n",
              "      <td>anchovy</td>\n",
              "      <td>74</td>\n",
              "    </tr>\n",
              "  </tbody>\n",
              "</table>\n",
              "</div>"
            ],
            "text/plain": [
              "    Row  Column1   Column  Value\n",
              "0  2017        1  agulhas     83\n",
              "1  2017        1  airline     11\n",
              "2  2017        1  allover    365\n",
              "3  2017        1  amenity     21\n",
              "4  2017        1  anchovy     74"
            ]
          },
          "metadata": {
            "tags": []
          },
          "execution_count": 37
        }
      ]
    },
    {
      "cell_type": "code",
      "metadata": {
        "id": "LjvqCbV5xtqi",
        "colab_type": "code",
        "colab": {
          "base_uri": "https://localhost:8080/",
          "height": 204
        },
        "outputId": "ec30e4ef-6b41-4406-e4be-914a720bc530"
      },
      "source": [
        "df_united_values = df_united_values.rename(columns={\"Row\":\"Year\", \"Column\":\"Customer\", \"Value\":\"Volume\", \"Column1\":\"Week_Number\"})\n",
        "df_united_values.head()"
      ],
      "execution_count": 38,
      "outputs": [
        {
          "output_type": "execute_result",
          "data": {
            "text/html": [
              "<div>\n",
              "<style scoped>\n",
              "    .dataframe tbody tr th:only-of-type {\n",
              "        vertical-align: middle;\n",
              "    }\n",
              "\n",
              "    .dataframe tbody tr th {\n",
              "        vertical-align: top;\n",
              "    }\n",
              "\n",
              "    .dataframe thead th {\n",
              "        text-align: right;\n",
              "    }\n",
              "</style>\n",
              "<table border=\"1\" class=\"dataframe\">\n",
              "  <thead>\n",
              "    <tr style=\"text-align: right;\">\n",
              "      <th></th>\n",
              "      <th>Year</th>\n",
              "      <th>Week_Number</th>\n",
              "      <th>Customer</th>\n",
              "      <th>Volume</th>\n",
              "    </tr>\n",
              "  </thead>\n",
              "  <tbody>\n",
              "    <tr>\n",
              "      <th>0</th>\n",
              "      <td>2017</td>\n",
              "      <td>1</td>\n",
              "      <td>agulhas</td>\n",
              "      <td>83</td>\n",
              "    </tr>\n",
              "    <tr>\n",
              "      <th>1</th>\n",
              "      <td>2017</td>\n",
              "      <td>1</td>\n",
              "      <td>airline</td>\n",
              "      <td>11</td>\n",
              "    </tr>\n",
              "    <tr>\n",
              "      <th>2</th>\n",
              "      <td>2017</td>\n",
              "      <td>1</td>\n",
              "      <td>allover</td>\n",
              "      <td>365</td>\n",
              "    </tr>\n",
              "    <tr>\n",
              "      <th>3</th>\n",
              "      <td>2017</td>\n",
              "      <td>1</td>\n",
              "      <td>amenity</td>\n",
              "      <td>21</td>\n",
              "    </tr>\n",
              "    <tr>\n",
              "      <th>4</th>\n",
              "      <td>2017</td>\n",
              "      <td>1</td>\n",
              "      <td>anchovy</td>\n",
              "      <td>74</td>\n",
              "    </tr>\n",
              "  </tbody>\n",
              "</table>\n",
              "</div>"
            ],
            "text/plain": [
              "   Year  Week_Number Customer  Volume\n",
              "0  2017            1  agulhas      83\n",
              "1  2017            1  airline      11\n",
              "2  2017            1  allover     365\n",
              "3  2017            1  amenity      21\n",
              "4  2017            1  anchovy      74"
            ]
          },
          "metadata": {
            "tags": []
          },
          "execution_count": 38
        }
      ]
    },
    {
      "cell_type": "code",
      "metadata": {
        "id": "N0oQ__-DH965",
        "colab_type": "code",
        "colab": {
          "base_uri": "https://localhost:8080/",
          "height": 419
        },
        "outputId": "5ace80a6-a146-4e71-a633-16f42f9c6879"
      },
      "source": [
        "# File was without colnames...\n",
        "colnames=['Year', 'Week_Number', 'Customer', 'Volume', \"Event1\", \"Event2\"] \n",
        "df_events = pd.read_csv(path+file5,sep=\";\", names = colnames, header=None)\n",
        "df_events"
      ],
      "execution_count": 39,
      "outputs": [
        {
          "output_type": "execute_result",
          "data": {
            "text/html": [
              "<div>\n",
              "<style scoped>\n",
              "    .dataframe tbody tr th:only-of-type {\n",
              "        vertical-align: middle;\n",
              "    }\n",
              "\n",
              "    .dataframe tbody tr th {\n",
              "        vertical-align: top;\n",
              "    }\n",
              "\n",
              "    .dataframe thead th {\n",
              "        text-align: right;\n",
              "    }\n",
              "</style>\n",
              "<table border=\"1\" class=\"dataframe\">\n",
              "  <thead>\n",
              "    <tr style=\"text-align: right;\">\n",
              "      <th></th>\n",
              "      <th>Year</th>\n",
              "      <th>Week_Number</th>\n",
              "      <th>Customer</th>\n",
              "      <th>Volume</th>\n",
              "      <th>Event1</th>\n",
              "      <th>Event2</th>\n",
              "    </tr>\n",
              "  </thead>\n",
              "  <tbody>\n",
              "    <tr>\n",
              "      <th>0</th>\n",
              "      <td>2017</td>\n",
              "      <td>1</td>\n",
              "      <td>agulhas</td>\n",
              "      <td>83</td>\n",
              "      <td>NaN</td>\n",
              "      <td>NaN</td>\n",
              "    </tr>\n",
              "    <tr>\n",
              "      <th>1</th>\n",
              "      <td>2017</td>\n",
              "      <td>2</td>\n",
              "      <td>agulhas</td>\n",
              "      <td>98</td>\n",
              "      <td>NaN</td>\n",
              "      <td>NaN</td>\n",
              "    </tr>\n",
              "    <tr>\n",
              "      <th>2</th>\n",
              "      <td>2017</td>\n",
              "      <td>3</td>\n",
              "      <td>agulhas</td>\n",
              "      <td>57</td>\n",
              "      <td>NaN</td>\n",
              "      <td>NaN</td>\n",
              "    </tr>\n",
              "    <tr>\n",
              "      <th>3</th>\n",
              "      <td>2017</td>\n",
              "      <td>4</td>\n",
              "      <td>agulhas</td>\n",
              "      <td>127</td>\n",
              "      <td>NaN</td>\n",
              "      <td>NaN</td>\n",
              "    </tr>\n",
              "    <tr>\n",
              "      <th>4</th>\n",
              "      <td>2017</td>\n",
              "      <td>5</td>\n",
              "      <td>agulhas</td>\n",
              "      <td>121</td>\n",
              "      <td>NaN</td>\n",
              "      <td>NaN</td>\n",
              "    </tr>\n",
              "    <tr>\n",
              "      <th>...</th>\n",
              "      <td>...</td>\n",
              "      <td>...</td>\n",
              "      <td>...</td>\n",
              "      <td>...</td>\n",
              "      <td>...</td>\n",
              "      <td>...</td>\n",
              "    </tr>\n",
              "    <tr>\n",
              "      <th>12126</th>\n",
              "      <td>2019</td>\n",
              "      <td>13</td>\n",
              "      <td>woodser</td>\n",
              "      <td>1853</td>\n",
              "      <td>NaN</td>\n",
              "      <td>NaN</td>\n",
              "    </tr>\n",
              "    <tr>\n",
              "      <th>12127</th>\n",
              "      <td>2019</td>\n",
              "      <td>14</td>\n",
              "      <td>woodser</td>\n",
              "      <td>1618</td>\n",
              "      <td>NaN</td>\n",
              "      <td>NaN</td>\n",
              "    </tr>\n",
              "    <tr>\n",
              "      <th>12128</th>\n",
              "      <td>2019</td>\n",
              "      <td>15</td>\n",
              "      <td>woodser</td>\n",
              "      <td>1584</td>\n",
              "      <td>NaN</td>\n",
              "      <td>NaN</td>\n",
              "    </tr>\n",
              "    <tr>\n",
              "      <th>12129</th>\n",
              "      <td>2019</td>\n",
              "      <td>16</td>\n",
              "      <td>woodser</td>\n",
              "      <td>1732</td>\n",
              "      <td>NaN</td>\n",
              "      <td>NaN</td>\n",
              "    </tr>\n",
              "    <tr>\n",
              "      <th>12130</th>\n",
              "      <td>2019</td>\n",
              "      <td>17</td>\n",
              "      <td>woodser</td>\n",
              "      <td>1651</td>\n",
              "      <td>NaN</td>\n",
              "      <td>NaN</td>\n",
              "    </tr>\n",
              "  </tbody>\n",
              "</table>\n",
              "<p>12131 rows × 6 columns</p>\n",
              "</div>"
            ],
            "text/plain": [
              "       Year  Week_Number Customer  Volume Event1 Event2\n",
              "0      2017            1  agulhas      83    NaN    NaN\n",
              "1      2017            2  agulhas      98    NaN    NaN\n",
              "2      2017            3  agulhas      57    NaN    NaN\n",
              "3      2017            4  agulhas     127    NaN    NaN\n",
              "4      2017            5  agulhas     121    NaN    NaN\n",
              "...     ...          ...      ...     ...    ...    ...\n",
              "12126  2019           13  woodser    1853    NaN    NaN\n",
              "12127  2019           14  woodser    1618    NaN    NaN\n",
              "12128  2019           15  woodser    1584    NaN    NaN\n",
              "12129  2019           16  woodser    1732    NaN    NaN\n",
              "12130  2019           17  woodser    1651    NaN    NaN\n",
              "\n",
              "[12131 rows x 6 columns]"
            ]
          },
          "metadata": {
            "tags": []
          },
          "execution_count": 39
        }
      ]
    },
    {
      "cell_type": "code",
      "metadata": {
        "id": "rPSv8maoKAs9",
        "colab_type": "code",
        "colab": {
          "base_uri": "https://localhost:8080/",
          "height": 419
        },
        "outputId": "90ada992-188a-44fd-e37f-09b17b712017"
      },
      "source": [
        "# It might be not good ta have NaN for futher fork\n",
        "for column in df_events.columns:\n",
        "  df_events[column]=df_events[column].fillna(value = 0)\n",
        "df_events"
      ],
      "execution_count": 40,
      "outputs": [
        {
          "output_type": "execute_result",
          "data": {
            "text/html": [
              "<div>\n",
              "<style scoped>\n",
              "    .dataframe tbody tr th:only-of-type {\n",
              "        vertical-align: middle;\n",
              "    }\n",
              "\n",
              "    .dataframe tbody tr th {\n",
              "        vertical-align: top;\n",
              "    }\n",
              "\n",
              "    .dataframe thead th {\n",
              "        text-align: right;\n",
              "    }\n",
              "</style>\n",
              "<table border=\"1\" class=\"dataframe\">\n",
              "  <thead>\n",
              "    <tr style=\"text-align: right;\">\n",
              "      <th></th>\n",
              "      <th>Year</th>\n",
              "      <th>Week_Number</th>\n",
              "      <th>Customer</th>\n",
              "      <th>Volume</th>\n",
              "      <th>Event1</th>\n",
              "      <th>Event2</th>\n",
              "    </tr>\n",
              "  </thead>\n",
              "  <tbody>\n",
              "    <tr>\n",
              "      <th>0</th>\n",
              "      <td>2017</td>\n",
              "      <td>1</td>\n",
              "      <td>agulhas</td>\n",
              "      <td>83</td>\n",
              "      <td>0</td>\n",
              "      <td>0</td>\n",
              "    </tr>\n",
              "    <tr>\n",
              "      <th>1</th>\n",
              "      <td>2017</td>\n",
              "      <td>2</td>\n",
              "      <td>agulhas</td>\n",
              "      <td>98</td>\n",
              "      <td>0</td>\n",
              "      <td>0</td>\n",
              "    </tr>\n",
              "    <tr>\n",
              "      <th>2</th>\n",
              "      <td>2017</td>\n",
              "      <td>3</td>\n",
              "      <td>agulhas</td>\n",
              "      <td>57</td>\n",
              "      <td>0</td>\n",
              "      <td>0</td>\n",
              "    </tr>\n",
              "    <tr>\n",
              "      <th>3</th>\n",
              "      <td>2017</td>\n",
              "      <td>4</td>\n",
              "      <td>agulhas</td>\n",
              "      <td>127</td>\n",
              "      <td>0</td>\n",
              "      <td>0</td>\n",
              "    </tr>\n",
              "    <tr>\n",
              "      <th>4</th>\n",
              "      <td>2017</td>\n",
              "      <td>5</td>\n",
              "      <td>agulhas</td>\n",
              "      <td>121</td>\n",
              "      <td>0</td>\n",
              "      <td>0</td>\n",
              "    </tr>\n",
              "    <tr>\n",
              "      <th>...</th>\n",
              "      <td>...</td>\n",
              "      <td>...</td>\n",
              "      <td>...</td>\n",
              "      <td>...</td>\n",
              "      <td>...</td>\n",
              "      <td>...</td>\n",
              "    </tr>\n",
              "    <tr>\n",
              "      <th>12126</th>\n",
              "      <td>2019</td>\n",
              "      <td>13</td>\n",
              "      <td>woodser</td>\n",
              "      <td>1853</td>\n",
              "      <td>0</td>\n",
              "      <td>0</td>\n",
              "    </tr>\n",
              "    <tr>\n",
              "      <th>12127</th>\n",
              "      <td>2019</td>\n",
              "      <td>14</td>\n",
              "      <td>woodser</td>\n",
              "      <td>1618</td>\n",
              "      <td>0</td>\n",
              "      <td>0</td>\n",
              "    </tr>\n",
              "    <tr>\n",
              "      <th>12128</th>\n",
              "      <td>2019</td>\n",
              "      <td>15</td>\n",
              "      <td>woodser</td>\n",
              "      <td>1584</td>\n",
              "      <td>0</td>\n",
              "      <td>0</td>\n",
              "    </tr>\n",
              "    <tr>\n",
              "      <th>12129</th>\n",
              "      <td>2019</td>\n",
              "      <td>16</td>\n",
              "      <td>woodser</td>\n",
              "      <td>1732</td>\n",
              "      <td>0</td>\n",
              "      <td>0</td>\n",
              "    </tr>\n",
              "    <tr>\n",
              "      <th>12130</th>\n",
              "      <td>2019</td>\n",
              "      <td>17</td>\n",
              "      <td>woodser</td>\n",
              "      <td>1651</td>\n",
              "      <td>0</td>\n",
              "      <td>0</td>\n",
              "    </tr>\n",
              "  </tbody>\n",
              "</table>\n",
              "<p>12131 rows × 6 columns</p>\n",
              "</div>"
            ],
            "text/plain": [
              "       Year  Week_Number Customer  Volume Event1 Event2\n",
              "0      2017            1  agulhas      83      0      0\n",
              "1      2017            2  agulhas      98      0      0\n",
              "2      2017            3  agulhas      57      0      0\n",
              "3      2017            4  agulhas     127      0      0\n",
              "4      2017            5  agulhas     121      0      0\n",
              "...     ...          ...      ...     ...    ...    ...\n",
              "12126  2019           13  woodser    1853      0      0\n",
              "12127  2019           14  woodser    1618      0      0\n",
              "12128  2019           15  woodser    1584      0      0\n",
              "12129  2019           16  woodser    1732      0      0\n",
              "12130  2019           17  woodser    1651      0      0\n",
              "\n",
              "[12131 rows x 6 columns]"
            ]
          },
          "metadata": {
            "tags": []
          },
          "execution_count": 40
        }
      ]
    },
    {
      "cell_type": "code",
      "metadata": {
        "id": "G3n5OzlM8tC6",
        "colab_type": "code",
        "colab": {
          "base_uri": "https://localhost:8080/",
          "height": 502
        },
        "outputId": "8dba4052-59b0-42ba-e2b8-5b8ecbae23ae"
      },
      "source": [
        "df_united_values[\"Week_Number\"].hist(figsize=(18,8))"
      ],
      "execution_count": 41,
      "outputs": [
        {
          "output_type": "execute_result",
          "data": {
            "text/plain": [
              "<matplotlib.axes._subplots.AxesSubplot at 0x7fe809d4cbe0>"
            ]
          },
          "metadata": {
            "tags": []
          },
          "execution_count": 41
        },
        {
          "output_type": "display_data",
          "data": {
            "image/png": "[encoded data removed]",
            "text/plain": [
              "<Figure size 1296x576 with 1 Axes>"
            ]
          },
          "metadata": {
            "tags": [],
            "needs_background": "light"
          }
        }
      ]
    },
    {
      "cell_type": "code",
      "metadata": {
        "id": "dPy_jqj62kCF",
        "colab_type": "code",
        "colab": {
          "base_uri": "https://localhost:8080/",
          "height": 502
        },
        "outputId": "3655b56c-00a6-4493-a3a4-b05236ef6e7e"
      },
      "source": [
        "df_united_values[\"Year\"].hist(figsize=(10,8))"
      ],
      "execution_count": 42,
      "outputs": [
        {
          "output_type": "execute_result",
          "data": {
            "text/plain": [
              "<matplotlib.axes._subplots.AxesSubplot at 0x7fe809d4c780>"
            ]
          },
          "metadata": {
            "tags": []
          },
          "execution_count": 42
        },
        {
          "output_type": "display_data",
          "data": {
            "image/png": "[encoded data removed]",
            "text/plain": [
              "<Figure size 720x576 with 1 Axes>"
            ]
          },
          "metadata": {
            "tags": [],
            "needs_background": "light"
          }
        }
      ]
    },
    {
      "cell_type": "code",
      "metadata": {
        "id": "F-OTZNSg5EH5",
        "colab_type": "code",
        "colab": {
          "base_uri": "https://localhost:8080/",
          "height": 204
        },
        "outputId": "f4150025-a5cf-4845-9acb-8e3f88d24447"
      },
      "source": [
        "# Create a new column, kind of chronological time\n",
        "# year_week\n",
        "df_united_values[['Year', 'Week_Number']] = df_united_values[['Year', 'Week_Number']].astype(int).astype(str)\n",
        "df_united_values[\"Year_Week\"] = df_united_values[\"Year\"] + \"-\" + df_united_values[\"Week_Number\"]\n",
        "df_united_values.head(5)"
      ],
      "execution_count": 43,
      "outputs": [
        {
          "output_type": "execute_result",
          "data": {
            "text/html": [
              "<div>\n",
              "<style scoped>\n",
              "    .dataframe tbody tr th:only-of-type {\n",
              "        vertical-align: middle;\n",
              "    }\n",
              "\n",
              "    .dataframe tbody tr th {\n",
              "        vertical-align: top;\n",
              "    }\n",
              "\n",
              "    .dataframe thead th {\n",
              "        text-align: right;\n",
              "    }\n",
              "</style>\n",
              "<table border=\"1\" class=\"dataframe\">\n",
              "  <thead>\n",
              "    <tr style=\"text-align: right;\">\n",
              "      <th></th>\n",
              "      <th>Year</th>\n",
              "      <th>Week_Number</th>\n",
              "      <th>Customer</th>\n",
              "      <th>Volume</th>\n",
              "      <th>Year_Week</th>\n",
              "    </tr>\n",
              "  </thead>\n",
              "  <tbody>\n",
              "    <tr>\n",
              "      <th>0</th>\n",
              "      <td>2017</td>\n",
              "      <td>1</td>\n",
              "      <td>agulhas</td>\n",
              "      <td>83</td>\n",
              "      <td>2017-1</td>\n",
              "    </tr>\n",
              "    <tr>\n",
              "      <th>1</th>\n",
              "      <td>2017</td>\n",
              "      <td>1</td>\n",
              "      <td>airline</td>\n",
              "      <td>11</td>\n",
              "      <td>2017-1</td>\n",
              "    </tr>\n",
              "    <tr>\n",
              "      <th>2</th>\n",
              "      <td>2017</td>\n",
              "      <td>1</td>\n",
              "      <td>allover</td>\n",
              "      <td>365</td>\n",
              "      <td>2017-1</td>\n",
              "    </tr>\n",
              "    <tr>\n",
              "      <th>3</th>\n",
              "      <td>2017</td>\n",
              "      <td>1</td>\n",
              "      <td>amenity</td>\n",
              "      <td>21</td>\n",
              "      <td>2017-1</td>\n",
              "    </tr>\n",
              "    <tr>\n",
              "      <th>4</th>\n",
              "      <td>2017</td>\n",
              "      <td>1</td>\n",
              "      <td>anchovy</td>\n",
              "      <td>74</td>\n",
              "      <td>2017-1</td>\n",
              "    </tr>\n",
              "  </tbody>\n",
              "</table>\n",
              "</div>"
            ],
            "text/plain": [
              "   Year Week_Number Customer  Volume Year_Week\n",
              "0  2017           1  agulhas      83    2017-1\n",
              "1  2017           1  airline      11    2017-1\n",
              "2  2017           1  allover     365    2017-1\n",
              "3  2017           1  amenity      21    2017-1\n",
              "4  2017           1  anchovy      74    2017-1"
            ]
          },
          "metadata": {
            "tags": []
          },
          "execution_count": 43
        }
      ]
    },
    {
      "cell_type": "code",
      "metadata": {
        "id": "-csMUjTi9wi0",
        "colab_type": "code",
        "colab": {
          "base_uri": "https://localhost:8080/",
          "height": 419
        },
        "outputId": "a69cf602-89f6-4150-cd47-24e0152eb42b"
      },
      "source": [
        "df_united_values"
      ],
      "execution_count": 44,
      "outputs": [
        {
          "output_type": "execute_result",
          "data": {
            "text/html": [
              "<div>\n",
              "<style scoped>\n",
              "    .dataframe tbody tr th:only-of-type {\n",
              "        vertical-align: middle;\n",
              "    }\n",
              "\n",
              "    .dataframe tbody tr th {\n",
              "        vertical-align: top;\n",
              "    }\n",
              "\n",
              "    .dataframe thead th {\n",
              "        text-align: right;\n",
              "    }\n",
              "</style>\n",
              "<table border=\"1\" class=\"dataframe\">\n",
              "  <thead>\n",
              "    <tr style=\"text-align: right;\">\n",
              "      <th></th>\n",
              "      <th>Year</th>\n",
              "      <th>Week_Number</th>\n",
              "      <th>Customer</th>\n",
              "      <th>Volume</th>\n",
              "      <th>Year_Week</th>\n",
              "    </tr>\n",
              "  </thead>\n",
              "  <tbody>\n",
              "    <tr>\n",
              "      <th>0</th>\n",
              "      <td>2017</td>\n",
              "      <td>1</td>\n",
              "      <td>agulhas</td>\n",
              "      <td>83</td>\n",
              "      <td>2017-1</td>\n",
              "    </tr>\n",
              "    <tr>\n",
              "      <th>1</th>\n",
              "      <td>2017</td>\n",
              "      <td>1</td>\n",
              "      <td>airline</td>\n",
              "      <td>11</td>\n",
              "      <td>2017-1</td>\n",
              "    </tr>\n",
              "    <tr>\n",
              "      <th>2</th>\n",
              "      <td>2017</td>\n",
              "      <td>1</td>\n",
              "      <td>allover</td>\n",
              "      <td>365</td>\n",
              "      <td>2017-1</td>\n",
              "    </tr>\n",
              "    <tr>\n",
              "      <th>3</th>\n",
              "      <td>2017</td>\n",
              "      <td>1</td>\n",
              "      <td>amenity</td>\n",
              "      <td>21</td>\n",
              "      <td>2017-1</td>\n",
              "    </tr>\n",
              "    <tr>\n",
              "      <th>4</th>\n",
              "      <td>2017</td>\n",
              "      <td>1</td>\n",
              "      <td>anchovy</td>\n",
              "      <td>74</td>\n",
              "      <td>2017-1</td>\n",
              "    </tr>\n",
              "    <tr>\n",
              "      <th>...</th>\n",
              "      <td>...</td>\n",
              "      <td>...</td>\n",
              "      <td>...</td>\n",
              "      <td>...</td>\n",
              "      <td>...</td>\n",
              "    </tr>\n",
              "    <tr>\n",
              "      <th>12126</th>\n",
              "      <td>2019</td>\n",
              "      <td>13</td>\n",
              "      <td>woodser</td>\n",
              "      <td>1853</td>\n",
              "      <td>2019-13</td>\n",
              "    </tr>\n",
              "    <tr>\n",
              "      <th>12127</th>\n",
              "      <td>2019</td>\n",
              "      <td>14</td>\n",
              "      <td>woodser</td>\n",
              "      <td>1618</td>\n",
              "      <td>2019-14</td>\n",
              "    </tr>\n",
              "    <tr>\n",
              "      <th>12128</th>\n",
              "      <td>2019</td>\n",
              "      <td>15</td>\n",
              "      <td>woodser</td>\n",
              "      <td>1584</td>\n",
              "      <td>2019-15</td>\n",
              "    </tr>\n",
              "    <tr>\n",
              "      <th>12129</th>\n",
              "      <td>2019</td>\n",
              "      <td>16</td>\n",
              "      <td>woodser</td>\n",
              "      <td>1732</td>\n",
              "      <td>2019-16</td>\n",
              "    </tr>\n",
              "    <tr>\n",
              "      <th>12130</th>\n",
              "      <td>2019</td>\n",
              "      <td>17</td>\n",
              "      <td>woodser</td>\n",
              "      <td>1651</td>\n",
              "      <td>2019-17</td>\n",
              "    </tr>\n",
              "  </tbody>\n",
              "</table>\n",
              "<p>12131 rows × 5 columns</p>\n",
              "</div>"
            ],
            "text/plain": [
              "       Year Week_Number Customer  Volume Year_Week\n",
              "0      2017           1  agulhas      83    2017-1\n",
              "1      2017           1  airline      11    2017-1\n",
              "2      2017           1  allover     365    2017-1\n",
              "3      2017           1  amenity      21    2017-1\n",
              "4      2017           1  anchovy      74    2017-1\n",
              "...     ...         ...      ...     ...       ...\n",
              "12126  2019          13  woodser    1853   2019-13\n",
              "12127  2019          14  woodser    1618   2019-14\n",
              "12128  2019          15  woodser    1584   2019-15\n",
              "12129  2019          16  woodser    1732   2019-16\n",
              "12130  2019          17  woodser    1651   2019-17\n",
              "\n",
              "[12131 rows x 5 columns]"
            ]
          },
          "metadata": {
            "tags": []
          },
          "execution_count": 44
        }
      ]
    },
    {
      "cell_type": "code",
      "metadata": {
        "id": "I3f09eVy-jKe",
        "colab_type": "code",
        "colab": {
          "base_uri": "https://localhost:8080/",
          "height": 49
        },
        "outputId": "43e4bd28-e403-48f3-ca86-946a28081641"
      },
      "source": [
        "temp_df_united_values_2016 = df_united_values.loc[(df_united_values[\"Year\"] == 2016) ]\n",
        "temp_df_united_values_2016"
      ],
      "execution_count": 45,
      "outputs": [
        {
          "output_type": "execute_result",
          "data": {
            "text/html": [
              "<div>\n",
              "<style scoped>\n",
              "    .dataframe tbody tr th:only-of-type {\n",
              "        vertical-align: middle;\n",
              "    }\n",
              "\n",
              "    .dataframe tbody tr th {\n",
              "        vertical-align: top;\n",
              "    }\n",
              "\n",
              "    .dataframe thead th {\n",
              "        text-align: right;\n",
              "    }\n",
              "</style>\n",
              "<table border=\"1\" class=\"dataframe\">\n",
              "  <thead>\n",
              "    <tr style=\"text-align: right;\">\n",
              "      <th></th>\n",
              "      <th>Year</th>\n",
              "      <th>Week_Number</th>\n",
              "      <th>Customer</th>\n",
              "      <th>Volume</th>\n",
              "      <th>Year_Week</th>\n",
              "    </tr>\n",
              "  </thead>\n",
              "  <tbody>\n",
              "  </tbody>\n",
              "</table>\n",
              "</div>"
            ],
            "text/plain": [
              "Empty DataFrame\n",
              "Columns: [Year, Week_Number, Customer, Volume, Year_Week]\n",
              "Index: []"
            ]
          },
          "metadata": {
            "tags": []
          },
          "execution_count": 45
        }
      ]
    },
    {
      "cell_type": "code",
      "metadata": {
        "id": "PFYhkFZgOfLx",
        "colab_type": "code",
        "colab": {
          "base_uri": "https://localhost:8080/",
          "height": 339
        },
        "outputId": "d864da23-8542-4ac4-e8e5-0c8199b04da4"
      },
      "source": [
        "sns.set(style=\"whitegrid\") # does not change if commented\n",
        "plt.figure(figsize=(20,5))\n",
        "ax = sns.lineplot(x=\"Year_Week\", y=\"Volume\", data=df_united_values)\n",
        "# We need the united column \"year_week\" and we need to plot against it. \n",
        "# To have the true chronology\n",
        "\n",
        "\n"
      ],
      "execution_count": 46,
      "outputs": [
        {
          "output_type": "display_data",
          "data": {
            "image/png": "[encoded data removed]",
            "text/plain": [
              "<Figure size 1440x360 with 1 Axes>"
            ]
          },
          "metadata": {
            "tags": []
          }
        }
      ]
    },
    {
      "cell_type": "code",
      "metadata": {
        "id": "fxXUZpx9BJFx",
        "colab_type": "code",
        "colab": {
          "base_uri": "https://localhost:8080/",
          "height": 476
        },
        "outputId": "f366370d-36dc-4306-ecbf-08a5aef841f1"
      },
      "source": [
        "list_data = [df_united_values.loc[:\"2017-3\", df_united_values.columns.to_list()], df_united_values.loc[\"2017-4\":, df_united_values.columns.to_list()]]\n",
        "#ax = sns.lineplot(data=list_data)\n",
        "#sns.set(style=\"whitegrid\") # does not change if commented\n",
        "#[wide_df.loc[:\"2005\", \"a\"], wide_df.loc[\"2003\":, \"b\"]]\n",
        "#ax = sns.lineplot(x=\"Year_Week\", y=\"Volume\", data= d)\n",
        "print(list_data)"
      ],
      "execution_count": 47,
      "outputs": [
        {
          "output_type": "stream",
          "text": [
            "[      Year Week_Number Customer  Volume Year_Week\n",
            "0     2017           1  agulhas      83    2017-1\n",
            "1     2017           1  airline      11    2017-1\n",
            "2     2017           1  allover     365    2017-1\n",
            "3     2017           1  amenity      21    2017-1\n",
            "4     2017           1  anchovy      74    2017-1\n",
            "...    ...         ...      ...     ...       ...\n",
            "2013  2017          20  quamash      66   2017-20\n",
            "2014  2017          20  recarve   13349   2017-20\n",
            "2015  2017          20  regosol    1766   2017-20\n",
            "2016  2017          20  rending      50   2017-20\n",
            "2017  2017          20  saurian     702   2017-20\n",
            "\n",
            "[2018 rows x 5 columns],        Year Week_Number Customer  Volume Year_Week\n",
            "2018   2017          20  scalpel    1128   2017-20\n",
            "2019   2017          20  scauper      25   2017-20\n",
            "2020   2017          20  seattle   10769   2017-20\n",
            "2021   2017          20  service      76   2017-20\n",
            "2022   2017          20  shaptin   21946   2017-20\n",
            "...     ...         ...      ...     ...       ...\n",
            "12126  2019          13  woodser    1853   2019-13\n",
            "12127  2019          14  woodser    1618   2019-14\n",
            "12128  2019          15  woodser    1584   2019-15\n",
            "12129  2019          16  woodser    1732   2019-16\n",
            "12130  2019          17  woodser    1651   2019-17\n",
            "\n",
            "[10113 rows x 5 columns]]\n"
          ],
          "name": "stdout"
        }
      ]
    },
    {
      "cell_type": "code",
      "metadata": {
        "id": "5NI7vPP5xMTZ",
        "colab_type": "code",
        "colab": {}
      },
      "source": [
        "#Old Groups 1\n",
        "customer_df_united_values = df_united_values[\"Customer\"].unique().tolist()\n",
        "\n",
        "dict_df_united_values = {}\n",
        "for customer in customer_df_united_values:\n",
        "  dict_df_united_values[customer] = 0\n",
        "\n",
        "\n",
        "for key in dict_df_united_values:\n",
        "  x = df_united_values.loc[df_united_values[\"Customer\"] == key]\n",
        "  sum_of_category = sum(x[\"Volume\"])\n",
        "  dict_df_united_values[key] += sum_of_category"
      ],
      "execution_count": 48,
      "outputs": []
    },
    {
      "cell_type": "code",
      "metadata": {
        "id": "boJMXsecxYWg",
        "colab_type": "code",
        "colab": {
          "base_uri": "https://localhost:8080/",
          "height": 204
        },
        "outputId": "320ccb95-2046-4f71-89e6-da495d4d3f6d"
      },
      "source": [
        "#Old Groups 2 for df_united_values\n",
        "for  key, value in dict_df_united_values.items():\n",
        " #print()\n",
        "  if dict_df_united_values[key] < 10000:\n",
        "    dict_df_united_values[key] = \"Small\"\n",
        "  elif dict_df_united_values[key] >=10000 and dict_df_united_values[key] <= 500000:\n",
        "    dict_df_united_values[key] = \"Medium\"\n",
        "  else:\n",
        "    dict_df_united_values[key] = \"Large\"\n",
        "\n",
        "df_united_values.head()    "
      ],
      "execution_count": 49,
      "outputs": [
        {
          "output_type": "execute_result",
          "data": {
            "text/html": [
              "<div>\n",
              "<style scoped>\n",
              "    .dataframe tbody tr th:only-of-type {\n",
              "        vertical-align: middle;\n",
              "    }\n",
              "\n",
              "    .dataframe tbody tr th {\n",
              "        vertical-align: top;\n",
              "    }\n",
              "\n",
              "    .dataframe thead th {\n",
              "        text-align: right;\n",
              "    }\n",
              "</style>\n",
              "<table border=\"1\" class=\"dataframe\">\n",
              "  <thead>\n",
              "    <tr style=\"text-align: right;\">\n",
              "      <th></th>\n",
              "      <th>Year</th>\n",
              "      <th>Week_Number</th>\n",
              "      <th>Customer</th>\n",
              "      <th>Volume</th>\n",
              "      <th>Year_Week</th>\n",
              "    </tr>\n",
              "  </thead>\n",
              "  <tbody>\n",
              "    <tr>\n",
              "      <th>0</th>\n",
              "      <td>2017</td>\n",
              "      <td>1</td>\n",
              "      <td>agulhas</td>\n",
              "      <td>83</td>\n",
              "      <td>2017-1</td>\n",
              "    </tr>\n",
              "    <tr>\n",
              "      <th>1</th>\n",
              "      <td>2017</td>\n",
              "      <td>1</td>\n",
              "      <td>airline</td>\n",
              "      <td>11</td>\n",
              "      <td>2017-1</td>\n",
              "    </tr>\n",
              "    <tr>\n",
              "      <th>2</th>\n",
              "      <td>2017</td>\n",
              "      <td>1</td>\n",
              "      <td>allover</td>\n",
              "      <td>365</td>\n",
              "      <td>2017-1</td>\n",
              "    </tr>\n",
              "    <tr>\n",
              "      <th>3</th>\n",
              "      <td>2017</td>\n",
              "      <td>1</td>\n",
              "      <td>amenity</td>\n",
              "      <td>21</td>\n",
              "      <td>2017-1</td>\n",
              "    </tr>\n",
              "    <tr>\n",
              "      <th>4</th>\n",
              "      <td>2017</td>\n",
              "      <td>1</td>\n",
              "      <td>anchovy</td>\n",
              "      <td>74</td>\n",
              "      <td>2017-1</td>\n",
              "    </tr>\n",
              "  </tbody>\n",
              "</table>\n",
              "</div>"
            ],
            "text/plain": [
              "   Year Week_Number Customer  Volume Year_Week\n",
              "0  2017           1  agulhas      83    2017-1\n",
              "1  2017           1  airline      11    2017-1\n",
              "2  2017           1  allover     365    2017-1\n",
              "3  2017           1  amenity      21    2017-1\n",
              "4  2017           1  anchovy      74    2017-1"
            ]
          },
          "metadata": {
            "tags": []
          },
          "execution_count": 49
        }
      ]
    },
    {
      "cell_type": "code",
      "metadata": {
        "id": "HL_VEieWlUiX",
        "colab_type": "code",
        "colab": {
          "base_uri": "https://localhost:8080/",
          "height": 419
        },
        "outputId": "adf9d4d3-8fea-4a1b-f9b5-ac5882785310"
      },
      "source": [
        "df_united_values[\"Groups\"] = df_united_values[\"Customer\"].map(dict_df_2017) \n",
        "df_united_values"
      ],
      "execution_count": 50,
      "outputs": [
        {
          "output_type": "execute_result",
          "data": {
            "text/html": [
              "<div>\n",
              "<style scoped>\n",
              "    .dataframe tbody tr th:only-of-type {\n",
              "        vertical-align: middle;\n",
              "    }\n",
              "\n",
              "    .dataframe tbody tr th {\n",
              "        vertical-align: top;\n",
              "    }\n",
              "\n",
              "    .dataframe thead th {\n",
              "        text-align: right;\n",
              "    }\n",
              "</style>\n",
              "<table border=\"1\" class=\"dataframe\">\n",
              "  <thead>\n",
              "    <tr style=\"text-align: right;\">\n",
              "      <th></th>\n",
              "      <th>Year</th>\n",
              "      <th>Week_Number</th>\n",
              "      <th>Customer</th>\n",
              "      <th>Volume</th>\n",
              "      <th>Year_Week</th>\n",
              "      <th>Groups</th>\n",
              "    </tr>\n",
              "  </thead>\n",
              "  <tbody>\n",
              "    <tr>\n",
              "      <th>0</th>\n",
              "      <td>2017</td>\n",
              "      <td>1</td>\n",
              "      <td>agulhas</td>\n",
              "      <td>83</td>\n",
              "      <td>2017-1</td>\n",
              "      <td>Small</td>\n",
              "    </tr>\n",
              "    <tr>\n",
              "      <th>1</th>\n",
              "      <td>2017</td>\n",
              "      <td>1</td>\n",
              "      <td>airline</td>\n",
              "      <td>11</td>\n",
              "      <td>2017-1</td>\n",
              "      <td>Small</td>\n",
              "    </tr>\n",
              "    <tr>\n",
              "      <th>2</th>\n",
              "      <td>2017</td>\n",
              "      <td>1</td>\n",
              "      <td>allover</td>\n",
              "      <td>365</td>\n",
              "      <td>2017-1</td>\n",
              "      <td>Medium</td>\n",
              "    </tr>\n",
              "    <tr>\n",
              "      <th>3</th>\n",
              "      <td>2017</td>\n",
              "      <td>1</td>\n",
              "      <td>amenity</td>\n",
              "      <td>21</td>\n",
              "      <td>2017-1</td>\n",
              "      <td>Small</td>\n",
              "    </tr>\n",
              "    <tr>\n",
              "      <th>4</th>\n",
              "      <td>2017</td>\n",
              "      <td>1</td>\n",
              "      <td>anchovy</td>\n",
              "      <td>74</td>\n",
              "      <td>2017-1</td>\n",
              "      <td>Small</td>\n",
              "    </tr>\n",
              "    <tr>\n",
              "      <th>...</th>\n",
              "      <td>...</td>\n",
              "      <td>...</td>\n",
              "      <td>...</td>\n",
              "      <td>...</td>\n",
              "      <td>...</td>\n",
              "      <td>...</td>\n",
              "    </tr>\n",
              "    <tr>\n",
              "      <th>12126</th>\n",
              "      <td>2019</td>\n",
              "      <td>13</td>\n",
              "      <td>woodser</td>\n",
              "      <td>1853</td>\n",
              "      <td>2019-13</td>\n",
              "      <td>Medium</td>\n",
              "    </tr>\n",
              "    <tr>\n",
              "      <th>12127</th>\n",
              "      <td>2019</td>\n",
              "      <td>14</td>\n",
              "      <td>woodser</td>\n",
              "      <td>1618</td>\n",
              "      <td>2019-14</td>\n",
              "      <td>Medium</td>\n",
              "    </tr>\n",
              "    <tr>\n",
              "      <th>12128</th>\n",
              "      <td>2019</td>\n",
              "      <td>15</td>\n",
              "      <td>woodser</td>\n",
              "      <td>1584</td>\n",
              "      <td>2019-15</td>\n",
              "      <td>Medium</td>\n",
              "    </tr>\n",
              "    <tr>\n",
              "      <th>12129</th>\n",
              "      <td>2019</td>\n",
              "      <td>16</td>\n",
              "      <td>woodser</td>\n",
              "      <td>1732</td>\n",
              "      <td>2019-16</td>\n",
              "      <td>Medium</td>\n",
              "    </tr>\n",
              "    <tr>\n",
              "      <th>12130</th>\n",
              "      <td>2019</td>\n",
              "      <td>17</td>\n",
              "      <td>woodser</td>\n",
              "      <td>1651</td>\n",
              "      <td>2019-17</td>\n",
              "      <td>Medium</td>\n",
              "    </tr>\n",
              "  </tbody>\n",
              "</table>\n",
              "<p>12131 rows × 6 columns</p>\n",
              "</div>"
            ],
            "text/plain": [
              "       Year Week_Number Customer  Volume Year_Week  Groups\n",
              "0      2017           1  agulhas      83    2017-1   Small\n",
              "1      2017           1  airline      11    2017-1   Small\n",
              "2      2017           1  allover     365    2017-1  Medium\n",
              "3      2017           1  amenity      21    2017-1   Small\n",
              "4      2017           1  anchovy      74    2017-1   Small\n",
              "...     ...         ...      ...     ...       ...     ...\n",
              "12126  2019          13  woodser    1853   2019-13  Medium\n",
              "12127  2019          14  woodser    1618   2019-14  Medium\n",
              "12128  2019          15  woodser    1584   2019-15  Medium\n",
              "12129  2019          16  woodser    1732   2019-16  Medium\n",
              "12130  2019          17  woodser    1651   2019-17  Medium\n",
              "\n",
              "[12131 rows x 6 columns]"
            ]
          },
          "metadata": {
            "tags": []
          },
          "execution_count": 50
        }
      ]
    },
    {
      "cell_type": "code",
      "metadata": {
        "id": "v6cCt8o9XZsg",
        "colab_type": "code",
        "colab": {
          "base_uri": "https://localhost:8080/",
          "height": 343
        },
        "outputId": "94744736-a272-464b-b49b-1682d183b247"
      },
      "source": [
        "# New visualisation starts here:\n",
        "sns.set(style=\"ticks\")\n",
        "plt.figure(figsize=(20,5))\n",
        "df_2017[\"Groups_2017\"].hist()"
      ],
      "execution_count": 51,
      "outputs": [
        {
          "output_type": "execute_result",
          "data": {
            "text/plain": [
              "<matplotlib.axes._subplots.AxesSubplot at 0x7fe80842b860>"
            ]
          },
          "metadata": {
            "tags": []
          },
          "execution_count": 51
        },
        {
          "output_type": "display_data",
          "data": {
            "image/png": "[encoded data removed]",
            "text/plain": [
              "<Figure size 1440x360 with 1 Axes>"
            ]
          },
          "metadata": {
            "tags": []
          }
        }
      ]
    },
    {
      "cell_type": "code",
      "metadata": {
        "id": "Pms2J9SubWCS",
        "colab_type": "code",
        "colab": {
          "base_uri": "https://localhost:8080/",
          "height": 419
        },
        "outputId": "e28c2e14-0c51-4294-f8d4-41ac6b506e10"
      },
      "source": [
        "temp_df_2017_small = df_2017.loc[df_2017[\"Groups_2017\"] == \"Small\"]\n",
        "temp_df_2017_small"
      ],
      "execution_count": 52,
      "outputs": [
        {
          "output_type": "execute_result",
          "data": {
            "text/html": [
              "<div>\n",
              "<style scoped>\n",
              "    .dataframe tbody tr th:only-of-type {\n",
              "        vertical-align: middle;\n",
              "    }\n",
              "\n",
              "    .dataframe tbody tr th {\n",
              "        vertical-align: top;\n",
              "    }\n",
              "\n",
              "    .dataframe thead th {\n",
              "        text-align: right;\n",
              "    }\n",
              "</style>\n",
              "<table border=\"1\" class=\"dataframe\">\n",
              "  <thead>\n",
              "    <tr style=\"text-align: right;\">\n",
              "      <th></th>\n",
              "      <th>Year</th>\n",
              "      <th>Week_Number</th>\n",
              "      <th>Customer</th>\n",
              "      <th>Volume</th>\n",
              "      <th>Groups_2017</th>\n",
              "    </tr>\n",
              "  </thead>\n",
              "  <tbody>\n",
              "    <tr>\n",
              "      <th>0</th>\n",
              "      <td>2017.0</td>\n",
              "      <td>1.0</td>\n",
              "      <td>agulhas</td>\n",
              "      <td>83.0</td>\n",
              "      <td>Small</td>\n",
              "    </tr>\n",
              "    <tr>\n",
              "      <th>1</th>\n",
              "      <td>2017.0</td>\n",
              "      <td>1.0</td>\n",
              "      <td>airline</td>\n",
              "      <td>11.0</td>\n",
              "      <td>Small</td>\n",
              "    </tr>\n",
              "    <tr>\n",
              "      <th>3</th>\n",
              "      <td>2017.0</td>\n",
              "      <td>1.0</td>\n",
              "      <td>amenity</td>\n",
              "      <td>21.0</td>\n",
              "      <td>Small</td>\n",
              "    </tr>\n",
              "    <tr>\n",
              "      <th>4</th>\n",
              "      <td>2017.0</td>\n",
              "      <td>1.0</td>\n",
              "      <td>anchovy</td>\n",
              "      <td>74.0</td>\n",
              "      <td>Small</td>\n",
              "    </tr>\n",
              "    <tr>\n",
              "      <th>6</th>\n",
              "      <td>2017.0</td>\n",
              "      <td>1.0</td>\n",
              "      <td>aplitic</td>\n",
              "      <td>38.0</td>\n",
              "      <td>Small</td>\n",
              "    </tr>\n",
              "    <tr>\n",
              "      <th>...</th>\n",
              "      <td>...</td>\n",
              "      <td>...</td>\n",
              "      <td>...</td>\n",
              "      <td>...</td>\n",
              "      <td>...</td>\n",
              "    </tr>\n",
              "    <tr>\n",
              "      <th>5397</th>\n",
              "      <td>2018.0</td>\n",
              "      <td>1.0</td>\n",
              "      <td>swaddle</td>\n",
              "      <td>0.0</td>\n",
              "      <td>Small</td>\n",
              "    </tr>\n",
              "    <tr>\n",
              "      <th>5401</th>\n",
              "      <td>2018.0</td>\n",
              "      <td>1.0</td>\n",
              "      <td>tripoli</td>\n",
              "      <td>24.0</td>\n",
              "      <td>Small</td>\n",
              "    </tr>\n",
              "    <tr>\n",
              "      <th>5402</th>\n",
              "      <td>2018.0</td>\n",
              "      <td>1.0</td>\n",
              "      <td>trismus</td>\n",
              "      <td>9.0</td>\n",
              "      <td>Small</td>\n",
              "    </tr>\n",
              "    <tr>\n",
              "      <th>5403</th>\n",
              "      <td>2018.0</td>\n",
              "      <td>1.0</td>\n",
              "      <td>twinned</td>\n",
              "      <td>149.0</td>\n",
              "      <td>Small</td>\n",
              "    </tr>\n",
              "    <tr>\n",
              "      <th>5406</th>\n",
              "      <td>2017.0</td>\n",
              "      <td>1.0</td>\n",
              "      <td>agulhas</td>\n",
              "      <td>0.0</td>\n",
              "      <td>Small</td>\n",
              "    </tr>\n",
              "  </tbody>\n",
              "</table>\n",
              "<p>2386 rows × 5 columns</p>\n",
              "</div>"
            ],
            "text/plain": [
              "        Year  Week_Number Customer  Volume Groups_2017\n",
              "0     2017.0          1.0  agulhas    83.0       Small\n",
              "1     2017.0          1.0  airline    11.0       Small\n",
              "3     2017.0          1.0  amenity    21.0       Small\n",
              "4     2017.0          1.0  anchovy    74.0       Small\n",
              "6     2017.0          1.0  aplitic    38.0       Small\n",
              "...      ...          ...      ...     ...         ...\n",
              "5397  2018.0          1.0  swaddle     0.0       Small\n",
              "5401  2018.0          1.0  tripoli    24.0       Small\n",
              "5402  2018.0          1.0  trismus     9.0       Small\n",
              "5403  2018.0          1.0  twinned   149.0       Small\n",
              "5406  2017.0          1.0  agulhas     0.0       Small\n",
              "\n",
              "[2386 rows x 5 columns]"
            ]
          },
          "metadata": {
            "tags": []
          },
          "execution_count": 52
        }
      ]
    },
    {
      "cell_type": "code",
      "metadata": {
        "id": "D_0chBP_ZnTq",
        "colab_type": "code",
        "colab": {
          "base_uri": "https://localhost:8080/",
          "height": 356
        },
        "outputId": "8b55cf85-5a90-42e6-ed7e-5dd0066abb35"
      },
      "source": [
        "sns.set(style=\"darkgrid\")\n",
        "plt.figure(figsize=(20,5))\n",
        "sns.lineplot(x=\"Week_Number\", y=\"Volume\",\n",
        "             hue=\"Groups_2017\", data=temp_df_2017_small)"
      ],
      "execution_count": 53,
      "outputs": [
        {
          "output_type": "execute_result",
          "data": {
            "text/plain": [
              "<matplotlib.axes._subplots.AxesSubplot at 0x7fe8080817f0>"
            ]
          },
          "metadata": {
            "tags": []
          },
          "execution_count": 53
        },
        {
          "output_type": "display_data",
          "data": {
            "image/png": "[encoded data removed]",
            "text/plain": [
              "<Figure size 1440x360 with 1 Axes>"
            ]
          },
          "metadata": {
            "tags": []
          }
        }
      ]
    },
    {
      "cell_type": "code",
      "metadata": {
        "id": "4oTP06AvcJQ3",
        "colab_type": "code",
        "colab": {
          "base_uri": "https://localhost:8080/",
          "height": 419
        },
        "outputId": "a617d6bf-488b-4371-b8c4-a81b5cc667bf"
      },
      "source": [
        "temp_df_2017_medium = df_2017.loc[(df_2017[\"Groups_2017\"] == \"Medium\") & (df_2017[\"Year\"] == 2017)]\n",
        "temp_df_2017_medium"
      ],
      "execution_count": 54,
      "outputs": [
        {
          "output_type": "execute_result",
          "data": {
            "text/html": [
              "<div>\n",
              "<style scoped>\n",
              "    .dataframe tbody tr th:only-of-type {\n",
              "        vertical-align: middle;\n",
              "    }\n",
              "\n",
              "    .dataframe tbody tr th {\n",
              "        vertical-align: top;\n",
              "    }\n",
              "\n",
              "    .dataframe thead th {\n",
              "        text-align: right;\n",
              "    }\n",
              "</style>\n",
              "<table border=\"1\" class=\"dataframe\">\n",
              "  <thead>\n",
              "    <tr style=\"text-align: right;\">\n",
              "      <th></th>\n",
              "      <th>Year</th>\n",
              "      <th>Week_Number</th>\n",
              "      <th>Customer</th>\n",
              "      <th>Volume</th>\n",
              "      <th>Groups_2017</th>\n",
              "    </tr>\n",
              "  </thead>\n",
              "  <tbody>\n",
              "    <tr>\n",
              "      <th>2</th>\n",
              "      <td>2017.0</td>\n",
              "      <td>1.0</td>\n",
              "      <td>allover</td>\n",
              "      <td>365.0</td>\n",
              "      <td>Medium</td>\n",
              "    </tr>\n",
              "    <tr>\n",
              "      <th>5</th>\n",
              "      <td>2017.0</td>\n",
              "      <td>1.0</td>\n",
              "      <td>angrier</td>\n",
              "      <td>163.0</td>\n",
              "      <td>Medium</td>\n",
              "    </tr>\n",
              "    <tr>\n",
              "      <th>8</th>\n",
              "      <td>2017.0</td>\n",
              "      <td>1.0</td>\n",
              "      <td>arrived</td>\n",
              "      <td>77.0</td>\n",
              "      <td>Medium</td>\n",
              "    </tr>\n",
              "    <tr>\n",
              "      <th>11</th>\n",
              "      <td>2017.0</td>\n",
              "      <td>1.0</td>\n",
              "      <td>berwick</td>\n",
              "      <td>303.0</td>\n",
              "      <td>Medium</td>\n",
              "    </tr>\n",
              "    <tr>\n",
              "      <th>12</th>\n",
              "      <td>2017.0</td>\n",
              "      <td>1.0</td>\n",
              "      <td>birling</td>\n",
              "      <td>84.0</td>\n",
              "      <td>Medium</td>\n",
              "    </tr>\n",
              "    <tr>\n",
              "      <th>...</th>\n",
              "      <td>...</td>\n",
              "      <td>...</td>\n",
              "      <td>...</td>\n",
              "      <td>...</td>\n",
              "      <td>...</td>\n",
              "    </tr>\n",
              "    <tr>\n",
              "      <th>5292</th>\n",
              "      <td>2017.0</td>\n",
              "      <td>52.0</td>\n",
              "      <td>subhead</td>\n",
              "      <td>260.0</td>\n",
              "      <td>Medium</td>\n",
              "    </tr>\n",
              "    <tr>\n",
              "      <th>5293</th>\n",
              "      <td>2017.0</td>\n",
              "      <td>52.0</td>\n",
              "      <td>sullage</td>\n",
              "      <td>0.0</td>\n",
              "      <td>Medium</td>\n",
              "    </tr>\n",
              "    <tr>\n",
              "      <th>5296</th>\n",
              "      <td>2017.0</td>\n",
              "      <td>52.0</td>\n",
              "      <td>taboret</td>\n",
              "      <td>416.0</td>\n",
              "      <td>Medium</td>\n",
              "    </tr>\n",
              "    <tr>\n",
              "      <th>5302</th>\n",
              "      <td>2017.0</td>\n",
              "      <td>52.0</td>\n",
              "      <td>vistula</td>\n",
              "      <td>20.0</td>\n",
              "      <td>Medium</td>\n",
              "    </tr>\n",
              "    <tr>\n",
              "      <th>5303</th>\n",
              "      <td>2017.0</td>\n",
              "      <td>52.0</td>\n",
              "      <td>woodser</td>\n",
              "      <td>2920.0</td>\n",
              "      <td>Medium</td>\n",
              "    </tr>\n",
              "  </tbody>\n",
              "</table>\n",
              "<p>1664 rows × 5 columns</p>\n",
              "</div>"
            ],
            "text/plain": [
              "        Year  Week_Number Customer  Volume Groups_2017\n",
              "2     2017.0          1.0  allover   365.0      Medium\n",
              "5     2017.0          1.0  angrier   163.0      Medium\n",
              "8     2017.0          1.0  arrived    77.0      Medium\n",
              "11    2017.0          1.0  berwick   303.0      Medium\n",
              "12    2017.0          1.0  birling    84.0      Medium\n",
              "...      ...          ...      ...     ...         ...\n",
              "5292  2017.0         52.0  subhead   260.0      Medium\n",
              "5293  2017.0         52.0  sullage     0.0      Medium\n",
              "5296  2017.0         52.0  taboret   416.0      Medium\n",
              "5302  2017.0         52.0  vistula    20.0      Medium\n",
              "5303  2017.0         52.0  woodser  2920.0      Medium\n",
              "\n",
              "[1664 rows x 5 columns]"
            ]
          },
          "metadata": {
            "tags": []
          },
          "execution_count": 54
        }
      ]
    },
    {
      "cell_type": "code",
      "metadata": {
        "id": "eC1LBCO2cRFY",
        "colab_type": "code",
        "colab": {
          "base_uri": "https://localhost:8080/",
          "height": 356
        },
        "outputId": "599d3250-a722-470f-fc02-04eba1cd0170"
      },
      "source": [
        "sns.set(style=\"darkgrid\")\n",
        "plt.figure(figsize=(20,5))\n",
        "sns.lineplot(x=\"Week_Number\", y=\"Volume\",\n",
        "             hue=\"Groups_2017\", data=temp_df_2017_medium)"
      ],
      "execution_count": 55,
      "outputs": [
        {
          "output_type": "execute_result",
          "data": {
            "text/plain": [
              "<matplotlib.axes._subplots.AxesSubplot at 0x7fe808071e48>"
            ]
          },
          "metadata": {
            "tags": []
          },
          "execution_count": 55
        },
        {
          "output_type": "display_data",
          "data": {
            "image/png": "[encoded data removed]",
            "text/plain": [
              "<Figure size 1440x360 with 1 Axes>"
            ]
          },
          "metadata": {
            "tags": []
          }
        }
      ]
    },
    {
      "cell_type": "code",
      "metadata": {
        "id": "sI7fJpPKznsn",
        "colab_type": "code",
        "colab": {
          "base_uri": "https://localhost:8080/",
          "height": 419
        },
        "outputId": "b9956111-1f4b-415f-8847-534f24f5a787"
      },
      "source": [
        "temp_df_2017_large = df_2017.loc[(df_2017[\"Groups_2017\"] == \"Large\") & (df_2017[\"Year\"] == 2017)]\n",
        "temp_df_2017_large"
      ],
      "execution_count": 56,
      "outputs": [
        {
          "output_type": "execute_result",
          "data": {
            "text/html": [
              "<div>\n",
              "<style scoped>\n",
              "    .dataframe tbody tr th:only-of-type {\n",
              "        vertical-align: middle;\n",
              "    }\n",
              "\n",
              "    .dataframe tbody tr th {\n",
              "        vertical-align: top;\n",
              "    }\n",
              "\n",
              "    .dataframe thead th {\n",
              "        text-align: right;\n",
              "    }\n",
              "</style>\n",
              "<table border=\"1\" class=\"dataframe\">\n",
              "  <thead>\n",
              "    <tr style=\"text-align: right;\">\n",
              "      <th></th>\n",
              "      <th>Year</th>\n",
              "      <th>Week_Number</th>\n",
              "      <th>Customer</th>\n",
              "      <th>Volume</th>\n",
              "      <th>Groups_2017</th>\n",
              "    </tr>\n",
              "  </thead>\n",
              "  <tbody>\n",
              "    <tr>\n",
              "      <th>10</th>\n",
              "      <td>2017.0</td>\n",
              "      <td>1.0</td>\n",
              "      <td>benison</td>\n",
              "      <td>18478.0</td>\n",
              "      <td>Large</td>\n",
              "    </tr>\n",
              "    <tr>\n",
              "      <th>15</th>\n",
              "      <td>2017.0</td>\n",
              "      <td>1.0</td>\n",
              "      <td>cadorna</td>\n",
              "      <td>17638.0</td>\n",
              "      <td>Large</td>\n",
              "    </tr>\n",
              "    <tr>\n",
              "      <th>18</th>\n",
              "      <td>2017.0</td>\n",
              "      <td>1.0</td>\n",
              "      <td>cawdrey</td>\n",
              "      <td>1067.0</td>\n",
              "      <td>Large</td>\n",
              "    </tr>\n",
              "    <tr>\n",
              "      <th>22</th>\n",
              "      <td>2017.0</td>\n",
              "      <td>1.0</td>\n",
              "      <td>contemn</td>\n",
              "      <td>5671.0</td>\n",
              "      <td>Large</td>\n",
              "    </tr>\n",
              "    <tr>\n",
              "      <th>24</th>\n",
              "      <td>2017.0</td>\n",
              "      <td>1.0</td>\n",
              "      <td>dacryon</td>\n",
              "      <td>6082.0</td>\n",
              "      <td>Large</td>\n",
              "    </tr>\n",
              "    <tr>\n",
              "      <th>...</th>\n",
              "      <td>...</td>\n",
              "      <td>...</td>\n",
              "      <td>...</td>\n",
              "      <td>...</td>\n",
              "      <td>...</td>\n",
              "    </tr>\n",
              "    <tr>\n",
              "      <th>5278</th>\n",
              "      <td>2017.0</td>\n",
              "      <td>52.0</td>\n",
              "      <td>recarve</td>\n",
              "      <td>5954.0</td>\n",
              "      <td>Large</td>\n",
              "    </tr>\n",
              "    <tr>\n",
              "      <th>5284</th>\n",
              "      <td>2017.0</td>\n",
              "      <td>52.0</td>\n",
              "      <td>seattle</td>\n",
              "      <td>15087.0</td>\n",
              "      <td>Large</td>\n",
              "    </tr>\n",
              "    <tr>\n",
              "      <th>5286</th>\n",
              "      <td>2017.0</td>\n",
              "      <td>52.0</td>\n",
              "      <td>shaptin</td>\n",
              "      <td>11224.0</td>\n",
              "      <td>Large</td>\n",
              "    </tr>\n",
              "    <tr>\n",
              "      <th>5297</th>\n",
              "      <td>2017.0</td>\n",
              "      <td>52.0</td>\n",
              "      <td>toadied</td>\n",
              "      <td>1194.0</td>\n",
              "      <td>Large</td>\n",
              "    </tr>\n",
              "    <tr>\n",
              "      <th>5298</th>\n",
              "      <td>2017.0</td>\n",
              "      <td>52.0</td>\n",
              "      <td>triduum</td>\n",
              "      <td>83362.0</td>\n",
              "      <td>Large</td>\n",
              "    </tr>\n",
              "  </tbody>\n",
              "</table>\n",
              "<p>1300 rows × 5 columns</p>\n",
              "</div>"
            ],
            "text/plain": [
              "        Year  Week_Number Customer   Volume Groups_2017\n",
              "10    2017.0          1.0  benison  18478.0       Large\n",
              "15    2017.0          1.0  cadorna  17638.0       Large\n",
              "18    2017.0          1.0  cawdrey   1067.0       Large\n",
              "22    2017.0          1.0  contemn   5671.0       Large\n",
              "24    2017.0          1.0  dacryon   6082.0       Large\n",
              "...      ...          ...      ...      ...         ...\n",
              "5278  2017.0         52.0  recarve   5954.0       Large\n",
              "5284  2017.0         52.0  seattle  15087.0       Large\n",
              "5286  2017.0         52.0  shaptin  11224.0       Large\n",
              "5297  2017.0         52.0  toadied   1194.0       Large\n",
              "5298  2017.0         52.0  triduum  83362.0       Large\n",
              "\n",
              "[1300 rows x 5 columns]"
            ]
          },
          "metadata": {
            "tags": []
          },
          "execution_count": 56
        }
      ]
    },
    {
      "cell_type": "code",
      "metadata": {
        "id": "YC3QOV1MzudU",
        "colab_type": "code",
        "colab": {
          "base_uri": "https://localhost:8080/",
          "height": 356
        },
        "outputId": "876c1240-4d76-42c2-e713-5aada7761b92"
      },
      "source": [
        "sns.set(style=\"darkgrid\")\n",
        "plt.figure(figsize=(20,5))\n",
        "sns.lineplot(x=\"Week_Number\", y=\"Volume\",\n",
        "             hue=\"Groups_2017\", data=temp_df_2017_large)"
      ],
      "execution_count": 57,
      "outputs": [
        {
          "output_type": "execute_result",
          "data": {
            "text/plain": [
              "<matplotlib.axes._subplots.AxesSubplot at 0x7fe80b8caba8>"
            ]
          },
          "metadata": {
            "tags": []
          },
          "execution_count": 57
        },
        {
          "output_type": "display_data",
          "data": {
            "image/png": "[encoded data removed]",
            "text/plain": [
              "<Figure size 1440x360 with 1 Axes>"
            ]
          },
          "metadata": {
            "tags": []
          }
        }
      ]
    },
    {
      "cell_type": "code",
      "metadata": {
        "id": "09hvlLXDKywm",
        "colab_type": "code",
        "colab": {
          "base_uri": "https://localhost:8080/",
          "height": 419
        },
        "outputId": "d7a14e25-8d3d-4114-d284-09c4d1eec6ec"
      },
      "source": [
        "df_events"
      ],
      "execution_count": 58,
      "outputs": [
        {
          "output_type": "execute_result",
          "data": {
            "text/html": [
              "<div>\n",
              "<style scoped>\n",
              "    .dataframe tbody tr th:only-of-type {\n",
              "        vertical-align: middle;\n",
              "    }\n",
              "\n",
              "    .dataframe tbody tr th {\n",
              "        vertical-align: top;\n",
              "    }\n",
              "\n",
              "    .dataframe thead th {\n",
              "        text-align: right;\n",
              "    }\n",
              "</style>\n",
              "<table border=\"1\" class=\"dataframe\">\n",
              "  <thead>\n",
              "    <tr style=\"text-align: right;\">\n",
              "      <th></th>\n",
              "      <th>Year</th>\n",
              "      <th>Week_Number</th>\n",
              "      <th>Customer</th>\n",
              "      <th>Volume</th>\n",
              "      <th>Event1</th>\n",
              "      <th>Event2</th>\n",
              "    </tr>\n",
              "  </thead>\n",
              "  <tbody>\n",
              "    <tr>\n",
              "      <th>0</th>\n",
              "      <td>2017</td>\n",
              "      <td>1</td>\n",
              "      <td>agulhas</td>\n",
              "      <td>83</td>\n",
              "      <td>0</td>\n",
              "      <td>0</td>\n",
              "    </tr>\n",
              "    <tr>\n",
              "      <th>1</th>\n",
              "      <td>2017</td>\n",
              "      <td>2</td>\n",
              "      <td>agulhas</td>\n",
              "      <td>98</td>\n",
              "      <td>0</td>\n",
              "      <td>0</td>\n",
              "    </tr>\n",
              "    <tr>\n",
              "      <th>2</th>\n",
              "      <td>2017</td>\n",
              "      <td>3</td>\n",
              "      <td>agulhas</td>\n",
              "      <td>57</td>\n",
              "      <td>0</td>\n",
              "      <td>0</td>\n",
              "    </tr>\n",
              "    <tr>\n",
              "      <th>3</th>\n",
              "      <td>2017</td>\n",
              "      <td>4</td>\n",
              "      <td>agulhas</td>\n",
              "      <td>127</td>\n",
              "      <td>0</td>\n",
              "      <td>0</td>\n",
              "    </tr>\n",
              "    <tr>\n",
              "      <th>4</th>\n",
              "      <td>2017</td>\n",
              "      <td>5</td>\n",
              "      <td>agulhas</td>\n",
              "      <td>121</td>\n",
              "      <td>0</td>\n",
              "      <td>0</td>\n",
              "    </tr>\n",
              "    <tr>\n",
              "      <th>...</th>\n",
              "      <td>...</td>\n",
              "      <td>...</td>\n",
              "      <td>...</td>\n",
              "      <td>...</td>\n",
              "      <td>...</td>\n",
              "      <td>...</td>\n",
              "    </tr>\n",
              "    <tr>\n",
              "      <th>12126</th>\n",
              "      <td>2019</td>\n",
              "      <td>13</td>\n",
              "      <td>woodser</td>\n",
              "      <td>1853</td>\n",
              "      <td>0</td>\n",
              "      <td>0</td>\n",
              "    </tr>\n",
              "    <tr>\n",
              "      <th>12127</th>\n",
              "      <td>2019</td>\n",
              "      <td>14</td>\n",
              "      <td>woodser</td>\n",
              "      <td>1618</td>\n",
              "      <td>0</td>\n",
              "      <td>0</td>\n",
              "    </tr>\n",
              "    <tr>\n",
              "      <th>12128</th>\n",
              "      <td>2019</td>\n",
              "      <td>15</td>\n",
              "      <td>woodser</td>\n",
              "      <td>1584</td>\n",
              "      <td>0</td>\n",
              "      <td>0</td>\n",
              "    </tr>\n",
              "    <tr>\n",
              "      <th>12129</th>\n",
              "      <td>2019</td>\n",
              "      <td>16</td>\n",
              "      <td>woodser</td>\n",
              "      <td>1732</td>\n",
              "      <td>0</td>\n",
              "      <td>0</td>\n",
              "    </tr>\n",
              "    <tr>\n",
              "      <th>12130</th>\n",
              "      <td>2019</td>\n",
              "      <td>17</td>\n",
              "      <td>woodser</td>\n",
              "      <td>1651</td>\n",
              "      <td>0</td>\n",
              "      <td>0</td>\n",
              "    </tr>\n",
              "  </tbody>\n",
              "</table>\n",
              "<p>12131 rows × 6 columns</p>\n",
              "</div>"
            ],
            "text/plain": [
              "       Year  Week_Number Customer  Volume Event1 Event2\n",
              "0      2017            1  agulhas      83      0      0\n",
              "1      2017            2  agulhas      98      0      0\n",
              "2      2017            3  agulhas      57      0      0\n",
              "3      2017            4  agulhas     127      0      0\n",
              "4      2017            5  agulhas     121      0      0\n",
              "...     ...          ...      ...     ...    ...    ...\n",
              "12126  2019           13  woodser    1853      0      0\n",
              "12127  2019           14  woodser    1618      0      0\n",
              "12128  2019           15  woodser    1584      0      0\n",
              "12129  2019           16  woodser    1732      0      0\n",
              "12130  2019           17  woodser    1651      0      0\n",
              "\n",
              "[12131 rows x 6 columns]"
            ]
          },
          "metadata": {
            "tags": []
          },
          "execution_count": 58
        }
      ]
    },
    {
      "cell_type": "code",
      "metadata": {
        "id": "SJWIvUm2YAKq",
        "colab_type": "code",
        "colab": {
          "base_uri": "https://localhost:8080/",
          "height": 419
        },
        "outputId": "42f15195-afb1-4fb3-da7e-49f7f213cac4"
      },
      "source": [
        "df_events[\"Groups\"] = df_events[\"Customer\"].map(dict_df_2017) \n",
        "df_events"
      ],
      "execution_count": 59,
      "outputs": [
        {
          "output_type": "execute_result",
          "data": {
            "text/html": [
              "<div>\n",
              "<style scoped>\n",
              "    .dataframe tbody tr th:only-of-type {\n",
              "        vertical-align: middle;\n",
              "    }\n",
              "\n",
              "    .dataframe tbody tr th {\n",
              "        vertical-align: top;\n",
              "    }\n",
              "\n",
              "    .dataframe thead th {\n",
              "        text-align: right;\n",
              "    }\n",
              "</style>\n",
              "<table border=\"1\" class=\"dataframe\">\n",
              "  <thead>\n",
              "    <tr style=\"text-align: right;\">\n",
              "      <th></th>\n",
              "      <th>Year</th>\n",
              "      <th>Week_Number</th>\n",
              "      <th>Customer</th>\n",
              "      <th>Volume</th>\n",
              "      <th>Event1</th>\n",
              "      <th>Event2</th>\n",
              "      <th>Groups</th>\n",
              "    </tr>\n",
              "  </thead>\n",
              "  <tbody>\n",
              "    <tr>\n",
              "      <th>0</th>\n",
              "      <td>2017</td>\n",
              "      <td>1</td>\n",
              "      <td>agulhas</td>\n",
              "      <td>83</td>\n",
              "      <td>0</td>\n",
              "      <td>0</td>\n",
              "      <td>Small</td>\n",
              "    </tr>\n",
              "    <tr>\n",
              "      <th>1</th>\n",
              "      <td>2017</td>\n",
              "      <td>2</td>\n",
              "      <td>agulhas</td>\n",
              "      <td>98</td>\n",
              "      <td>0</td>\n",
              "      <td>0</td>\n",
              "      <td>Small</td>\n",
              "    </tr>\n",
              "    <tr>\n",
              "      <th>2</th>\n",
              "      <td>2017</td>\n",
              "      <td>3</td>\n",
              "      <td>agulhas</td>\n",
              "      <td>57</td>\n",
              "      <td>0</td>\n",
              "      <td>0</td>\n",
              "      <td>Small</td>\n",
              "    </tr>\n",
              "    <tr>\n",
              "      <th>3</th>\n",
              "      <td>2017</td>\n",
              "      <td>4</td>\n",
              "      <td>agulhas</td>\n",
              "      <td>127</td>\n",
              "      <td>0</td>\n",
              "      <td>0</td>\n",
              "      <td>Small</td>\n",
              "    </tr>\n",
              "    <tr>\n",
              "      <th>4</th>\n",
              "      <td>2017</td>\n",
              "      <td>5</td>\n",
              "      <td>agulhas</td>\n",
              "      <td>121</td>\n",
              "      <td>0</td>\n",
              "      <td>0</td>\n",
              "      <td>Small</td>\n",
              "    </tr>\n",
              "    <tr>\n",
              "      <th>...</th>\n",
              "      <td>...</td>\n",
              "      <td>...</td>\n",
              "      <td>...</td>\n",
              "      <td>...</td>\n",
              "      <td>...</td>\n",
              "      <td>...</td>\n",
              "      <td>...</td>\n",
              "    </tr>\n",
              "    <tr>\n",
              "      <th>12126</th>\n",
              "      <td>2019</td>\n",
              "      <td>13</td>\n",
              "      <td>woodser</td>\n",
              "      <td>1853</td>\n",
              "      <td>0</td>\n",
              "      <td>0</td>\n",
              "      <td>Medium</td>\n",
              "    </tr>\n",
              "    <tr>\n",
              "      <th>12127</th>\n",
              "      <td>2019</td>\n",
              "      <td>14</td>\n",
              "      <td>woodser</td>\n",
              "      <td>1618</td>\n",
              "      <td>0</td>\n",
              "      <td>0</td>\n",
              "      <td>Medium</td>\n",
              "    </tr>\n",
              "    <tr>\n",
              "      <th>12128</th>\n",
              "      <td>2019</td>\n",
              "      <td>15</td>\n",
              "      <td>woodser</td>\n",
              "      <td>1584</td>\n",
              "      <td>0</td>\n",
              "      <td>0</td>\n",
              "      <td>Medium</td>\n",
              "    </tr>\n",
              "    <tr>\n",
              "      <th>12129</th>\n",
              "      <td>2019</td>\n",
              "      <td>16</td>\n",
              "      <td>woodser</td>\n",
              "      <td>1732</td>\n",
              "      <td>0</td>\n",
              "      <td>0</td>\n",
              "      <td>Medium</td>\n",
              "    </tr>\n",
              "    <tr>\n",
              "      <th>12130</th>\n",
              "      <td>2019</td>\n",
              "      <td>17</td>\n",
              "      <td>woodser</td>\n",
              "      <td>1651</td>\n",
              "      <td>0</td>\n",
              "      <td>0</td>\n",
              "      <td>Medium</td>\n",
              "    </tr>\n",
              "  </tbody>\n",
              "</table>\n",
              "<p>12131 rows × 7 columns</p>\n",
              "</div>"
            ],
            "text/plain": [
              "       Year  Week_Number Customer  Volume Event1 Event2  Groups\n",
              "0      2017            1  agulhas      83      0      0   Small\n",
              "1      2017            2  agulhas      98      0      0   Small\n",
              "2      2017            3  agulhas      57      0      0   Small\n",
              "3      2017            4  agulhas     127      0      0   Small\n",
              "4      2017            5  agulhas     121      0      0   Small\n",
              "...     ...          ...      ...     ...    ...    ...     ...\n",
              "12126  2019           13  woodser    1853      0      0  Medium\n",
              "12127  2019           14  woodser    1618      0      0  Medium\n",
              "12128  2019           15  woodser    1584      0      0  Medium\n",
              "12129  2019           16  woodser    1732      0      0  Medium\n",
              "12130  2019           17  woodser    1651      0      0  Medium\n",
              "\n",
              "[12131 rows x 7 columns]"
            ]
          },
          "metadata": {
            "tags": []
          },
          "execution_count": 59
        }
      ]
    },
    {
      "cell_type": "code",
      "metadata": {
        "id": "TMXwfqfCKhza",
        "colab_type": "code",
        "colab": {
          "base_uri": "https://localhost:8080/",
          "height": 419
        },
        "outputId": "e97a9128-525d-4e92-e5b8-e3cff5f06ba9"
      },
      "source": [
        "df_events_prestrike_1 = df_events.loc[(df_events[\"Event2\"] == \"prestrike_1\")]\n",
        "df_events_prestrike_1"
      ],
      "execution_count": 60,
      "outputs": [
        {
          "output_type": "execute_result",
          "data": {
            "text/html": [
              "<div>\n",
              "<style scoped>\n",
              "    .dataframe tbody tr th:only-of-type {\n",
              "        vertical-align: middle;\n",
              "    }\n",
              "\n",
              "    .dataframe tbody tr th {\n",
              "        vertical-align: top;\n",
              "    }\n",
              "\n",
              "    .dataframe thead th {\n",
              "        text-align: right;\n",
              "    }\n",
              "</style>\n",
              "<table border=\"1\" class=\"dataframe\">\n",
              "  <thead>\n",
              "    <tr style=\"text-align: right;\">\n",
              "      <th></th>\n",
              "      <th>Year</th>\n",
              "      <th>Week_Number</th>\n",
              "      <th>Customer</th>\n",
              "      <th>Volume</th>\n",
              "      <th>Event1</th>\n",
              "      <th>Event2</th>\n",
              "      <th>Groups</th>\n",
              "    </tr>\n",
              "  </thead>\n",
              "  <tbody>\n",
              "    <tr>\n",
              "      <th>82</th>\n",
              "      <td>2018</td>\n",
              "      <td>37</td>\n",
              "      <td>agulhas</td>\n",
              "      <td>157</td>\n",
              "      <td>0</td>\n",
              "      <td>prestrike_1</td>\n",
              "      <td>Small</td>\n",
              "    </tr>\n",
              "    <tr>\n",
              "      <th>83</th>\n",
              "      <td>2018</td>\n",
              "      <td>38</td>\n",
              "      <td>agulhas</td>\n",
              "      <td>123</td>\n",
              "      <td>0</td>\n",
              "      <td>prestrike_1</td>\n",
              "      <td>Small</td>\n",
              "    </tr>\n",
              "    <tr>\n",
              "      <th>203</th>\n",
              "      <td>2018</td>\n",
              "      <td>37</td>\n",
              "      <td>airline</td>\n",
              "      <td>0</td>\n",
              "      <td>0</td>\n",
              "      <td>prestrike_1</td>\n",
              "      <td>Small</td>\n",
              "    </tr>\n",
              "    <tr>\n",
              "      <th>204</th>\n",
              "      <td>2018</td>\n",
              "      <td>38</td>\n",
              "      <td>airline</td>\n",
              "      <td>0</td>\n",
              "      <td>0</td>\n",
              "      <td>prestrike_1</td>\n",
              "      <td>Small</td>\n",
              "    </tr>\n",
              "    <tr>\n",
              "      <th>320</th>\n",
              "      <td>2018</td>\n",
              "      <td>37</td>\n",
              "      <td>allover</td>\n",
              "      <td>578</td>\n",
              "      <td>0</td>\n",
              "      <td>prestrike_1</td>\n",
              "      <td>Medium</td>\n",
              "    </tr>\n",
              "    <tr>\n",
              "      <th>...</th>\n",
              "      <td>...</td>\n",
              "      <td>...</td>\n",
              "      <td>...</td>\n",
              "      <td>...</td>\n",
              "      <td>...</td>\n",
              "      <td>...</td>\n",
              "      <td>...</td>\n",
              "    </tr>\n",
              "    <tr>\n",
              "      <th>11854</th>\n",
              "      <td>2018</td>\n",
              "      <td>38</td>\n",
              "      <td>twinned</td>\n",
              "      <td>238</td>\n",
              "      <td>0</td>\n",
              "      <td>prestrike_1</td>\n",
              "      <td>Small</td>\n",
              "    </tr>\n",
              "    <tr>\n",
              "      <th>11971</th>\n",
              "      <td>2018</td>\n",
              "      <td>37</td>\n",
              "      <td>vistula</td>\n",
              "      <td>1</td>\n",
              "      <td>0</td>\n",
              "      <td>prestrike_1</td>\n",
              "      <td>Medium</td>\n",
              "    </tr>\n",
              "    <tr>\n",
              "      <th>11972</th>\n",
              "      <td>2018</td>\n",
              "      <td>38</td>\n",
              "      <td>vistula</td>\n",
              "      <td>12</td>\n",
              "      <td>0</td>\n",
              "      <td>prestrike_1</td>\n",
              "      <td>Medium</td>\n",
              "    </tr>\n",
              "    <tr>\n",
              "      <th>12092</th>\n",
              "      <td>2018</td>\n",
              "      <td>37</td>\n",
              "      <td>woodser</td>\n",
              "      <td>1652</td>\n",
              "      <td>0</td>\n",
              "      <td>prestrike_1</td>\n",
              "      <td>Medium</td>\n",
              "    </tr>\n",
              "    <tr>\n",
              "      <th>12093</th>\n",
              "      <td>2018</td>\n",
              "      <td>38</td>\n",
              "      <td>woodser</td>\n",
              "      <td>1697</td>\n",
              "      <td>0</td>\n",
              "      <td>prestrike_1</td>\n",
              "      <td>Medium</td>\n",
              "    </tr>\n",
              "  </tbody>\n",
              "</table>\n",
              "<p>204 rows × 7 columns</p>\n",
              "</div>"
            ],
            "text/plain": [
              "       Year  Week_Number Customer  Volume Event1       Event2  Groups\n",
              "82     2018           37  agulhas     157      0  prestrike_1   Small\n",
              "83     2018           38  agulhas     123      0  prestrike_1   Small\n",
              "203    2018           37  airline       0      0  prestrike_1   Small\n",
              "204    2018           38  airline       0      0  prestrike_1   Small\n",
              "320    2018           37  allover     578      0  prestrike_1  Medium\n",
              "...     ...          ...      ...     ...    ...          ...     ...\n",
              "11854  2018           38  twinned     238      0  prestrike_1   Small\n",
              "11971  2018           37  vistula       1      0  prestrike_1  Medium\n",
              "11972  2018           38  vistula      12      0  prestrike_1  Medium\n",
              "12092  2018           37  woodser    1652      0  prestrike_1  Medium\n",
              "12093  2018           38  woodser    1697      0  prestrike_1  Medium\n",
              "\n",
              "[204 rows x 7 columns]"
            ]
          },
          "metadata": {
            "tags": []
          },
          "execution_count": 60
        }
      ]
    },
    {
      "cell_type": "code",
      "metadata": {
        "id": "1wZrZxMTLLE_",
        "colab_type": "code",
        "colab": {
          "base_uri": "https://localhost:8080/",
          "height": 419
        },
        "outputId": "bcff34eb-da03-457e-e534-4c0db1f306a7"
      },
      "source": [
        "df_events_strike = df_events.loc[(df_events[\"Event2\"] == \"strike\")]\n",
        "df_events_strike"
      ],
      "execution_count": 61,
      "outputs": [
        {
          "output_type": "execute_result",
          "data": {
            "text/html": [
              "<div>\n",
              "<style scoped>\n",
              "    .dataframe tbody tr th:only-of-type {\n",
              "        vertical-align: middle;\n",
              "    }\n",
              "\n",
              "    .dataframe tbody tr th {\n",
              "        vertical-align: top;\n",
              "    }\n",
              "\n",
              "    .dataframe thead th {\n",
              "        text-align: right;\n",
              "    }\n",
              "</style>\n",
              "<table border=\"1\" class=\"dataframe\">\n",
              "  <thead>\n",
              "    <tr style=\"text-align: right;\">\n",
              "      <th></th>\n",
              "      <th>Year</th>\n",
              "      <th>Week_Number</th>\n",
              "      <th>Customer</th>\n",
              "      <th>Volume</th>\n",
              "      <th>Event1</th>\n",
              "      <th>Event2</th>\n",
              "      <th>Groups</th>\n",
              "    </tr>\n",
              "  </thead>\n",
              "  <tbody>\n",
              "    <tr>\n",
              "      <th>89</th>\n",
              "      <td>2018</td>\n",
              "      <td>43</td>\n",
              "      <td>agulhas</td>\n",
              "      <td>102</td>\n",
              "      <td>0</td>\n",
              "      <td>strike</td>\n",
              "      <td>Small</td>\n",
              "    </tr>\n",
              "    <tr>\n",
              "      <th>90</th>\n",
              "      <td>2018</td>\n",
              "      <td>44</td>\n",
              "      <td>agulhas</td>\n",
              "      <td>48</td>\n",
              "      <td>0</td>\n",
              "      <td>strike</td>\n",
              "      <td>Small</td>\n",
              "    </tr>\n",
              "    <tr>\n",
              "      <th>91</th>\n",
              "      <td>2018</td>\n",
              "      <td>45</td>\n",
              "      <td>agulhas</td>\n",
              "      <td>80</td>\n",
              "      <td>peek2018</td>\n",
              "      <td>strike</td>\n",
              "      <td>Small</td>\n",
              "    </tr>\n",
              "    <tr>\n",
              "      <th>92</th>\n",
              "      <td>2018</td>\n",
              "      <td>46</td>\n",
              "      <td>agulhas</td>\n",
              "      <td>13</td>\n",
              "      <td>peek2018</td>\n",
              "      <td>strike</td>\n",
              "      <td>Small</td>\n",
              "    </tr>\n",
              "    <tr>\n",
              "      <th>93</th>\n",
              "      <td>2018</td>\n",
              "      <td>47</td>\n",
              "      <td>agulhas</td>\n",
              "      <td>17</td>\n",
              "      <td>peek2018</td>\n",
              "      <td>strike</td>\n",
              "      <td>Small</td>\n",
              "    </tr>\n",
              "    <tr>\n",
              "      <th>...</th>\n",
              "      <td>...</td>\n",
              "      <td>...</td>\n",
              "      <td>...</td>\n",
              "      <td>...</td>\n",
              "      <td>...</td>\n",
              "      <td>...</td>\n",
              "      <td>...</td>\n",
              "    </tr>\n",
              "    <tr>\n",
              "      <th>12100</th>\n",
              "      <td>2018</td>\n",
              "      <td>44</td>\n",
              "      <td>woodser</td>\n",
              "      <td>1914</td>\n",
              "      <td>0</td>\n",
              "      <td>strike</td>\n",
              "      <td>Medium</td>\n",
              "    </tr>\n",
              "    <tr>\n",
              "      <th>12101</th>\n",
              "      <td>2018</td>\n",
              "      <td>45</td>\n",
              "      <td>woodser</td>\n",
              "      <td>1920</td>\n",
              "      <td>peek2018</td>\n",
              "      <td>strike</td>\n",
              "      <td>Medium</td>\n",
              "    </tr>\n",
              "    <tr>\n",
              "      <th>12102</th>\n",
              "      <td>2018</td>\n",
              "      <td>46</td>\n",
              "      <td>woodser</td>\n",
              "      <td>2123</td>\n",
              "      <td>peek2018</td>\n",
              "      <td>strike</td>\n",
              "      <td>Medium</td>\n",
              "    </tr>\n",
              "    <tr>\n",
              "      <th>12103</th>\n",
              "      <td>2018</td>\n",
              "      <td>47</td>\n",
              "      <td>woodser</td>\n",
              "      <td>3508</td>\n",
              "      <td>peek2018</td>\n",
              "      <td>strike</td>\n",
              "      <td>Medium</td>\n",
              "    </tr>\n",
              "    <tr>\n",
              "      <th>12104</th>\n",
              "      <td>2018</td>\n",
              "      <td>48</td>\n",
              "      <td>woodser</td>\n",
              "      <td>7345</td>\n",
              "      <td>peek2018</td>\n",
              "      <td>strike</td>\n",
              "      <td>Medium</td>\n",
              "    </tr>\n",
              "  </tbody>\n",
              "</table>\n",
              "<p>612 rows × 7 columns</p>\n",
              "</div>"
            ],
            "text/plain": [
              "       Year  Week_Number Customer  Volume    Event1  Event2  Groups\n",
              "89     2018           43  agulhas     102         0  strike   Small\n",
              "90     2018           44  agulhas      48         0  strike   Small\n",
              "91     2018           45  agulhas      80  peek2018  strike   Small\n",
              "92     2018           46  agulhas      13  peek2018  strike   Small\n",
              "93     2018           47  agulhas      17  peek2018  strike   Small\n",
              "...     ...          ...      ...     ...       ...     ...     ...\n",
              "12100  2018           44  woodser    1914         0  strike  Medium\n",
              "12101  2018           45  woodser    1920  peek2018  strike  Medium\n",
              "12102  2018           46  woodser    2123  peek2018  strike  Medium\n",
              "12103  2018           47  woodser    3508  peek2018  strike  Medium\n",
              "12104  2018           48  woodser    7345  peek2018  strike  Medium\n",
              "\n",
              "[612 rows x 7 columns]"
            ]
          },
          "metadata": {
            "tags": []
          },
          "execution_count": 61
        }
      ]
    },
    {
      "cell_type": "code",
      "metadata": {
        "id": "sBK6X5WkLZf2",
        "colab_type": "code",
        "colab": {
          "base_uri": "https://localhost:8080/",
          "height": 34
        },
        "outputId": "493d1891-976d-4602-894d-81fd621e649f"
      },
      "source": [
        "stats.ttest_ind(df_events_prestrike_1[\"Volume\"],df_events_strike[\"Volume\"])"
      ],
      "execution_count": 62,
      "outputs": [
        {
          "output_type": "execute_result",
          "data": {
            "text/plain": [
              "Ttest_indResult(statistic=-0.39374571968900385, pvalue=0.6938718988627632)"
            ]
          },
          "metadata": {
            "tags": []
          },
          "execution_count": 62
        }
      ]
    },
    {
      "cell_type": "code",
      "metadata": {
        "id": "mcQwepLTUpXH",
        "colab_type": "code",
        "colab": {}
      },
      "source": [
        ""
      ],
      "execution_count": 62,
      "outputs": []
    },
    {
      "cell_type": "code",
      "metadata": {
        "id": "tyBaa6ToUXR9",
        "colab_type": "code",
        "colab": {
          "base_uri": "https://localhost:8080/",
          "height": 419
        },
        "outputId": "c3573e23-a266-44cf-9ce3-7e3588a20bfb"
      },
      "source": [
        "df_events_non_strike = df_events.loc[(df_events[\"Event2\"] != \"strike\")]\n",
        "df_events_non_strike"
      ],
      "execution_count": 63,
      "outputs": [
        {
          "output_type": "execute_result",
          "data": {
            "text/html": [
              "<div>\n",
              "<style scoped>\n",
              "    .dataframe tbody tr th:only-of-type {\n",
              "        vertical-align: middle;\n",
              "    }\n",
              "\n",
              "    .dataframe tbody tr th {\n",
              "        vertical-align: top;\n",
              "    }\n",
              "\n",
              "    .dataframe thead th {\n",
              "        text-align: right;\n",
              "    }\n",
              "</style>\n",
              "<table border=\"1\" class=\"dataframe\">\n",
              "  <thead>\n",
              "    <tr style=\"text-align: right;\">\n",
              "      <th></th>\n",
              "      <th>Year</th>\n",
              "      <th>Week_Number</th>\n",
              "      <th>Customer</th>\n",
              "      <th>Volume</th>\n",
              "      <th>Event1</th>\n",
              "      <th>Event2</th>\n",
              "      <th>Groups</th>\n",
              "    </tr>\n",
              "  </thead>\n",
              "  <tbody>\n",
              "    <tr>\n",
              "      <th>0</th>\n",
              "      <td>2017</td>\n",
              "      <td>1</td>\n",
              "      <td>agulhas</td>\n",
              "      <td>83</td>\n",
              "      <td>0</td>\n",
              "      <td>0</td>\n",
              "      <td>Small</td>\n",
              "    </tr>\n",
              "    <tr>\n",
              "      <th>1</th>\n",
              "      <td>2017</td>\n",
              "      <td>2</td>\n",
              "      <td>agulhas</td>\n",
              "      <td>98</td>\n",
              "      <td>0</td>\n",
              "      <td>0</td>\n",
              "      <td>Small</td>\n",
              "    </tr>\n",
              "    <tr>\n",
              "      <th>2</th>\n",
              "      <td>2017</td>\n",
              "      <td>3</td>\n",
              "      <td>agulhas</td>\n",
              "      <td>57</td>\n",
              "      <td>0</td>\n",
              "      <td>0</td>\n",
              "      <td>Small</td>\n",
              "    </tr>\n",
              "    <tr>\n",
              "      <th>3</th>\n",
              "      <td>2017</td>\n",
              "      <td>4</td>\n",
              "      <td>agulhas</td>\n",
              "      <td>127</td>\n",
              "      <td>0</td>\n",
              "      <td>0</td>\n",
              "      <td>Small</td>\n",
              "    </tr>\n",
              "    <tr>\n",
              "      <th>4</th>\n",
              "      <td>2017</td>\n",
              "      <td>5</td>\n",
              "      <td>agulhas</td>\n",
              "      <td>121</td>\n",
              "      <td>0</td>\n",
              "      <td>0</td>\n",
              "      <td>Small</td>\n",
              "    </tr>\n",
              "    <tr>\n",
              "      <th>...</th>\n",
              "      <td>...</td>\n",
              "      <td>...</td>\n",
              "      <td>...</td>\n",
              "      <td>...</td>\n",
              "      <td>...</td>\n",
              "      <td>...</td>\n",
              "      <td>...</td>\n",
              "    </tr>\n",
              "    <tr>\n",
              "      <th>12126</th>\n",
              "      <td>2019</td>\n",
              "      <td>13</td>\n",
              "      <td>woodser</td>\n",
              "      <td>1853</td>\n",
              "      <td>0</td>\n",
              "      <td>0</td>\n",
              "      <td>Medium</td>\n",
              "    </tr>\n",
              "    <tr>\n",
              "      <th>12127</th>\n",
              "      <td>2019</td>\n",
              "      <td>14</td>\n",
              "      <td>woodser</td>\n",
              "      <td>1618</td>\n",
              "      <td>0</td>\n",
              "      <td>0</td>\n",
              "      <td>Medium</td>\n",
              "    </tr>\n",
              "    <tr>\n",
              "      <th>12128</th>\n",
              "      <td>2019</td>\n",
              "      <td>15</td>\n",
              "      <td>woodser</td>\n",
              "      <td>1584</td>\n",
              "      <td>0</td>\n",
              "      <td>0</td>\n",
              "      <td>Medium</td>\n",
              "    </tr>\n",
              "    <tr>\n",
              "      <th>12129</th>\n",
              "      <td>2019</td>\n",
              "      <td>16</td>\n",
              "      <td>woodser</td>\n",
              "      <td>1732</td>\n",
              "      <td>0</td>\n",
              "      <td>0</td>\n",
              "      <td>Medium</td>\n",
              "    </tr>\n",
              "    <tr>\n",
              "      <th>12130</th>\n",
              "      <td>2019</td>\n",
              "      <td>17</td>\n",
              "      <td>woodser</td>\n",
              "      <td>1651</td>\n",
              "      <td>0</td>\n",
              "      <td>0</td>\n",
              "      <td>Medium</td>\n",
              "    </tr>\n",
              "  </tbody>\n",
              "</table>\n",
              "<p>11519 rows × 7 columns</p>\n",
              "</div>"
            ],
            "text/plain": [
              "       Year  Week_Number Customer  Volume Event1 Event2  Groups\n",
              "0      2017            1  agulhas      83      0      0   Small\n",
              "1      2017            2  agulhas      98      0      0   Small\n",
              "2      2017            3  agulhas      57      0      0   Small\n",
              "3      2017            4  agulhas     127      0      0   Small\n",
              "4      2017            5  agulhas     121      0      0   Small\n",
              "...     ...          ...      ...     ...    ...    ...     ...\n",
              "12126  2019           13  woodser    1853      0      0  Medium\n",
              "12127  2019           14  woodser    1618      0      0  Medium\n",
              "12128  2019           15  woodser    1584      0      0  Medium\n",
              "12129  2019           16  woodser    1732      0      0  Medium\n",
              "12130  2019           17  woodser    1651      0      0  Medium\n",
              "\n",
              "[11519 rows x 7 columns]"
            ]
          },
          "metadata": {
            "tags": []
          },
          "execution_count": 63
        }
      ]
    },
    {
      "cell_type": "code",
      "metadata": {
        "id": "akJolVH7UqhI",
        "colab_type": "code",
        "colab": {
          "base_uri": "https://localhost:8080/",
          "height": 68
        },
        "outputId": "ae64f112-ba3e-4ad5-ed08-42c188e2c00d"
      },
      "source": [
        "test_result = stats.ttest_ind(df_events_non_strike[\"Volume\"],df_events_strike[\"Volume\"])\n",
        "print(\"test_result =\", test_result)\n",
        "non_strike_mean = df_events_non_strike[\"Volume\"].mean()\n",
        "print(\"non_strike_mean =\", non_strike_mean)\n",
        "strike_mean = df_events_strike[\"Volume\"].mean()\n",
        "print(\"strike_mean =\", strike_mean)\n"
      ],
      "execution_count": 64,
      "outputs": [
        {
          "output_type": "stream",
          "text": [
            "test_result = Ttest_indResult(statistic=-1.101593608268175, pvalue=0.27066024774827074)\n",
            "non_strike_mean = 13434.602135602048\n",
            "strike_mean = 16814.269607843136\n"
          ],
          "name": "stdout"
        }
      ]
    },
    {
      "cell_type": "code",
      "metadata": {
        "id": "Ox57keX9XFL5",
        "colab_type": "code",
        "colab": {
          "base_uri": "https://localhost:8080/",
          "height": 419
        },
        "outputId": "bd81d702-42fb-4666-fe98-b53d32c29ac3"
      },
      "source": [
        "df_small_non_strike = df_events_non_strike.loc[(df_events_non_strike[\"Groups\"] == \"Small\")]\n",
        "df_small_non_strike"
      ],
      "execution_count": 65,
      "outputs": [
        {
          "output_type": "execute_result",
          "data": {
            "text/html": [
              "<div>\n",
              "<style scoped>\n",
              "    .dataframe tbody tr th:only-of-type {\n",
              "        vertical-align: middle;\n",
              "    }\n",
              "\n",
              "    .dataframe tbody tr th {\n",
              "        vertical-align: top;\n",
              "    }\n",
              "\n",
              "    .dataframe thead th {\n",
              "        text-align: right;\n",
              "    }\n",
              "</style>\n",
              "<table border=\"1\" class=\"dataframe\">\n",
              "  <thead>\n",
              "    <tr style=\"text-align: right;\">\n",
              "      <th></th>\n",
              "      <th>Year</th>\n",
              "      <th>Week_Number</th>\n",
              "      <th>Customer</th>\n",
              "      <th>Volume</th>\n",
              "      <th>Event1</th>\n",
              "      <th>Event2</th>\n",
              "      <th>Groups</th>\n",
              "    </tr>\n",
              "  </thead>\n",
              "  <tbody>\n",
              "    <tr>\n",
              "      <th>0</th>\n",
              "      <td>2017</td>\n",
              "      <td>1</td>\n",
              "      <td>agulhas</td>\n",
              "      <td>83</td>\n",
              "      <td>0</td>\n",
              "      <td>0</td>\n",
              "      <td>Small</td>\n",
              "    </tr>\n",
              "    <tr>\n",
              "      <th>1</th>\n",
              "      <td>2017</td>\n",
              "      <td>2</td>\n",
              "      <td>agulhas</td>\n",
              "      <td>98</td>\n",
              "      <td>0</td>\n",
              "      <td>0</td>\n",
              "      <td>Small</td>\n",
              "    </tr>\n",
              "    <tr>\n",
              "      <th>2</th>\n",
              "      <td>2017</td>\n",
              "      <td>3</td>\n",
              "      <td>agulhas</td>\n",
              "      <td>57</td>\n",
              "      <td>0</td>\n",
              "      <td>0</td>\n",
              "      <td>Small</td>\n",
              "    </tr>\n",
              "    <tr>\n",
              "      <th>3</th>\n",
              "      <td>2017</td>\n",
              "      <td>4</td>\n",
              "      <td>agulhas</td>\n",
              "      <td>127</td>\n",
              "      <td>0</td>\n",
              "      <td>0</td>\n",
              "      <td>Small</td>\n",
              "    </tr>\n",
              "    <tr>\n",
              "      <th>4</th>\n",
              "      <td>2017</td>\n",
              "      <td>5</td>\n",
              "      <td>agulhas</td>\n",
              "      <td>121</td>\n",
              "      <td>0</td>\n",
              "      <td>0</td>\n",
              "      <td>Small</td>\n",
              "    </tr>\n",
              "    <tr>\n",
              "      <th>...</th>\n",
              "      <td>...</td>\n",
              "      <td>...</td>\n",
              "      <td>...</td>\n",
              "      <td>...</td>\n",
              "      <td>...</td>\n",
              "      <td>...</td>\n",
              "      <td>...</td>\n",
              "    </tr>\n",
              "    <tr>\n",
              "      <th>11884</th>\n",
              "      <td>2019</td>\n",
              "      <td>12</td>\n",
              "      <td>twinned</td>\n",
              "      <td>121</td>\n",
              "      <td>0</td>\n",
              "      <td>0</td>\n",
              "      <td>Small</td>\n",
              "    </tr>\n",
              "    <tr>\n",
              "      <th>11885</th>\n",
              "      <td>2019</td>\n",
              "      <td>13</td>\n",
              "      <td>twinned</td>\n",
              "      <td>107</td>\n",
              "      <td>0</td>\n",
              "      <td>0</td>\n",
              "      <td>Small</td>\n",
              "    </tr>\n",
              "    <tr>\n",
              "      <th>11886</th>\n",
              "      <td>2019</td>\n",
              "      <td>14</td>\n",
              "      <td>twinned</td>\n",
              "      <td>175</td>\n",
              "      <td>0</td>\n",
              "      <td>0</td>\n",
              "      <td>Small</td>\n",
              "    </tr>\n",
              "    <tr>\n",
              "      <th>11887</th>\n",
              "      <td>2019</td>\n",
              "      <td>15</td>\n",
              "      <td>twinned</td>\n",
              "      <td>149</td>\n",
              "      <td>0</td>\n",
              "      <td>0</td>\n",
              "      <td>Small</td>\n",
              "    </tr>\n",
              "    <tr>\n",
              "      <th>11888</th>\n",
              "      <td>2019</td>\n",
              "      <td>16</td>\n",
              "      <td>twinned</td>\n",
              "      <td>158</td>\n",
              "      <td>0</td>\n",
              "      <td>0</td>\n",
              "      <td>Small</td>\n",
              "    </tr>\n",
              "  </tbody>\n",
              "</table>\n",
              "<p>5005 rows × 7 columns</p>\n",
              "</div>"
            ],
            "text/plain": [
              "       Year  Week_Number Customer  Volume Event1 Event2 Groups\n",
              "0      2017            1  agulhas      83      0      0  Small\n",
              "1      2017            2  agulhas      98      0      0  Small\n",
              "2      2017            3  agulhas      57      0      0  Small\n",
              "3      2017            4  agulhas     127      0      0  Small\n",
              "4      2017            5  agulhas     121      0      0  Small\n",
              "...     ...          ...      ...     ...    ...    ...    ...\n",
              "11884  2019           12  twinned     121      0      0  Small\n",
              "11885  2019           13  twinned     107      0      0  Small\n",
              "11886  2019           14  twinned     175      0      0  Small\n",
              "11887  2019           15  twinned     149      0      0  Small\n",
              "11888  2019           16  twinned     158      0      0  Small\n",
              "\n",
              "[5005 rows x 7 columns]"
            ]
          },
          "metadata": {
            "tags": []
          },
          "execution_count": 65
        }
      ]
    },
    {
      "cell_type": "code",
      "metadata": {
        "id": "HkEfUdjnZExN",
        "colab_type": "code",
        "colab": {}
      },
      "source": [
        ""
      ],
      "execution_count": 65,
      "outputs": []
    },
    {
      "cell_type": "code",
      "metadata": {
        "id": "3Z1qBBb2YYo9",
        "colab_type": "code",
        "colab": {
          "base_uri": "https://localhost:8080/",
          "height": 419
        },
        "outputId": "23fc4e86-4cb3-4ceb-d249-835e065a3eb4"
      },
      "source": [
        "df_small_strike = df_events_strike.loc[(df_events_strike[\"Groups\"] == \"Small\")]\n",
        "df_small_strike"
      ],
      "execution_count": 66,
      "outputs": [
        {
          "output_type": "execute_result",
          "data": {
            "text/html": [
              "<div>\n",
              "<style scoped>\n",
              "    .dataframe tbody tr th:only-of-type {\n",
              "        vertical-align: middle;\n",
              "    }\n",
              "\n",
              "    .dataframe tbody tr th {\n",
              "        vertical-align: top;\n",
              "    }\n",
              "\n",
              "    .dataframe thead th {\n",
              "        text-align: right;\n",
              "    }\n",
              "</style>\n",
              "<table border=\"1\" class=\"dataframe\">\n",
              "  <thead>\n",
              "    <tr style=\"text-align: right;\">\n",
              "      <th></th>\n",
              "      <th>Year</th>\n",
              "      <th>Week_Number</th>\n",
              "      <th>Customer</th>\n",
              "      <th>Volume</th>\n",
              "      <th>Event1</th>\n",
              "      <th>Event2</th>\n",
              "      <th>Groups</th>\n",
              "    </tr>\n",
              "  </thead>\n",
              "  <tbody>\n",
              "    <tr>\n",
              "      <th>89</th>\n",
              "      <td>2018</td>\n",
              "      <td>43</td>\n",
              "      <td>agulhas</td>\n",
              "      <td>102</td>\n",
              "      <td>0</td>\n",
              "      <td>strike</td>\n",
              "      <td>Small</td>\n",
              "    </tr>\n",
              "    <tr>\n",
              "      <th>90</th>\n",
              "      <td>2018</td>\n",
              "      <td>44</td>\n",
              "      <td>agulhas</td>\n",
              "      <td>48</td>\n",
              "      <td>0</td>\n",
              "      <td>strike</td>\n",
              "      <td>Small</td>\n",
              "    </tr>\n",
              "    <tr>\n",
              "      <th>91</th>\n",
              "      <td>2018</td>\n",
              "      <td>45</td>\n",
              "      <td>agulhas</td>\n",
              "      <td>80</td>\n",
              "      <td>peek2018</td>\n",
              "      <td>strike</td>\n",
              "      <td>Small</td>\n",
              "    </tr>\n",
              "    <tr>\n",
              "      <th>92</th>\n",
              "      <td>2018</td>\n",
              "      <td>46</td>\n",
              "      <td>agulhas</td>\n",
              "      <td>13</td>\n",
              "      <td>peek2018</td>\n",
              "      <td>strike</td>\n",
              "      <td>Small</td>\n",
              "    </tr>\n",
              "    <tr>\n",
              "      <th>93</th>\n",
              "      <td>2018</td>\n",
              "      <td>47</td>\n",
              "      <td>agulhas</td>\n",
              "      <td>17</td>\n",
              "      <td>peek2018</td>\n",
              "      <td>strike</td>\n",
              "      <td>Small</td>\n",
              "    </tr>\n",
              "    <tr>\n",
              "      <th>...</th>\n",
              "      <td>...</td>\n",
              "      <td>...</td>\n",
              "      <td>...</td>\n",
              "      <td>...</td>\n",
              "      <td>...</td>\n",
              "      <td>...</td>\n",
              "      <td>...</td>\n",
              "    </tr>\n",
              "    <tr>\n",
              "      <th>11861</th>\n",
              "      <td>2018</td>\n",
              "      <td>44</td>\n",
              "      <td>twinned</td>\n",
              "      <td>123</td>\n",
              "      <td>0</td>\n",
              "      <td>strike</td>\n",
              "      <td>Small</td>\n",
              "    </tr>\n",
              "    <tr>\n",
              "      <th>11862</th>\n",
              "      <td>2018</td>\n",
              "      <td>45</td>\n",
              "      <td>twinned</td>\n",
              "      <td>0</td>\n",
              "      <td>peek2018</td>\n",
              "      <td>strike</td>\n",
              "      <td>Small</td>\n",
              "    </tr>\n",
              "    <tr>\n",
              "      <th>11863</th>\n",
              "      <td>2018</td>\n",
              "      <td>46</td>\n",
              "      <td>twinned</td>\n",
              "      <td>0</td>\n",
              "      <td>peek2018</td>\n",
              "      <td>strike</td>\n",
              "      <td>Small</td>\n",
              "    </tr>\n",
              "    <tr>\n",
              "      <th>11864</th>\n",
              "      <td>2018</td>\n",
              "      <td>47</td>\n",
              "      <td>twinned</td>\n",
              "      <td>359</td>\n",
              "      <td>peek2018</td>\n",
              "      <td>strike</td>\n",
              "      <td>Small</td>\n",
              "    </tr>\n",
              "    <tr>\n",
              "      <th>11865</th>\n",
              "      <td>2018</td>\n",
              "      <td>48</td>\n",
              "      <td>twinned</td>\n",
              "      <td>90</td>\n",
              "      <td>peek2018</td>\n",
              "      <td>strike</td>\n",
              "      <td>Small</td>\n",
              "    </tr>\n",
              "  </tbody>\n",
              "</table>\n",
              "<p>270 rows × 7 columns</p>\n",
              "</div>"
            ],
            "text/plain": [
              "       Year  Week_Number Customer  Volume    Event1  Event2 Groups\n",
              "89     2018           43  agulhas     102         0  strike  Small\n",
              "90     2018           44  agulhas      48         0  strike  Small\n",
              "91     2018           45  agulhas      80  peek2018  strike  Small\n",
              "92     2018           46  agulhas      13  peek2018  strike  Small\n",
              "93     2018           47  agulhas      17  peek2018  strike  Small\n",
              "...     ...          ...      ...     ...       ...     ...    ...\n",
              "11861  2018           44  twinned     123         0  strike  Small\n",
              "11862  2018           45  twinned       0  peek2018  strike  Small\n",
              "11863  2018           46  twinned       0  peek2018  strike  Small\n",
              "11864  2018           47  twinned     359  peek2018  strike  Small\n",
              "11865  2018           48  twinned      90  peek2018  strike  Small\n",
              "\n",
              "[270 rows x 7 columns]"
            ]
          },
          "metadata": {
            "tags": []
          },
          "execution_count": 66
        }
      ]
    },
    {
      "cell_type": "code",
      "metadata": {
        "id": "IasUnvkiYpZu",
        "colab_type": "code",
        "colab": {
          "base_uri": "https://localhost:8080/",
          "height": 34
        },
        "outputId": "ecc63767-acad-4f5e-8088-a5e9f157bf4b"
      },
      "source": [
        "test_result2 = stats.ttest_ind(df_small_non_strike[\"Volume\"], df_small_strike[\"Volume\"])\n",
        "test_result2"
      ],
      "execution_count": 67,
      "outputs": [
        {
          "output_type": "execute_result",
          "data": {
            "text/plain": [
              "Ttest_indResult(statistic=1.8069429817830112, pvalue=0.07082814742176234)"
            ]
          },
          "metadata": {
            "tags": []
          },
          "execution_count": 67
        }
      ]
    },
    {
      "cell_type": "code",
      "metadata": {
        "id": "wfXhBj75GN9i",
        "colab_type": "code",
        "colab": {
          "base_uri": "https://localhost:8080/",
          "height": 322
        },
        "outputId": "d6c7d608-d457-4158-9783-d138e13fe0e8"
      },
      "source": [
        "# graph for large\n",
        "import matplotlib.pyplot as pyplot\n",
        "x = df_small_non_strike[\"Volume\"]\n",
        "y = df_small_strike[\"Volume\"]\n",
        "plt.figure(figsize=(20,5))\n",
        "pyplot.hist(x, alpha=0.5, label='x')\n",
        "pyplot.hist(y, alpha=0.5, label='y')\n",
        "pyplot.legend(loc='upper right')\n",
        "pyplot.show()"
      ],
      "execution_count": 68,
      "outputs": [
        {
          "output_type": "display_data",
          "data": {
            "image/png": "[encoded data removed]",
            "text/plain": [
              "<Figure size 1440x360 with 1 Axes>"
            ]
          },
          "metadata": {
            "tags": []
          }
        }
      ]
    },
    {
      "cell_type": "code",
      "metadata": {
        "id": "KYc0rFqQZHvc",
        "colab_type": "code",
        "colab": {}
      },
      "source": [
        "df_small_strike_mean = df_small_strike[\"Volume\"].mean()"
      ],
      "execution_count": 69,
      "outputs": []
    },
    {
      "cell_type": "code",
      "metadata": {
        "id": "PWcopMgcZUHF",
        "colab_type": "code",
        "colab": {}
      },
      "source": [
        "df_small_non_strike_mean = df_small_non_strike[\"Volume\"].mean()"
      ],
      "execution_count": 70,
      "outputs": []
    },
    {
      "cell_type": "code",
      "metadata": {
        "id": "xXvsN-uLZcUR",
        "colab_type": "code",
        "colab": {
          "base_uri": "https://localhost:8080/",
          "height": 51
        },
        "outputId": "9978e4e6-05c5-44c8-a528-f5e97fc506e0"
      },
      "source": [
        "print(\"df_small_strike_mean = \", df_small_strike_mean)\n",
        "print(\"df_small_non_strike_mean = \", df_small_non_strike_mean)"
      ],
      "execution_count": 71,
      "outputs": [
        {
          "output_type": "stream",
          "text": [
            "df_small_strike_mean =  55.611111111111114\n",
            "df_small_non_strike_mean =  63.92907092907093\n"
          ],
          "name": "stdout"
        }
      ]
    },
    {
      "cell_type": "code",
      "metadata": {
        "id": "0sx8a46uZ8nq",
        "colab_type": "code",
        "colab": {
          "base_uri": "https://localhost:8080/",
          "height": 34
        },
        "outputId": "4be7eaa5-c801-4ca0-93ba-cbd0e58ac71a"
      },
      "source": [
        "df_events_strike[\"Volume\"].max()"
      ],
      "execution_count": 72,
      "outputs": [
        {
          "output_type": "execute_result",
          "data": {
            "text/plain": [
              "1640560"
            ]
          },
          "metadata": {
            "tags": []
          },
          "execution_count": 72
        }
      ]
    },
    {
      "cell_type": "code",
      "metadata": {
        "id": "6lg_jFZIacoV",
        "colab_type": "code",
        "colab": {
          "base_uri": "https://localhost:8080/",
          "height": 34
        },
        "outputId": "4da2f163-f709-4932-a9cd-b7fb4a07dd01"
      },
      "source": [
        "df_events_strike[\"Volume\"].min()"
      ],
      "execution_count": 73,
      "outputs": [
        {
          "output_type": "execute_result",
          "data": {
            "text/plain": [
              "0"
            ]
          },
          "metadata": {
            "tags": []
          },
          "execution_count": 73
        }
      ]
    },
    {
      "cell_type": "code",
      "metadata": {
        "id": "m7P0_wzmahNM",
        "colab_type": "code",
        "colab": {
          "base_uri": "https://localhost:8080/",
          "height": 352
        },
        "outputId": "39465888-3c2a-4c71-9017-56849f554875"
      },
      "source": [
        "df_events_strike[\"Volume\"].hist(figsize=(18,5))"
      ],
      "execution_count": 74,
      "outputs": [
        {
          "output_type": "execute_result",
          "data": {
            "text/plain": [
              "<matplotlib.axes._subplots.AxesSubplot at 0x7fe808039438>"
            ]
          },
          "metadata": {
            "tags": []
          },
          "execution_count": 74
        },
        {
          "output_type": "display_data",
          "data": {
            "image/png": "[encoded data removed]",
            "text/plain": [
              "<Figure size 1296x360 with 1 Axes>"
            ]
          },
          "metadata": {
            "tags": []
          }
        }
      ]
    },
    {
      "cell_type": "code",
      "metadata": {
        "id": "CjTGHP2UbQ71",
        "colab_type": "code",
        "colab": {}
      },
      "source": [
        ""
      ],
      "execution_count": 74,
      "outputs": []
    },
    {
      "cell_type": "code",
      "metadata": {
        "id": "O2_asy6zbJPl",
        "colab_type": "code",
        "colab": {
          "base_uri": "https://localhost:8080/",
          "height": 352
        },
        "outputId": "80758bbf-b427-42cf-da46-a99b35016b26"
      },
      "source": [
        "df_events_non_strike[\"Volume\"].hist(figsize=(18,5), bins = 30)"
      ],
      "execution_count": 75,
      "outputs": [
        {
          "output_type": "execute_result",
          "data": {
            "text/plain": [
              "<matplotlib.axes._subplots.AxesSubplot at 0x7fe807fcfe48>"
            ]
          },
          "metadata": {
            "tags": []
          },
          "execution_count": 75
        },
        {
          "output_type": "display_data",
          "data": {
            "image/png": "[encoded data removed]",
            "text/plain": [
              "<Figure size 1296x360 with 1 Axes>"
            ]
          },
          "metadata": {
            "tags": []
          }
        }
      ]
    },
    {
      "cell_type": "code",
      "metadata": {
        "id": "Uk0tmQO3ci_O",
        "colab_type": "code",
        "colab": {}
      },
      "source": [
        "from matplotlib import pyplot"
      ],
      "execution_count": 129,
      "outputs": []
    },
    {
      "cell_type": "code",
      "metadata": {
        "id": "SNezQhpqctAF",
        "colab_type": "code",
        "colab": {
          "base_uri": "https://localhost:8080/",
          "height": 335
        },
        "outputId": "c605d2f3-bc49-4d27-8645-6ad44f146a8b"
      },
      "source": [
        "x = df_events_non_strike[\"Volume\"]\n",
        "y = df_events_strike[\"Volume\"]\n",
        "plt.figure(figsize=(20,5))\n",
        "pyplot.hist(x, alpha=0.5, label='x')\n",
        "pyplot.hist(y, alpha=0.5, label='y')\n",
        "pyplot.legend(loc='upper right')\n",
        "pyplot.show()"
      ],
      "execution_count": 77,
      "outputs": [
        {
          "output_type": "display_data",
          "data": {
            "image/png": "[encoded data removed]",
            "text/plain": [
              "<Figure size 1440x360 with 1 Axes>"
            ]
          },
          "metadata": {
            "tags": []
          }
        }
      ]
    },
    {
      "cell_type": "code",
      "metadata": {
        "id": "idlAHl9s-yJO",
        "colab_type": "code",
        "colab": {
          "base_uri": "https://localhost:8080/",
          "height": 419
        },
        "outputId": "8be46a74-8e3f-4a17-b1b6-724bdfc83fe6"
      },
      "source": [
        "df_large_strike = df_events_strike.loc[(df_events_strike[\"Groups\"] == \"Large\")]\n",
        "df_large_strike"
      ],
      "execution_count": 78,
      "outputs": [
        {
          "output_type": "execute_result",
          "data": {
            "text/html": [
              "<div>\n",
              "<style scoped>\n",
              "    .dataframe tbody tr th:only-of-type {\n",
              "        vertical-align: middle;\n",
              "    }\n",
              "\n",
              "    .dataframe tbody tr th {\n",
              "        vertical-align: top;\n",
              "    }\n",
              "\n",
              "    .dataframe thead th {\n",
              "        text-align: right;\n",
              "    }\n",
              "</style>\n",
              "<table border=\"1\" class=\"dataframe\">\n",
              "  <thead>\n",
              "    <tr style=\"text-align: right;\">\n",
              "      <th></th>\n",
              "      <th>Year</th>\n",
              "      <th>Week_Number</th>\n",
              "      <th>Customer</th>\n",
              "      <th>Volume</th>\n",
              "      <th>Event1</th>\n",
              "      <th>Event2</th>\n",
              "      <th>Groups</th>\n",
              "    </tr>\n",
              "  </thead>\n",
              "  <tbody>\n",
              "    <tr>\n",
              "      <th>1290</th>\n",
              "      <td>2018</td>\n",
              "      <td>43</td>\n",
              "      <td>benison</td>\n",
              "      <td>7534</td>\n",
              "      <td>0</td>\n",
              "      <td>strike</td>\n",
              "      <td>Large</td>\n",
              "    </tr>\n",
              "    <tr>\n",
              "      <th>1291</th>\n",
              "      <td>2018</td>\n",
              "      <td>44</td>\n",
              "      <td>benison</td>\n",
              "      <td>7228</td>\n",
              "      <td>0</td>\n",
              "      <td>strike</td>\n",
              "      <td>Large</td>\n",
              "    </tr>\n",
              "    <tr>\n",
              "      <th>1292</th>\n",
              "      <td>2018</td>\n",
              "      <td>45</td>\n",
              "      <td>benison</td>\n",
              "      <td>6499</td>\n",
              "      <td>peek2018</td>\n",
              "      <td>strike</td>\n",
              "      <td>Large</td>\n",
              "    </tr>\n",
              "    <tr>\n",
              "      <th>1293</th>\n",
              "      <td>2018</td>\n",
              "      <td>46</td>\n",
              "      <td>benison</td>\n",
              "      <td>7513</td>\n",
              "      <td>peek2018</td>\n",
              "      <td>strike</td>\n",
              "      <td>Large</td>\n",
              "    </tr>\n",
              "    <tr>\n",
              "      <th>1294</th>\n",
              "      <td>2018</td>\n",
              "      <td>47</td>\n",
              "      <td>benison</td>\n",
              "      <td>10464</td>\n",
              "      <td>peek2018</td>\n",
              "      <td>strike</td>\n",
              "      <td>Large</td>\n",
              "    </tr>\n",
              "    <tr>\n",
              "      <th>...</th>\n",
              "      <td>...</td>\n",
              "      <td>...</td>\n",
              "      <td>...</td>\n",
              "      <td>...</td>\n",
              "      <td>...</td>\n",
              "      <td>...</td>\n",
              "      <td>...</td>\n",
              "    </tr>\n",
              "    <tr>\n",
              "      <th>11512</th>\n",
              "      <td>2018</td>\n",
              "      <td>44</td>\n",
              "      <td>triduum</td>\n",
              "      <td>21747</td>\n",
              "      <td>0</td>\n",
              "      <td>strike</td>\n",
              "      <td>Large</td>\n",
              "    </tr>\n",
              "    <tr>\n",
              "      <th>11513</th>\n",
              "      <td>2018</td>\n",
              "      <td>45</td>\n",
              "      <td>triduum</td>\n",
              "      <td>19426</td>\n",
              "      <td>peek2018</td>\n",
              "      <td>strike</td>\n",
              "      <td>Large</td>\n",
              "    </tr>\n",
              "    <tr>\n",
              "      <th>11514</th>\n",
              "      <td>2018</td>\n",
              "      <td>46</td>\n",
              "      <td>triduum</td>\n",
              "      <td>32283</td>\n",
              "      <td>peek2018</td>\n",
              "      <td>strike</td>\n",
              "      <td>Large</td>\n",
              "    </tr>\n",
              "    <tr>\n",
              "      <th>11515</th>\n",
              "      <td>2018</td>\n",
              "      <td>47</td>\n",
              "      <td>triduum</td>\n",
              "      <td>55554</td>\n",
              "      <td>peek2018</td>\n",
              "      <td>strike</td>\n",
              "      <td>Large</td>\n",
              "    </tr>\n",
              "    <tr>\n",
              "      <th>11516</th>\n",
              "      <td>2018</td>\n",
              "      <td>48</td>\n",
              "      <td>triduum</td>\n",
              "      <td>95847</td>\n",
              "      <td>peek2018</td>\n",
              "      <td>strike</td>\n",
              "      <td>Large</td>\n",
              "    </tr>\n",
              "  </tbody>\n",
              "</table>\n",
              "<p>150 rows × 7 columns</p>\n",
              "</div>"
            ],
            "text/plain": [
              "       Year  Week_Number Customer  Volume    Event1  Event2 Groups\n",
              "1290   2018           43  benison    7534         0  strike  Large\n",
              "1291   2018           44  benison    7228         0  strike  Large\n",
              "1292   2018           45  benison    6499  peek2018  strike  Large\n",
              "1293   2018           46  benison    7513  peek2018  strike  Large\n",
              "1294   2018           47  benison   10464  peek2018  strike  Large\n",
              "...     ...          ...      ...     ...       ...     ...    ...\n",
              "11512  2018           44  triduum   21747         0  strike  Large\n",
              "11513  2018           45  triduum   19426  peek2018  strike  Large\n",
              "11514  2018           46  triduum   32283  peek2018  strike  Large\n",
              "11515  2018           47  triduum   55554  peek2018  strike  Large\n",
              "11516  2018           48  triduum   95847  peek2018  strike  Large\n",
              "\n",
              "[150 rows x 7 columns]"
            ]
          },
          "metadata": {
            "tags": []
          },
          "execution_count": 78
        }
      ]
    },
    {
      "cell_type": "code",
      "metadata": {
        "id": "dSS3Fv-FBfhg",
        "colab_type": "code",
        "colab": {}
      },
      "source": [
        "df_large_non_strike = df_events_non_strike.loc[(df_events_non_strike[\"Groups\"] == \"Large\")]"
      ],
      "execution_count": 79,
      "outputs": []
    },
    {
      "cell_type": "code",
      "metadata": {
        "id": "lGEh0NmHBfxR",
        "colab_type": "code",
        "colab": {
          "base_uri": "https://localhost:8080/",
          "height": 34
        },
        "outputId": "1c98f771-771b-4ecd-af4e-8dce6d89707f"
      },
      "source": [
        "#test result for large\n",
        "test_result3 = stats.ttest_ind(df_large_non_strike[\"Volume\"], df_large_strike[\"Volume\"])\n",
        "test_result3"
      ],
      "execution_count": 80,
      "outputs": [
        {
          "output_type": "execute_result",
          "data": {
            "text/plain": [
              "Ttest_indResult(statistic=-1.2353737174143746, pvalue=0.21678744761660243)"
            ]
          },
          "metadata": {
            "tags": []
          },
          "execution_count": 80
        }
      ]
    },
    {
      "cell_type": "code",
      "metadata": {
        "id": "8vM9Vbm3HJ0X",
        "colab_type": "code",
        "colab": {
          "base_uri": "https://localhost:8080/",
          "height": 51
        },
        "outputId": "dc59c875-dd91-4e32-c138-1dd0aaf5d631"
      },
      "source": [
        "df_large_non_strike_volume_mean = df_large_non_strike[\"Volume\"].mean()\n",
        "df_large_strike_volume_mean = df_large_strike[\"Volume\"].mean()\n",
        "print(\"df_large_non_strike_volume_mean\", df_large_non_strike_volume_mean)\n",
        "print(\"df_large_strike_volume_mean\", df_large_strike_volume_mean)"
      ],
      "execution_count": 81,
      "outputs": [
        {
          "output_type": "stream",
          "text": [
            "df_large_non_strike_volume_mean 52895.753391304344\n",
            "df_large_strike_volume_mean 67455.73333333334\n"
          ],
          "name": "stdout"
        }
      ]
    },
    {
      "cell_type": "code",
      "metadata": {
        "id": "IdDkr0qSB_MA",
        "colab_type": "code",
        "colab": {
          "base_uri": "https://localhost:8080/",
          "height": 335
        },
        "outputId": "bda128bf-ec5b-4766-94ee-2e40728111d6"
      },
      "source": [
        "# graph for large\n",
        "df_large_non_strike_volume = df_large_non_strike[\"Volume\"]\n",
        "df_large_strike_volume = df_large_strike[\"Volume\"]\n",
        "plt.figure(figsize=(20,5))\n",
        "pyplot.hist(x, alpha=0.5, label='x')\n",
        "pyplot.hist(y, alpha=0.5, label='y')\n",
        "pyplot.legend(loc='upper right')\n",
        "pyplot.show()"
      ],
      "execution_count": 82,
      "outputs": [
        {
          "output_type": "display_data",
          "data": {
            "image/png": "[encoded data removed]",
            "text/plain": [
              "<Figure size 1440x360 with 1 Axes>"
            ]
          },
          "metadata": {
            "tags": []
          }
        }
      ]
    },
    {
      "cell_type": "code",
      "metadata": {
        "id": "F0AFzSHSEp1G",
        "colab_type": "code",
        "colab": {
          "base_uri": "https://localhost:8080/",
          "height": 419
        },
        "outputId": "be14d4a0-547b-4724-c50c-1573283a33e9"
      },
      "source": [
        "df_medium_strike = df_events_strike.loc[(df_events_strike[\"Groups\"] == \"Medium\")]\n",
        "df_large_strike"
      ],
      "execution_count": 83,
      "outputs": [
        {
          "output_type": "execute_result",
          "data": {
            "text/html": [
              "<div>\n",
              "<style scoped>\n",
              "    .dataframe tbody tr th:only-of-type {\n",
              "        vertical-align: middle;\n",
              "    }\n",
              "\n",
              "    .dataframe tbody tr th {\n",
              "        vertical-align: top;\n",
              "    }\n",
              "\n",
              "    .dataframe thead th {\n",
              "        text-align: right;\n",
              "    }\n",
              "</style>\n",
              "<table border=\"1\" class=\"dataframe\">\n",
              "  <thead>\n",
              "    <tr style=\"text-align: right;\">\n",
              "      <th></th>\n",
              "      <th>Year</th>\n",
              "      <th>Week_Number</th>\n",
              "      <th>Customer</th>\n",
              "      <th>Volume</th>\n",
              "      <th>Event1</th>\n",
              "      <th>Event2</th>\n",
              "      <th>Groups</th>\n",
              "    </tr>\n",
              "  </thead>\n",
              "  <tbody>\n",
              "    <tr>\n",
              "      <th>1290</th>\n",
              "      <td>2018</td>\n",
              "      <td>43</td>\n",
              "      <td>benison</td>\n",
              "      <td>7534</td>\n",
              "      <td>0</td>\n",
              "      <td>strike</td>\n",
              "      <td>Large</td>\n",
              "    </tr>\n",
              "    <tr>\n",
              "      <th>1291</th>\n",
              "      <td>2018</td>\n",
              "      <td>44</td>\n",
              "      <td>benison</td>\n",
              "      <td>7228</td>\n",
              "      <td>0</td>\n",
              "      <td>strike</td>\n",
              "      <td>Large</td>\n",
              "    </tr>\n",
              "    <tr>\n",
              "      <th>1292</th>\n",
              "      <td>2018</td>\n",
              "      <td>45</td>\n",
              "      <td>benison</td>\n",
              "      <td>6499</td>\n",
              "      <td>peek2018</td>\n",
              "      <td>strike</td>\n",
              "      <td>Large</td>\n",
              "    </tr>\n",
              "    <tr>\n",
              "      <th>1293</th>\n",
              "      <td>2018</td>\n",
              "      <td>46</td>\n",
              "      <td>benison</td>\n",
              "      <td>7513</td>\n",
              "      <td>peek2018</td>\n",
              "      <td>strike</td>\n",
              "      <td>Large</td>\n",
              "    </tr>\n",
              "    <tr>\n",
              "      <th>1294</th>\n",
              "      <td>2018</td>\n",
              "      <td>47</td>\n",
              "      <td>benison</td>\n",
              "      <td>10464</td>\n",
              "      <td>peek2018</td>\n",
              "      <td>strike</td>\n",
              "      <td>Large</td>\n",
              "    </tr>\n",
              "    <tr>\n",
              "      <th>...</th>\n",
              "      <td>...</td>\n",
              "      <td>...</td>\n",
              "      <td>...</td>\n",
              "      <td>...</td>\n",
              "      <td>...</td>\n",
              "      <td>...</td>\n",
              "      <td>...</td>\n",
              "    </tr>\n",
              "    <tr>\n",
              "      <th>11512</th>\n",
              "      <td>2018</td>\n",
              "      <td>44</td>\n",
              "      <td>triduum</td>\n",
              "      <td>21747</td>\n",
              "      <td>0</td>\n",
              "      <td>strike</td>\n",
              "      <td>Large</td>\n",
              "    </tr>\n",
              "    <tr>\n",
              "      <th>11513</th>\n",
              "      <td>2018</td>\n",
              "      <td>45</td>\n",
              "      <td>triduum</td>\n",
              "      <td>19426</td>\n",
              "      <td>peek2018</td>\n",
              "      <td>strike</td>\n",
              "      <td>Large</td>\n",
              "    </tr>\n",
              "    <tr>\n",
              "      <th>11514</th>\n",
              "      <td>2018</td>\n",
              "      <td>46</td>\n",
              "      <td>triduum</td>\n",
              "      <td>32283</td>\n",
              "      <td>peek2018</td>\n",
              "      <td>strike</td>\n",
              "      <td>Large</td>\n",
              "    </tr>\n",
              "    <tr>\n",
              "      <th>11515</th>\n",
              "      <td>2018</td>\n",
              "      <td>47</td>\n",
              "      <td>triduum</td>\n",
              "      <td>55554</td>\n",
              "      <td>peek2018</td>\n",
              "      <td>strike</td>\n",
              "      <td>Large</td>\n",
              "    </tr>\n",
              "    <tr>\n",
              "      <th>11516</th>\n",
              "      <td>2018</td>\n",
              "      <td>48</td>\n",
              "      <td>triduum</td>\n",
              "      <td>95847</td>\n",
              "      <td>peek2018</td>\n",
              "      <td>strike</td>\n",
              "      <td>Large</td>\n",
              "    </tr>\n",
              "  </tbody>\n",
              "</table>\n",
              "<p>150 rows × 7 columns</p>\n",
              "</div>"
            ],
            "text/plain": [
              "       Year  Week_Number Customer  Volume    Event1  Event2 Groups\n",
              "1290   2018           43  benison    7534         0  strike  Large\n",
              "1291   2018           44  benison    7228         0  strike  Large\n",
              "1292   2018           45  benison    6499  peek2018  strike  Large\n",
              "1293   2018           46  benison    7513  peek2018  strike  Large\n",
              "1294   2018           47  benison   10464  peek2018  strike  Large\n",
              "...     ...          ...      ...     ...       ...     ...    ...\n",
              "11512  2018           44  triduum   21747         0  strike  Large\n",
              "11513  2018           45  triduum   19426  peek2018  strike  Large\n",
              "11514  2018           46  triduum   32283  peek2018  strike  Large\n",
              "11515  2018           47  triduum   55554  peek2018  strike  Large\n",
              "11516  2018           48  triduum   95847  peek2018  strike  Large\n",
              "\n",
              "[150 rows x 7 columns]"
            ]
          },
          "metadata": {
            "tags": []
          },
          "execution_count": 83
        }
      ]
    },
    {
      "cell_type": "code",
      "metadata": {
        "id": "fXjDgrsPFl1j",
        "colab_type": "code",
        "colab": {}
      },
      "source": [
        "df_medium_non_strike = df_events_non_strike.loc[(df_events_non_strike[\"Groups\"] == \"Medium\")]"
      ],
      "execution_count": 84,
      "outputs": []
    },
    {
      "cell_type": "code",
      "metadata": {
        "id": "J5Txhr8YFueu",
        "colab_type": "code",
        "colab": {
          "base_uri": "https://localhost:8080/",
          "height": 34
        },
        "outputId": "083a4dbc-62b7-472c-ccf6-104ad5274d49"
      },
      "source": [
        "#test result for medium\n",
        "test_result4 = stats.ttest_ind(df_medium_non_strike[\"Volume\"], df_medium_strike[\"Volume\"])\n",
        "test_result4"
      ],
      "execution_count": 85,
      "outputs": [
        {
          "output_type": "execute_result",
          "data": {
            "text/plain": [
              "Ttest_indResult(statistic=-2.5179656793122995, pvalue=0.011844128908918481)"
            ]
          },
          "metadata": {
            "tags": []
          },
          "execution_count": 85
        }
      ]
    },
    {
      "cell_type": "code",
      "metadata": {
        "id": "cirnxQOsGusr",
        "colab_type": "code",
        "colab": {
          "base_uri": "https://localhost:8080/",
          "height": 51
        },
        "outputId": "859d9880-3bfc-4931-b825-00876c2dffc5"
      },
      "source": [
        "# means for medium\n",
        "# it can be seen that mean of volume during strike is higher than \n",
        "df_medium_non_strike_volume_mean = df_medium_non_strike[\"Volume\"].mean()\n",
        "df_medium_strike_volume_mean = df_medium_strike[\"Volume\"].mean()\n",
        "print(\"df_medium_non_strike_volume_mean\", df_medium_non_strike_volume_mean)\n",
        "print(\"df_medium_strike_volume_mean\", df_medium_strike_volume_mean)"
      ],
      "execution_count": 86,
      "outputs": [
        {
          "output_type": "stream",
          "text": [
            "df_medium_non_strike_volume_mean 645.2896189950304\n",
            "df_medium_strike_volume_mean 817.4895833333334\n"
          ],
          "name": "stdout"
        }
      ]
    },
    {
      "cell_type": "code",
      "metadata": {
        "id": "8Cs5r_P5F5-3",
        "colab_type": "code",
        "colab": {
          "base_uri": "https://localhost:8080/",
          "height": 335
        },
        "outputId": "8a4ab2e9-e6b4-4d48-f2a1-aeaceac97255"
      },
      "source": [
        "# graph for medium\n",
        "df_medium_non_strike_volume = df_medium_non_strike[\"Volume\"]\n",
        "df_medium_strike_volume = df_medium_strike[\"Volume\"]\n",
        "plt.figure(figsize=(20,5))\n",
        "pyplot.hist(x, alpha=0.5, label='df_medium_non_strike_volume')\n",
        "pyplot.hist(y, alpha=0.5, label='df_medium_strike_volume')\n",
        "pyplot.legend(loc='upper right')\n",
        "pyplot.show()"
      ],
      "execution_count": 87,
      "outputs": [
        {
          "output_type": "display_data",
          "data": {
            "image/png": "[encoded data removed]",
            "text/plain": [
              "<Figure size 1440x360 with 1 Axes>"
            ]
          },
          "metadata": {
            "tags": []
          }
        }
      ]
    },
    {
      "cell_type": "code",
      "metadata": {
        "id": "da2wbEDER7cu",
        "colab_type": "code",
        "colab": {
          "base_uri": "https://localhost:8080/",
          "height": 419
        },
        "outputId": "acd1f8f1-9a59-4a4a-898c-8fdd69f9ab06"
      },
      "source": [
        "df_events"
      ],
      "execution_count": 88,
      "outputs": [
        {
          "output_type": "execute_result",
          "data": {
            "text/html": [
              "<div>\n",
              "<style scoped>\n",
              "    .dataframe tbody tr th:only-of-type {\n",
              "        vertical-align: middle;\n",
              "    }\n",
              "\n",
              "    .dataframe tbody tr th {\n",
              "        vertical-align: top;\n",
              "    }\n",
              "\n",
              "    .dataframe thead th {\n",
              "        text-align: right;\n",
              "    }\n",
              "</style>\n",
              "<table border=\"1\" class=\"dataframe\">\n",
              "  <thead>\n",
              "    <tr style=\"text-align: right;\">\n",
              "      <th></th>\n",
              "      <th>Year</th>\n",
              "      <th>Week_Number</th>\n",
              "      <th>Customer</th>\n",
              "      <th>Volume</th>\n",
              "      <th>Event1</th>\n",
              "      <th>Event2</th>\n",
              "      <th>Groups</th>\n",
              "    </tr>\n",
              "  </thead>\n",
              "  <tbody>\n",
              "    <tr>\n",
              "      <th>0</th>\n",
              "      <td>2017</td>\n",
              "      <td>1</td>\n",
              "      <td>agulhas</td>\n",
              "      <td>83</td>\n",
              "      <td>0</td>\n",
              "      <td>0</td>\n",
              "      <td>Small</td>\n",
              "    </tr>\n",
              "    <tr>\n",
              "      <th>1</th>\n",
              "      <td>2017</td>\n",
              "      <td>2</td>\n",
              "      <td>agulhas</td>\n",
              "      <td>98</td>\n",
              "      <td>0</td>\n",
              "      <td>0</td>\n",
              "      <td>Small</td>\n",
              "    </tr>\n",
              "    <tr>\n",
              "      <th>2</th>\n",
              "      <td>2017</td>\n",
              "      <td>3</td>\n",
              "      <td>agulhas</td>\n",
              "      <td>57</td>\n",
              "      <td>0</td>\n",
              "      <td>0</td>\n",
              "      <td>Small</td>\n",
              "    </tr>\n",
              "    <tr>\n",
              "      <th>3</th>\n",
              "      <td>2017</td>\n",
              "      <td>4</td>\n",
              "      <td>agulhas</td>\n",
              "      <td>127</td>\n",
              "      <td>0</td>\n",
              "      <td>0</td>\n",
              "      <td>Small</td>\n",
              "    </tr>\n",
              "    <tr>\n",
              "      <th>4</th>\n",
              "      <td>2017</td>\n",
              "      <td>5</td>\n",
              "      <td>agulhas</td>\n",
              "      <td>121</td>\n",
              "      <td>0</td>\n",
              "      <td>0</td>\n",
              "      <td>Small</td>\n",
              "    </tr>\n",
              "    <tr>\n",
              "      <th>...</th>\n",
              "      <td>...</td>\n",
              "      <td>...</td>\n",
              "      <td>...</td>\n",
              "      <td>...</td>\n",
              "      <td>...</td>\n",
              "      <td>...</td>\n",
              "      <td>...</td>\n",
              "    </tr>\n",
              "    <tr>\n",
              "      <th>12126</th>\n",
              "      <td>2019</td>\n",
              "      <td>13</td>\n",
              "      <td>woodser</td>\n",
              "      <td>1853</td>\n",
              "      <td>0</td>\n",
              "      <td>0</td>\n",
              "      <td>Medium</td>\n",
              "    </tr>\n",
              "    <tr>\n",
              "      <th>12127</th>\n",
              "      <td>2019</td>\n",
              "      <td>14</td>\n",
              "      <td>woodser</td>\n",
              "      <td>1618</td>\n",
              "      <td>0</td>\n",
              "      <td>0</td>\n",
              "      <td>Medium</td>\n",
              "    </tr>\n",
              "    <tr>\n",
              "      <th>12128</th>\n",
              "      <td>2019</td>\n",
              "      <td>15</td>\n",
              "      <td>woodser</td>\n",
              "      <td>1584</td>\n",
              "      <td>0</td>\n",
              "      <td>0</td>\n",
              "      <td>Medium</td>\n",
              "    </tr>\n",
              "    <tr>\n",
              "      <th>12129</th>\n",
              "      <td>2019</td>\n",
              "      <td>16</td>\n",
              "      <td>woodser</td>\n",
              "      <td>1732</td>\n",
              "      <td>0</td>\n",
              "      <td>0</td>\n",
              "      <td>Medium</td>\n",
              "    </tr>\n",
              "    <tr>\n",
              "      <th>12130</th>\n",
              "      <td>2019</td>\n",
              "      <td>17</td>\n",
              "      <td>woodser</td>\n",
              "      <td>1651</td>\n",
              "      <td>0</td>\n",
              "      <td>0</td>\n",
              "      <td>Medium</td>\n",
              "    </tr>\n",
              "  </tbody>\n",
              "</table>\n",
              "<p>12131 rows × 7 columns</p>\n",
              "</div>"
            ],
            "text/plain": [
              "       Year  Week_Number Customer  Volume Event1 Event2  Groups\n",
              "0      2017            1  agulhas      83      0      0   Small\n",
              "1      2017            2  agulhas      98      0      0   Small\n",
              "2      2017            3  agulhas      57      0      0   Small\n",
              "3      2017            4  agulhas     127      0      0   Small\n",
              "4      2017            5  agulhas     121      0      0   Small\n",
              "...     ...          ...      ...     ...    ...    ...     ...\n",
              "12126  2019           13  woodser    1853      0      0  Medium\n",
              "12127  2019           14  woodser    1618      0      0  Medium\n",
              "12128  2019           15  woodser    1584      0      0  Medium\n",
              "12129  2019           16  woodser    1732      0      0  Medium\n",
              "12130  2019           17  woodser    1651      0      0  Medium\n",
              "\n",
              "[12131 rows x 7 columns]"
            ]
          },
          "metadata": {
            "tags": []
          },
          "execution_count": 88
        }
      ]
    },
    {
      "cell_type": "code",
      "metadata": {
        "id": "wEyIHPfEQpPP",
        "colab_type": "code",
        "colab": {
          "base_uri": "https://localhost:8080/",
          "height": 34
        },
        "outputId": "07cc2d46-3e8c-47d3-cff1-14d0722cf825"
      },
      "source": [
        "list_of_strike_weeks =  df_events_strike[\"Week_Number\"].unique().tolist()\n",
        "list_of_strike_weeks"
      ],
      "execution_count": 89,
      "outputs": [
        {
          "output_type": "execute_result",
          "data": {
            "text/plain": [
              "[43, 44, 45, 46, 47, 48]"
            ]
          },
          "metadata": {
            "tags": []
          },
          "execution_count": 89
        }
      ]
    },
    {
      "cell_type": "code",
      "metadata": {
        "id": "1TL23kJrRIOG",
        "colab_type": "code",
        "colab": {
          "base_uri": "https://localhost:8080/",
          "height": 419
        },
        "outputId": "9ce21935-f9f2-429f-ead2-8bcd2aa8a977"
      },
      "source": [
        "df_prestrike_2017_byweeks = df_events.loc[(df_events[\"Week_Number\"].isin(list_of_strike_weeks)) & (df_events[\"Year\"]==2017) ]\n",
        "df_prestrike_2017_byweeks"
      ],
      "execution_count": 90,
      "outputs": [
        {
          "output_type": "execute_result",
          "data": {
            "text/html": [
              "<div>\n",
              "<style scoped>\n",
              "    .dataframe tbody tr th:only-of-type {\n",
              "        vertical-align: middle;\n",
              "    }\n",
              "\n",
              "    .dataframe tbody tr th {\n",
              "        vertical-align: top;\n",
              "    }\n",
              "\n",
              "    .dataframe thead th {\n",
              "        text-align: right;\n",
              "    }\n",
              "</style>\n",
              "<table border=\"1\" class=\"dataframe\">\n",
              "  <thead>\n",
              "    <tr style=\"text-align: right;\">\n",
              "      <th></th>\n",
              "      <th>Year</th>\n",
              "      <th>Week_Number</th>\n",
              "      <th>Customer</th>\n",
              "      <th>Volume</th>\n",
              "      <th>Event1</th>\n",
              "      <th>Event2</th>\n",
              "      <th>Groups</th>\n",
              "    </tr>\n",
              "  </thead>\n",
              "  <tbody>\n",
              "    <tr>\n",
              "      <th>42</th>\n",
              "      <td>2017</td>\n",
              "      <td>43</td>\n",
              "      <td>agulhas</td>\n",
              "      <td>118</td>\n",
              "      <td>0</td>\n",
              "      <td>0</td>\n",
              "      <td>Small</td>\n",
              "    </tr>\n",
              "    <tr>\n",
              "      <th>43</th>\n",
              "      <td>2017</td>\n",
              "      <td>44</td>\n",
              "      <td>agulhas</td>\n",
              "      <td>109</td>\n",
              "      <td>0</td>\n",
              "      <td>0</td>\n",
              "      <td>Small</td>\n",
              "    </tr>\n",
              "    <tr>\n",
              "      <th>44</th>\n",
              "      <td>2017</td>\n",
              "      <td>45</td>\n",
              "      <td>agulhas</td>\n",
              "      <td>116</td>\n",
              "      <td>0</td>\n",
              "      <td>0</td>\n",
              "      <td>Small</td>\n",
              "    </tr>\n",
              "    <tr>\n",
              "      <th>45</th>\n",
              "      <td>2017</td>\n",
              "      <td>46</td>\n",
              "      <td>agulhas</td>\n",
              "      <td>182</td>\n",
              "      <td>0</td>\n",
              "      <td>0</td>\n",
              "      <td>Small</td>\n",
              "    </tr>\n",
              "    <tr>\n",
              "      <th>46</th>\n",
              "      <td>2017</td>\n",
              "      <td>47</td>\n",
              "      <td>agulhas</td>\n",
              "      <td>140</td>\n",
              "      <td>peek2017</td>\n",
              "      <td>0</td>\n",
              "      <td>Small</td>\n",
              "    </tr>\n",
              "    <tr>\n",
              "      <th>...</th>\n",
              "      <td>...</td>\n",
              "      <td>...</td>\n",
              "      <td>...</td>\n",
              "      <td>...</td>\n",
              "      <td>...</td>\n",
              "      <td>...</td>\n",
              "      <td>...</td>\n",
              "    </tr>\n",
              "    <tr>\n",
              "      <th>12053</th>\n",
              "      <td>2017</td>\n",
              "      <td>44</td>\n",
              "      <td>woodser</td>\n",
              "      <td>1872</td>\n",
              "      <td>0</td>\n",
              "      <td>0</td>\n",
              "      <td>Medium</td>\n",
              "    </tr>\n",
              "    <tr>\n",
              "      <th>12054</th>\n",
              "      <td>2017</td>\n",
              "      <td>45</td>\n",
              "      <td>woodser</td>\n",
              "      <td>2212</td>\n",
              "      <td>0</td>\n",
              "      <td>0</td>\n",
              "      <td>Medium</td>\n",
              "    </tr>\n",
              "    <tr>\n",
              "      <th>12055</th>\n",
              "      <td>2017</td>\n",
              "      <td>46</td>\n",
              "      <td>woodser</td>\n",
              "      <td>2424</td>\n",
              "      <td>0</td>\n",
              "      <td>0</td>\n",
              "      <td>Medium</td>\n",
              "    </tr>\n",
              "    <tr>\n",
              "      <th>12056</th>\n",
              "      <td>2017</td>\n",
              "      <td>47</td>\n",
              "      <td>woodser</td>\n",
              "      <td>3357</td>\n",
              "      <td>peek2017</td>\n",
              "      <td>0</td>\n",
              "      <td>Medium</td>\n",
              "    </tr>\n",
              "    <tr>\n",
              "      <th>12057</th>\n",
              "      <td>2017</td>\n",
              "      <td>48</td>\n",
              "      <td>woodser</td>\n",
              "      <td>4162</td>\n",
              "      <td>peek2017</td>\n",
              "      <td>0</td>\n",
              "      <td>Medium</td>\n",
              "    </tr>\n",
              "  </tbody>\n",
              "</table>\n",
              "<p>612 rows × 7 columns</p>\n",
              "</div>"
            ],
            "text/plain": [
              "       Year  Week_Number Customer  Volume    Event1 Event2  Groups\n",
              "42     2017           43  agulhas     118         0      0   Small\n",
              "43     2017           44  agulhas     109         0      0   Small\n",
              "44     2017           45  agulhas     116         0      0   Small\n",
              "45     2017           46  agulhas     182         0      0   Small\n",
              "46     2017           47  agulhas     140  peek2017      0   Small\n",
              "...     ...          ...      ...     ...       ...    ...     ...\n",
              "12053  2017           44  woodser    1872         0      0  Medium\n",
              "12054  2017           45  woodser    2212         0      0  Medium\n",
              "12055  2017           46  woodser    2424         0      0  Medium\n",
              "12056  2017           47  woodser    3357  peek2017      0  Medium\n",
              "12057  2017           48  woodser    4162  peek2017      0  Medium\n",
              "\n",
              "[612 rows x 7 columns]"
            ]
          },
          "metadata": {
            "tags": []
          },
          "execution_count": 90
        }
      ]
    },
    {
      "cell_type": "code",
      "metadata": {
        "id": "-fzhB7m8S7gN",
        "colab_type": "code",
        "colab": {
          "base_uri": "https://localhost:8080/",
          "height": 51
        },
        "outputId": "a3635798-1ec1-4175-8831-139df4bf440d"
      },
      "source": [
        "df_events_strike_volume_mean = df_events_strike[\"Volume\"].mean()\n",
        "df_prestrike_2017_byweeks_volume_mean = df_prestrike_2017_byweeks[\"Volume\"].mean()\n",
        "print(\"df_events_strike_volume_mean = \", df_events_strike_volume_mean)\n",
        "print(\"df_prestrike_2017_byweeks_volume_mean = \", df_prestrike_2017_byweeks_volume_mean)"
      ],
      "execution_count": 91,
      "outputs": [
        {
          "output_type": "stream",
          "text": [
            "df_events_strike_volume_mean =  16814.269607843136\n",
            "df_prestrike_2017_byweeks_volume_mean =  17057.43137254902\n"
          ],
          "name": "stdout"
        }
      ]
    },
    {
      "cell_type": "code",
      "metadata": {
        "id": "1E2_gCaRT0PO",
        "colab_type": "code",
        "colab": {
          "base_uri": "https://localhost:8080/",
          "height": 34
        },
        "outputId": "15fabe7e-9db6-47d2-d494-a21e28d7b6b0"
      },
      "source": [
        "#test result for Strike prestrike(2017)\n",
        "test_result5 = stats.ttest_ind(df_events_strike[\"Volume\"], df_prestrike_2017_byweeks[\"Volume\"])\n",
        "test_result5\n",
        "# Overall, strike reduced the number of parcels, but very insignificantly"
      ],
      "execution_count": 92,
      "outputs": [
        {
          "output_type": "execute_result",
          "data": {
            "text/plain": [
              "Ttest_indResult(statistic=-0.047381742569375364, pvalue=0.962216722147955)"
            ]
          },
          "metadata": {
            "tags": []
          },
          "execution_count": 92
        }
      ]
    },
    {
      "cell_type": "code",
      "metadata": {
        "id": "qbyR5sl-Ot9J",
        "colab_type": "code",
        "colab": {
          "base_uri": "https://localhost:8080/",
          "height": 335
        },
        "outputId": "ada96a74-dbf6-4564-a9f0-2fd1b337e68b"
      },
      "source": [
        "# graph overall\n",
        "df_prestrike_2017_byweeks_volume = df_prestrike_2017_byweeks[\"Volume\"]\n",
        "df_events_strike_volume = df_events_strike[\"Volume\"]\n",
        "plt.figure(figsize=(20,5))\n",
        "pyplot.hist(df_prestrike_2017_byweeks_volume, alpha=0.5, label='df_prestrike_2017_byweeks_volume')\n",
        "pyplot.hist(df_events_strike_volume, alpha=0.5, label='df_events_strike_volume')\n",
        "pyplot.legend(loc='upper right')\n",
        "pyplot.show()"
      ],
      "execution_count": 93,
      "outputs": [
        {
          "output_type": "display_data",
          "data": {
            "image/png": "[encoded data removed]",
            "text/plain": [
              "<Figure size 1440x360 with 1 Axes>"
            ]
          },
          "metadata": {
            "tags": []
          }
        }
      ]
    },
    {
      "cell_type": "code",
      "metadata": {
        "id": "bgIwc61bWjoA",
        "colab_type": "code",
        "colab": {}
      },
      "source": [
        "# subset all 3 groups by size\n",
        "df_small_prestrike_2017_byweeks = df_prestrike_2017_byweeks.loc[(df_prestrike_2017_byweeks[\"Groups\"] == \"Small\" )]\n",
        "df_medium_prestrike_2017_byweeks = df_prestrike_2017_byweeks.loc[(df_prestrike_2017_byweeks[\"Groups\"] == \"Medium\" )]\n",
        "df_large_prestrike_2017_byweeks = df_prestrike_2017_byweeks.loc[(df_prestrike_2017_byweeks[\"Groups\"] == \"Large\" )]"
      ],
      "execution_count": 94,
      "outputs": []
    },
    {
      "cell_type": "code",
      "metadata": {
        "id": "earYlADBetKi",
        "colab_type": "code",
        "colab": {
          "base_uri": "https://localhost:8080/",
          "height": 51
        },
        "outputId": "220a4461-15b3-4b34-e276-8cf1bda18597"
      },
      "source": [
        "df_small_strike_mean = df_small_strike[\"Volume\"].mean()\n",
        "df_small_prestrike_2017_byweeks_mean = df_small_prestrike_2017_byweeks[\"Volume\"].mean()\n",
        "print(\"df_small_strike_mean = \", df_small_strike_mean)\n",
        "print(\"df_small_prestrike_2017_byweeks_mean = \", df_small_prestrike_2017_byweeks_mean)"
      ],
      "execution_count": 95,
      "outputs": [
        {
          "output_type": "stream",
          "text": [
            "df_small_strike_mean =  55.611111111111114\n",
            "df_small_prestrike_2017_byweeks_mean =  75.46666666666667\n"
          ],
          "name": "stdout"
        }
      ]
    },
    {
      "cell_type": "code",
      "metadata": {
        "id": "yI7yvmgFnUBc",
        "colab_type": "code",
        "colab": {
          "base_uri": "https://localhost:8080/",
          "height": 419
        },
        "outputId": "b5d5289f-3e96-4686-d42f-d4b0de6c2d21"
      },
      "source": [
        "df_small_prestrike_2017_byweeks"
      ],
      "execution_count": 96,
      "outputs": [
        {
          "output_type": "execute_result",
          "data": {
            "text/html": [
              "<div>\n",
              "<style scoped>\n",
              "    .dataframe tbody tr th:only-of-type {\n",
              "        vertical-align: middle;\n",
              "    }\n",
              "\n",
              "    .dataframe tbody tr th {\n",
              "        vertical-align: top;\n",
              "    }\n",
              "\n",
              "    .dataframe thead th {\n",
              "        text-align: right;\n",
              "    }\n",
              "</style>\n",
              "<table border=\"1\" class=\"dataframe\">\n",
              "  <thead>\n",
              "    <tr style=\"text-align: right;\">\n",
              "      <th></th>\n",
              "      <th>Year</th>\n",
              "      <th>Week_Number</th>\n",
              "      <th>Customer</th>\n",
              "      <th>Volume</th>\n",
              "      <th>Event1</th>\n",
              "      <th>Event2</th>\n",
              "      <th>Groups</th>\n",
              "    </tr>\n",
              "  </thead>\n",
              "  <tbody>\n",
              "    <tr>\n",
              "      <th>42</th>\n",
              "      <td>2017</td>\n",
              "      <td>43</td>\n",
              "      <td>agulhas</td>\n",
              "      <td>118</td>\n",
              "      <td>0</td>\n",
              "      <td>0</td>\n",
              "      <td>Small</td>\n",
              "    </tr>\n",
              "    <tr>\n",
              "      <th>43</th>\n",
              "      <td>2017</td>\n",
              "      <td>44</td>\n",
              "      <td>agulhas</td>\n",
              "      <td>109</td>\n",
              "      <td>0</td>\n",
              "      <td>0</td>\n",
              "      <td>Small</td>\n",
              "    </tr>\n",
              "    <tr>\n",
              "      <th>44</th>\n",
              "      <td>2017</td>\n",
              "      <td>45</td>\n",
              "      <td>agulhas</td>\n",
              "      <td>116</td>\n",
              "      <td>0</td>\n",
              "      <td>0</td>\n",
              "      <td>Small</td>\n",
              "    </tr>\n",
              "    <tr>\n",
              "      <th>45</th>\n",
              "      <td>2017</td>\n",
              "      <td>46</td>\n",
              "      <td>agulhas</td>\n",
              "      <td>182</td>\n",
              "      <td>0</td>\n",
              "      <td>0</td>\n",
              "      <td>Small</td>\n",
              "    </tr>\n",
              "    <tr>\n",
              "      <th>46</th>\n",
              "      <td>2017</td>\n",
              "      <td>47</td>\n",
              "      <td>agulhas</td>\n",
              "      <td>140</td>\n",
              "      <td>peek2017</td>\n",
              "      <td>0</td>\n",
              "      <td>Small</td>\n",
              "    </tr>\n",
              "    <tr>\n",
              "      <th>...</th>\n",
              "      <td>...</td>\n",
              "      <td>...</td>\n",
              "      <td>...</td>\n",
              "      <td>...</td>\n",
              "      <td>...</td>\n",
              "      <td>...</td>\n",
              "      <td>...</td>\n",
              "    </tr>\n",
              "    <tr>\n",
              "      <th>11814</th>\n",
              "      <td>2017</td>\n",
              "      <td>44</td>\n",
              "      <td>twinned</td>\n",
              "      <td>75</td>\n",
              "      <td>0</td>\n",
              "      <td>0</td>\n",
              "      <td>Small</td>\n",
              "    </tr>\n",
              "    <tr>\n",
              "      <th>11815</th>\n",
              "      <td>2017</td>\n",
              "      <td>45</td>\n",
              "      <td>twinned</td>\n",
              "      <td>145</td>\n",
              "      <td>0</td>\n",
              "      <td>0</td>\n",
              "      <td>Small</td>\n",
              "    </tr>\n",
              "    <tr>\n",
              "      <th>11816</th>\n",
              "      <td>2017</td>\n",
              "      <td>46</td>\n",
              "      <td>twinned</td>\n",
              "      <td>118</td>\n",
              "      <td>0</td>\n",
              "      <td>0</td>\n",
              "      <td>Small</td>\n",
              "    </tr>\n",
              "    <tr>\n",
              "      <th>11817</th>\n",
              "      <td>2017</td>\n",
              "      <td>47</td>\n",
              "      <td>twinned</td>\n",
              "      <td>108</td>\n",
              "      <td>peek2017</td>\n",
              "      <td>0</td>\n",
              "      <td>Small</td>\n",
              "    </tr>\n",
              "    <tr>\n",
              "      <th>11818</th>\n",
              "      <td>2017</td>\n",
              "      <td>48</td>\n",
              "      <td>twinned</td>\n",
              "      <td>135</td>\n",
              "      <td>peek2017</td>\n",
              "      <td>0</td>\n",
              "      <td>Small</td>\n",
              "    </tr>\n",
              "  </tbody>\n",
              "</table>\n",
              "<p>270 rows × 7 columns</p>\n",
              "</div>"
            ],
            "text/plain": [
              "       Year  Week_Number Customer  Volume    Event1 Event2 Groups\n",
              "42     2017           43  agulhas     118         0      0  Small\n",
              "43     2017           44  agulhas     109         0      0  Small\n",
              "44     2017           45  agulhas     116         0      0  Small\n",
              "45     2017           46  agulhas     182         0      0  Small\n",
              "46     2017           47  agulhas     140  peek2017      0  Small\n",
              "...     ...          ...      ...     ...       ...    ...    ...\n",
              "11814  2017           44  twinned      75         0      0  Small\n",
              "11815  2017           45  twinned     145         0      0  Small\n",
              "11816  2017           46  twinned     118         0      0  Small\n",
              "11817  2017           47  twinned     108  peek2017      0  Small\n",
              "11818  2017           48  twinned     135  peek2017      0  Small\n",
              "\n",
              "[270 rows x 7 columns]"
            ]
          },
          "metadata": {
            "tags": []
          },
          "execution_count": 96
        }
      ]
    },
    {
      "cell_type": "code",
      "metadata": {
        "id": "SWi_89o4XbkT",
        "colab_type": "code",
        "colab": {
          "base_uri": "https://localhost:8080/",
          "height": 34
        },
        "outputId": "d53bf87d-7d13-4b7d-a588-e05205c40d4f"
      },
      "source": [
        "#test result for Strike prestrike SMALL (2017)\n",
        "test_result6 = stats.ttest_ind(df_small_strike[\"Volume\"], df_small_prestrike_2017_byweeks[\"Volume\"])\n",
        "test_result6\n",
        "# The small customers significantly reduced their number of parcels"
      ],
      "execution_count": 97,
      "outputs": [
        {
          "output_type": "execute_result",
          "data": {
            "text/plain": [
              "Ttest_indResult(statistic=-2.936986420084576, pvalue=0.0034561139727879646)"
            ]
          },
          "metadata": {
            "tags": []
          },
          "execution_count": 97
        }
      ]
    },
    {
      "cell_type": "code",
      "metadata": {
        "id": "-N6B_f5GfRLP",
        "colab_type": "code",
        "colab": {
          "base_uri": "https://localhost:8080/",
          "height": 51
        },
        "outputId": "e0616822-b145-4d8f-d7dd-6cfff9d068b8"
      },
      "source": [
        "df_medium_strike_mean = df_medium_strike[\"Volume\"].mean()\n",
        "df_medium_prestrike_2017_byweeks_mean = df_medium_prestrike_2017_byweeks[\"Volume\"].mean()\n",
        "print(\"df_medium_strike_mean = \", df_medium_strike_mean)\n",
        "print(\"df_medium_prestrike_2017_byweeks_mean = \", df_medium_prestrike_2017_byweeks_mean)"
      ],
      "execution_count": 98,
      "outputs": [
        {
          "output_type": "stream",
          "text": [
            "df_medium_strike_mean =  817.4895833333334\n",
            "df_medium_prestrike_2017_byweeks_mean =  843.5625\n"
          ],
          "name": "stdout"
        }
      ]
    },
    {
      "cell_type": "code",
      "metadata": {
        "id": "5G7fGs3GpRuA",
        "colab_type": "code",
        "colab": {}
      },
      "source": [
        ""
      ],
      "execution_count": 98,
      "outputs": []
    },
    {
      "cell_type": "code",
      "metadata": {
        "id": "9GgsATPlXr-r",
        "colab_type": "code",
        "colab": {
          "base_uri": "https://localhost:8080/",
          "height": 34
        },
        "outputId": "51b08e59-3a5a-451f-8562-2bceec547fe9"
      },
      "source": [
        "#test result for Strike prestrike MEDIUM (2017)\n",
        "test_result7 = stats.ttest_ind(df_medium_strike[\"Volume\"], df_medium_prestrike_2017_byweeks[\"Volume\"])\n",
        "test_result7\n",
        "# Just like overall, the medium customers reduced their number of parcels,\n",
        "# but very insignificantly. "
      ],
      "execution_count": 99,
      "outputs": [
        {
          "output_type": "execute_result",
          "data": {
            "text/plain": [
              "Ttest_indResult(statistic=-0.19260777621179626, pvalue=0.8473685092108073)"
            ]
          },
          "metadata": {
            "tags": []
          },
          "execution_count": 99
        }
      ]
    },
    {
      "cell_type": "code",
      "metadata": {
        "id": "V6F-NuqXfkjA",
        "colab_type": "code",
        "colab": {
          "base_uri": "https://localhost:8080/",
          "height": 51
        },
        "outputId": "6ad6d6a8-4b97-47ab-b20f-72b69605fca2"
      },
      "source": [
        "df_large_strike_mean = df_large_strike[\"Volume\"].mean()\n",
        "df_large_prestrike_2017_byweeks_mean = df_large_prestrike_2017_byweeks[\"Volume\"].mean()\n",
        "print(\"df_large_strike_mean = \", df_large_strike_mean)\n",
        "print(\"df_large_prestrike_2017_byweeks_mean = \", df_large_prestrike_2017_byweeks_mean)"
      ],
      "execution_count": 100,
      "outputs": [
        {
          "output_type": "stream",
          "text": [
            "df_large_strike_mean =  67455.73333333334\n",
            "df_large_prestrike_2017_byweeks_mean =  68378.72\n"
          ],
          "name": "stdout"
        }
      ]
    },
    {
      "cell_type": "code",
      "metadata": {
        "id": "9Ih6ycgXX4m2",
        "colab_type": "code",
        "colab": {
          "base_uri": "https://localhost:8080/",
          "height": 34
        },
        "outputId": "6606832d-2adf-4c28-ec49-2dd46f1429e0"
      },
      "source": [
        "#test result for Strike prestrike LARGE (2017)\n",
        "test_result8 = stats.ttest_ind(df_large_strike[\"Volume\"], df_large_prestrike_2017_byweeks[\"Volume\"])\n",
        "test_result8\n",
        "# Just like overall and medium, the large customers reduced their number of parcels,\n",
        "# but very insignificantly. "
      ],
      "execution_count": 101,
      "outputs": [
        {
          "output_type": "execute_result",
          "data": {
            "text/plain": [
              "Ttest_indResult(statistic=-0.04647656126037419, pvalue=0.96296154554833)"
            ]
          },
          "metadata": {
            "tags": []
          },
          "execution_count": 101
        }
      ]
    },
    {
      "cell_type": "code",
      "metadata": {
        "id": "5_PoGcrcYCh3",
        "colab_type": "code",
        "colab": {
          "base_uri": "https://localhost:8080/",
          "height": 945
        },
        "outputId": "b8ad8dbd-e6aa-4a40-f78b-64bbfaab3450"
      },
      "source": [
        "# graph for small\n",
        "df_small_prestrike_2017_byweeks_volume = df_small_prestrike_2017_byweeks[\"Volume\"]\n",
        "df_small_strike_volume = df_small_strike[\"Volume\"]\n",
        "plt.figure(figsize=(20,5))\n",
        "pyplot.hist(df_small_prestrike_2017_byweeks_volume, alpha=0.5, label='df_small_prestrike_2017_byweeks_volume')\n",
        "pyplot.hist(df_small_strike_volume, alpha=0.5, label='df_small_strike_volume')\n",
        "pyplot.legend(loc='upper right')\n",
        "# graph for medium\n",
        "df_medium_prestrike_2017_byweeks_volume = df_medium_prestrike_2017_byweeks[\"Volume\"]\n",
        "df_medium_strike_volume = df_medium_strike[\"Volume\"]\n",
        "plt.figure(figsize=(20,5))\n",
        "pyplot.hist(df_medium_prestrike_2017_byweeks_volume, alpha=0.5, label='df_medium_prestrike_2017_byweeks_volume')\n",
        "pyplot.hist(df_medium_strike_volume, alpha=0.5, label='df_medium_strike_volume')\n",
        "pyplot.legend(loc='upper right')\n",
        "# graph for large\n",
        "df_large_prestrike_2017_byweeks_volume = df_large_prestrike_2017_byweeks[\"Volume\"]\n",
        "df_large_strike_volume = df_large_strike[\"Volume\"]\n",
        "plt.figure(figsize=(20,5))\n",
        "pyplot.hist(df_large_prestrike_2017_byweeks_volume, alpha=0.5, label='df_large_prestrike_2017_byweeks_volume')\n",
        "pyplot.hist(df_large_strike_volume, alpha=0.5, label='df_medium_strike_volume')\n",
        "pyplot.legend(loc='upper right')\n",
        "\n",
        "pyplot.show()"
      ],
      "execution_count": 102,
      "outputs": [
        {
          "output_type": "display_data",
          "data": {
            "image/png": "[encoded data removed]",
            "text/plain": [
              "<Figure size 1440x360 with 1 Axes>"
            ]
          },
          "metadata": {
            "tags": []
          }
        },
        {
          "output_type": "display_data",
          "data": {
            "image/png": "[encoded data removed]",
            "text/plain": [
              "<Figure size 1440x360 with 1 Axes>"
            ]
          },
          "metadata": {
            "tags": []
          }
        },
        {
          "output_type": "display_data",
          "data": {
            "image/png": "[encoded data removed]",
            "text/plain": [
              "<Figure size 1440x360 with 1 Axes>"
            ]
          },
          "metadata": {
            "tags": []
          }
        }
      ]
    },
    {
      "cell_type": "code",
      "metadata": {
        "id": "kmoQwrjaTmq0",
        "colab_type": "code",
        "colab": {
          "base_uri": "https://localhost:8080/",
          "height": 51
        },
        "outputId": "1e5d16f3-d3a0-45c3-e27d-ca2213358f14"
      },
      "source": [
        "\n",
        "list_of_weeks_2017 = [i for i in range(49,53)]\n",
        "list_of_weeks_2018 = [i for i in range(1,18)]\n",
        "print(list_of_weeks_2017)\n",
        "print(list_of_weeks_2018)"
      ],
      "execution_count": 103,
      "outputs": [
        {
          "output_type": "stream",
          "text": [
            "[49, 50, 51, 52]\n",
            "[1, 2, 3, 4, 5, 6, 7, 8, 9, 10, 11, 12, 13, 14, 15, 16, 17]\n"
          ],
          "name": "stdout"
        }
      ]
    },
    {
      "cell_type": "code",
      "metadata": {
        "id": "LDwgh_SQZafE",
        "colab_type": "code",
        "colab": {
          "base_uri": "https://localhost:8080/",
          "height": 419
        },
        "outputId": "4288c6aa-a916-48d0-c2cd-c4aa80ddf9f0"
      },
      "source": [
        "list_of_weeks_2017 = [i for i in range(49,52)]\n",
        "list_of_weeks_2018 = [i for i in range(1,17)]\n",
        "df_before_strike = df_events[((df_events['Week_Number'].isin(list_of_weeks_2017)) & (df_events['Year']==2017)) | \n",
        "               ((df_events['Week_Number'].isin(list_of_weeks_2018)) & (df_events['Year']==2018))]\n",
        "df_before_strike"
      ],
      "execution_count": 104,
      "outputs": [
        {
          "output_type": "execute_result",
          "data": {
            "text/html": [
              "<div>\n",
              "<style scoped>\n",
              "    .dataframe tbody tr th:only-of-type {\n",
              "        vertical-align: middle;\n",
              "    }\n",
              "\n",
              "    .dataframe tbody tr th {\n",
              "        vertical-align: top;\n",
              "    }\n",
              "\n",
              "    .dataframe thead th {\n",
              "        text-align: right;\n",
              "    }\n",
              "</style>\n",
              "<table border=\"1\" class=\"dataframe\">\n",
              "  <thead>\n",
              "    <tr style=\"text-align: right;\">\n",
              "      <th></th>\n",
              "      <th>Year</th>\n",
              "      <th>Week_Number</th>\n",
              "      <th>Customer</th>\n",
              "      <th>Volume</th>\n",
              "      <th>Event1</th>\n",
              "      <th>Event2</th>\n",
              "      <th>Groups</th>\n",
              "    </tr>\n",
              "  </thead>\n",
              "  <tbody>\n",
              "    <tr>\n",
              "      <th>48</th>\n",
              "      <td>2017</td>\n",
              "      <td>49</td>\n",
              "      <td>agulhas</td>\n",
              "      <td>74</td>\n",
              "      <td>0</td>\n",
              "      <td>0</td>\n",
              "      <td>Small</td>\n",
              "    </tr>\n",
              "    <tr>\n",
              "      <th>49</th>\n",
              "      <td>2017</td>\n",
              "      <td>50</td>\n",
              "      <td>agulhas</td>\n",
              "      <td>106</td>\n",
              "      <td>0</td>\n",
              "      <td>0</td>\n",
              "      <td>Small</td>\n",
              "    </tr>\n",
              "    <tr>\n",
              "      <th>50</th>\n",
              "      <td>2017</td>\n",
              "      <td>51</td>\n",
              "      <td>agulhas</td>\n",
              "      <td>51</td>\n",
              "      <td>0</td>\n",
              "      <td>0</td>\n",
              "      <td>Small</td>\n",
              "    </tr>\n",
              "    <tr>\n",
              "      <th>52</th>\n",
              "      <td>2018</td>\n",
              "      <td>1</td>\n",
              "      <td>agulhas</td>\n",
              "      <td>87</td>\n",
              "      <td>0</td>\n",
              "      <td>0</td>\n",
              "      <td>Small</td>\n",
              "    </tr>\n",
              "    <tr>\n",
              "      <th>53</th>\n",
              "      <td>2018</td>\n",
              "      <td>10</td>\n",
              "      <td>agulhas</td>\n",
              "      <td>106</td>\n",
              "      <td>0</td>\n",
              "      <td>0</td>\n",
              "      <td>Small</td>\n",
              "    </tr>\n",
              "    <tr>\n",
              "      <th>...</th>\n",
              "      <td>...</td>\n",
              "      <td>...</td>\n",
              "      <td>...</td>\n",
              "      <td>...</td>\n",
              "      <td>...</td>\n",
              "      <td>...</td>\n",
              "      <td>...</td>\n",
              "    </tr>\n",
              "    <tr>\n",
              "      <th>12106</th>\n",
              "      <td>2018</td>\n",
              "      <td>5</td>\n",
              "      <td>woodser</td>\n",
              "      <td>2474</td>\n",
              "      <td>0</td>\n",
              "      <td>0</td>\n",
              "      <td>Medium</td>\n",
              "    </tr>\n",
              "    <tr>\n",
              "      <th>12110</th>\n",
              "      <td>2018</td>\n",
              "      <td>6</td>\n",
              "      <td>woodser</td>\n",
              "      <td>2595</td>\n",
              "      <td>0</td>\n",
              "      <td>0</td>\n",
              "      <td>Medium</td>\n",
              "    </tr>\n",
              "    <tr>\n",
              "      <th>12111</th>\n",
              "      <td>2018</td>\n",
              "      <td>7</td>\n",
              "      <td>woodser</td>\n",
              "      <td>2034</td>\n",
              "      <td>0</td>\n",
              "      <td>0</td>\n",
              "      <td>Medium</td>\n",
              "    </tr>\n",
              "    <tr>\n",
              "      <th>12112</th>\n",
              "      <td>2018</td>\n",
              "      <td>8</td>\n",
              "      <td>woodser</td>\n",
              "      <td>1858</td>\n",
              "      <td>0</td>\n",
              "      <td>0</td>\n",
              "      <td>Medium</td>\n",
              "    </tr>\n",
              "    <tr>\n",
              "      <th>12113</th>\n",
              "      <td>2018</td>\n",
              "      <td>9</td>\n",
              "      <td>woodser</td>\n",
              "      <td>1949</td>\n",
              "      <td>0</td>\n",
              "      <td>0</td>\n",
              "      <td>Medium</td>\n",
              "    </tr>\n",
              "  </tbody>\n",
              "</table>\n",
              "<p>1938 rows × 7 columns</p>\n",
              "</div>"
            ],
            "text/plain": [
              "       Year  Week_Number Customer  Volume Event1 Event2  Groups\n",
              "48     2017           49  agulhas      74      0      0   Small\n",
              "49     2017           50  agulhas     106      0      0   Small\n",
              "50     2017           51  agulhas      51      0      0   Small\n",
              "52     2018            1  agulhas      87      0      0   Small\n",
              "53     2018           10  agulhas     106      0      0   Small\n",
              "...     ...          ...      ...     ...    ...    ...     ...\n",
              "12106  2018            5  woodser    2474      0      0  Medium\n",
              "12110  2018            6  woodser    2595      0      0  Medium\n",
              "12111  2018            7  woodser    2034      0      0  Medium\n",
              "12112  2018            8  woodser    1858      0      0  Medium\n",
              "12113  2018            9  woodser    1949      0      0  Medium\n",
              "\n",
              "[1938 rows x 7 columns]"
            ]
          },
          "metadata": {
            "tags": []
          },
          "execution_count": 104
        }
      ]
    },
    {
      "cell_type": "code",
      "metadata": {
        "id": "JX4c6RVwaWc-",
        "colab_type": "code",
        "colab": {
          "base_uri": "https://localhost:8080/",
          "height": 419
        },
        "outputId": "3d78aeb2-96a6-40d2-8dbf-2fac02c416f0"
      },
      "source": [
        "df_after_strike = df_events[((df_events['Week_Number'].isin(list_of_weeks_2017)) & (df_events['Year']==2018)) | \n",
        "               ((df_events['Week_Number'].isin(list_of_weeks_2018)) & (df_events['Year']==2019))]\n",
        "df_after_strike"
      ],
      "execution_count": 105,
      "outputs": [
        {
          "output_type": "execute_result",
          "data": {
            "text/html": [
              "<div>\n",
              "<style scoped>\n",
              "    .dataframe tbody tr th:only-of-type {\n",
              "        vertical-align: middle;\n",
              "    }\n",
              "\n",
              "    .dataframe tbody tr th {\n",
              "        vertical-align: top;\n",
              "    }\n",
              "\n",
              "    .dataframe thead th {\n",
              "        text-align: right;\n",
              "    }\n",
              "</style>\n",
              "<table border=\"1\" class=\"dataframe\">\n",
              "  <thead>\n",
              "    <tr style=\"text-align: right;\">\n",
              "      <th></th>\n",
              "      <th>Year</th>\n",
              "      <th>Week_Number</th>\n",
              "      <th>Customer</th>\n",
              "      <th>Volume</th>\n",
              "      <th>Event1</th>\n",
              "      <th>Event2</th>\n",
              "      <th>Groups</th>\n",
              "    </tr>\n",
              "  </thead>\n",
              "  <tbody>\n",
              "    <tr>\n",
              "      <th>95</th>\n",
              "      <td>2018</td>\n",
              "      <td>49</td>\n",
              "      <td>agulhas</td>\n",
              "      <td>41</td>\n",
              "      <td>peek2018</td>\n",
              "      <td>0</td>\n",
              "      <td>Small</td>\n",
              "    </tr>\n",
              "    <tr>\n",
              "      <th>97</th>\n",
              "      <td>2018</td>\n",
              "      <td>50</td>\n",
              "      <td>agulhas</td>\n",
              "      <td>113</td>\n",
              "      <td>peek2018</td>\n",
              "      <td>0</td>\n",
              "      <td>Small</td>\n",
              "    </tr>\n",
              "    <tr>\n",
              "      <th>98</th>\n",
              "      <td>2018</td>\n",
              "      <td>51</td>\n",
              "      <td>agulhas</td>\n",
              "      <td>42</td>\n",
              "      <td>peek2018</td>\n",
              "      <td>0</td>\n",
              "      <td>Small</td>\n",
              "    </tr>\n",
              "    <tr>\n",
              "      <th>104</th>\n",
              "      <td>2019</td>\n",
              "      <td>1</td>\n",
              "      <td>agulhas</td>\n",
              "      <td>71</td>\n",
              "      <td>peek2018</td>\n",
              "      <td>0</td>\n",
              "      <td>Small</td>\n",
              "    </tr>\n",
              "    <tr>\n",
              "      <th>105</th>\n",
              "      <td>2019</td>\n",
              "      <td>2</td>\n",
              "      <td>agulhas</td>\n",
              "      <td>123</td>\n",
              "      <td>peek2018</td>\n",
              "      <td>0</td>\n",
              "      <td>Small</td>\n",
              "    </tr>\n",
              "    <tr>\n",
              "      <th>...</th>\n",
              "      <td>...</td>\n",
              "      <td>...</td>\n",
              "      <td>...</td>\n",
              "      <td>...</td>\n",
              "      <td>...</td>\n",
              "      <td>...</td>\n",
              "      <td>...</td>\n",
              "    </tr>\n",
              "    <tr>\n",
              "      <th>12125</th>\n",
              "      <td>2019</td>\n",
              "      <td>12</td>\n",
              "      <td>woodser</td>\n",
              "      <td>1821</td>\n",
              "      <td>0</td>\n",
              "      <td>0</td>\n",
              "      <td>Medium</td>\n",
              "    </tr>\n",
              "    <tr>\n",
              "      <th>12126</th>\n",
              "      <td>2019</td>\n",
              "      <td>13</td>\n",
              "      <td>woodser</td>\n",
              "      <td>1853</td>\n",
              "      <td>0</td>\n",
              "      <td>0</td>\n",
              "      <td>Medium</td>\n",
              "    </tr>\n",
              "    <tr>\n",
              "      <th>12127</th>\n",
              "      <td>2019</td>\n",
              "      <td>14</td>\n",
              "      <td>woodser</td>\n",
              "      <td>1618</td>\n",
              "      <td>0</td>\n",
              "      <td>0</td>\n",
              "      <td>Medium</td>\n",
              "    </tr>\n",
              "    <tr>\n",
              "      <th>12128</th>\n",
              "      <td>2019</td>\n",
              "      <td>15</td>\n",
              "      <td>woodser</td>\n",
              "      <td>1584</td>\n",
              "      <td>0</td>\n",
              "      <td>0</td>\n",
              "      <td>Medium</td>\n",
              "    </tr>\n",
              "    <tr>\n",
              "      <th>12129</th>\n",
              "      <td>2019</td>\n",
              "      <td>16</td>\n",
              "      <td>woodser</td>\n",
              "      <td>1732</td>\n",
              "      <td>0</td>\n",
              "      <td>0</td>\n",
              "      <td>Medium</td>\n",
              "    </tr>\n",
              "  </tbody>\n",
              "</table>\n",
              "<p>1737 rows × 7 columns</p>\n",
              "</div>"
            ],
            "text/plain": [
              "       Year  Week_Number Customer  Volume    Event1 Event2  Groups\n",
              "95     2018           49  agulhas      41  peek2018      0   Small\n",
              "97     2018           50  agulhas     113  peek2018      0   Small\n",
              "98     2018           51  agulhas      42  peek2018      0   Small\n",
              "104    2019            1  agulhas      71  peek2018      0   Small\n",
              "105    2019            2  agulhas     123  peek2018      0   Small\n",
              "...     ...          ...      ...     ...       ...    ...     ...\n",
              "12125  2019           12  woodser    1821         0      0  Medium\n",
              "12126  2019           13  woodser    1853         0      0  Medium\n",
              "12127  2019           14  woodser    1618         0      0  Medium\n",
              "12128  2019           15  woodser    1584         0      0  Medium\n",
              "12129  2019           16  woodser    1732         0      0  Medium\n",
              "\n",
              "[1737 rows x 7 columns]"
            ]
          },
          "metadata": {
            "tags": []
          },
          "execution_count": 105
        }
      ]
    },
    {
      "cell_type": "code",
      "metadata": {
        "id": "Ylj3yC6YkreR",
        "colab_type": "code",
        "colab": {
          "base_uri": "https://localhost:8080/",
          "height": 51
        },
        "outputId": "e979290f-9d26-4112-9ec4-af97d374f578"
      },
      "source": [
        "df_before_strike_mean = df_before_strike[\"Volume\"].mean()\n",
        "df_after_strike_mean = df_after_strike[\"Volume\"].mean()\n",
        "print(\"df_before_strike_mean = \", df_before_strike_mean)\n",
        "print(\"df_after_strike_mean = \", df_after_strike_mean)"
      ],
      "execution_count": 106,
      "outputs": [
        {
          "output_type": "stream",
          "text": [
            "df_before_strike_mean =  13918.105779153766\n",
            "df_after_strike_mean =  18313.42544617156\n"
          ],
          "name": "stdout"
        }
      ]
    },
    {
      "cell_type": "code",
      "metadata": {
        "id": "tOWStC5ylLwY",
        "colab_type": "code",
        "colab": {
          "base_uri": "https://localhost:8080/",
          "height": 34
        },
        "outputId": "32d3ffd9-e6c3-44c3-8c6d-20b34e238737"
      },
      "source": [
        "#test result for Strike prestrike LARGE (2017)\n",
        "test_result_pre_after_strike = stats.ttest_ind(df_before_strike[\"Volume\"], df_after_strike[\"Volume\"])\n",
        "test_result_pre_after_strike"
      ],
      "execution_count": 107,
      "outputs": [
        {
          "output_type": "execute_result",
          "data": {
            "text/plain": [
              "Ttest_indResult(statistic=-1.4499456924669467, pvalue=0.1471590441287624)"
            ]
          },
          "metadata": {
            "tags": []
          },
          "execution_count": 107
        }
      ]
    },
    {
      "cell_type": "code",
      "metadata": {
        "id": "O3GRz_UCjz7Q",
        "colab_type": "code",
        "colab": {
          "base_uri": "https://localhost:8080/",
          "height": 339
        },
        "outputId": "b2cb0ce2-d369-4b4c-d027-5143827b1966"
      },
      "source": [
        "df_before_strike_volume = df_before_strike[\"Volume\"]\n",
        "df_after_strike_volume = df_after_strike[\"Volume\"]\n",
        "plt.figure(figsize=(20,5))\n",
        "pyplot.hist(df_before_strike_volume, alpha=0.5, label='df_before_strike_volume')\n",
        "pyplot.hist(df_after_strike_volume, alpha=0.5, label='df_after_strike_volume')\n",
        "pyplot.legend(loc='upper right')\n",
        "pyplot.show()"
      ],
      "execution_count": 108,
      "outputs": [
        {
          "output_type": "display_data",
          "data": {
            "image/png": "[encoded data removed]",
            "text/plain": [
              "<Figure size 1440x360 with 1 Axes>"
            ]
          },
          "metadata": {
            "tags": []
          }
        }
      ]
    },
    {
      "cell_type": "code",
      "metadata": {
        "id": "ZY1_lw6bqSjV",
        "colab_type": "code",
        "colab": {}
      },
      "source": [
        "# Creating groups for df_before_strike\n",
        "df_small_before_strike = df_before_strike.loc[(df_before_strike[\"Groups\"] == \"Small\" )]\n",
        "df_medium_before_strike = df_before_strike.loc[(df_before_strike[\"Groups\"] == \"Medium\" )]\n",
        "df_large_before_strike = df_before_strike.loc[(df_before_strike[\"Groups\"] == \"Large\" )]"
      ],
      "execution_count": 109,
      "outputs": []
    },
    {
      "cell_type": "code",
      "metadata": {
        "id": "ExfovAitrIMw",
        "colab_type": "code",
        "colab": {}
      },
      "source": [
        "# Creating groups for df_after_strike\n",
        "df_small_after_strike = df_after_strike.loc[(df_after_strike[\"Groups\"] == \"Small\" )]\n",
        "df_medium_after_strike = df_after_strike.loc[(df_after_strike[\"Groups\"] == \"Medium\" )]\n",
        "df_large_after_strike = df_after_strike.loc[(df_after_strike[\"Groups\"] == \"Large\" )]"
      ],
      "execution_count": 110,
      "outputs": []
    },
    {
      "cell_type": "code",
      "metadata": {
        "id": "VOwFEHdurhP1",
        "colab_type": "code",
        "colab": {}
      },
      "source": [
        "#Creating all the mean values for groups\n",
        "df_small_before_strike_mean = df_small_before_strike[\"Volume\"].mean()\n",
        "df_medium_before_strike_mean = df_medium_before_strike[\"Volume\"].mean()\n",
        "df_large_before_strike_mean = df_large_before_strike[\"Volume\"].mean()\n",
        "df_small_after_strike_mean = df_small_after_strike[\"Volume\"].mean()\n",
        "df_medium_after_strike_mean = df_medium_after_strike[\"Volume\"].mean()\n",
        "df_large_after_strike_mean = df_large_after_strike[\"Volume\"].mean()\n"
      ],
      "execution_count": 111,
      "outputs": []
    },
    {
      "cell_type": "code",
      "metadata": {
        "id": "PUSwFm5YsTWm",
        "colab_type": "code",
        "colab": {
          "base_uri": "https://localhost:8080/",
          "height": 51
        },
        "outputId": "fa87af63-b47b-4572-b07e-1e2f62773d8b"
      },
      "source": [
        "print(\"df_small_before_strike_mean = \",df_small_before_strike_mean)\n",
        "print(\"df_small_after_strike_mean = \", df_small_after_strike_mean)"
      ],
      "execution_count": 112,
      "outputs": [
        {
          "output_type": "stream",
          "text": [
            "df_small_before_strike_mean =  67.49707602339181\n",
            "df_small_after_strike_mean =  75.25108225108225\n"
          ],
          "name": "stdout"
        }
      ]
    },
    {
      "cell_type": "code",
      "metadata": {
        "id": "6ZomWAj_tZpe",
        "colab_type": "code",
        "colab": {
          "base_uri": "https://localhost:8080/",
          "height": 34
        },
        "outputId": "c6306af8-d06f-4cd8-d17f-a9d2dbeed0f4"
      },
      "source": [
        "#test result for Strike prestrike SMALL\n",
        "test_result_small_pre_after_strike = stats.ttest_ind(df_small_before_strike[\"Volume\"], df_small_after_strike[\"Volume\"])\n",
        "test_result_small_pre_after_strike"
      ],
      "execution_count": 113,
      "outputs": [
        {
          "output_type": "execute_result",
          "data": {
            "text/plain": [
              "Ttest_indResult(statistic=-1.9145247368924465, pvalue=0.055737545043341837)"
            ]
          },
          "metadata": {
            "tags": []
          },
          "execution_count": 113
        }
      ]
    },
    {
      "cell_type": "code",
      "metadata": {
        "id": "kDOTN5A7uZPv",
        "colab_type": "code",
        "colab": {
          "base_uri": "https://localhost:8080/",
          "height": 325
        },
        "outputId": "8f5c527e-475a-4dd6-d6fe-dda096937dbf"
      },
      "source": [
        "df_small_before_strike_volume = df_small_before_strike[\"Volume\"]\n",
        "df_small_after_strike_volume = df_small_after_strike[\"Volume\"]\n",
        "plt.figure(figsize=(20,5))\n",
        "pyplot.hist(df_small_before_strike_volume, alpha=0.5, label='df_small_before_strike_volume')\n",
        "pyplot.hist(df_small_after_strike_volume, alpha=0.5, label='df_small_after_strike_volume')\n",
        "pyplot.legend(loc='upper right')\n",
        "\n",
        "pyplot.show()"
      ],
      "execution_count": 114,
      "outputs": [
        {
          "output_type": "display_data",
          "data": {
            "image/png": "[encoded data removed]",
            "text/plain": [
              "<Figure size 1440x360 with 1 Axes>"
            ]
          },
          "metadata": {
            "tags": []
          }
        }
      ]
    },
    {
      "cell_type": "code",
      "metadata": {
        "id": "lIlr2fJZtpyC",
        "colab_type": "code",
        "colab": {
          "base_uri": "https://localhost:8080/",
          "height": 51
        },
        "outputId": "4b06a990-38ac-4d0f-cbae-5f3753edd2be"
      },
      "source": [
        "print(\"df_medium_before_strike_mean = \",df_medium_before_strike_mean)\n",
        "print(\"df_meium_after_strike_mean = \", df_medium_after_strike_mean)"
      ],
      "execution_count": 115,
      "outputs": [
        {
          "output_type": "stream",
          "text": [
            "df_medium_before_strike_mean =  678.53125\n",
            "df_meium_after_strike_mean =  714.4195298372514\n"
          ],
          "name": "stdout"
        }
      ]
    },
    {
      "cell_type": "code",
      "metadata": {
        "id": "Hp-FN9RtuW3q",
        "colab_type": "code",
        "colab": {
          "base_uri": "https://localhost:8080/",
          "height": 34
        },
        "outputId": "5544bc68-80c5-4303-8ab0-dd946ee2db46"
      },
      "source": [
        "#test result for Strike prestrike MEDIUM\n",
        "test_result_medium_pre_after_strike = stats.ttest_ind(df_medium_before_strike[\"Volume\"], df_medium_after_strike[\"Volume\"])\n",
        "test_result_medium_pre_after_strike"
      ],
      "execution_count": 116,
      "outputs": [
        {
          "output_type": "execute_result",
          "data": {
            "text/plain": [
              "Ttest_indResult(statistic=-0.6135534016867631, pvalue=0.5396308766257327)"
            ]
          },
          "metadata": {
            "tags": []
          },
          "execution_count": 116
        }
      ]
    },
    {
      "cell_type": "code",
      "metadata": {
        "id": "E1IA6NC2vwuc",
        "colab_type": "code",
        "colab": {
          "base_uri": "https://localhost:8080/",
          "height": 322
        },
        "outputId": "9c0486f6-99ba-44d6-ae8d-52e06550f88c"
      },
      "source": [
        "df_medium_before_strike_volume = df_medium_before_strike[\"Volume\"]\n",
        "df_medium_after_strike_volume = df_medium_after_strike[\"Volume\"]\n",
        "plt.figure(figsize=(20,5))\n",
        "pyplot.hist(df_medium_before_strike_volume, alpha=0.5, label='df_medium_before_strike_volume')\n",
        "pyplot.hist(df_medium_after_strike_volume, alpha=0.5, label='df_medium_after_strike_volume')\n",
        "pyplot.legend(loc='upper right')\n",
        "\n",
        "pyplot.show()"
      ],
      "execution_count": 117,
      "outputs": [
        {
          "output_type": "display_data",
          "data": {
            "image/png": "[encoded data removed]",
            "text/plain": [
              "<Figure size 1440x360 with 1 Axes>"
            ]
          },
          "metadata": {
            "tags": []
          }
        }
      ]
    },
    {
      "cell_type": "code",
      "metadata": {
        "id": "ifzPNQ9vwrRU",
        "colab_type": "code",
        "colab": {
          "base_uri": "https://localhost:8080/",
          "height": 51
        },
        "outputId": "4de7b077-1a43-49de-f0d3-25d26ac3cd93"
      },
      "source": [
        "print(\"df_large_before_strike_mean = \",df_large_before_strike_mean)\n",
        "print(\"df_large_after_strike_mean = \", df_large_after_strike_mean)"
      ],
      "execution_count": 118,
      "outputs": [
        {
          "output_type": "stream",
          "text": [
            "df_large_before_strike_mean =  55795.85684210526\n",
            "df_large_after_strike_mean =  65986.50736842105\n"
          ],
          "name": "stdout"
        }
      ]
    },
    {
      "cell_type": "code",
      "metadata": {
        "id": "bPMq2Bpvw_Ke",
        "colab_type": "code",
        "colab": {
          "base_uri": "https://localhost:8080/",
          "height": 34
        },
        "outputId": "8125815f-e952-44f3-8b5f-fdbfdc387c20"
      },
      "source": [
        "#test result for Strike prestrike Large\n",
        "test_result_large_pre_after_strike = stats.ttest_ind(df_large_before_strike[\"Volume\"], df_large_after_strike[\"Volume\"])\n",
        "test_result_large_pre_after_strike"
      ],
      "execution_count": 119,
      "outputs": [
        {
          "output_type": "execute_result",
          "data": {
            "text/plain": [
              "Ttest_indResult(statistic=-0.908542272310762, pvalue=0.3638226966687237)"
            ]
          },
          "metadata": {
            "tags": []
          },
          "execution_count": 119
        }
      ]
    },
    {
      "cell_type": "code",
      "metadata": {
        "id": "z92eRt_exUK9",
        "colab_type": "code",
        "colab": {
          "base_uri": "https://localhost:8080/",
          "height": 335
        },
        "outputId": "5e25a3a6-9b7f-4db4-af4f-4bea3da63195"
      },
      "source": [
        "df_large_before_strike_volume = df_large_before_strike[\"Volume\"]\n",
        "df_large_after_strike_volume = df_large_after_strike[\"Volume\"]\n",
        "plt.figure(figsize=(20,5))\n",
        "pyplot.hist(df_large_before_strike_volume, alpha=0.5, label='df_large_before_strike_volume')\n",
        "pyplot.hist(df_large_after_strike_volume, alpha=0.5, label='df_large_after_strike_volume')\n",
        "pyplot.legend(loc='upper right')\n",
        "\n",
        "pyplot.show()"
      ],
      "execution_count": 120,
      "outputs": [
        {
          "output_type": "display_data",
          "data": {
            "image/png": "[encoded data removed]",
            "text/plain": [
              "<Figure size 1440x360 with 1 Axes>"
            ]
          },
          "metadata": {
            "tags": []
          }
        }
      ]
    },
    {
      "cell_type": "code",
      "metadata": {
        "id": "7JLNavZnLvY8",
        "colab_type": "code",
        "colab": {}
      },
      "source": [
        "media_week_numer = 37\n",
        "union_voted_week_number = 39"
      ],
      "execution_count": 121,
      "outputs": []
    },
    {
      "cell_type": "code",
      "metadata": {
        "id": "fbS20xMAMgp5",
        "colab_type": "code",
        "colab": {}
      },
      "source": [
        "df_media_2018 = df_events[((df_events['Week_Number'] == 37) & (df_events['Year']==2018))]\n",
        "df_media_2017 = df_events[((df_events['Week_Number'] == 37) & (df_events['Year']==2017))]\n",
        "df_union_voted_2018 = df_events[((df_events['Week_Number'] == 39) & (df_events['Year']==2018))]\n",
        "df_union_voted_2017 = df_events[((df_events['Week_Number'] == 39) & (df_events['Year']==2017))]"
      ],
      "execution_count": 122,
      "outputs": []
    },
    {
      "cell_type": "code",
      "metadata": {
        "id": "e5xqDi79Nnus",
        "colab_type": "code",
        "colab": {
          "base_uri": "https://localhost:8080/",
          "height": 51
        },
        "outputId": "de046524-c806-40b8-aee4-5ae41d5ac35b"
      },
      "source": [
        "df_media_2018_mean = df_media_2018[\"Volume\"].mean()\n",
        "df_media_2017_mean = df_media_2017[\"Volume\"].mean()\n",
        "print(\"df_media_2018_mean = \", df_media_2018_mean)\n",
        "print(\"df_media_2017_mean = \", df_media_2017_mean)"
      ],
      "execution_count": 123,
      "outputs": [
        {
          "output_type": "stream",
          "text": [
            "df_media_2018_mean =  14808.549019607843\n",
            "df_media_2017_mean =  12284.519607843138\n"
          ],
          "name": "stdout"
        }
      ]
    },
    {
      "cell_type": "code",
      "metadata": {
        "id": "F4gJ6QVrOD5l",
        "colab_type": "code",
        "colab": {
          "base_uri": "https://localhost:8080/",
          "height": 34
        },
        "outputId": "1f03907c-cc92-4aa6-d9a5-2e11e4ceb6b2"
      },
      "source": [
        "# T-test for media\n",
        "test_result_media = stats.ttest_ind(df_media_2018[\"Volume\"], df_media_2017[\"Volume\"])\n",
        "test_result_media"
      ],
      "execution_count": 124,
      "outputs": [
        {
          "output_type": "execute_result",
          "data": {
            "text/plain": [
              "Ttest_indResult(statistic=0.2640578174466393, pvalue=0.7920045671424991)"
            ]
          },
          "metadata": {
            "tags": []
          },
          "execution_count": 124
        }
      ]
    },
    {
      "cell_type": "code",
      "metadata": {
        "id": "ELg1kdMHObbx",
        "colab_type": "code",
        "colab": {
          "base_uri": "https://localhost:8080/",
          "height": 322
        },
        "outputId": "d57f4c71-ce61-40b7-c7ca-4b39a1e41792"
      },
      "source": [
        "df_media_2018_volume = df_media_2018[\"Volume\"]\n",
        "df_media_2017_volume = df_media_2017[\"Volume\"]\n",
        "plt.figure(figsize=(20,5))\n",
        "pyplot.hist(df_media_2018_volume, alpha=0.5, label='df_media_2018_volume')\n",
        "pyplot.hist(df_media_2017_volume, alpha=0.5, label='df_media_2017_volume')\n",
        "pyplot.legend(loc='upper right')\n",
        "\n",
        "pyplot.show()"
      ],
      "execution_count": 125,
      "outputs": [
        {
          "output_type": "display_data",
          "data": {
            "image/png": "[encoded data removed]",
            "text/plain": [
              "<Figure size 1440x360 with 1 Axes>"
            ]
          },
          "metadata": {
            "tags": []
          }
        }
      ]
    },
    {
      "cell_type": "code",
      "metadata": {
        "id": "xH3EtsS6PCEF",
        "colab_type": "code",
        "colab": {
          "base_uri": "https://localhost:8080/",
          "height": 51
        },
        "outputId": "6f1e4010-6ac2-4d3e-a621-e10e2ee0670c"
      },
      "source": [
        "df_union_voted_2018_mean = df_union_voted_2018[\"Volume\"].mean()\n",
        "df_union_voted_2017_mean = df_union_voted_2017[\"Volume\"].mean()\n",
        "print(\"df_union_voted_2018_mean = \", df_union_voted_2018_mean)\n",
        "print(\"df_union_voted_2017_mean = \", df_union_voted_2018_mean)"
      ],
      "execution_count": 126,
      "outputs": [
        {
          "output_type": "stream",
          "text": [
            "df_union_voted_2018_mean =  12414.43137254902\n",
            "df_union_voted_2017_mean =  12414.43137254902\n"
          ],
          "name": "stdout"
        }
      ]
    },
    {
      "cell_type": "code",
      "metadata": {
        "id": "UuYz72D6QKLd",
        "colab_type": "code",
        "colab": {
          "base_uri": "https://localhost:8080/",
          "height": 34
        },
        "outputId": "7d9de685-8d8f-4bb8-a853-a18b3b4ebdde"
      },
      "source": [
        "# T-test for union voted event\n",
        "test_result_union_voted = stats.ttest_ind(df_union_voted_2018[\"Volume\"], df_union_voted_2017[\"Volume\"])\n",
        "test_result_union_voted"
      ],
      "execution_count": 127,
      "outputs": [
        {
          "output_type": "execute_result",
          "data": {
            "text/plain": [
              "Ttest_indResult(statistic=0.4040631876087712, pvalue=0.68659371444835)"
            ]
          },
          "metadata": {
            "tags": []
          },
          "execution_count": 127
        }
      ]
    },
    {
      "cell_type": "code",
      "metadata": {
        "id": "IcICBtRiQh3y",
        "colab_type": "code",
        "colab": {
          "base_uri": "https://localhost:8080/",
          "height": 322
        },
        "outputId": "b6b4c39e-e410-4f1b-8efd-c7dc875ab665"
      },
      "source": [
        "df_union_voted_2018_volume = df_union_voted_2018[\"Volume\"]\n",
        "df_union_voted_2017_volume = df_union_voted_2017[\"Volume\"]\n",
        "plt.figure(figsize=(20,5))\n",
        "pyplot.hist(df_union_voted_2018_volume, alpha=0.5, label='df_union_voting_2018_volume')\n",
        "pyplot.hist(df_union_voted_2017_volume, alpha=0.5, label='df_union_voting_2017_volume')\n",
        "pyplot.legend(loc='upper right')\n",
        "\n",
        "pyplot.show()"
      ],
      "execution_count": 128,
      "outputs": [
        {
          "output_type": "display_data",
          "data": {
            "image/png": "[encoded data removed]",
            "text/plain": [
              "<Figure size 1440x360 with 1 Axes>"
            ]
          },
          "metadata": {
            "tags": []
          }
        }
      ]
    }
  ]
}