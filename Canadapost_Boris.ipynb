{
  "nbformat": 4,
  "nbformat_minor": 0,
  "metadata": {
    "colab": {
      "name": "Canadapost_Yulii_single_file",
      "provenance": [],
      "collapsed_sections": []
    },
    "kernelspec": {
      "name": "python3",
      "display_name": "Python 3"
    }
  },
  "cells": [
    {
      "cell_type": "code",
      "metadata": {
        "id": "zu0VlHjIE_NU",
        "colab_type": "code",
        "cellView": "both",
        "colab": {}
      },
      "source": [
        "#@title\n",
        "import pandas as pd\n",
        "from google.colab import files\n",
        "import io\n",
        "import numpy as np\n",
        "import matplotlib.pyplot as plt\n",
        "%matplotlib inline \n",
        "#https://overcoder.net/q/47263/%D0%BD%D0%B0%D0%B7%D0%BD%D0%B0%D1%87%D0%B5%D0%BD%D0%B8%D0%B5-matplotlib-inline\n",
        "import seaborn as sns #Seaborn is another powerful visualization library for Python\n",
        "from scipy import stats"
      ],
      "execution_count": 116,
      "outputs": []
    },
    {
      "cell_type": "code",
      "metadata": {
        "id": "m9ydITiCEged",
        "colab_type": "code",
        "colab": {}
      },
      "source": [
        "path = \"https://raw.githubusercontent.com/borisgarbuzov/Canadapost/master/data/\"\n",
        "file1 = \"Canada_Post_2019.csv\"\n",
        "file2 = \"Canada_Post_2018_auto_long.csv\"\n",
        "file3 = \"Canada_Post_2017_auto_long.csv\"\n",
        "file4 = \"Canada_Post_united_values.csv\"\n",
        "file5 = \"Canada_Post_events.csv\""
      ],
      "execution_count": 117,
      "outputs": []
    },
    {
      "cell_type": "code",
      "metadata": {
        "id": "IgTd0Ixw996v",
        "colab_type": "code",
        "colab": {
          "base_uri": "https://localhost:8080/",
          "height": 415
        },
        "outputId": "95dec37c-e99d-42a6-b98b-97fe59540212"
      },
      "source": [
        "df_2017 = pd.read_csv(path+file3,sep=\";\")\n",
        "df_2017"
      ],
      "execution_count": 118,
      "outputs": [
        {
          "output_type": "execute_result",
          "data": {
            "text/html": [
              "<div>\n",
              "<style scoped>\n",
              "    .dataframe tbody tr th:only-of-type {\n",
              "        vertical-align: middle;\n",
              "    }\n",
              "\n",
              "    .dataframe tbody tr th {\n",
              "        vertical-align: top;\n",
              "    }\n",
              "\n",
              "    .dataframe thead th {\n",
              "        text-align: right;\n",
              "    }\n",
              "</style>\n",
              "<table border=\"1\" class=\"dataframe\">\n",
              "  <thead>\n",
              "    <tr style=\"text-align: right;\">\n",
              "      <th></th>\n",
              "      <th>Row</th>\n",
              "      <th>Column1</th>\n",
              "      <th>Column</th>\n",
              "      <th>Value</th>\n",
              "    </tr>\n",
              "  </thead>\n",
              "  <tbody>\n",
              "    <tr>\n",
              "      <th>0</th>\n",
              "      <td>2017.0</td>\n",
              "      <td>1.0</td>\n",
              "      <td>agulhas</td>\n",
              "      <td>83.0</td>\n",
              "    </tr>\n",
              "    <tr>\n",
              "      <th>1</th>\n",
              "      <td>2017.0</td>\n",
              "      <td>1.0</td>\n",
              "      <td>airline</td>\n",
              "      <td>11.0</td>\n",
              "    </tr>\n",
              "    <tr>\n",
              "      <th>2</th>\n",
              "      <td>2017.0</td>\n",
              "      <td>1.0</td>\n",
              "      <td>allover</td>\n",
              "      <td>365.0</td>\n",
              "    </tr>\n",
              "    <tr>\n",
              "      <th>3</th>\n",
              "      <td>2017.0</td>\n",
              "      <td>1.0</td>\n",
              "      <td>amenity</td>\n",
              "      <td>21.0</td>\n",
              "    </tr>\n",
              "    <tr>\n",
              "      <th>4</th>\n",
              "      <td>2017.0</td>\n",
              "      <td>1.0</td>\n",
              "      <td>anchovy</td>\n",
              "      <td>74.0</td>\n",
              "    </tr>\n",
              "    <tr>\n",
              "      <th>...</th>\n",
              "      <td>...</td>\n",
              "      <td>...</td>\n",
              "      <td>...</td>\n",
              "      <td>...</td>\n",
              "    </tr>\n",
              "    <tr>\n",
              "      <th>5402</th>\n",
              "      <td>2018.0</td>\n",
              "      <td>1.0</td>\n",
              "      <td>trismus</td>\n",
              "      <td>9.0</td>\n",
              "    </tr>\n",
              "    <tr>\n",
              "      <th>5403</th>\n",
              "      <td>2018.0</td>\n",
              "      <td>1.0</td>\n",
              "      <td>twinned</td>\n",
              "      <td>149.0</td>\n",
              "    </tr>\n",
              "    <tr>\n",
              "      <th>5404</th>\n",
              "      <td>2018.0</td>\n",
              "      <td>1.0</td>\n",
              "      <td>vistula</td>\n",
              "      <td>3.0</td>\n",
              "    </tr>\n",
              "    <tr>\n",
              "      <th>5405</th>\n",
              "      <td>2018.0</td>\n",
              "      <td>1.0</td>\n",
              "      <td>woodser</td>\n",
              "      <td>2876.0</td>\n",
              "    </tr>\n",
              "    <tr>\n",
              "      <th>5406</th>\n",
              "      <td>NaN</td>\n",
              "      <td>NaN</td>\n",
              "      <td>NaN</td>\n",
              "      <td>NaN</td>\n",
              "    </tr>\n",
              "  </tbody>\n",
              "</table>\n",
              "<p>5407 rows × 4 columns</p>\n",
              "</div>"
            ],
            "text/plain": [
              "         Row  Column1   Column   Value\n",
              "0     2017.0      1.0  agulhas    83.0\n",
              "1     2017.0      1.0  airline    11.0\n",
              "2     2017.0      1.0  allover   365.0\n",
              "3     2017.0      1.0  amenity    21.0\n",
              "4     2017.0      1.0  anchovy    74.0\n",
              "...      ...      ...      ...     ...\n",
              "5402  2018.0      1.0  trismus     9.0\n",
              "5403  2018.0      1.0  twinned   149.0\n",
              "5404  2018.0      1.0  vistula     3.0\n",
              "5405  2018.0      1.0  woodser  2876.0\n",
              "5406     NaN      NaN      NaN     NaN\n",
              "\n",
              "[5407 rows x 4 columns]"
            ]
          },
          "metadata": {
            "tags": []
          },
          "execution_count": 118
        }
      ]
    },
    {
      "cell_type": "code",
      "metadata": {
        "id": "dG62R0uH_aFj",
        "colab_type": "code",
        "colab": {}
      },
      "source": [
        "df_2017 = df_2017.rename(columns={\"Row\":\"Year\", \"Column\":\"Customer\", \"Value\":\"Volume\", \"Column1\":\"Week_Number\"})"
      ],
      "execution_count": 119,
      "outputs": []
    },
    {
      "cell_type": "code",
      "metadata": {
        "id": "q_sciz3Q-pNp",
        "colab_type": "code",
        "colab": {}
      },
      "source": [
        "#Old Groups 1\n",
        "customer_df_2017 = df_2017[\"Customer\"].unique().tolist()\n",
        "\n",
        "dict_df_2017 = {}\n",
        "for customer in customer_df_2017:\n",
        "  dict_df_2017[customer] = 0\n",
        "\n",
        "\n",
        "for key in dict_df_2017:\n",
        "  x = df_2017.loc[df_2017[\"Customer\"] == key]\n",
        "  sum_of_category = sum(x[\"Volume\"])\n",
        "  dict_df_2017[key] += sum_of_category"
      ],
      "execution_count": 120,
      "outputs": []
    },
    {
      "cell_type": "code",
      "metadata": {
        "id": "3clHg4tL_r4n",
        "colab_type": "code",
        "colab": {
          "base_uri": "https://localhost:8080/",
          "height": 202
        },
        "outputId": "1267f9a6-557d-4836-97ad-c5d9c9f43862"
      },
      "source": [
        "#Old Groups 2 for df_2017\n",
        "for  key, value in dict_df_2017.items():\n",
        " #print()\n",
        "  if dict_df_2017[key] < 10000:\n",
        "    dict_df_2017[key] = \"Small\"\n",
        "  elif dict_df_2017[key] >=10000 and dict_df_2017[key] <= 500000:\n",
        "    dict_df_2017[key] = \"Medium\"\n",
        "  else:\n",
        "    dict_df_2017[key] = \"Large\"\n",
        "\n",
        "df_2017.head()    "
      ],
      "execution_count": 121,
      "outputs": [
        {
          "output_type": "execute_result",
          "data": {
            "text/html": [
              "<div>\n",
              "<style scoped>\n",
              "    .dataframe tbody tr th:only-of-type {\n",
              "        vertical-align: middle;\n",
              "    }\n",
              "\n",
              "    .dataframe tbody tr th {\n",
              "        vertical-align: top;\n",
              "    }\n",
              "\n",
              "    .dataframe thead th {\n",
              "        text-align: right;\n",
              "    }\n",
              "</style>\n",
              "<table border=\"1\" class=\"dataframe\">\n",
              "  <thead>\n",
              "    <tr style=\"text-align: right;\">\n",
              "      <th></th>\n",
              "      <th>Year</th>\n",
              "      <th>Week_Number</th>\n",
              "      <th>Customer</th>\n",
              "      <th>Volume</th>\n",
              "    </tr>\n",
              "  </thead>\n",
              "  <tbody>\n",
              "    <tr>\n",
              "      <th>0</th>\n",
              "      <td>2017.0</td>\n",
              "      <td>1.0</td>\n",
              "      <td>agulhas</td>\n",
              "      <td>83.0</td>\n",
              "    </tr>\n",
              "    <tr>\n",
              "      <th>1</th>\n",
              "      <td>2017.0</td>\n",
              "      <td>1.0</td>\n",
              "      <td>airline</td>\n",
              "      <td>11.0</td>\n",
              "    </tr>\n",
              "    <tr>\n",
              "      <th>2</th>\n",
              "      <td>2017.0</td>\n",
              "      <td>1.0</td>\n",
              "      <td>allover</td>\n",
              "      <td>365.0</td>\n",
              "    </tr>\n",
              "    <tr>\n",
              "      <th>3</th>\n",
              "      <td>2017.0</td>\n",
              "      <td>1.0</td>\n",
              "      <td>amenity</td>\n",
              "      <td>21.0</td>\n",
              "    </tr>\n",
              "    <tr>\n",
              "      <th>4</th>\n",
              "      <td>2017.0</td>\n",
              "      <td>1.0</td>\n",
              "      <td>anchovy</td>\n",
              "      <td>74.0</td>\n",
              "    </tr>\n",
              "  </tbody>\n",
              "</table>\n",
              "</div>"
            ],
            "text/plain": [
              "     Year  Week_Number Customer  Volume\n",
              "0  2017.0          1.0  agulhas    83.0\n",
              "1  2017.0          1.0  airline    11.0\n",
              "2  2017.0          1.0  allover   365.0\n",
              "3  2017.0          1.0  amenity    21.0\n",
              "4  2017.0          1.0  anchovy    74.0"
            ]
          },
          "metadata": {
            "tags": []
          },
          "execution_count": 121
        }
      ]
    },
    {
      "cell_type": "code",
      "metadata": {
        "id": "DaDY3A6YAMiy",
        "colab_type": "code",
        "colab": {}
      },
      "source": [
        "df_2017[\"Groups_2017\"] = df_2017[\"Customer\"].map(dict_df_2017)"
      ],
      "execution_count": 122,
      "outputs": []
    },
    {
      "cell_type": "code",
      "metadata": {
        "id": "RywO8N0SNydn",
        "colab_type": "code",
        "colab": {
          "base_uri": "https://localhost:8080/",
          "height": 415
        },
        "outputId": "748a5545-1f68-40a8-e100-a146b71dfc20"
      },
      "source": [
        "df_2017"
      ],
      "execution_count": 123,
      "outputs": [
        {
          "output_type": "execute_result",
          "data": {
            "text/html": [
              "<div>\n",
              "<style scoped>\n",
              "    .dataframe tbody tr th:only-of-type {\n",
              "        vertical-align: middle;\n",
              "    }\n",
              "\n",
              "    .dataframe tbody tr th {\n",
              "        vertical-align: top;\n",
              "    }\n",
              "\n",
              "    .dataframe thead th {\n",
              "        text-align: right;\n",
              "    }\n",
              "</style>\n",
              "<table border=\"1\" class=\"dataframe\">\n",
              "  <thead>\n",
              "    <tr style=\"text-align: right;\">\n",
              "      <th></th>\n",
              "      <th>Year</th>\n",
              "      <th>Week_Number</th>\n",
              "      <th>Customer</th>\n",
              "      <th>Volume</th>\n",
              "      <th>Groups_2017</th>\n",
              "    </tr>\n",
              "  </thead>\n",
              "  <tbody>\n",
              "    <tr>\n",
              "      <th>0</th>\n",
              "      <td>2017.0</td>\n",
              "      <td>1.0</td>\n",
              "      <td>agulhas</td>\n",
              "      <td>83.0</td>\n",
              "      <td>Small</td>\n",
              "    </tr>\n",
              "    <tr>\n",
              "      <th>1</th>\n",
              "      <td>2017.0</td>\n",
              "      <td>1.0</td>\n",
              "      <td>airline</td>\n",
              "      <td>11.0</td>\n",
              "      <td>Small</td>\n",
              "    </tr>\n",
              "    <tr>\n",
              "      <th>2</th>\n",
              "      <td>2017.0</td>\n",
              "      <td>1.0</td>\n",
              "      <td>allover</td>\n",
              "      <td>365.0</td>\n",
              "      <td>Medium</td>\n",
              "    </tr>\n",
              "    <tr>\n",
              "      <th>3</th>\n",
              "      <td>2017.0</td>\n",
              "      <td>1.0</td>\n",
              "      <td>amenity</td>\n",
              "      <td>21.0</td>\n",
              "      <td>Small</td>\n",
              "    </tr>\n",
              "    <tr>\n",
              "      <th>4</th>\n",
              "      <td>2017.0</td>\n",
              "      <td>1.0</td>\n",
              "      <td>anchovy</td>\n",
              "      <td>74.0</td>\n",
              "      <td>Small</td>\n",
              "    </tr>\n",
              "    <tr>\n",
              "      <th>...</th>\n",
              "      <td>...</td>\n",
              "      <td>...</td>\n",
              "      <td>...</td>\n",
              "      <td>...</td>\n",
              "      <td>...</td>\n",
              "    </tr>\n",
              "    <tr>\n",
              "      <th>5402</th>\n",
              "      <td>2018.0</td>\n",
              "      <td>1.0</td>\n",
              "      <td>trismus</td>\n",
              "      <td>9.0</td>\n",
              "      <td>Small</td>\n",
              "    </tr>\n",
              "    <tr>\n",
              "      <th>5403</th>\n",
              "      <td>2018.0</td>\n",
              "      <td>1.0</td>\n",
              "      <td>twinned</td>\n",
              "      <td>149.0</td>\n",
              "      <td>Small</td>\n",
              "    </tr>\n",
              "    <tr>\n",
              "      <th>5404</th>\n",
              "      <td>2018.0</td>\n",
              "      <td>1.0</td>\n",
              "      <td>vistula</td>\n",
              "      <td>3.0</td>\n",
              "      <td>Medium</td>\n",
              "    </tr>\n",
              "    <tr>\n",
              "      <th>5405</th>\n",
              "      <td>2018.0</td>\n",
              "      <td>1.0</td>\n",
              "      <td>woodser</td>\n",
              "      <td>2876.0</td>\n",
              "      <td>Medium</td>\n",
              "    </tr>\n",
              "    <tr>\n",
              "      <th>5406</th>\n",
              "      <td>NaN</td>\n",
              "      <td>NaN</td>\n",
              "      <td>NaN</td>\n",
              "      <td>NaN</td>\n",
              "      <td>Small</td>\n",
              "    </tr>\n",
              "  </tbody>\n",
              "</table>\n",
              "<p>5407 rows × 5 columns</p>\n",
              "</div>"
            ],
            "text/plain": [
              "        Year  Week_Number Customer  Volume Groups_2017\n",
              "0     2017.0          1.0  agulhas    83.0       Small\n",
              "1     2017.0          1.0  airline    11.0       Small\n",
              "2     2017.0          1.0  allover   365.0      Medium\n",
              "3     2017.0          1.0  amenity    21.0       Small\n",
              "4     2017.0          1.0  anchovy    74.0       Small\n",
              "...      ...          ...      ...     ...         ...\n",
              "5402  2018.0          1.0  trismus     9.0       Small\n",
              "5403  2018.0          1.0  twinned   149.0       Small\n",
              "5404  2018.0          1.0  vistula     3.0      Medium\n",
              "5405  2018.0          1.0  woodser  2876.0      Medium\n",
              "5406     NaN          NaN      NaN     NaN       Small\n",
              "\n",
              "[5407 rows x 5 columns]"
            ]
          },
          "metadata": {
            "tags": []
          },
          "execution_count": 123
        }
      ]
    },
    {
      "cell_type": "code",
      "metadata": {
        "id": "i3c0FrSCa8iT",
        "colab_type": "code",
        "colab": {}
      },
      "source": [
        "#again NaN\n",
        "for column in df_2017.columns:\n",
        "  df_2017[column]=df_2017[column].fillna(value = df_2017[column].mode()[0])"
      ],
      "execution_count": 124,
      "outputs": []
    },
    {
      "cell_type": "code",
      "metadata": {
        "id": "NWnbXsgbnSPQ",
        "colab_type": "code",
        "colab": {}
      },
      "source": [
        "df_united_values = pd.read_csv(path+file4,sep=\";\")"
      ],
      "execution_count": 125,
      "outputs": []
    },
    {
      "cell_type": "code",
      "metadata": {
        "id": "gvcbiU5JMBrB",
        "colab_type": "code",
        "colab": {
          "base_uri": "https://localhost:8080/",
          "height": 202
        },
        "outputId": "79413ff4-5ff7-4080-fac6-3224ac4adc34"
      },
      "source": [
        "df_united_values.head(5)"
      ],
      "execution_count": 126,
      "outputs": [
        {
          "output_type": "execute_result",
          "data": {
            "text/html": [
              "<div>\n",
              "<style scoped>\n",
              "    .dataframe tbody tr th:only-of-type {\n",
              "        vertical-align: middle;\n",
              "    }\n",
              "\n",
              "    .dataframe tbody tr th {\n",
              "        vertical-align: top;\n",
              "    }\n",
              "\n",
              "    .dataframe thead th {\n",
              "        text-align: right;\n",
              "    }\n",
              "</style>\n",
              "<table border=\"1\" class=\"dataframe\">\n",
              "  <thead>\n",
              "    <tr style=\"text-align: right;\">\n",
              "      <th></th>\n",
              "      <th>Row</th>\n",
              "      <th>Column1</th>\n",
              "      <th>Column</th>\n",
              "      <th>Value</th>\n",
              "    </tr>\n",
              "  </thead>\n",
              "  <tbody>\n",
              "    <tr>\n",
              "      <th>0</th>\n",
              "      <td>2017</td>\n",
              "      <td>1</td>\n",
              "      <td>agulhas</td>\n",
              "      <td>83</td>\n",
              "    </tr>\n",
              "    <tr>\n",
              "      <th>1</th>\n",
              "      <td>2017</td>\n",
              "      <td>1</td>\n",
              "      <td>airline</td>\n",
              "      <td>11</td>\n",
              "    </tr>\n",
              "    <tr>\n",
              "      <th>2</th>\n",
              "      <td>2017</td>\n",
              "      <td>1</td>\n",
              "      <td>allover</td>\n",
              "      <td>365</td>\n",
              "    </tr>\n",
              "    <tr>\n",
              "      <th>3</th>\n",
              "      <td>2017</td>\n",
              "      <td>1</td>\n",
              "      <td>amenity</td>\n",
              "      <td>21</td>\n",
              "    </tr>\n",
              "    <tr>\n",
              "      <th>4</th>\n",
              "      <td>2017</td>\n",
              "      <td>1</td>\n",
              "      <td>anchovy</td>\n",
              "      <td>74</td>\n",
              "    </tr>\n",
              "  </tbody>\n",
              "</table>\n",
              "</div>"
            ],
            "text/plain": [
              "    Row  Column1   Column  Value\n",
              "0  2017        1  agulhas     83\n",
              "1  2017        1  airline     11\n",
              "2  2017        1  allover    365\n",
              "3  2017        1  amenity     21\n",
              "4  2017        1  anchovy     74"
            ]
          },
          "metadata": {
            "tags": []
          },
          "execution_count": 126
        }
      ]
    },
    {
      "cell_type": "code",
      "metadata": {
        "id": "LjvqCbV5xtqi",
        "colab_type": "code",
        "colab": {
          "base_uri": "https://localhost:8080/",
          "height": 202
        },
        "outputId": "4654efd5-f175-4f77-aea6-08ae13cc795f"
      },
      "source": [
        "df_united_values = df_united_values.rename(columns={\"Row\":\"Year\", \"Column\":\"Customer\", \"Value\":\"Volume\", \"Column1\":\"Week_Number\"})\n",
        "df_united_values.head()"
      ],
      "execution_count": 127,
      "outputs": [
        {
          "output_type": "execute_result",
          "data": {
            "text/html": [
              "<div>\n",
              "<style scoped>\n",
              "    .dataframe tbody tr th:only-of-type {\n",
              "        vertical-align: middle;\n",
              "    }\n",
              "\n",
              "    .dataframe tbody tr th {\n",
              "        vertical-align: top;\n",
              "    }\n",
              "\n",
              "    .dataframe thead th {\n",
              "        text-align: right;\n",
              "    }\n",
              "</style>\n",
              "<table border=\"1\" class=\"dataframe\">\n",
              "  <thead>\n",
              "    <tr style=\"text-align: right;\">\n",
              "      <th></th>\n",
              "      <th>Year</th>\n",
              "      <th>Week_Number</th>\n",
              "      <th>Customer</th>\n",
              "      <th>Volume</th>\n",
              "    </tr>\n",
              "  </thead>\n",
              "  <tbody>\n",
              "    <tr>\n",
              "      <th>0</th>\n",
              "      <td>2017</td>\n",
              "      <td>1</td>\n",
              "      <td>agulhas</td>\n",
              "      <td>83</td>\n",
              "    </tr>\n",
              "    <tr>\n",
              "      <th>1</th>\n",
              "      <td>2017</td>\n",
              "      <td>1</td>\n",
              "      <td>airline</td>\n",
              "      <td>11</td>\n",
              "    </tr>\n",
              "    <tr>\n",
              "      <th>2</th>\n",
              "      <td>2017</td>\n",
              "      <td>1</td>\n",
              "      <td>allover</td>\n",
              "      <td>365</td>\n",
              "    </tr>\n",
              "    <tr>\n",
              "      <th>3</th>\n",
              "      <td>2017</td>\n",
              "      <td>1</td>\n",
              "      <td>amenity</td>\n",
              "      <td>21</td>\n",
              "    </tr>\n",
              "    <tr>\n",
              "      <th>4</th>\n",
              "      <td>2017</td>\n",
              "      <td>1</td>\n",
              "      <td>anchovy</td>\n",
              "      <td>74</td>\n",
              "    </tr>\n",
              "  </tbody>\n",
              "</table>\n",
              "</div>"
            ],
            "text/plain": [
              "   Year  Week_Number Customer  Volume\n",
              "0  2017            1  agulhas      83\n",
              "1  2017            1  airline      11\n",
              "2  2017            1  allover     365\n",
              "3  2017            1  amenity      21\n",
              "4  2017            1  anchovy      74"
            ]
          },
          "metadata": {
            "tags": []
          },
          "execution_count": 127
        }
      ]
    },
    {
      "cell_type": "code",
      "metadata": {
        "id": "N0oQ__-DH965",
        "colab_type": "code",
        "colab": {
          "base_uri": "https://localhost:8080/",
          "height": 415
        },
        "outputId": "168eb246-a236-47e9-ae6a-05ba92b38bb7"
      },
      "source": [
        "# File was without colnames...\n",
        "colnames=['Year', 'Week_Number', 'Customer', 'Volume', \"Event1\", \"Event2\"] \n",
        "df_events = pd.read_csv(path+file5,sep=\";\", names = colnames, header=None)\n",
        "df_events"
      ],
      "execution_count": 128,
      "outputs": [
        {
          "output_type": "execute_result",
          "data": {
            "text/html": [
              "<div>\n",
              "<style scoped>\n",
              "    .dataframe tbody tr th:only-of-type {\n",
              "        vertical-align: middle;\n",
              "    }\n",
              "\n",
              "    .dataframe tbody tr th {\n",
              "        vertical-align: top;\n",
              "    }\n",
              "\n",
              "    .dataframe thead th {\n",
              "        text-align: right;\n",
              "    }\n",
              "</style>\n",
              "<table border=\"1\" class=\"dataframe\">\n",
              "  <thead>\n",
              "    <tr style=\"text-align: right;\">\n",
              "      <th></th>\n",
              "      <th>Year</th>\n",
              "      <th>Week_Number</th>\n",
              "      <th>Customer</th>\n",
              "      <th>Volume</th>\n",
              "      <th>Event1</th>\n",
              "      <th>Event2</th>\n",
              "    </tr>\n",
              "  </thead>\n",
              "  <tbody>\n",
              "    <tr>\n",
              "      <th>0</th>\n",
              "      <td>2017</td>\n",
              "      <td>1</td>\n",
              "      <td>agulhas</td>\n",
              "      <td>83</td>\n",
              "      <td>NaN</td>\n",
              "      <td>NaN</td>\n",
              "    </tr>\n",
              "    <tr>\n",
              "      <th>1</th>\n",
              "      <td>2017</td>\n",
              "      <td>2</td>\n",
              "      <td>agulhas</td>\n",
              "      <td>98</td>\n",
              "      <td>NaN</td>\n",
              "      <td>NaN</td>\n",
              "    </tr>\n",
              "    <tr>\n",
              "      <th>2</th>\n",
              "      <td>2017</td>\n",
              "      <td>3</td>\n",
              "      <td>agulhas</td>\n",
              "      <td>57</td>\n",
              "      <td>NaN</td>\n",
              "      <td>NaN</td>\n",
              "    </tr>\n",
              "    <tr>\n",
              "      <th>3</th>\n",
              "      <td>2017</td>\n",
              "      <td>4</td>\n",
              "      <td>agulhas</td>\n",
              "      <td>127</td>\n",
              "      <td>NaN</td>\n",
              "      <td>NaN</td>\n",
              "    </tr>\n",
              "    <tr>\n",
              "      <th>4</th>\n",
              "      <td>2017</td>\n",
              "      <td>5</td>\n",
              "      <td>agulhas</td>\n",
              "      <td>121</td>\n",
              "      <td>NaN</td>\n",
              "      <td>NaN</td>\n",
              "    </tr>\n",
              "    <tr>\n",
              "      <th>...</th>\n",
              "      <td>...</td>\n",
              "      <td>...</td>\n",
              "      <td>...</td>\n",
              "      <td>...</td>\n",
              "      <td>...</td>\n",
              "      <td>...</td>\n",
              "    </tr>\n",
              "    <tr>\n",
              "      <th>12126</th>\n",
              "      <td>2019</td>\n",
              "      <td>13</td>\n",
              "      <td>woodser</td>\n",
              "      <td>1853</td>\n",
              "      <td>NaN</td>\n",
              "      <td>NaN</td>\n",
              "    </tr>\n",
              "    <tr>\n",
              "      <th>12127</th>\n",
              "      <td>2019</td>\n",
              "      <td>14</td>\n",
              "      <td>woodser</td>\n",
              "      <td>1618</td>\n",
              "      <td>NaN</td>\n",
              "      <td>NaN</td>\n",
              "    </tr>\n",
              "    <tr>\n",
              "      <th>12128</th>\n",
              "      <td>2019</td>\n",
              "      <td>15</td>\n",
              "      <td>woodser</td>\n",
              "      <td>1584</td>\n",
              "      <td>NaN</td>\n",
              "      <td>NaN</td>\n",
              "    </tr>\n",
              "    <tr>\n",
              "      <th>12129</th>\n",
              "      <td>2019</td>\n",
              "      <td>16</td>\n",
              "      <td>woodser</td>\n",
              "      <td>1732</td>\n",
              "      <td>NaN</td>\n",
              "      <td>NaN</td>\n",
              "    </tr>\n",
              "    <tr>\n",
              "      <th>12130</th>\n",
              "      <td>2019</td>\n",
              "      <td>17</td>\n",
              "      <td>woodser</td>\n",
              "      <td>1651</td>\n",
              "      <td>NaN</td>\n",
              "      <td>NaN</td>\n",
              "    </tr>\n",
              "  </tbody>\n",
              "</table>\n",
              "<p>12131 rows × 6 columns</p>\n",
              "</div>"
            ],
            "text/plain": [
              "       Year  Week_Number Customer  Volume Event1 Event2\n",
              "0      2017            1  agulhas      83    NaN    NaN\n",
              "1      2017            2  agulhas      98    NaN    NaN\n",
              "2      2017            3  agulhas      57    NaN    NaN\n",
              "3      2017            4  agulhas     127    NaN    NaN\n",
              "4      2017            5  agulhas     121    NaN    NaN\n",
              "...     ...          ...      ...     ...    ...    ...\n",
              "12126  2019           13  woodser    1853    NaN    NaN\n",
              "12127  2019           14  woodser    1618    NaN    NaN\n",
              "12128  2019           15  woodser    1584    NaN    NaN\n",
              "12129  2019           16  woodser    1732    NaN    NaN\n",
              "12130  2019           17  woodser    1651    NaN    NaN\n",
              "\n",
              "[12131 rows x 6 columns]"
            ]
          },
          "metadata": {
            "tags": []
          },
          "execution_count": 128
        }
      ]
    },
    {
      "cell_type": "code",
      "metadata": {
        "id": "rPSv8maoKAs9",
        "colab_type": "code",
        "colab": {
          "base_uri": "https://localhost:8080/",
          "height": 415
        },
        "outputId": "9ae8e14a-987d-4d61-b2fe-1bcec37410b8"
      },
      "source": [
        "# It might be not good ta have NaN for futher fork\n",
        "for column in df_events.columns:\n",
        "  df_events[column]=df_events[column].fillna(value = 0)\n",
        "df_events"
      ],
      "execution_count": 129,
      "outputs": [
        {
          "output_type": "execute_result",
          "data": {
            "text/html": [
              "<div>\n",
              "<style scoped>\n",
              "    .dataframe tbody tr th:only-of-type {\n",
              "        vertical-align: middle;\n",
              "    }\n",
              "\n",
              "    .dataframe tbody tr th {\n",
              "        vertical-align: top;\n",
              "    }\n",
              "\n",
              "    .dataframe thead th {\n",
              "        text-align: right;\n",
              "    }\n",
              "</style>\n",
              "<table border=\"1\" class=\"dataframe\">\n",
              "  <thead>\n",
              "    <tr style=\"text-align: right;\">\n",
              "      <th></th>\n",
              "      <th>Year</th>\n",
              "      <th>Week_Number</th>\n",
              "      <th>Customer</th>\n",
              "      <th>Volume</th>\n",
              "      <th>Event1</th>\n",
              "      <th>Event2</th>\n",
              "    </tr>\n",
              "  </thead>\n",
              "  <tbody>\n",
              "    <tr>\n",
              "      <th>0</th>\n",
              "      <td>2017</td>\n",
              "      <td>1</td>\n",
              "      <td>agulhas</td>\n",
              "      <td>83</td>\n",
              "      <td>0</td>\n",
              "      <td>0</td>\n",
              "    </tr>\n",
              "    <tr>\n",
              "      <th>1</th>\n",
              "      <td>2017</td>\n",
              "      <td>2</td>\n",
              "      <td>agulhas</td>\n",
              "      <td>98</td>\n",
              "      <td>0</td>\n",
              "      <td>0</td>\n",
              "    </tr>\n",
              "    <tr>\n",
              "      <th>2</th>\n",
              "      <td>2017</td>\n",
              "      <td>3</td>\n",
              "      <td>agulhas</td>\n",
              "      <td>57</td>\n",
              "      <td>0</td>\n",
              "      <td>0</td>\n",
              "    </tr>\n",
              "    <tr>\n",
              "      <th>3</th>\n",
              "      <td>2017</td>\n",
              "      <td>4</td>\n",
              "      <td>agulhas</td>\n",
              "      <td>127</td>\n",
              "      <td>0</td>\n",
              "      <td>0</td>\n",
              "    </tr>\n",
              "    <tr>\n",
              "      <th>4</th>\n",
              "      <td>2017</td>\n",
              "      <td>5</td>\n",
              "      <td>agulhas</td>\n",
              "      <td>121</td>\n",
              "      <td>0</td>\n",
              "      <td>0</td>\n",
              "    </tr>\n",
              "    <tr>\n",
              "      <th>...</th>\n",
              "      <td>...</td>\n",
              "      <td>...</td>\n",
              "      <td>...</td>\n",
              "      <td>...</td>\n",
              "      <td>...</td>\n",
              "      <td>...</td>\n",
              "    </tr>\n",
              "    <tr>\n",
              "      <th>12126</th>\n",
              "      <td>2019</td>\n",
              "      <td>13</td>\n",
              "      <td>woodser</td>\n",
              "      <td>1853</td>\n",
              "      <td>0</td>\n",
              "      <td>0</td>\n",
              "    </tr>\n",
              "    <tr>\n",
              "      <th>12127</th>\n",
              "      <td>2019</td>\n",
              "      <td>14</td>\n",
              "      <td>woodser</td>\n",
              "      <td>1618</td>\n",
              "      <td>0</td>\n",
              "      <td>0</td>\n",
              "    </tr>\n",
              "    <tr>\n",
              "      <th>12128</th>\n",
              "      <td>2019</td>\n",
              "      <td>15</td>\n",
              "      <td>woodser</td>\n",
              "      <td>1584</td>\n",
              "      <td>0</td>\n",
              "      <td>0</td>\n",
              "    </tr>\n",
              "    <tr>\n",
              "      <th>12129</th>\n",
              "      <td>2019</td>\n",
              "      <td>16</td>\n",
              "      <td>woodser</td>\n",
              "      <td>1732</td>\n",
              "      <td>0</td>\n",
              "      <td>0</td>\n",
              "    </tr>\n",
              "    <tr>\n",
              "      <th>12130</th>\n",
              "      <td>2019</td>\n",
              "      <td>17</td>\n",
              "      <td>woodser</td>\n",
              "      <td>1651</td>\n",
              "      <td>0</td>\n",
              "      <td>0</td>\n",
              "    </tr>\n",
              "  </tbody>\n",
              "</table>\n",
              "<p>12131 rows × 6 columns</p>\n",
              "</div>"
            ],
            "text/plain": [
              "       Year  Week_Number Customer  Volume Event1 Event2\n",
              "0      2017            1  agulhas      83      0      0\n",
              "1      2017            2  agulhas      98      0      0\n",
              "2      2017            3  agulhas      57      0      0\n",
              "3      2017            4  agulhas     127      0      0\n",
              "4      2017            5  agulhas     121      0      0\n",
              "...     ...          ...      ...     ...    ...    ...\n",
              "12126  2019           13  woodser    1853      0      0\n",
              "12127  2019           14  woodser    1618      0      0\n",
              "12128  2019           15  woodser    1584      0      0\n",
              "12129  2019           16  woodser    1732      0      0\n",
              "12130  2019           17  woodser    1651      0      0\n",
              "\n",
              "[12131 rows x 6 columns]"
            ]
          },
          "metadata": {
            "tags": []
          },
          "execution_count": 129
        }
      ]
    },
    {
      "cell_type": "code",
      "metadata": {
        "id": "G3n5OzlM8tC6",
        "colab_type": "code",
        "colab": {
          "base_uri": "https://localhost:8080/",
          "height": 503
        },
        "outputId": "72efa6bb-3686-42e8-c660-8e821e202f0a"
      },
      "source": [
        "df_united_values[\"Week_Number\"].hist(figsize=(18,8))"
      ],
      "execution_count": 130,
      "outputs": [
        {
          "output_type": "execute_result",
          "data": {
            "text/plain": [
              "<matplotlib.axes._subplots.AxesSubplot at 0x7f980c720a20>"
            ]
          },
          "metadata": {
            "tags": []
          },
          "execution_count": 130
        },
        {
          "output_type": "display_data",
          "data": {
            "image/png": "[encoded data removed]",
            "text/plain": [
              "<Figure size 1296x576 with 1 Axes>"
            ]
          },
          "metadata": {
            "tags": [],
            "needs_background": "light"
          }
        }
      ]
    },
    {
      "cell_type": "code",
      "metadata": {
        "id": "dPy_jqj62kCF",
        "colab_type": "code",
        "colab": {
          "base_uri": "https://localhost:8080/",
          "height": 503
        },
        "outputId": "7dd912d4-e564-48b3-aabf-b125377685b3"
      },
      "source": [
        "df_united_values[\"Year\"].hist(figsize=(10,8))"
      ],
      "execution_count": 131,
      "outputs": [
        {
          "output_type": "execute_result",
          "data": {
            "text/plain": [
              "<matplotlib.axes._subplots.AxesSubplot at 0x7f980c925898>"
            ]
          },
          "metadata": {
            "tags": []
          },
          "execution_count": 131
        },
        {
          "output_type": "display_data",
          "data": {
            "image/png": "[encoded data removed]",
            "text/plain": [
              "<Figure size 720x576 with 1 Axes>"
            ]
          },
          "metadata": {
            "tags": [],
            "needs_background": "light"
          }
        }
      ]
    },
    {
      "cell_type": "code",
      "metadata": {
        "id": "F-OTZNSg5EH5",
        "colab_type": "code",
        "colab": {
          "base_uri": "https://localhost:8080/",
          "height": 202
        },
        "outputId": "202223c9-bfb7-410e-97b8-e3ee73679398"
      },
      "source": [
        "# Create a new column, kind of chronological time\n",
        "# year_week\n",
        "df_united_values[['Year', 'Week_Number']] = df_united_values[['Year', 'Week_Number']].astype(int).astype(str)\n",
        "df_united_values[\"Year_Week\"] = df_united_values[\"Year\"] + \"-\" + df_united_values[\"Week_Number\"]\n",
        "df_united_values.head(5)"
      ],
      "execution_count": 132,
      "outputs": [
        {
          "output_type": "execute_result",
          "data": {
            "text/html": [
              "<div>\n",
              "<style scoped>\n",
              "    .dataframe tbody tr th:only-of-type {\n",
              "        vertical-align: middle;\n",
              "    }\n",
              "\n",
              "    .dataframe tbody tr th {\n",
              "        vertical-align: top;\n",
              "    }\n",
              "\n",
              "    .dataframe thead th {\n",
              "        text-align: right;\n",
              "    }\n",
              "</style>\n",
              "<table border=\"1\" class=\"dataframe\">\n",
              "  <thead>\n",
              "    <tr style=\"text-align: right;\">\n",
              "      <th></th>\n",
              "      <th>Year</th>\n",
              "      <th>Week_Number</th>\n",
              "      <th>Customer</th>\n",
              "      <th>Volume</th>\n",
              "      <th>Year_Week</th>\n",
              "    </tr>\n",
              "  </thead>\n",
              "  <tbody>\n",
              "    <tr>\n",
              "      <th>0</th>\n",
              "      <td>2017</td>\n",
              "      <td>1</td>\n",
              "      <td>agulhas</td>\n",
              "      <td>83</td>\n",
              "      <td>2017-1</td>\n",
              "    </tr>\n",
              "    <tr>\n",
              "      <th>1</th>\n",
              "      <td>2017</td>\n",
              "      <td>1</td>\n",
              "      <td>airline</td>\n",
              "      <td>11</td>\n",
              "      <td>2017-1</td>\n",
              "    </tr>\n",
              "    <tr>\n",
              "      <th>2</th>\n",
              "      <td>2017</td>\n",
              "      <td>1</td>\n",
              "      <td>allover</td>\n",
              "      <td>365</td>\n",
              "      <td>2017-1</td>\n",
              "    </tr>\n",
              "    <tr>\n",
              "      <th>3</th>\n",
              "      <td>2017</td>\n",
              "      <td>1</td>\n",
              "      <td>amenity</td>\n",
              "      <td>21</td>\n",
              "      <td>2017-1</td>\n",
              "    </tr>\n",
              "    <tr>\n",
              "      <th>4</th>\n",
              "      <td>2017</td>\n",
              "      <td>1</td>\n",
              "      <td>anchovy</td>\n",
              "      <td>74</td>\n",
              "      <td>2017-1</td>\n",
              "    </tr>\n",
              "  </tbody>\n",
              "</table>\n",
              "</div>"
            ],
            "text/plain": [
              "   Year Week_Number Customer  Volume Year_Week\n",
              "0  2017           1  agulhas      83    2017-1\n",
              "1  2017           1  airline      11    2017-1\n",
              "2  2017           1  allover     365    2017-1\n",
              "3  2017           1  amenity      21    2017-1\n",
              "4  2017           1  anchovy      74    2017-1"
            ]
          },
          "metadata": {
            "tags": []
          },
          "execution_count": 132
        }
      ]
    },
    {
      "cell_type": "code",
      "metadata": {
        "id": "-csMUjTi9wi0",
        "colab_type": "code",
        "colab": {
          "base_uri": "https://localhost:8080/",
          "height": 415
        },
        "outputId": "48e62a3b-4ca0-492c-e8d5-86cc97be4251"
      },
      "source": [
        "df_united_values"
      ],
      "execution_count": 133,
      "outputs": [
        {
          "output_type": "execute_result",
          "data": {
            "text/html": [
              "<div>\n",
              "<style scoped>\n",
              "    .dataframe tbody tr th:only-of-type {\n",
              "        vertical-align: middle;\n",
              "    }\n",
              "\n",
              "    .dataframe tbody tr th {\n",
              "        vertical-align: top;\n",
              "    }\n",
              "\n",
              "    .dataframe thead th {\n",
              "        text-align: right;\n",
              "    }\n",
              "</style>\n",
              "<table border=\"1\" class=\"dataframe\">\n",
              "  <thead>\n",
              "    <tr style=\"text-align: right;\">\n",
              "      <th></th>\n",
              "      <th>Year</th>\n",
              "      <th>Week_Number</th>\n",
              "      <th>Customer</th>\n",
              "      <th>Volume</th>\n",
              "      <th>Year_Week</th>\n",
              "    </tr>\n",
              "  </thead>\n",
              "  <tbody>\n",
              "    <tr>\n",
              "      <th>0</th>\n",
              "      <td>2017</td>\n",
              "      <td>1</td>\n",
              "      <td>agulhas</td>\n",
              "      <td>83</td>\n",
              "      <td>2017-1</td>\n",
              "    </tr>\n",
              "    <tr>\n",
              "      <th>1</th>\n",
              "      <td>2017</td>\n",
              "      <td>1</td>\n",
              "      <td>airline</td>\n",
              "      <td>11</td>\n",
              "      <td>2017-1</td>\n",
              "    </tr>\n",
              "    <tr>\n",
              "      <th>2</th>\n",
              "      <td>2017</td>\n",
              "      <td>1</td>\n",
              "      <td>allover</td>\n",
              "      <td>365</td>\n",
              "      <td>2017-1</td>\n",
              "    </tr>\n",
              "    <tr>\n",
              "      <th>3</th>\n",
              "      <td>2017</td>\n",
              "      <td>1</td>\n",
              "      <td>amenity</td>\n",
              "      <td>21</td>\n",
              "      <td>2017-1</td>\n",
              "    </tr>\n",
              "    <tr>\n",
              "      <th>4</th>\n",
              "      <td>2017</td>\n",
              "      <td>1</td>\n",
              "      <td>anchovy</td>\n",
              "      <td>74</td>\n",
              "      <td>2017-1</td>\n",
              "    </tr>\n",
              "    <tr>\n",
              "      <th>...</th>\n",
              "      <td>...</td>\n",
              "      <td>...</td>\n",
              "      <td>...</td>\n",
              "      <td>...</td>\n",
              "      <td>...</td>\n",
              "    </tr>\n",
              "    <tr>\n",
              "      <th>12126</th>\n",
              "      <td>2019</td>\n",
              "      <td>13</td>\n",
              "      <td>woodser</td>\n",
              "      <td>1853</td>\n",
              "      <td>2019-13</td>\n",
              "    </tr>\n",
              "    <tr>\n",
              "      <th>12127</th>\n",
              "      <td>2019</td>\n",
              "      <td>14</td>\n",
              "      <td>woodser</td>\n",
              "      <td>1618</td>\n",
              "      <td>2019-14</td>\n",
              "    </tr>\n",
              "    <tr>\n",
              "      <th>12128</th>\n",
              "      <td>2019</td>\n",
              "      <td>15</td>\n",
              "      <td>woodser</td>\n",
              "      <td>1584</td>\n",
              "      <td>2019-15</td>\n",
              "    </tr>\n",
              "    <tr>\n",
              "      <th>12129</th>\n",
              "      <td>2019</td>\n",
              "      <td>16</td>\n",
              "      <td>woodser</td>\n",
              "      <td>1732</td>\n",
              "      <td>2019-16</td>\n",
              "    </tr>\n",
              "    <tr>\n",
              "      <th>12130</th>\n",
              "      <td>2019</td>\n",
              "      <td>17</td>\n",
              "      <td>woodser</td>\n",
              "      <td>1651</td>\n",
              "      <td>2019-17</td>\n",
              "    </tr>\n",
              "  </tbody>\n",
              "</table>\n",
              "<p>12131 rows × 5 columns</p>\n",
              "</div>"
            ],
            "text/plain": [
              "       Year Week_Number Customer  Volume Year_Week\n",
              "0      2017           1  agulhas      83    2017-1\n",
              "1      2017           1  airline      11    2017-1\n",
              "2      2017           1  allover     365    2017-1\n",
              "3      2017           1  amenity      21    2017-1\n",
              "4      2017           1  anchovy      74    2017-1\n",
              "...     ...         ...      ...     ...       ...\n",
              "12126  2019          13  woodser    1853   2019-13\n",
              "12127  2019          14  woodser    1618   2019-14\n",
              "12128  2019          15  woodser    1584   2019-15\n",
              "12129  2019          16  woodser    1732   2019-16\n",
              "12130  2019          17  woodser    1651   2019-17\n",
              "\n",
              "[12131 rows x 5 columns]"
            ]
          },
          "metadata": {
            "tags": []
          },
          "execution_count": 133
        }
      ]
    },
    {
      "cell_type": "code",
      "metadata": {
        "id": "I3f09eVy-jKe",
        "colab_type": "code",
        "colab": {
          "base_uri": "https://localhost:8080/",
          "height": 49
        },
        "outputId": "8f678b0e-d8e3-4313-eee7-f641642a7829"
      },
      "source": [
        "temp_df_united_values_2016 = df_united_values.loc[(df_united_values[\"Year\"] == 2016) ]\n",
        "temp_df_united_values_2016"
      ],
      "execution_count": 134,
      "outputs": [
        {
          "output_type": "execute_result",
          "data": {
            "text/html": [
              "<div>\n",
              "<style scoped>\n",
              "    .dataframe tbody tr th:only-of-type {\n",
              "        vertical-align: middle;\n",
              "    }\n",
              "\n",
              "    .dataframe tbody tr th {\n",
              "        vertical-align: top;\n",
              "    }\n",
              "\n",
              "    .dataframe thead th {\n",
              "        text-align: right;\n",
              "    }\n",
              "</style>\n",
              "<table border=\"1\" class=\"dataframe\">\n",
              "  <thead>\n",
              "    <tr style=\"text-align: right;\">\n",
              "      <th></th>\n",
              "      <th>Year</th>\n",
              "      <th>Week_Number</th>\n",
              "      <th>Customer</th>\n",
              "      <th>Volume</th>\n",
              "      <th>Year_Week</th>\n",
              "    </tr>\n",
              "  </thead>\n",
              "  <tbody>\n",
              "  </tbody>\n",
              "</table>\n",
              "</div>"
            ],
            "text/plain": [
              "Empty DataFrame\n",
              "Columns: [Year, Week_Number, Customer, Volume, Year_Week]\n",
              "Index: []"
            ]
          },
          "metadata": {
            "tags": []
          },
          "execution_count": 134
        }
      ]
    },
    {
      "cell_type": "code",
      "metadata": {
        "id": "PFYhkFZgOfLx",
        "colab_type": "code",
        "colab": {
          "base_uri": "https://localhost:8080/",
          "height": 330
        },
        "outputId": "e0dad3a4-b152-4240-9bdb-6899a917ef18"
      },
      "source": [
        "sns.set(style=\"whitegrid\") # does not change if commented\n",
        "plt.figure(figsize=(20,5))\n",
        "ax = sns.lineplot(x=\"Year_Week\", y=\"Volume\", data=df_united_values)\n",
        "# We need the united column \"year_week\" and we need to plot against it. \n",
        "# To have the true chronology\n",
        "\n",
        "\n"
      ],
      "execution_count": 135,
      "outputs": [
        {
          "output_type": "display_data",
          "data": {
            "image/png": "[encoded data removed]",
            "text/plain": [
              "<Figure size 1440x360 with 1 Axes>"
            ]
          },
          "metadata": {
            "tags": []
          }
        }
      ]
    },
    {
      "cell_type": "code",
      "metadata": {
        "id": "fxXUZpx9BJFx",
        "colab_type": "code",
        "colab": {
          "base_uri": "https://localhost:8080/",
          "height": 485
        },
        "outputId": "e6c7be99-f878-4ae1-cd4b-898d28a052a3"
      },
      "source": [
        "list_data = [df_united_values.loc[:\"2017-3\", df_united_values.columns.to_list()], df_united_values.loc[\"2017-4\":, df_united_values.columns.to_list()]]\n",
        "#ax = sns.lineplot(data=list_data)\n",
        "#sns.set(style=\"whitegrid\") # does not change if commented\n",
        "#[wide_df.loc[:\"2005\", \"a\"], wide_df.loc[\"2003\":, \"b\"]]\n",
        "#ax = sns.lineplot(x=\"Year_Week\", y=\"Volume\", data= d)\n",
        "print(list_data)"
      ],
      "execution_count": 136,
      "outputs": [
        {
          "output_type": "stream",
          "text": [
            "[      Year Week_Number Customer  Volume Year_Week\n",
            "0     2017           1  agulhas      83    2017-1\n",
            "1     2017           1  airline      11    2017-1\n",
            "2     2017           1  allover     365    2017-1\n",
            "3     2017           1  amenity      21    2017-1\n",
            "4     2017           1  anchovy      74    2017-1\n",
            "...    ...         ...      ...     ...       ...\n",
            "2013  2017          20  quamash      66   2017-20\n",
            "2014  2017          20  recarve   13349   2017-20\n",
            "2015  2017          20  regosol    1766   2017-20\n",
            "2016  2017          20  rending      50   2017-20\n",
            "2017  2017          20  saurian     702   2017-20\n",
            "\n",
            "[2018 rows x 5 columns],        Year Week_Number Customer  Volume Year_Week\n",
            "2018   2017          20  scalpel    1128   2017-20\n",
            "2019   2017          20  scauper      25   2017-20\n",
            "2020   2017          20  seattle   10769   2017-20\n",
            "2021   2017          20  service      76   2017-20\n",
            "2022   2017          20  shaptin   21946   2017-20\n",
            "...     ...         ...      ...     ...       ...\n",
            "12126  2019          13  woodser    1853   2019-13\n",
            "12127  2019          14  woodser    1618   2019-14\n",
            "12128  2019          15  woodser    1584   2019-15\n",
            "12129  2019          16  woodser    1732   2019-16\n",
            "12130  2019          17  woodser    1651   2019-17\n",
            "\n",
            "[10113 rows x 5 columns]]\n"
          ],
          "name": "stdout"
        }
      ]
    },
    {
      "cell_type": "code",
      "metadata": {
        "id": "5NI7vPP5xMTZ",
        "colab_type": "code",
        "colab": {}
      },
      "source": [
        "#Old Groups 1\n",
        "customer_df_united_values = df_united_values[\"Customer\"].unique().tolist()\n",
        "\n",
        "dict_df_united_values = {}\n",
        "for customer in customer_df_united_values:\n",
        "  dict_df_united_values[customer] = 0\n",
        "\n",
        "\n",
        "for key in dict_df_united_values:\n",
        "  x = df_united_values.loc[df_united_values[\"Customer\"] == key]\n",
        "  sum_of_category = sum(x[\"Volume\"])\n",
        "  dict_df_united_values[key] += sum_of_category"
      ],
      "execution_count": 137,
      "outputs": []
    },
    {
      "cell_type": "code",
      "metadata": {
        "id": "boJMXsecxYWg",
        "colab_type": "code",
        "colab": {
          "base_uri": "https://localhost:8080/",
          "height": 202
        },
        "outputId": "b876f102-1f51-40d9-bb20-a2d15a4ef606"
      },
      "source": [
        "#Old Groups 2 for df_united_values\n",
        "for  key, value in dict_df_united_values.items():\n",
        " #print()\n",
        "  if dict_df_united_values[key] < 10000:\n",
        "    dict_df_united_values[key] = \"Small\"\n",
        "  elif dict_df_united_values[key] >=10000 and dict_df_united_values[key] <= 500000:\n",
        "    dict_df_united_values[key] = \"Medium\"\n",
        "  else:\n",
        "    dict_df_united_values[key] = \"Large\"\n",
        "\n",
        "df_united_values.head()    "
      ],
      "execution_count": 138,
      "outputs": [
        {
          "output_type": "execute_result",
          "data": {
            "text/html": [
              "<div>\n",
              "<style scoped>\n",
              "    .dataframe tbody tr th:only-of-type {\n",
              "        vertical-align: middle;\n",
              "    }\n",
              "\n",
              "    .dataframe tbody tr th {\n",
              "        vertical-align: top;\n",
              "    }\n",
              "\n",
              "    .dataframe thead th {\n",
              "        text-align: right;\n",
              "    }\n",
              "</style>\n",
              "<table border=\"1\" class=\"dataframe\">\n",
              "  <thead>\n",
              "    <tr style=\"text-align: right;\">\n",
              "      <th></th>\n",
              "      <th>Year</th>\n",
              "      <th>Week_Number</th>\n",
              "      <th>Customer</th>\n",
              "      <th>Volume</th>\n",
              "      <th>Year_Week</th>\n",
              "    </tr>\n",
              "  </thead>\n",
              "  <tbody>\n",
              "    <tr>\n",
              "      <th>0</th>\n",
              "      <td>2017</td>\n",
              "      <td>1</td>\n",
              "      <td>agulhas</td>\n",
              "      <td>83</td>\n",
              "      <td>2017-1</td>\n",
              "    </tr>\n",
              "    <tr>\n",
              "      <th>1</th>\n",
              "      <td>2017</td>\n",
              "      <td>1</td>\n",
              "      <td>airline</td>\n",
              "      <td>11</td>\n",
              "      <td>2017-1</td>\n",
              "    </tr>\n",
              "    <tr>\n",
              "      <th>2</th>\n",
              "      <td>2017</td>\n",
              "      <td>1</td>\n",
              "      <td>allover</td>\n",
              "      <td>365</td>\n",
              "      <td>2017-1</td>\n",
              "    </tr>\n",
              "    <tr>\n",
              "      <th>3</th>\n",
              "      <td>2017</td>\n",
              "      <td>1</td>\n",
              "      <td>amenity</td>\n",
              "      <td>21</td>\n",
              "      <td>2017-1</td>\n",
              "    </tr>\n",
              "    <tr>\n",
              "      <th>4</th>\n",
              "      <td>2017</td>\n",
              "      <td>1</td>\n",
              "      <td>anchovy</td>\n",
              "      <td>74</td>\n",
              "      <td>2017-1</td>\n",
              "    </tr>\n",
              "  </tbody>\n",
              "</table>\n",
              "</div>"
            ],
            "text/plain": [
              "   Year Week_Number Customer  Volume Year_Week\n",
              "0  2017           1  agulhas      83    2017-1\n",
              "1  2017           1  airline      11    2017-1\n",
              "2  2017           1  allover     365    2017-1\n",
              "3  2017           1  amenity      21    2017-1\n",
              "4  2017           1  anchovy      74    2017-1"
            ]
          },
          "metadata": {
            "tags": []
          },
          "execution_count": 138
        }
      ]
    },
    {
      "cell_type": "code",
      "metadata": {
        "id": "HL_VEieWlUiX",
        "colab_type": "code",
        "colab": {
          "base_uri": "https://localhost:8080/",
          "height": 415
        },
        "outputId": "5cf12f5e-36be-4a21-c669-d67aa0abf765"
      },
      "source": [
        "df_united_values[\"Groups\"] = df_united_values[\"Customer\"].map(dict_df_2017) \n",
        "df_united_values"
      ],
      "execution_count": 139,
      "outputs": [
        {
          "output_type": "execute_result",
          "data": {
            "text/html": [
              "<div>\n",
              "<style scoped>\n",
              "    .dataframe tbody tr th:only-of-type {\n",
              "        vertical-align: middle;\n",
              "    }\n",
              "\n",
              "    .dataframe tbody tr th {\n",
              "        vertical-align: top;\n",
              "    }\n",
              "\n",
              "    .dataframe thead th {\n",
              "        text-align: right;\n",
              "    }\n",
              "</style>\n",
              "<table border=\"1\" class=\"dataframe\">\n",
              "  <thead>\n",
              "    <tr style=\"text-align: right;\">\n",
              "      <th></th>\n",
              "      <th>Year</th>\n",
              "      <th>Week_Number</th>\n",
              "      <th>Customer</th>\n",
              "      <th>Volume</th>\n",
              "      <th>Year_Week</th>\n",
              "      <th>Groups</th>\n",
              "    </tr>\n",
              "  </thead>\n",
              "  <tbody>\n",
              "    <tr>\n",
              "      <th>0</th>\n",
              "      <td>2017</td>\n",
              "      <td>1</td>\n",
              "      <td>agulhas</td>\n",
              "      <td>83</td>\n",
              "      <td>2017-1</td>\n",
              "      <td>Small</td>\n",
              "    </tr>\n",
              "    <tr>\n",
              "      <th>1</th>\n",
              "      <td>2017</td>\n",
              "      <td>1</td>\n",
              "      <td>airline</td>\n",
              "      <td>11</td>\n",
              "      <td>2017-1</td>\n",
              "      <td>Small</td>\n",
              "    </tr>\n",
              "    <tr>\n",
              "      <th>2</th>\n",
              "      <td>2017</td>\n",
              "      <td>1</td>\n",
              "      <td>allover</td>\n",
              "      <td>365</td>\n",
              "      <td>2017-1</td>\n",
              "      <td>Medium</td>\n",
              "    </tr>\n",
              "    <tr>\n",
              "      <th>3</th>\n",
              "      <td>2017</td>\n",
              "      <td>1</td>\n",
              "      <td>amenity</td>\n",
              "      <td>21</td>\n",
              "      <td>2017-1</td>\n",
              "      <td>Small</td>\n",
              "    </tr>\n",
              "    <tr>\n",
              "      <th>4</th>\n",
              "      <td>2017</td>\n",
              "      <td>1</td>\n",
              "      <td>anchovy</td>\n",
              "      <td>74</td>\n",
              "      <td>2017-1</td>\n",
              "      <td>Small</td>\n",
              "    </tr>\n",
              "    <tr>\n",
              "      <th>...</th>\n",
              "      <td>...</td>\n",
              "      <td>...</td>\n",
              "      <td>...</td>\n",
              "      <td>...</td>\n",
              "      <td>...</td>\n",
              "      <td>...</td>\n",
              "    </tr>\n",
              "    <tr>\n",
              "      <th>12126</th>\n",
              "      <td>2019</td>\n",
              "      <td>13</td>\n",
              "      <td>woodser</td>\n",
              "      <td>1853</td>\n",
              "      <td>2019-13</td>\n",
              "      <td>Medium</td>\n",
              "    </tr>\n",
              "    <tr>\n",
              "      <th>12127</th>\n",
              "      <td>2019</td>\n",
              "      <td>14</td>\n",
              "      <td>woodser</td>\n",
              "      <td>1618</td>\n",
              "      <td>2019-14</td>\n",
              "      <td>Medium</td>\n",
              "    </tr>\n",
              "    <tr>\n",
              "      <th>12128</th>\n",
              "      <td>2019</td>\n",
              "      <td>15</td>\n",
              "      <td>woodser</td>\n",
              "      <td>1584</td>\n",
              "      <td>2019-15</td>\n",
              "      <td>Medium</td>\n",
              "    </tr>\n",
              "    <tr>\n",
              "      <th>12129</th>\n",
              "      <td>2019</td>\n",
              "      <td>16</td>\n",
              "      <td>woodser</td>\n",
              "      <td>1732</td>\n",
              "      <td>2019-16</td>\n",
              "      <td>Medium</td>\n",
              "    </tr>\n",
              "    <tr>\n",
              "      <th>12130</th>\n",
              "      <td>2019</td>\n",
              "      <td>17</td>\n",
              "      <td>woodser</td>\n",
              "      <td>1651</td>\n",
              "      <td>2019-17</td>\n",
              "      <td>Medium</td>\n",
              "    </tr>\n",
              "  </tbody>\n",
              "</table>\n",
              "<p>12131 rows × 6 columns</p>\n",
              "</div>"
            ],
            "text/plain": [
              "       Year Week_Number Customer  Volume Year_Week  Groups\n",
              "0      2017           1  agulhas      83    2017-1   Small\n",
              "1      2017           1  airline      11    2017-1   Small\n",
              "2      2017           1  allover     365    2017-1  Medium\n",
              "3      2017           1  amenity      21    2017-1   Small\n",
              "4      2017           1  anchovy      74    2017-1   Small\n",
              "...     ...         ...      ...     ...       ...     ...\n",
              "12126  2019          13  woodser    1853   2019-13  Medium\n",
              "12127  2019          14  woodser    1618   2019-14  Medium\n",
              "12128  2019          15  woodser    1584   2019-15  Medium\n",
              "12129  2019          16  woodser    1732   2019-16  Medium\n",
              "12130  2019          17  woodser    1651   2019-17  Medium\n",
              "\n",
              "[12131 rows x 6 columns]"
            ]
          },
          "metadata": {
            "tags": []
          },
          "execution_count": 139
        }
      ]
    },
    {
      "cell_type": "code",
      "metadata": {
        "id": "v6cCt8o9XZsg",
        "colab_type": "code",
        "colab": {
          "base_uri": "https://localhost:8080/",
          "height": 341
        },
        "outputId": "2663df6e-d116-480c-e8cc-a599fbc14df4"
      },
      "source": [
        "# New visualisation starts here:\n",
        "sns.set(style=\"ticks\")\n",
        "plt.figure(figsize=(20,5))\n",
        "df_2017[\"Groups_2017\"].hist()"
      ],
      "execution_count": 140,
      "outputs": [
        {
          "output_type": "execute_result",
          "data": {
            "text/plain": [
              "<matplotlib.axes._subplots.AxesSubplot at 0x7f980bf46358>"
            ]
          },
          "metadata": {
            "tags": []
          },
          "execution_count": 140
        },
        {
          "output_type": "display_data",
          "data": {
            "image/png": "[encoded data removed]",
            "text/plain": [
              "<Figure size 1440x360 with 1 Axes>"
            ]
          },
          "metadata": {
            "tags": []
          }
        }
      ]
    },
    {
      "cell_type": "code",
      "metadata": {
        "id": "Pms2J9SubWCS",
        "colab_type": "code",
        "colab": {
          "base_uri": "https://localhost:8080/",
          "height": 415
        },
        "outputId": "459405d5-6fff-47c8-bc26-8292270f35bf"
      },
      "source": [
        "temp_df_2017_small = df_2017.loc[df_2017[\"Groups_2017\"] == \"Small\"]\n",
        "temp_df_2017_small"
      ],
      "execution_count": 141,
      "outputs": [
        {
          "output_type": "execute_result",
          "data": {
            "text/html": [
              "<div>\n",
              "<style scoped>\n",
              "    .dataframe tbody tr th:only-of-type {\n",
              "        vertical-align: middle;\n",
              "    }\n",
              "\n",
              "    .dataframe tbody tr th {\n",
              "        vertical-align: top;\n",
              "    }\n",
              "\n",
              "    .dataframe thead th {\n",
              "        text-align: right;\n",
              "    }\n",
              "</style>\n",
              "<table border=\"1\" class=\"dataframe\">\n",
              "  <thead>\n",
              "    <tr style=\"text-align: right;\">\n",
              "      <th></th>\n",
              "      <th>Year</th>\n",
              "      <th>Week_Number</th>\n",
              "      <th>Customer</th>\n",
              "      <th>Volume</th>\n",
              "      <th>Groups_2017</th>\n",
              "    </tr>\n",
              "  </thead>\n",
              "  <tbody>\n",
              "    <tr>\n",
              "      <th>0</th>\n",
              "      <td>2017.0</td>\n",
              "      <td>1.0</td>\n",
              "      <td>agulhas</td>\n",
              "      <td>83.0</td>\n",
              "      <td>Small</td>\n",
              "    </tr>\n",
              "    <tr>\n",
              "      <th>1</th>\n",
              "      <td>2017.0</td>\n",
              "      <td>1.0</td>\n",
              "      <td>airline</td>\n",
              "      <td>11.0</td>\n",
              "      <td>Small</td>\n",
              "    </tr>\n",
              "    <tr>\n",
              "      <th>3</th>\n",
              "      <td>2017.0</td>\n",
              "      <td>1.0</td>\n",
              "      <td>amenity</td>\n",
              "      <td>21.0</td>\n",
              "      <td>Small</td>\n",
              "    </tr>\n",
              "    <tr>\n",
              "      <th>4</th>\n",
              "      <td>2017.0</td>\n",
              "      <td>1.0</td>\n",
              "      <td>anchovy</td>\n",
              "      <td>74.0</td>\n",
              "      <td>Small</td>\n",
              "    </tr>\n",
              "    <tr>\n",
              "      <th>6</th>\n",
              "      <td>2017.0</td>\n",
              "      <td>1.0</td>\n",
              "      <td>aplitic</td>\n",
              "      <td>38.0</td>\n",
              "      <td>Small</td>\n",
              "    </tr>\n",
              "    <tr>\n",
              "      <th>...</th>\n",
              "      <td>...</td>\n",
              "      <td>...</td>\n",
              "      <td>...</td>\n",
              "      <td>...</td>\n",
              "      <td>...</td>\n",
              "    </tr>\n",
              "    <tr>\n",
              "      <th>5397</th>\n",
              "      <td>2018.0</td>\n",
              "      <td>1.0</td>\n",
              "      <td>swaddle</td>\n",
              "      <td>0.0</td>\n",
              "      <td>Small</td>\n",
              "    </tr>\n",
              "    <tr>\n",
              "      <th>5401</th>\n",
              "      <td>2018.0</td>\n",
              "      <td>1.0</td>\n",
              "      <td>tripoli</td>\n",
              "      <td>24.0</td>\n",
              "      <td>Small</td>\n",
              "    </tr>\n",
              "    <tr>\n",
              "      <th>5402</th>\n",
              "      <td>2018.0</td>\n",
              "      <td>1.0</td>\n",
              "      <td>trismus</td>\n",
              "      <td>9.0</td>\n",
              "      <td>Small</td>\n",
              "    </tr>\n",
              "    <tr>\n",
              "      <th>5403</th>\n",
              "      <td>2018.0</td>\n",
              "      <td>1.0</td>\n",
              "      <td>twinned</td>\n",
              "      <td>149.0</td>\n",
              "      <td>Small</td>\n",
              "    </tr>\n",
              "    <tr>\n",
              "      <th>5406</th>\n",
              "      <td>2017.0</td>\n",
              "      <td>1.0</td>\n",
              "      <td>agulhas</td>\n",
              "      <td>0.0</td>\n",
              "      <td>Small</td>\n",
              "    </tr>\n",
              "  </tbody>\n",
              "</table>\n",
              "<p>2386 rows × 5 columns</p>\n",
              "</div>"
            ],
            "text/plain": [
              "        Year  Week_Number Customer  Volume Groups_2017\n",
              "0     2017.0          1.0  agulhas    83.0       Small\n",
              "1     2017.0          1.0  airline    11.0       Small\n",
              "3     2017.0          1.0  amenity    21.0       Small\n",
              "4     2017.0          1.0  anchovy    74.0       Small\n",
              "6     2017.0          1.0  aplitic    38.0       Small\n",
              "...      ...          ...      ...     ...         ...\n",
              "5397  2018.0          1.0  swaddle     0.0       Small\n",
              "5401  2018.0          1.0  tripoli    24.0       Small\n",
              "5402  2018.0          1.0  trismus     9.0       Small\n",
              "5403  2018.0          1.0  twinned   149.0       Small\n",
              "5406  2017.0          1.0  agulhas     0.0       Small\n",
              "\n",
              "[2386 rows x 5 columns]"
            ]
          },
          "metadata": {
            "tags": []
          },
          "execution_count": 141
        }
      ]
    },
    {
      "cell_type": "code",
      "metadata": {
        "id": "D_0chBP_ZnTq",
        "colab_type": "code",
        "colab": {
          "base_uri": "https://localhost:8080/",
          "height": 351
        },
        "outputId": "5d7085fe-231b-486a-c89e-1fd199892af7"
      },
      "source": [
        "sns.set(style=\"darkgrid\")\n",
        "plt.figure(figsize=(20,5))\n",
        "sns.lineplot(x=\"Week_Number\", y=\"Volume\",\n",
        "             hue=\"Groups_2017\", data=temp_df_2017_small)"
      ],
      "execution_count": 142,
      "outputs": [
        {
          "output_type": "execute_result",
          "data": {
            "text/plain": [
              "<matplotlib.axes._subplots.AxesSubplot at 0x7f980bd475f8>"
            ]
          },
          "metadata": {
            "tags": []
          },
          "execution_count": 142
        },
        {
          "output_type": "display_data",
          "data": {
            "image/png": "[encoded data removed]",
            "text/plain": [
              "<Figure size 1440x360 with 1 Axes>"
            ]
          },
          "metadata": {
            "tags": []
          }
        }
      ]
    },
    {
      "cell_type": "code",
      "metadata": {
        "id": "4oTP06AvcJQ3",
        "colab_type": "code",
        "colab": {
          "base_uri": "https://localhost:8080/",
          "height": 415
        },
        "outputId": "e3b38d4e-0c49-4062-c8cb-e299f556bd2f"
      },
      "source": [
        "temp_df_2017_medium = df_2017.loc[(df_2017[\"Groups_2017\"] == \"Medium\") & (df_2017[\"Year\"] == 2017)]\n",
        "temp_df_2017_medium"
      ],
      "execution_count": 143,
      "outputs": [
        {
          "output_type": "execute_result",
          "data": {
            "text/html": [
              "<div>\n",
              "<style scoped>\n",
              "    .dataframe tbody tr th:only-of-type {\n",
              "        vertical-align: middle;\n",
              "    }\n",
              "\n",
              "    .dataframe tbody tr th {\n",
              "        vertical-align: top;\n",
              "    }\n",
              "\n",
              "    .dataframe thead th {\n",
              "        text-align: right;\n",
              "    }\n",
              "</style>\n",
              "<table border=\"1\" class=\"dataframe\">\n",
              "  <thead>\n",
              "    <tr style=\"text-align: right;\">\n",
              "      <th></th>\n",
              "      <th>Year</th>\n",
              "      <th>Week_Number</th>\n",
              "      <th>Customer</th>\n",
              "      <th>Volume</th>\n",
              "      <th>Groups_2017</th>\n",
              "    </tr>\n",
              "  </thead>\n",
              "  <tbody>\n",
              "    <tr>\n",
              "      <th>2</th>\n",
              "      <td>2017.0</td>\n",
              "      <td>1.0</td>\n",
              "      <td>allover</td>\n",
              "      <td>365.0</td>\n",
              "      <td>Medium</td>\n",
              "    </tr>\n",
              "    <tr>\n",
              "      <th>5</th>\n",
              "      <td>2017.0</td>\n",
              "      <td>1.0</td>\n",
              "      <td>angrier</td>\n",
              "      <td>163.0</td>\n",
              "      <td>Medium</td>\n",
              "    </tr>\n",
              "    <tr>\n",
              "      <th>8</th>\n",
              "      <td>2017.0</td>\n",
              "      <td>1.0</td>\n",
              "      <td>arrived</td>\n",
              "      <td>77.0</td>\n",
              "      <td>Medium</td>\n",
              "    </tr>\n",
              "    <tr>\n",
              "      <th>11</th>\n",
              "      <td>2017.0</td>\n",
              "      <td>1.0</td>\n",
              "      <td>berwick</td>\n",
              "      <td>303.0</td>\n",
              "      <td>Medium</td>\n",
              "    </tr>\n",
              "    <tr>\n",
              "      <th>12</th>\n",
              "      <td>2017.0</td>\n",
              "      <td>1.0</td>\n",
              "      <td>birling</td>\n",
              "      <td>84.0</td>\n",
              "      <td>Medium</td>\n",
              "    </tr>\n",
              "    <tr>\n",
              "      <th>...</th>\n",
              "      <td>...</td>\n",
              "      <td>...</td>\n",
              "      <td>...</td>\n",
              "      <td>...</td>\n",
              "      <td>...</td>\n",
              "    </tr>\n",
              "    <tr>\n",
              "      <th>5292</th>\n",
              "      <td>2017.0</td>\n",
              "      <td>52.0</td>\n",
              "      <td>subhead</td>\n",
              "      <td>260.0</td>\n",
              "      <td>Medium</td>\n",
              "    </tr>\n",
              "    <tr>\n",
              "      <th>5293</th>\n",
              "      <td>2017.0</td>\n",
              "      <td>52.0</td>\n",
              "      <td>sullage</td>\n",
              "      <td>0.0</td>\n",
              "      <td>Medium</td>\n",
              "    </tr>\n",
              "    <tr>\n",
              "      <th>5296</th>\n",
              "      <td>2017.0</td>\n",
              "      <td>52.0</td>\n",
              "      <td>taboret</td>\n",
              "      <td>416.0</td>\n",
              "      <td>Medium</td>\n",
              "    </tr>\n",
              "    <tr>\n",
              "      <th>5302</th>\n",
              "      <td>2017.0</td>\n",
              "      <td>52.0</td>\n",
              "      <td>vistula</td>\n",
              "      <td>20.0</td>\n",
              "      <td>Medium</td>\n",
              "    </tr>\n",
              "    <tr>\n",
              "      <th>5303</th>\n",
              "      <td>2017.0</td>\n",
              "      <td>52.0</td>\n",
              "      <td>woodser</td>\n",
              "      <td>2920.0</td>\n",
              "      <td>Medium</td>\n",
              "    </tr>\n",
              "  </tbody>\n",
              "</table>\n",
              "<p>1664 rows × 5 columns</p>\n",
              "</div>"
            ],
            "text/plain": [
              "        Year  Week_Number Customer  Volume Groups_2017\n",
              "2     2017.0          1.0  allover   365.0      Medium\n",
              "5     2017.0          1.0  angrier   163.0      Medium\n",
              "8     2017.0          1.0  arrived    77.0      Medium\n",
              "11    2017.0          1.0  berwick   303.0      Medium\n",
              "12    2017.0          1.0  birling    84.0      Medium\n",
              "...      ...          ...      ...     ...         ...\n",
              "5292  2017.0         52.0  subhead   260.0      Medium\n",
              "5293  2017.0         52.0  sullage     0.0      Medium\n",
              "5296  2017.0         52.0  taboret   416.0      Medium\n",
              "5302  2017.0         52.0  vistula    20.0      Medium\n",
              "5303  2017.0         52.0  woodser  2920.0      Medium\n",
              "\n",
              "[1664 rows x 5 columns]"
            ]
          },
          "metadata": {
            "tags": []
          },
          "execution_count": 143
        }
      ]
    },
    {
      "cell_type": "code",
      "metadata": {
        "id": "eC1LBCO2cRFY",
        "colab_type": "code",
        "colab": {
          "base_uri": "https://localhost:8080/",
          "height": 349
        },
        "outputId": "371a35e2-0740-46a9-cbc0-867eedc8fe0d"
      },
      "source": [
        "sns.set(style=\"darkgrid\")\n",
        "plt.figure(figsize=(20,5))\n",
        "sns.lineplot(x=\"Week_Number\", y=\"Volume\",\n",
        "             hue=\"Groups_2017\", data=temp_df_2017_medium)"
      ],
      "execution_count": 144,
      "outputs": [
        {
          "output_type": "execute_result",
          "data": {
            "text/plain": [
              "<matplotlib.axes._subplots.AxesSubplot at 0x7f980bcc5978>"
            ]
          },
          "metadata": {
            "tags": []
          },
          "execution_count": 144
        },
        {
          "output_type": "display_data",
          "data": {
            "image/png": "[encoded data removed]",
            "text/plain": [
              "<Figure size 1440x360 with 1 Axes>"
            ]
          },
          "metadata": {
            "tags": []
          }
        }
      ]
    },
    {
      "cell_type": "code",
      "metadata": {
        "id": "sI7fJpPKznsn",
        "colab_type": "code",
        "colab": {
          "base_uri": "https://localhost:8080/",
          "height": 415
        },
        "outputId": "de85e61a-e0f2-493a-8038-3714f504db68"
      },
      "source": [
        "temp_df_2017_large = df_2017.loc[(df_2017[\"Groups_2017\"] == \"Large\") & (df_2017[\"Year\"] == 2017)]\n",
        "temp_df_2017_large"
      ],
      "execution_count": 145,
      "outputs": [
        {
          "output_type": "execute_result",
          "data": {
            "text/html": [
              "<div>\n",
              "<style scoped>\n",
              "    .dataframe tbody tr th:only-of-type {\n",
              "        vertical-align: middle;\n",
              "    }\n",
              "\n",
              "    .dataframe tbody tr th {\n",
              "        vertical-align: top;\n",
              "    }\n",
              "\n",
              "    .dataframe thead th {\n",
              "        text-align: right;\n",
              "    }\n",
              "</style>\n",
              "<table border=\"1\" class=\"dataframe\">\n",
              "  <thead>\n",
              "    <tr style=\"text-align: right;\">\n",
              "      <th></th>\n",
              "      <th>Year</th>\n",
              "      <th>Week_Number</th>\n",
              "      <th>Customer</th>\n",
              "      <th>Volume</th>\n",
              "      <th>Groups_2017</th>\n",
              "    </tr>\n",
              "  </thead>\n",
              "  <tbody>\n",
              "    <tr>\n",
              "      <th>10</th>\n",
              "      <td>2017.0</td>\n",
              "      <td>1.0</td>\n",
              "      <td>benison</td>\n",
              "      <td>18478.0</td>\n",
              "      <td>Large</td>\n",
              "    </tr>\n",
              "    <tr>\n",
              "      <th>15</th>\n",
              "      <td>2017.0</td>\n",
              "      <td>1.0</td>\n",
              "      <td>cadorna</td>\n",
              "      <td>17638.0</td>\n",
              "      <td>Large</td>\n",
              "    </tr>\n",
              "    <tr>\n",
              "      <th>18</th>\n",
              "      <td>2017.0</td>\n",
              "      <td>1.0</td>\n",
              "      <td>cawdrey</td>\n",
              "      <td>1067.0</td>\n",
              "      <td>Large</td>\n",
              "    </tr>\n",
              "    <tr>\n",
              "      <th>22</th>\n",
              "      <td>2017.0</td>\n",
              "      <td>1.0</td>\n",
              "      <td>contemn</td>\n",
              "      <td>5671.0</td>\n",
              "      <td>Large</td>\n",
              "    </tr>\n",
              "    <tr>\n",
              "      <th>24</th>\n",
              "      <td>2017.0</td>\n",
              "      <td>1.0</td>\n",
              "      <td>dacryon</td>\n",
              "      <td>6082.0</td>\n",
              "      <td>Large</td>\n",
              "    </tr>\n",
              "    <tr>\n",
              "      <th>...</th>\n",
              "      <td>...</td>\n",
              "      <td>...</td>\n",
              "      <td>...</td>\n",
              "      <td>...</td>\n",
              "      <td>...</td>\n",
              "    </tr>\n",
              "    <tr>\n",
              "      <th>5278</th>\n",
              "      <td>2017.0</td>\n",
              "      <td>52.0</td>\n",
              "      <td>recarve</td>\n",
              "      <td>5954.0</td>\n",
              "      <td>Large</td>\n",
              "    </tr>\n",
              "    <tr>\n",
              "      <th>5284</th>\n",
              "      <td>2017.0</td>\n",
              "      <td>52.0</td>\n",
              "      <td>seattle</td>\n",
              "      <td>15087.0</td>\n",
              "      <td>Large</td>\n",
              "    </tr>\n",
              "    <tr>\n",
              "      <th>5286</th>\n",
              "      <td>2017.0</td>\n",
              "      <td>52.0</td>\n",
              "      <td>shaptin</td>\n",
              "      <td>11224.0</td>\n",
              "      <td>Large</td>\n",
              "    </tr>\n",
              "    <tr>\n",
              "      <th>5297</th>\n",
              "      <td>2017.0</td>\n",
              "      <td>52.0</td>\n",
              "      <td>toadied</td>\n",
              "      <td>1194.0</td>\n",
              "      <td>Large</td>\n",
              "    </tr>\n",
              "    <tr>\n",
              "      <th>5298</th>\n",
              "      <td>2017.0</td>\n",
              "      <td>52.0</td>\n",
              "      <td>triduum</td>\n",
              "      <td>83362.0</td>\n",
              "      <td>Large</td>\n",
              "    </tr>\n",
              "  </tbody>\n",
              "</table>\n",
              "<p>1300 rows × 5 columns</p>\n",
              "</div>"
            ],
            "text/plain": [
              "        Year  Week_Number Customer   Volume Groups_2017\n",
              "10    2017.0          1.0  benison  18478.0       Large\n",
              "15    2017.0          1.0  cadorna  17638.0       Large\n",
              "18    2017.0          1.0  cawdrey   1067.0       Large\n",
              "22    2017.0          1.0  contemn   5671.0       Large\n",
              "24    2017.0          1.0  dacryon   6082.0       Large\n",
              "...      ...          ...      ...      ...         ...\n",
              "5278  2017.0         52.0  recarve   5954.0       Large\n",
              "5284  2017.0         52.0  seattle  15087.0       Large\n",
              "5286  2017.0         52.0  shaptin  11224.0       Large\n",
              "5297  2017.0         52.0  toadied   1194.0       Large\n",
              "5298  2017.0         52.0  triduum  83362.0       Large\n",
              "\n",
              "[1300 rows x 5 columns]"
            ]
          },
          "metadata": {
            "tags": []
          },
          "execution_count": 145
        }
      ]
    },
    {
      "cell_type": "code",
      "metadata": {
        "id": "YC3QOV1MzudU",
        "colab_type": "code",
        "colab": {
          "base_uri": "https://localhost:8080/",
          "height": 346
        },
        "outputId": "8c4e7ece-72c5-49f2-bbe4-43f0fb71b306"
      },
      "source": [
        "sns.set(style=\"darkgrid\")\n",
        "plt.figure(figsize=(20,5))\n",
        "sns.lineplot(x=\"Week_Number\", y=\"Volume\",\n",
        "             hue=\"Groups_2017\", data=temp_df_2017_large)"
      ],
      "execution_count": 146,
      "outputs": [
        {
          "output_type": "execute_result",
          "data": {
            "text/plain": [
              "<matplotlib.axes._subplots.AxesSubplot at 0x7f980bc25860>"
            ]
          },
          "metadata": {
            "tags": []
          },
          "execution_count": 146
        },
        {
          "output_type": "display_data",
          "data": {
            "image/png": "[encoded data removed]",
            "text/plain": [
              "<Figure size 1440x360 with 1 Axes>"
            ]
          },
          "metadata": {
            "tags": []
          }
        }
      ]
    },
    {
      "cell_type": "code",
      "metadata": {
        "id": "09hvlLXDKywm",
        "colab_type": "code",
        "colab": {
          "base_uri": "https://localhost:8080/",
          "height": 415
        },
        "outputId": "ee037958-7cc8-4eb2-9310-51be9721f1a9"
      },
      "source": [
        "df_events"
      ],
      "execution_count": 147,
      "outputs": [
        {
          "output_type": "execute_result",
          "data": {
            "text/html": [
              "<div>\n",
              "<style scoped>\n",
              "    .dataframe tbody tr th:only-of-type {\n",
              "        vertical-align: middle;\n",
              "    }\n",
              "\n",
              "    .dataframe tbody tr th {\n",
              "        vertical-align: top;\n",
              "    }\n",
              "\n",
              "    .dataframe thead th {\n",
              "        text-align: right;\n",
              "    }\n",
              "</style>\n",
              "<table border=\"1\" class=\"dataframe\">\n",
              "  <thead>\n",
              "    <tr style=\"text-align: right;\">\n",
              "      <th></th>\n",
              "      <th>Year</th>\n",
              "      <th>Week_Number</th>\n",
              "      <th>Customer</th>\n",
              "      <th>Volume</th>\n",
              "      <th>Event1</th>\n",
              "      <th>Event2</th>\n",
              "    </tr>\n",
              "  </thead>\n",
              "  <tbody>\n",
              "    <tr>\n",
              "      <th>0</th>\n",
              "      <td>2017</td>\n",
              "      <td>1</td>\n",
              "      <td>agulhas</td>\n",
              "      <td>83</td>\n",
              "      <td>0</td>\n",
              "      <td>0</td>\n",
              "    </tr>\n",
              "    <tr>\n",
              "      <th>1</th>\n",
              "      <td>2017</td>\n",
              "      <td>2</td>\n",
              "      <td>agulhas</td>\n",
              "      <td>98</td>\n",
              "      <td>0</td>\n",
              "      <td>0</td>\n",
              "    </tr>\n",
              "    <tr>\n",
              "      <th>2</th>\n",
              "      <td>2017</td>\n",
              "      <td>3</td>\n",
              "      <td>agulhas</td>\n",
              "      <td>57</td>\n",
              "      <td>0</td>\n",
              "      <td>0</td>\n",
              "    </tr>\n",
              "    <tr>\n",
              "      <th>3</th>\n",
              "      <td>2017</td>\n",
              "      <td>4</td>\n",
              "      <td>agulhas</td>\n",
              "      <td>127</td>\n",
              "      <td>0</td>\n",
              "      <td>0</td>\n",
              "    </tr>\n",
              "    <tr>\n",
              "      <th>4</th>\n",
              "      <td>2017</td>\n",
              "      <td>5</td>\n",
              "      <td>agulhas</td>\n",
              "      <td>121</td>\n",
              "      <td>0</td>\n",
              "      <td>0</td>\n",
              "    </tr>\n",
              "    <tr>\n",
              "      <th>...</th>\n",
              "      <td>...</td>\n",
              "      <td>...</td>\n",
              "      <td>...</td>\n",
              "      <td>...</td>\n",
              "      <td>...</td>\n",
              "      <td>...</td>\n",
              "    </tr>\n",
              "    <tr>\n",
              "      <th>12126</th>\n",
              "      <td>2019</td>\n",
              "      <td>13</td>\n",
              "      <td>woodser</td>\n",
              "      <td>1853</td>\n",
              "      <td>0</td>\n",
              "      <td>0</td>\n",
              "    </tr>\n",
              "    <tr>\n",
              "      <th>12127</th>\n",
              "      <td>2019</td>\n",
              "      <td>14</td>\n",
              "      <td>woodser</td>\n",
              "      <td>1618</td>\n",
              "      <td>0</td>\n",
              "      <td>0</td>\n",
              "    </tr>\n",
              "    <tr>\n",
              "      <th>12128</th>\n",
              "      <td>2019</td>\n",
              "      <td>15</td>\n",
              "      <td>woodser</td>\n",
              "      <td>1584</td>\n",
              "      <td>0</td>\n",
              "      <td>0</td>\n",
              "    </tr>\n",
              "    <tr>\n",
              "      <th>12129</th>\n",
              "      <td>2019</td>\n",
              "      <td>16</td>\n",
              "      <td>woodser</td>\n",
              "      <td>1732</td>\n",
              "      <td>0</td>\n",
              "      <td>0</td>\n",
              "    </tr>\n",
              "    <tr>\n",
              "      <th>12130</th>\n",
              "      <td>2019</td>\n",
              "      <td>17</td>\n",
              "      <td>woodser</td>\n",
              "      <td>1651</td>\n",
              "      <td>0</td>\n",
              "      <td>0</td>\n",
              "    </tr>\n",
              "  </tbody>\n",
              "</table>\n",
              "<p>12131 rows × 6 columns</p>\n",
              "</div>"
            ],
            "text/plain": [
              "       Year  Week_Number Customer  Volume Event1 Event2\n",
              "0      2017            1  agulhas      83      0      0\n",
              "1      2017            2  agulhas      98      0      0\n",
              "2      2017            3  agulhas      57      0      0\n",
              "3      2017            4  agulhas     127      0      0\n",
              "4      2017            5  agulhas     121      0      0\n",
              "...     ...          ...      ...     ...    ...    ...\n",
              "12126  2019           13  woodser    1853      0      0\n",
              "12127  2019           14  woodser    1618      0      0\n",
              "12128  2019           15  woodser    1584      0      0\n",
              "12129  2019           16  woodser    1732      0      0\n",
              "12130  2019           17  woodser    1651      0      0\n",
              "\n",
              "[12131 rows x 6 columns]"
            ]
          },
          "metadata": {
            "tags": []
          },
          "execution_count": 147
        }
      ]
    },
    {
      "cell_type": "code",
      "metadata": {
        "id": "SJWIvUm2YAKq",
        "colab_type": "code",
        "colab": {
          "base_uri": "https://localhost:8080/",
          "height": 415
        },
        "outputId": "1b4f54b1-5f03-4a2a-fd03-c2b7ea23fb66"
      },
      "source": [
        "df_events[\"Groups\"] = df_events[\"Customer\"].map(dict_df_2017) \n",
        "df_events"
      ],
      "execution_count": 148,
      "outputs": [
        {
          "output_type": "execute_result",
          "data": {
            "text/html": [
              "<div>\n",
              "<style scoped>\n",
              "    .dataframe tbody tr th:only-of-type {\n",
              "        vertical-align: middle;\n",
              "    }\n",
              "\n",
              "    .dataframe tbody tr th {\n",
              "        vertical-align: top;\n",
              "    }\n",
              "\n",
              "    .dataframe thead th {\n",
              "        text-align: right;\n",
              "    }\n",
              "</style>\n",
              "<table border=\"1\" class=\"dataframe\">\n",
              "  <thead>\n",
              "    <tr style=\"text-align: right;\">\n",
              "      <th></th>\n",
              "      <th>Year</th>\n",
              "      <th>Week_Number</th>\n",
              "      <th>Customer</th>\n",
              "      <th>Volume</th>\n",
              "      <th>Event1</th>\n",
              "      <th>Event2</th>\n",
              "      <th>Groups</th>\n",
              "    </tr>\n",
              "  </thead>\n",
              "  <tbody>\n",
              "    <tr>\n",
              "      <th>0</th>\n",
              "      <td>2017</td>\n",
              "      <td>1</td>\n",
              "      <td>agulhas</td>\n",
              "      <td>83</td>\n",
              "      <td>0</td>\n",
              "      <td>0</td>\n",
              "      <td>Small</td>\n",
              "    </tr>\n",
              "    <tr>\n",
              "      <th>1</th>\n",
              "      <td>2017</td>\n",
              "      <td>2</td>\n",
              "      <td>agulhas</td>\n",
              "      <td>98</td>\n",
              "      <td>0</td>\n",
              "      <td>0</td>\n",
              "      <td>Small</td>\n",
              "    </tr>\n",
              "    <tr>\n",
              "      <th>2</th>\n",
              "      <td>2017</td>\n",
              "      <td>3</td>\n",
              "      <td>agulhas</td>\n",
              "      <td>57</td>\n",
              "      <td>0</td>\n",
              "      <td>0</td>\n",
              "      <td>Small</td>\n",
              "    </tr>\n",
              "    <tr>\n",
              "      <th>3</th>\n",
              "      <td>2017</td>\n",
              "      <td>4</td>\n",
              "      <td>agulhas</td>\n",
              "      <td>127</td>\n",
              "      <td>0</td>\n",
              "      <td>0</td>\n",
              "      <td>Small</td>\n",
              "    </tr>\n",
              "    <tr>\n",
              "      <th>4</th>\n",
              "      <td>2017</td>\n",
              "      <td>5</td>\n",
              "      <td>agulhas</td>\n",
              "      <td>121</td>\n",
              "      <td>0</td>\n",
              "      <td>0</td>\n",
              "      <td>Small</td>\n",
              "    </tr>\n",
              "    <tr>\n",
              "      <th>...</th>\n",
              "      <td>...</td>\n",
              "      <td>...</td>\n",
              "      <td>...</td>\n",
              "      <td>...</td>\n",
              "      <td>...</td>\n",
              "      <td>...</td>\n",
              "      <td>...</td>\n",
              "    </tr>\n",
              "    <tr>\n",
              "      <th>12126</th>\n",
              "      <td>2019</td>\n",
              "      <td>13</td>\n",
              "      <td>woodser</td>\n",
              "      <td>1853</td>\n",
              "      <td>0</td>\n",
              "      <td>0</td>\n",
              "      <td>Medium</td>\n",
              "    </tr>\n",
              "    <tr>\n",
              "      <th>12127</th>\n",
              "      <td>2019</td>\n",
              "      <td>14</td>\n",
              "      <td>woodser</td>\n",
              "      <td>1618</td>\n",
              "      <td>0</td>\n",
              "      <td>0</td>\n",
              "      <td>Medium</td>\n",
              "    </tr>\n",
              "    <tr>\n",
              "      <th>12128</th>\n",
              "      <td>2019</td>\n",
              "      <td>15</td>\n",
              "      <td>woodser</td>\n",
              "      <td>1584</td>\n",
              "      <td>0</td>\n",
              "      <td>0</td>\n",
              "      <td>Medium</td>\n",
              "    </tr>\n",
              "    <tr>\n",
              "      <th>12129</th>\n",
              "      <td>2019</td>\n",
              "      <td>16</td>\n",
              "      <td>woodser</td>\n",
              "      <td>1732</td>\n",
              "      <td>0</td>\n",
              "      <td>0</td>\n",
              "      <td>Medium</td>\n",
              "    </tr>\n",
              "    <tr>\n",
              "      <th>12130</th>\n",
              "      <td>2019</td>\n",
              "      <td>17</td>\n",
              "      <td>woodser</td>\n",
              "      <td>1651</td>\n",
              "      <td>0</td>\n",
              "      <td>0</td>\n",
              "      <td>Medium</td>\n",
              "    </tr>\n",
              "  </tbody>\n",
              "</table>\n",
              "<p>12131 rows × 7 columns</p>\n",
              "</div>"
            ],
            "text/plain": [
              "       Year  Week_Number Customer  Volume Event1 Event2  Groups\n",
              "0      2017            1  agulhas      83      0      0   Small\n",
              "1      2017            2  agulhas      98      0      0   Small\n",
              "2      2017            3  agulhas      57      0      0   Small\n",
              "3      2017            4  agulhas     127      0      0   Small\n",
              "4      2017            5  agulhas     121      0      0   Small\n",
              "...     ...          ...      ...     ...    ...    ...     ...\n",
              "12126  2019           13  woodser    1853      0      0  Medium\n",
              "12127  2019           14  woodser    1618      0      0  Medium\n",
              "12128  2019           15  woodser    1584      0      0  Medium\n",
              "12129  2019           16  woodser    1732      0      0  Medium\n",
              "12130  2019           17  woodser    1651      0      0  Medium\n",
              "\n",
              "[12131 rows x 7 columns]"
            ]
          },
          "metadata": {
            "tags": []
          },
          "execution_count": 148
        }
      ]
    },
    {
      "cell_type": "code",
      "metadata": {
        "id": "TMXwfqfCKhza",
        "colab_type": "code",
        "colab": {
          "base_uri": "https://localhost:8080/",
          "height": 415
        },
        "outputId": "baeb5305-bdb3-417f-ca3e-0ca80f1e6584"
      },
      "source": [
        "df_events_prestrike_1 = df_events.loc[(df_events[\"Event2\"] == \"prestrike_1\")]\n",
        "df_events_prestrike_1"
      ],
      "execution_count": 149,
      "outputs": [
        {
          "output_type": "execute_result",
          "data": {
            "text/html": [
              "<div>\n",
              "<style scoped>\n",
              "    .dataframe tbody tr th:only-of-type {\n",
              "        vertical-align: middle;\n",
              "    }\n",
              "\n",
              "    .dataframe tbody tr th {\n",
              "        vertical-align: top;\n",
              "    }\n",
              "\n",
              "    .dataframe thead th {\n",
              "        text-align: right;\n",
              "    }\n",
              "</style>\n",
              "<table border=\"1\" class=\"dataframe\">\n",
              "  <thead>\n",
              "    <tr style=\"text-align: right;\">\n",
              "      <th></th>\n",
              "      <th>Year</th>\n",
              "      <th>Week_Number</th>\n",
              "      <th>Customer</th>\n",
              "      <th>Volume</th>\n",
              "      <th>Event1</th>\n",
              "      <th>Event2</th>\n",
              "      <th>Groups</th>\n",
              "    </tr>\n",
              "  </thead>\n",
              "  <tbody>\n",
              "    <tr>\n",
              "      <th>82</th>\n",
              "      <td>2018</td>\n",
              "      <td>37</td>\n",
              "      <td>agulhas</td>\n",
              "      <td>157</td>\n",
              "      <td>0</td>\n",
              "      <td>prestrike_1</td>\n",
              "      <td>Small</td>\n",
              "    </tr>\n",
              "    <tr>\n",
              "      <th>83</th>\n",
              "      <td>2018</td>\n",
              "      <td>38</td>\n",
              "      <td>agulhas</td>\n",
              "      <td>123</td>\n",
              "      <td>0</td>\n",
              "      <td>prestrike_1</td>\n",
              "      <td>Small</td>\n",
              "    </tr>\n",
              "    <tr>\n",
              "      <th>203</th>\n",
              "      <td>2018</td>\n",
              "      <td>37</td>\n",
              "      <td>airline</td>\n",
              "      <td>0</td>\n",
              "      <td>0</td>\n",
              "      <td>prestrike_1</td>\n",
              "      <td>Small</td>\n",
              "    </tr>\n",
              "    <tr>\n",
              "      <th>204</th>\n",
              "      <td>2018</td>\n",
              "      <td>38</td>\n",
              "      <td>airline</td>\n",
              "      <td>0</td>\n",
              "      <td>0</td>\n",
              "      <td>prestrike_1</td>\n",
              "      <td>Small</td>\n",
              "    </tr>\n",
              "    <tr>\n",
              "      <th>320</th>\n",
              "      <td>2018</td>\n",
              "      <td>37</td>\n",
              "      <td>allover</td>\n",
              "      <td>578</td>\n",
              "      <td>0</td>\n",
              "      <td>prestrike_1</td>\n",
              "      <td>Medium</td>\n",
              "    </tr>\n",
              "    <tr>\n",
              "      <th>...</th>\n",
              "      <td>...</td>\n",
              "      <td>...</td>\n",
              "      <td>...</td>\n",
              "      <td>...</td>\n",
              "      <td>...</td>\n",
              "      <td>...</td>\n",
              "      <td>...</td>\n",
              "    </tr>\n",
              "    <tr>\n",
              "      <th>11854</th>\n",
              "      <td>2018</td>\n",
              "      <td>38</td>\n",
              "      <td>twinned</td>\n",
              "      <td>238</td>\n",
              "      <td>0</td>\n",
              "      <td>prestrike_1</td>\n",
              "      <td>Small</td>\n",
              "    </tr>\n",
              "    <tr>\n",
              "      <th>11971</th>\n",
              "      <td>2018</td>\n",
              "      <td>37</td>\n",
              "      <td>vistula</td>\n",
              "      <td>1</td>\n",
              "      <td>0</td>\n",
              "      <td>prestrike_1</td>\n",
              "      <td>Medium</td>\n",
              "    </tr>\n",
              "    <tr>\n",
              "      <th>11972</th>\n",
              "      <td>2018</td>\n",
              "      <td>38</td>\n",
              "      <td>vistula</td>\n",
              "      <td>12</td>\n",
              "      <td>0</td>\n",
              "      <td>prestrike_1</td>\n",
              "      <td>Medium</td>\n",
              "    </tr>\n",
              "    <tr>\n",
              "      <th>12092</th>\n",
              "      <td>2018</td>\n",
              "      <td>37</td>\n",
              "      <td>woodser</td>\n",
              "      <td>1652</td>\n",
              "      <td>0</td>\n",
              "      <td>prestrike_1</td>\n",
              "      <td>Medium</td>\n",
              "    </tr>\n",
              "    <tr>\n",
              "      <th>12093</th>\n",
              "      <td>2018</td>\n",
              "      <td>38</td>\n",
              "      <td>woodser</td>\n",
              "      <td>1697</td>\n",
              "      <td>0</td>\n",
              "      <td>prestrike_1</td>\n",
              "      <td>Medium</td>\n",
              "    </tr>\n",
              "  </tbody>\n",
              "</table>\n",
              "<p>204 rows × 7 columns</p>\n",
              "</div>"
            ],
            "text/plain": [
              "       Year  Week_Number Customer  Volume Event1       Event2  Groups\n",
              "82     2018           37  agulhas     157      0  prestrike_1   Small\n",
              "83     2018           38  agulhas     123      0  prestrike_1   Small\n",
              "203    2018           37  airline       0      0  prestrike_1   Small\n",
              "204    2018           38  airline       0      0  prestrike_1   Small\n",
              "320    2018           37  allover     578      0  prestrike_1  Medium\n",
              "...     ...          ...      ...     ...    ...          ...     ...\n",
              "11854  2018           38  twinned     238      0  prestrike_1   Small\n",
              "11971  2018           37  vistula       1      0  prestrike_1  Medium\n",
              "11972  2018           38  vistula      12      0  prestrike_1  Medium\n",
              "12092  2018           37  woodser    1652      0  prestrike_1  Medium\n",
              "12093  2018           38  woodser    1697      0  prestrike_1  Medium\n",
              "\n",
              "[204 rows x 7 columns]"
            ]
          },
          "metadata": {
            "tags": []
          },
          "execution_count": 149
        }
      ]
    },
    {
      "cell_type": "code",
      "metadata": {
        "id": "1wZrZxMTLLE_",
        "colab_type": "code",
        "colab": {
          "base_uri": "https://localhost:8080/",
          "height": 415
        },
        "outputId": "0b80011a-f174-4056-94d9-fc82c926eee9"
      },
      "source": [
        "df_events_strike = df_events.loc[(df_events[\"Event2\"] == \"strike\")]\n",
        "df_events_strike"
      ],
      "execution_count": 150,
      "outputs": [
        {
          "output_type": "execute_result",
          "data": {
            "text/html": [
              "<div>\n",
              "<style scoped>\n",
              "    .dataframe tbody tr th:only-of-type {\n",
              "        vertical-align: middle;\n",
              "    }\n",
              "\n",
              "    .dataframe tbody tr th {\n",
              "        vertical-align: top;\n",
              "    }\n",
              "\n",
              "    .dataframe thead th {\n",
              "        text-align: right;\n",
              "    }\n",
              "</style>\n",
              "<table border=\"1\" class=\"dataframe\">\n",
              "  <thead>\n",
              "    <tr style=\"text-align: right;\">\n",
              "      <th></th>\n",
              "      <th>Year</th>\n",
              "      <th>Week_Number</th>\n",
              "      <th>Customer</th>\n",
              "      <th>Volume</th>\n",
              "      <th>Event1</th>\n",
              "      <th>Event2</th>\n",
              "      <th>Groups</th>\n",
              "    </tr>\n",
              "  </thead>\n",
              "  <tbody>\n",
              "    <tr>\n",
              "      <th>89</th>\n",
              "      <td>2018</td>\n",
              "      <td>43</td>\n",
              "      <td>agulhas</td>\n",
              "      <td>102</td>\n",
              "      <td>0</td>\n",
              "      <td>strike</td>\n",
              "      <td>Small</td>\n",
              "    </tr>\n",
              "    <tr>\n",
              "      <th>90</th>\n",
              "      <td>2018</td>\n",
              "      <td>44</td>\n",
              "      <td>agulhas</td>\n",
              "      <td>48</td>\n",
              "      <td>0</td>\n",
              "      <td>strike</td>\n",
              "      <td>Small</td>\n",
              "    </tr>\n",
              "    <tr>\n",
              "      <th>91</th>\n",
              "      <td>2018</td>\n",
              "      <td>45</td>\n",
              "      <td>agulhas</td>\n",
              "      <td>80</td>\n",
              "      <td>peek2018</td>\n",
              "      <td>strike</td>\n",
              "      <td>Small</td>\n",
              "    </tr>\n",
              "    <tr>\n",
              "      <th>92</th>\n",
              "      <td>2018</td>\n",
              "      <td>46</td>\n",
              "      <td>agulhas</td>\n",
              "      <td>13</td>\n",
              "      <td>peek2018</td>\n",
              "      <td>strike</td>\n",
              "      <td>Small</td>\n",
              "    </tr>\n",
              "    <tr>\n",
              "      <th>93</th>\n",
              "      <td>2018</td>\n",
              "      <td>47</td>\n",
              "      <td>agulhas</td>\n",
              "      <td>17</td>\n",
              "      <td>peek2018</td>\n",
              "      <td>strike</td>\n",
              "      <td>Small</td>\n",
              "    </tr>\n",
              "    <tr>\n",
              "      <th>...</th>\n",
              "      <td>...</td>\n",
              "      <td>...</td>\n",
              "      <td>...</td>\n",
              "      <td>...</td>\n",
              "      <td>...</td>\n",
              "      <td>...</td>\n",
              "      <td>...</td>\n",
              "    </tr>\n",
              "    <tr>\n",
              "      <th>12100</th>\n",
              "      <td>2018</td>\n",
              "      <td>44</td>\n",
              "      <td>woodser</td>\n",
              "      <td>1914</td>\n",
              "      <td>0</td>\n",
              "      <td>strike</td>\n",
              "      <td>Medium</td>\n",
              "    </tr>\n",
              "    <tr>\n",
              "      <th>12101</th>\n",
              "      <td>2018</td>\n",
              "      <td>45</td>\n",
              "      <td>woodser</td>\n",
              "      <td>1920</td>\n",
              "      <td>peek2018</td>\n",
              "      <td>strike</td>\n",
              "      <td>Medium</td>\n",
              "    </tr>\n",
              "    <tr>\n",
              "      <th>12102</th>\n",
              "      <td>2018</td>\n",
              "      <td>46</td>\n",
              "      <td>woodser</td>\n",
              "      <td>2123</td>\n",
              "      <td>peek2018</td>\n",
              "      <td>strike</td>\n",
              "      <td>Medium</td>\n",
              "    </tr>\n",
              "    <tr>\n",
              "      <th>12103</th>\n",
              "      <td>2018</td>\n",
              "      <td>47</td>\n",
              "      <td>woodser</td>\n",
              "      <td>3508</td>\n",
              "      <td>peek2018</td>\n",
              "      <td>strike</td>\n",
              "      <td>Medium</td>\n",
              "    </tr>\n",
              "    <tr>\n",
              "      <th>12104</th>\n",
              "      <td>2018</td>\n",
              "      <td>48</td>\n",
              "      <td>woodser</td>\n",
              "      <td>7345</td>\n",
              "      <td>peek2018</td>\n",
              "      <td>strike</td>\n",
              "      <td>Medium</td>\n",
              "    </tr>\n",
              "  </tbody>\n",
              "</table>\n",
              "<p>612 rows × 7 columns</p>\n",
              "</div>"
            ],
            "text/plain": [
              "       Year  Week_Number Customer  Volume    Event1  Event2  Groups\n",
              "89     2018           43  agulhas     102         0  strike   Small\n",
              "90     2018           44  agulhas      48         0  strike   Small\n",
              "91     2018           45  agulhas      80  peek2018  strike   Small\n",
              "92     2018           46  agulhas      13  peek2018  strike   Small\n",
              "93     2018           47  agulhas      17  peek2018  strike   Small\n",
              "...     ...          ...      ...     ...       ...     ...     ...\n",
              "12100  2018           44  woodser    1914         0  strike  Medium\n",
              "12101  2018           45  woodser    1920  peek2018  strike  Medium\n",
              "12102  2018           46  woodser    2123  peek2018  strike  Medium\n",
              "12103  2018           47  woodser    3508  peek2018  strike  Medium\n",
              "12104  2018           48  woodser    7345  peek2018  strike  Medium\n",
              "\n",
              "[612 rows x 7 columns]"
            ]
          },
          "metadata": {
            "tags": []
          },
          "execution_count": 150
        }
      ]
    },
    {
      "cell_type": "code",
      "metadata": {
        "id": "sBK6X5WkLZf2",
        "colab_type": "code",
        "colab": {
          "base_uri": "https://localhost:8080/",
          "height": 35
        },
        "outputId": "887c173e-5d4c-4a53-a469-021fe96c153b"
      },
      "source": [
        "stats.ttest_ind(df_events_prestrike_1[\"Volume\"],df_events_strike[\"Volume\"])"
      ],
      "execution_count": 151,
      "outputs": [
        {
          "output_type": "execute_result",
          "data": {
            "text/plain": [
              "Ttest_indResult(statistic=-0.39374571968900385, pvalue=0.6938718988627632)"
            ]
          },
          "metadata": {
            "tags": []
          },
          "execution_count": 151
        }
      ]
    },
    {
      "cell_type": "code",
      "metadata": {
        "id": "tyBaa6ToUXR9",
        "colab_type": "code",
        "colab": {
          "base_uri": "https://localhost:8080/",
          "height": 415
        },
        "outputId": "e44fbc70-f8af-4561-b186-3232206eca64"
      },
      "source": [
        "df_events_non_strike = df_events.loc[(df_events[\"Event2\"] != \"strike\")]\n",
        "df_events_non_strike"
      ],
      "execution_count": 152,
      "outputs": [
        {
          "output_type": "execute_result",
          "data": {
            "text/html": [
              "<div>\n",
              "<style scoped>\n",
              "    .dataframe tbody tr th:only-of-type {\n",
              "        vertical-align: middle;\n",
              "    }\n",
              "\n",
              "    .dataframe tbody tr th {\n",
              "        vertical-align: top;\n",
              "    }\n",
              "\n",
              "    .dataframe thead th {\n",
              "        text-align: right;\n",
              "    }\n",
              "</style>\n",
              "<table border=\"1\" class=\"dataframe\">\n",
              "  <thead>\n",
              "    <tr style=\"text-align: right;\">\n",
              "      <th></th>\n",
              "      <th>Year</th>\n",
              "      <th>Week_Number</th>\n",
              "      <th>Customer</th>\n",
              "      <th>Volume</th>\n",
              "      <th>Event1</th>\n",
              "      <th>Event2</th>\n",
              "      <th>Groups</th>\n",
              "    </tr>\n",
              "  </thead>\n",
              "  <tbody>\n",
              "    <tr>\n",
              "      <th>0</th>\n",
              "      <td>2017</td>\n",
              "      <td>1</td>\n",
              "      <td>agulhas</td>\n",
              "      <td>83</td>\n",
              "      <td>0</td>\n",
              "      <td>0</td>\n",
              "      <td>Small</td>\n",
              "    </tr>\n",
              "    <tr>\n",
              "      <th>1</th>\n",
              "      <td>2017</td>\n",
              "      <td>2</td>\n",
              "      <td>agulhas</td>\n",
              "      <td>98</td>\n",
              "      <td>0</td>\n",
              "      <td>0</td>\n",
              "      <td>Small</td>\n",
              "    </tr>\n",
              "    <tr>\n",
              "      <th>2</th>\n",
              "      <td>2017</td>\n",
              "      <td>3</td>\n",
              "      <td>agulhas</td>\n",
              "      <td>57</td>\n",
              "      <td>0</td>\n",
              "      <td>0</td>\n",
              "      <td>Small</td>\n",
              "    </tr>\n",
              "    <tr>\n",
              "      <th>3</th>\n",
              "      <td>2017</td>\n",
              "      <td>4</td>\n",
              "      <td>agulhas</td>\n",
              "      <td>127</td>\n",
              "      <td>0</td>\n",
              "      <td>0</td>\n",
              "      <td>Small</td>\n",
              "    </tr>\n",
              "    <tr>\n",
              "      <th>4</th>\n",
              "      <td>2017</td>\n",
              "      <td>5</td>\n",
              "      <td>agulhas</td>\n",
              "      <td>121</td>\n",
              "      <td>0</td>\n",
              "      <td>0</td>\n",
              "      <td>Small</td>\n",
              "    </tr>\n",
              "    <tr>\n",
              "      <th>...</th>\n",
              "      <td>...</td>\n",
              "      <td>...</td>\n",
              "      <td>...</td>\n",
              "      <td>...</td>\n",
              "      <td>...</td>\n",
              "      <td>...</td>\n",
              "      <td>...</td>\n",
              "    </tr>\n",
              "    <tr>\n",
              "      <th>12126</th>\n",
              "      <td>2019</td>\n",
              "      <td>13</td>\n",
              "      <td>woodser</td>\n",
              "      <td>1853</td>\n",
              "      <td>0</td>\n",
              "      <td>0</td>\n",
              "      <td>Medium</td>\n",
              "    </tr>\n",
              "    <tr>\n",
              "      <th>12127</th>\n",
              "      <td>2019</td>\n",
              "      <td>14</td>\n",
              "      <td>woodser</td>\n",
              "      <td>1618</td>\n",
              "      <td>0</td>\n",
              "      <td>0</td>\n",
              "      <td>Medium</td>\n",
              "    </tr>\n",
              "    <tr>\n",
              "      <th>12128</th>\n",
              "      <td>2019</td>\n",
              "      <td>15</td>\n",
              "      <td>woodser</td>\n",
              "      <td>1584</td>\n",
              "      <td>0</td>\n",
              "      <td>0</td>\n",
              "      <td>Medium</td>\n",
              "    </tr>\n",
              "    <tr>\n",
              "      <th>12129</th>\n",
              "      <td>2019</td>\n",
              "      <td>16</td>\n",
              "      <td>woodser</td>\n",
              "      <td>1732</td>\n",
              "      <td>0</td>\n",
              "      <td>0</td>\n",
              "      <td>Medium</td>\n",
              "    </tr>\n",
              "    <tr>\n",
              "      <th>12130</th>\n",
              "      <td>2019</td>\n",
              "      <td>17</td>\n",
              "      <td>woodser</td>\n",
              "      <td>1651</td>\n",
              "      <td>0</td>\n",
              "      <td>0</td>\n",
              "      <td>Medium</td>\n",
              "    </tr>\n",
              "  </tbody>\n",
              "</table>\n",
              "<p>11519 rows × 7 columns</p>\n",
              "</div>"
            ],
            "text/plain": [
              "       Year  Week_Number Customer  Volume Event1 Event2  Groups\n",
              "0      2017            1  agulhas      83      0      0   Small\n",
              "1      2017            2  agulhas      98      0      0   Small\n",
              "2      2017            3  agulhas      57      0      0   Small\n",
              "3      2017            4  agulhas     127      0      0   Small\n",
              "4      2017            5  agulhas     121      0      0   Small\n",
              "...     ...          ...      ...     ...    ...    ...     ...\n",
              "12126  2019           13  woodser    1853      0      0  Medium\n",
              "12127  2019           14  woodser    1618      0      0  Medium\n",
              "12128  2019           15  woodser    1584      0      0  Medium\n",
              "12129  2019           16  woodser    1732      0      0  Medium\n",
              "12130  2019           17  woodser    1651      0      0  Medium\n",
              "\n",
              "[11519 rows x 7 columns]"
            ]
          },
          "metadata": {
            "tags": []
          },
          "execution_count": 152
        }
      ]
    },
    {
      "cell_type": "code",
      "metadata": {
        "id": "akJolVH7UqhI",
        "colab_type": "code",
        "colab": {
          "base_uri": "https://localhost:8080/",
          "height": 69
        },
        "outputId": "845a4942-45f8-4144-89de-657c611a7c92"
      },
      "source": [
        "test_result = stats.ttest_ind(df_events_non_strike[\"Volume\"],df_events_strike[\"Volume\"])\n",
        "print(\"test_result =\", test_result)\n",
        "non_strike_mean = df_events_non_strike[\"Volume\"].mean()\n",
        "print(\"non_strike_mean =\", non_strike_mean)\n",
        "strike_mean = df_events_strike[\"Volume\"].mean()\n",
        "print(\"strike_mean =\", strike_mean)\n"
      ],
      "execution_count": 153,
      "outputs": [
        {
          "output_type": "stream",
          "text": [
            "test_result = Ttest_indResult(statistic=-1.101593608268175, pvalue=0.27066024774827074)\n",
            "non_strike_mean = 13434.602135602048\n",
            "strike_mean = 16814.269607843136\n"
          ],
          "name": "stdout"
        }
      ]
    },
    {
      "cell_type": "code",
      "metadata": {
        "id": "Ox57keX9XFL5",
        "colab_type": "code",
        "colab": {
          "base_uri": "https://localhost:8080/",
          "height": 415
        },
        "outputId": "d4d224c8-567e-4a6a-e755-8bee66fd63a7"
      },
      "source": [
        "df_small_non_strike = df_events_non_strike.loc[(df_events_non_strike[\"Groups\"] == \"Small\")]\n",
        "df_small_non_strike"
      ],
      "execution_count": 154,
      "outputs": [
        {
          "output_type": "execute_result",
          "data": {
            "text/html": [
              "<div>\n",
              "<style scoped>\n",
              "    .dataframe tbody tr th:only-of-type {\n",
              "        vertical-align: middle;\n",
              "    }\n",
              "\n",
              "    .dataframe tbody tr th {\n",
              "        vertical-align: top;\n",
              "    }\n",
              "\n",
              "    .dataframe thead th {\n",
              "        text-align: right;\n",
              "    }\n",
              "</style>\n",
              "<table border=\"1\" class=\"dataframe\">\n",
              "  <thead>\n",
              "    <tr style=\"text-align: right;\">\n",
              "      <th></th>\n",
              "      <th>Year</th>\n",
              "      <th>Week_Number</th>\n",
              "      <th>Customer</th>\n",
              "      <th>Volume</th>\n",
              "      <th>Event1</th>\n",
              "      <th>Event2</th>\n",
              "      <th>Groups</th>\n",
              "    </tr>\n",
              "  </thead>\n",
              "  <tbody>\n",
              "    <tr>\n",
              "      <th>0</th>\n",
              "      <td>2017</td>\n",
              "      <td>1</td>\n",
              "      <td>agulhas</td>\n",
              "      <td>83</td>\n",
              "      <td>0</td>\n",
              "      <td>0</td>\n",
              "      <td>Small</td>\n",
              "    </tr>\n",
              "    <tr>\n",
              "      <th>1</th>\n",
              "      <td>2017</td>\n",
              "      <td>2</td>\n",
              "      <td>agulhas</td>\n",
              "      <td>98</td>\n",
              "      <td>0</td>\n",
              "      <td>0</td>\n",
              "      <td>Small</td>\n",
              "    </tr>\n",
              "    <tr>\n",
              "      <th>2</th>\n",
              "      <td>2017</td>\n",
              "      <td>3</td>\n",
              "      <td>agulhas</td>\n",
              "      <td>57</td>\n",
              "      <td>0</td>\n",
              "      <td>0</td>\n",
              "      <td>Small</td>\n",
              "    </tr>\n",
              "    <tr>\n",
              "      <th>3</th>\n",
              "      <td>2017</td>\n",
              "      <td>4</td>\n",
              "      <td>agulhas</td>\n",
              "      <td>127</td>\n",
              "      <td>0</td>\n",
              "      <td>0</td>\n",
              "      <td>Small</td>\n",
              "    </tr>\n",
              "    <tr>\n",
              "      <th>4</th>\n",
              "      <td>2017</td>\n",
              "      <td>5</td>\n",
              "      <td>agulhas</td>\n",
              "      <td>121</td>\n",
              "      <td>0</td>\n",
              "      <td>0</td>\n",
              "      <td>Small</td>\n",
              "    </tr>\n",
              "    <tr>\n",
              "      <th>...</th>\n",
              "      <td>...</td>\n",
              "      <td>...</td>\n",
              "      <td>...</td>\n",
              "      <td>...</td>\n",
              "      <td>...</td>\n",
              "      <td>...</td>\n",
              "      <td>...</td>\n",
              "    </tr>\n",
              "    <tr>\n",
              "      <th>11884</th>\n",
              "      <td>2019</td>\n",
              "      <td>12</td>\n",
              "      <td>twinned</td>\n",
              "      <td>121</td>\n",
              "      <td>0</td>\n",
              "      <td>0</td>\n",
              "      <td>Small</td>\n",
              "    </tr>\n",
              "    <tr>\n",
              "      <th>11885</th>\n",
              "      <td>2019</td>\n",
              "      <td>13</td>\n",
              "      <td>twinned</td>\n",
              "      <td>107</td>\n",
              "      <td>0</td>\n",
              "      <td>0</td>\n",
              "      <td>Small</td>\n",
              "    </tr>\n",
              "    <tr>\n",
              "      <th>11886</th>\n",
              "      <td>2019</td>\n",
              "      <td>14</td>\n",
              "      <td>twinned</td>\n",
              "      <td>175</td>\n",
              "      <td>0</td>\n",
              "      <td>0</td>\n",
              "      <td>Small</td>\n",
              "    </tr>\n",
              "    <tr>\n",
              "      <th>11887</th>\n",
              "      <td>2019</td>\n",
              "      <td>15</td>\n",
              "      <td>twinned</td>\n",
              "      <td>149</td>\n",
              "      <td>0</td>\n",
              "      <td>0</td>\n",
              "      <td>Small</td>\n",
              "    </tr>\n",
              "    <tr>\n",
              "      <th>11888</th>\n",
              "      <td>2019</td>\n",
              "      <td>16</td>\n",
              "      <td>twinned</td>\n",
              "      <td>158</td>\n",
              "      <td>0</td>\n",
              "      <td>0</td>\n",
              "      <td>Small</td>\n",
              "    </tr>\n",
              "  </tbody>\n",
              "</table>\n",
              "<p>5005 rows × 7 columns</p>\n",
              "</div>"
            ],
            "text/plain": [
              "       Year  Week_Number Customer  Volume Event1 Event2 Groups\n",
              "0      2017            1  agulhas      83      0      0  Small\n",
              "1      2017            2  agulhas      98      0      0  Small\n",
              "2      2017            3  agulhas      57      0      0  Small\n",
              "3      2017            4  agulhas     127      0      0  Small\n",
              "4      2017            5  agulhas     121      0      0  Small\n",
              "...     ...          ...      ...     ...    ...    ...    ...\n",
              "11884  2019           12  twinned     121      0      0  Small\n",
              "11885  2019           13  twinned     107      0      0  Small\n",
              "11886  2019           14  twinned     175      0      0  Small\n",
              "11887  2019           15  twinned     149      0      0  Small\n",
              "11888  2019           16  twinned     158      0      0  Small\n",
              "\n",
              "[5005 rows x 7 columns]"
            ]
          },
          "metadata": {
            "tags": []
          },
          "execution_count": 154
        }
      ]
    },
    {
      "cell_type": "code",
      "metadata": {
        "id": "HkEfUdjnZExN",
        "colab_type": "code",
        "colab": {}
      },
      "source": [
        ""
      ],
      "execution_count": 154,
      "outputs": []
    },
    {
      "cell_type": "code",
      "metadata": {
        "id": "3Z1qBBb2YYo9",
        "colab_type": "code",
        "colab": {
          "base_uri": "https://localhost:8080/",
          "height": 415
        },
        "outputId": "92c46097-62b0-4b01-b10b-bb96fd5f6e46"
      },
      "source": [
        "df_small_strike = df_events_strike.loc[(df_events_strike[\"Groups\"] == \"Small\")]\n",
        "df_small_strike"
      ],
      "execution_count": 155,
      "outputs": [
        {
          "output_type": "execute_result",
          "data": {
            "text/html": [
              "<div>\n",
              "<style scoped>\n",
              "    .dataframe tbody tr th:only-of-type {\n",
              "        vertical-align: middle;\n",
              "    }\n",
              "\n",
              "    .dataframe tbody tr th {\n",
              "        vertical-align: top;\n",
              "    }\n",
              "\n",
              "    .dataframe thead th {\n",
              "        text-align: right;\n",
              "    }\n",
              "</style>\n",
              "<table border=\"1\" class=\"dataframe\">\n",
              "  <thead>\n",
              "    <tr style=\"text-align: right;\">\n",
              "      <th></th>\n",
              "      <th>Year</th>\n",
              "      <th>Week_Number</th>\n",
              "      <th>Customer</th>\n",
              "      <th>Volume</th>\n",
              "      <th>Event1</th>\n",
              "      <th>Event2</th>\n",
              "      <th>Groups</th>\n",
              "    </tr>\n",
              "  </thead>\n",
              "  <tbody>\n",
              "    <tr>\n",
              "      <th>89</th>\n",
              "      <td>2018</td>\n",
              "      <td>43</td>\n",
              "      <td>agulhas</td>\n",
              "      <td>102</td>\n",
              "      <td>0</td>\n",
              "      <td>strike</td>\n",
              "      <td>Small</td>\n",
              "    </tr>\n",
              "    <tr>\n",
              "      <th>90</th>\n",
              "      <td>2018</td>\n",
              "      <td>44</td>\n",
              "      <td>agulhas</td>\n",
              "      <td>48</td>\n",
              "      <td>0</td>\n",
              "      <td>strike</td>\n",
              "      <td>Small</td>\n",
              "    </tr>\n",
              "    <tr>\n",
              "      <th>91</th>\n",
              "      <td>2018</td>\n",
              "      <td>45</td>\n",
              "      <td>agulhas</td>\n",
              "      <td>80</td>\n",
              "      <td>peek2018</td>\n",
              "      <td>strike</td>\n",
              "      <td>Small</td>\n",
              "    </tr>\n",
              "    <tr>\n",
              "      <th>92</th>\n",
              "      <td>2018</td>\n",
              "      <td>46</td>\n",
              "      <td>agulhas</td>\n",
              "      <td>13</td>\n",
              "      <td>peek2018</td>\n",
              "      <td>strike</td>\n",
              "      <td>Small</td>\n",
              "    </tr>\n",
              "    <tr>\n",
              "      <th>93</th>\n",
              "      <td>2018</td>\n",
              "      <td>47</td>\n",
              "      <td>agulhas</td>\n",
              "      <td>17</td>\n",
              "      <td>peek2018</td>\n",
              "      <td>strike</td>\n",
              "      <td>Small</td>\n",
              "    </tr>\n",
              "    <tr>\n",
              "      <th>...</th>\n",
              "      <td>...</td>\n",
              "      <td>...</td>\n",
              "      <td>...</td>\n",
              "      <td>...</td>\n",
              "      <td>...</td>\n",
              "      <td>...</td>\n",
              "      <td>...</td>\n",
              "    </tr>\n",
              "    <tr>\n",
              "      <th>11861</th>\n",
              "      <td>2018</td>\n",
              "      <td>44</td>\n",
              "      <td>twinned</td>\n",
              "      <td>123</td>\n",
              "      <td>0</td>\n",
              "      <td>strike</td>\n",
              "      <td>Small</td>\n",
              "    </tr>\n",
              "    <tr>\n",
              "      <th>11862</th>\n",
              "      <td>2018</td>\n",
              "      <td>45</td>\n",
              "      <td>twinned</td>\n",
              "      <td>0</td>\n",
              "      <td>peek2018</td>\n",
              "      <td>strike</td>\n",
              "      <td>Small</td>\n",
              "    </tr>\n",
              "    <tr>\n",
              "      <th>11863</th>\n",
              "      <td>2018</td>\n",
              "      <td>46</td>\n",
              "      <td>twinned</td>\n",
              "      <td>0</td>\n",
              "      <td>peek2018</td>\n",
              "      <td>strike</td>\n",
              "      <td>Small</td>\n",
              "    </tr>\n",
              "    <tr>\n",
              "      <th>11864</th>\n",
              "      <td>2018</td>\n",
              "      <td>47</td>\n",
              "      <td>twinned</td>\n",
              "      <td>359</td>\n",
              "      <td>peek2018</td>\n",
              "      <td>strike</td>\n",
              "      <td>Small</td>\n",
              "    </tr>\n",
              "    <tr>\n",
              "      <th>11865</th>\n",
              "      <td>2018</td>\n",
              "      <td>48</td>\n",
              "      <td>twinned</td>\n",
              "      <td>90</td>\n",
              "      <td>peek2018</td>\n",
              "      <td>strike</td>\n",
              "      <td>Small</td>\n",
              "    </tr>\n",
              "  </tbody>\n",
              "</table>\n",
              "<p>270 rows × 7 columns</p>\n",
              "</div>"
            ],
            "text/plain": [
              "       Year  Week_Number Customer  Volume    Event1  Event2 Groups\n",
              "89     2018           43  agulhas     102         0  strike  Small\n",
              "90     2018           44  agulhas      48         0  strike  Small\n",
              "91     2018           45  agulhas      80  peek2018  strike  Small\n",
              "92     2018           46  agulhas      13  peek2018  strike  Small\n",
              "93     2018           47  agulhas      17  peek2018  strike  Small\n",
              "...     ...          ...      ...     ...       ...     ...    ...\n",
              "11861  2018           44  twinned     123         0  strike  Small\n",
              "11862  2018           45  twinned       0  peek2018  strike  Small\n",
              "11863  2018           46  twinned       0  peek2018  strike  Small\n",
              "11864  2018           47  twinned     359  peek2018  strike  Small\n",
              "11865  2018           48  twinned      90  peek2018  strike  Small\n",
              "\n",
              "[270 rows x 7 columns]"
            ]
          },
          "metadata": {
            "tags": []
          },
          "execution_count": 155
        }
      ]
    },
    {
      "cell_type": "code",
      "metadata": {
        "id": "IasUnvkiYpZu",
        "colab_type": "code",
        "colab": {
          "base_uri": "https://localhost:8080/",
          "height": 35
        },
        "outputId": "75221a5b-7373-424d-8d3d-224d790aabce"
      },
      "source": [
        "test_result2 = stats.ttest_ind(df_small_non_strike[\"Volume\"], df_small_strike[\"Volume\"])\n",
        "test_result2"
      ],
      "execution_count": 156,
      "outputs": [
        {
          "output_type": "execute_result",
          "data": {
            "text/plain": [
              "Ttest_indResult(statistic=1.8069429817830112, pvalue=0.07082814742176234)"
            ]
          },
          "metadata": {
            "tags": []
          },
          "execution_count": 156
        }
      ]
    },
    {
      "cell_type": "code",
      "metadata": {
        "id": "wfXhBj75GN9i",
        "colab_type": "code",
        "colab": {
          "base_uri": "https://localhost:8080/",
          "height": 320
        },
        "outputId": "9af28ec0-c596-42c5-bcb9-5d15916f8d96"
      },
      "source": [
        "# graph for large\n",
        "import matplotlib.pyplot as pyplot\n",
        "x = df_small_non_strike[\"Volume\"]\n",
        "y = df_small_strike[\"Volume\"]\n",
        "plt.figure(figsize=(20,5))\n",
        "pyplot.hist(x, alpha=0.5, label='x')\n",
        "pyplot.hist(y, alpha=0.5, label='y')\n",
        "pyplot.legend(loc='upper right')\n",
        "pyplot.show()"
      ],
      "execution_count": 157,
      "outputs": [
        {
          "output_type": "display_data",
          "data": {
            "image/png": "[encoded data removed]",
            "text/plain": [
              "<Figure size 1440x360 with 1 Axes>"
            ]
          },
          "metadata": {
            "tags": []
          }
        }
      ]
    },
    {
      "cell_type": "code",
      "metadata": {
        "id": "KYc0rFqQZHvc",
        "colab_type": "code",
        "colab": {}
      },
      "source": [
        "df_small_strike_mean = df_small_strike[\"Volume\"].mean()"
      ],
      "execution_count": 158,
      "outputs": []
    },
    {
      "cell_type": "code",
      "metadata": {
        "id": "PWcopMgcZUHF",
        "colab_type": "code",
        "colab": {}
      },
      "source": [
        "df_small_non_strike_mean = df_small_non_strike[\"Volume\"].mean()"
      ],
      "execution_count": 159,
      "outputs": []
    },
    {
      "cell_type": "code",
      "metadata": {
        "id": "xXvsN-uLZcUR",
        "colab_type": "code",
        "colab": {
          "base_uri": "https://localhost:8080/",
          "height": 52
        },
        "outputId": "0131e566-e06f-4d1c-e718-8743511a18ac"
      },
      "source": [
        "print(\"df_small_strike_mean = \", df_small_strike_mean)\n",
        "print(\"df_small_non_strike_mean = \", df_small_non_strike_mean)"
      ],
      "execution_count": 160,
      "outputs": [
        {
          "output_type": "stream",
          "text": [
            "df_small_strike_mean =  55.611111111111114\n",
            "df_small_non_strike_mean =  63.92907092907093\n"
          ],
          "name": "stdout"
        }
      ]
    },
    {
      "cell_type": "code",
      "metadata": {
        "id": "0sx8a46uZ8nq",
        "colab_type": "code",
        "colab": {
          "base_uri": "https://localhost:8080/",
          "height": 35
        },
        "outputId": "575f1b8b-dbc0-4c93-fe81-426646e26c56"
      },
      "source": [
        "df_events_strike[\"Volume\"].max()"
      ],
      "execution_count": 161,
      "outputs": [
        {
          "output_type": "execute_result",
          "data": {
            "text/plain": [
              "1640560"
            ]
          },
          "metadata": {
            "tags": []
          },
          "execution_count": 161
        }
      ]
    },
    {
      "cell_type": "code",
      "metadata": {
        "id": "6lg_jFZIacoV",
        "colab_type": "code",
        "colab": {
          "base_uri": "https://localhost:8080/",
          "height": 35
        },
        "outputId": "afe00c36-c0e2-4cba-f66b-884bb2e73e5f"
      },
      "source": [
        "df_events_strike[\"Volume\"].min()"
      ],
      "execution_count": 162,
      "outputs": [
        {
          "output_type": "execute_result",
          "data": {
            "text/plain": [
              "0"
            ]
          },
          "metadata": {
            "tags": []
          },
          "execution_count": 162
        }
      ]
    },
    {
      "cell_type": "code",
      "metadata": {
        "id": "m7P0_wzmahNM",
        "colab_type": "code",
        "colab": {
          "base_uri": "https://localhost:8080/",
          "height": 353
        },
        "outputId": "beb56966-acae-42c8-c3bc-4c1402c49e55"
      },
      "source": [
        "df_events_strike[\"Volume\"].hist(figsize=(18,5))"
      ],
      "execution_count": 163,
      "outputs": [
        {
          "output_type": "execute_result",
          "data": {
            "text/plain": [
              "<matplotlib.axes._subplots.AxesSubplot at 0x7f980bb2f748>"
            ]
          },
          "metadata": {
            "tags": []
          },
          "execution_count": 163
        },
        {
          "output_type": "display_data",
          "data": {
            "image/png": "[encoded data removed]",
            "text/plain": [
              "<Figure size 1296x360 with 1 Axes>"
            ]
          },
          "metadata": {
            "tags": []
          }
        }
      ]
    },
    {
      "cell_type": "code",
      "metadata": {
        "id": "CjTGHP2UbQ71",
        "colab_type": "code",
        "colab": {}
      },
      "source": [
        ""
      ],
      "execution_count": 163,
      "outputs": []
    },
    {
      "cell_type": "code",
      "metadata": {
        "id": "O2_asy6zbJPl",
        "colab_type": "code",
        "colab": {
          "base_uri": "https://localhost:8080/",
          "height": 353
        },
        "outputId": "12aad39d-ee66-4d67-b13f-2eccb42ad90e"
      },
      "source": [
        "df_events_non_strike[\"Volume\"].hist(figsize=(18,5), bins = 30)"
      ],
      "execution_count": 164,
      "outputs": [
        {
          "output_type": "execute_result",
          "data": {
            "text/plain": [
              "<matplotlib.axes._subplots.AxesSubplot at 0x7f980bac3978>"
            ]
          },
          "metadata": {
            "tags": []
          },
          "execution_count": 164
        },
        {
          "output_type": "display_data",
          "data": {
            "image/png": "[encoded data removed]",
            "text/plain": [
              "<Figure size 1296x360 with 1 Axes>"
            ]
          },
          "metadata": {
            "tags": []
          }
        }
      ]
    },
    {
      "cell_type": "code",
      "metadata": {
        "id": "Uk0tmQO3ci_O",
        "colab_type": "code",
        "colab": {}
      },
      "source": [
        "from matplotlib import pyplot"
      ],
      "execution_count": 165,
      "outputs": []
    },
    {
      "cell_type": "code",
      "metadata": {
        "id": "SNezQhpqctAF",
        "colab_type": "code",
        "colab": {
          "base_uri": "https://localhost:8080/",
          "height": 331
        },
        "outputId": "f77f1c16-554a-427f-ab01-13bb7e138cf4"
      },
      "source": [
        "x = df_events_non_strike[\"Volume\"]\n",
        "y = df_events_strike[\"Volume\"]\n",
        "plt.figure(figsize=(20,5))\n",
        "pyplot.hist(x, alpha=0.5, label='x')\n",
        "pyplot.hist(y, alpha=0.5, label='y')\n",
        "pyplot.legend(loc='upper right')\n",
        "pyplot.show()"
      ],
      "execution_count": 166,
      "outputs": [
        {
          "output_type": "display_data",
          "data": {
            "image/png": "[encoded data removed]",
            "text/plain": [
              "<Figure size 1440x360 with 1 Axes>"
            ]
          },
          "metadata": {
            "tags": []
          }
        }
      ]
    },
    {
      "cell_type": "code",
      "metadata": {
        "id": "idlAHl9s-yJO",
        "colab_type": "code",
        "colab": {
          "base_uri": "https://localhost:8080/",
          "height": 415
        },
        "outputId": "340b5a2c-ef15-42df-ea3c-7960b350ca9d"
      },
      "source": [
        "df_large_strike = df_events_strike.loc[(df_events_strike[\"Groups\"] == \"Large\")]\n",
        "df_large_strike"
      ],
      "execution_count": 167,
      "outputs": [
        {
          "output_type": "execute_result",
          "data": {
            "text/html": [
              "<div>\n",
              "<style scoped>\n",
              "    .dataframe tbody tr th:only-of-type {\n",
              "        vertical-align: middle;\n",
              "    }\n",
              "\n",
              "    .dataframe tbody tr th {\n",
              "        vertical-align: top;\n",
              "    }\n",
              "\n",
              "    .dataframe thead th {\n",
              "        text-align: right;\n",
              "    }\n",
              "</style>\n",
              "<table border=\"1\" class=\"dataframe\">\n",
              "  <thead>\n",
              "    <tr style=\"text-align: right;\">\n",
              "      <th></th>\n",
              "      <th>Year</th>\n",
              "      <th>Week_Number</th>\n",
              "      <th>Customer</th>\n",
              "      <th>Volume</th>\n",
              "      <th>Event1</th>\n",
              "      <th>Event2</th>\n",
              "      <th>Groups</th>\n",
              "    </tr>\n",
              "  </thead>\n",
              "  <tbody>\n",
              "    <tr>\n",
              "      <th>1290</th>\n",
              "      <td>2018</td>\n",
              "      <td>43</td>\n",
              "      <td>benison</td>\n",
              "      <td>7534</td>\n",
              "      <td>0</td>\n",
              "      <td>strike</td>\n",
              "      <td>Large</td>\n",
              "    </tr>\n",
              "    <tr>\n",
              "      <th>1291</th>\n",
              "      <td>2018</td>\n",
              "      <td>44</td>\n",
              "      <td>benison</td>\n",
              "      <td>7228</td>\n",
              "      <td>0</td>\n",
              "      <td>strike</td>\n",
              "      <td>Large</td>\n",
              "    </tr>\n",
              "    <tr>\n",
              "      <th>1292</th>\n",
              "      <td>2018</td>\n",
              "      <td>45</td>\n",
              "      <td>benison</td>\n",
              "      <td>6499</td>\n",
              "      <td>peek2018</td>\n",
              "      <td>strike</td>\n",
              "      <td>Large</td>\n",
              "    </tr>\n",
              "    <tr>\n",
              "      <th>1293</th>\n",
              "      <td>2018</td>\n",
              "      <td>46</td>\n",
              "      <td>benison</td>\n",
              "      <td>7513</td>\n",
              "      <td>peek2018</td>\n",
              "      <td>strike</td>\n",
              "      <td>Large</td>\n",
              "    </tr>\n",
              "    <tr>\n",
              "      <th>1294</th>\n",
              "      <td>2018</td>\n",
              "      <td>47</td>\n",
              "      <td>benison</td>\n",
              "      <td>10464</td>\n",
              "      <td>peek2018</td>\n",
              "      <td>strike</td>\n",
              "      <td>Large</td>\n",
              "    </tr>\n",
              "    <tr>\n",
              "      <th>...</th>\n",
              "      <td>...</td>\n",
              "      <td>...</td>\n",
              "      <td>...</td>\n",
              "      <td>...</td>\n",
              "      <td>...</td>\n",
              "      <td>...</td>\n",
              "      <td>...</td>\n",
              "    </tr>\n",
              "    <tr>\n",
              "      <th>11512</th>\n",
              "      <td>2018</td>\n",
              "      <td>44</td>\n",
              "      <td>triduum</td>\n",
              "      <td>21747</td>\n",
              "      <td>0</td>\n",
              "      <td>strike</td>\n",
              "      <td>Large</td>\n",
              "    </tr>\n",
              "    <tr>\n",
              "      <th>11513</th>\n",
              "      <td>2018</td>\n",
              "      <td>45</td>\n",
              "      <td>triduum</td>\n",
              "      <td>19426</td>\n",
              "      <td>peek2018</td>\n",
              "      <td>strike</td>\n",
              "      <td>Large</td>\n",
              "    </tr>\n",
              "    <tr>\n",
              "      <th>11514</th>\n",
              "      <td>2018</td>\n",
              "      <td>46</td>\n",
              "      <td>triduum</td>\n",
              "      <td>32283</td>\n",
              "      <td>peek2018</td>\n",
              "      <td>strike</td>\n",
              "      <td>Large</td>\n",
              "    </tr>\n",
              "    <tr>\n",
              "      <th>11515</th>\n",
              "      <td>2018</td>\n",
              "      <td>47</td>\n",
              "      <td>triduum</td>\n",
              "      <td>55554</td>\n",
              "      <td>peek2018</td>\n",
              "      <td>strike</td>\n",
              "      <td>Large</td>\n",
              "    </tr>\n",
              "    <tr>\n",
              "      <th>11516</th>\n",
              "      <td>2018</td>\n",
              "      <td>48</td>\n",
              "      <td>triduum</td>\n",
              "      <td>95847</td>\n",
              "      <td>peek2018</td>\n",
              "      <td>strike</td>\n",
              "      <td>Large</td>\n",
              "    </tr>\n",
              "  </tbody>\n",
              "</table>\n",
              "<p>150 rows × 7 columns</p>\n",
              "</div>"
            ],
            "text/plain": [
              "       Year  Week_Number Customer  Volume    Event1  Event2 Groups\n",
              "1290   2018           43  benison    7534         0  strike  Large\n",
              "1291   2018           44  benison    7228         0  strike  Large\n",
              "1292   2018           45  benison    6499  peek2018  strike  Large\n",
              "1293   2018           46  benison    7513  peek2018  strike  Large\n",
              "1294   2018           47  benison   10464  peek2018  strike  Large\n",
              "...     ...          ...      ...     ...       ...     ...    ...\n",
              "11512  2018           44  triduum   21747         0  strike  Large\n",
              "11513  2018           45  triduum   19426  peek2018  strike  Large\n",
              "11514  2018           46  triduum   32283  peek2018  strike  Large\n",
              "11515  2018           47  triduum   55554  peek2018  strike  Large\n",
              "11516  2018           48  triduum   95847  peek2018  strike  Large\n",
              "\n",
              "[150 rows x 7 columns]"
            ]
          },
          "metadata": {
            "tags": []
          },
          "execution_count": 167
        }
      ]
    },
    {
      "cell_type": "code",
      "metadata": {
        "id": "dSS3Fv-FBfhg",
        "colab_type": "code",
        "colab": {}
      },
      "source": [
        "df_large_non_strike = df_events_non_strike.loc[(df_events_non_strike[\"Groups\"] == \"Large\")]"
      ],
      "execution_count": 168,
      "outputs": []
    },
    {
      "cell_type": "code",
      "metadata": {
        "id": "lGEh0NmHBfxR",
        "colab_type": "code",
        "colab": {
          "base_uri": "https://localhost:8080/",
          "height": 35
        },
        "outputId": "ab2d144e-097e-436c-e71d-6380ee3d2611"
      },
      "source": [
        "#test result for large\n",
        "test_result3 = stats.ttest_ind(df_large_non_strike[\"Volume\"], df_large_strike[\"Volume\"])\n",
        "test_result3"
      ],
      "execution_count": 169,
      "outputs": [
        {
          "output_type": "execute_result",
          "data": {
            "text/plain": [
              "Ttest_indResult(statistic=-1.2353737174143746, pvalue=0.21678744761660243)"
            ]
          },
          "metadata": {
            "tags": []
          },
          "execution_count": 169
        }
      ]
    },
    {
      "cell_type": "code",
      "metadata": {
        "id": "8vM9Vbm3HJ0X",
        "colab_type": "code",
        "colab": {
          "base_uri": "https://localhost:8080/",
          "height": 52
        },
        "outputId": "dbf951fe-13e5-497a-daa2-0515d9e8ba95"
      },
      "source": [
        "df_large_non_strike_volume_mean = df_large_non_strike[\"Volume\"].mean()\n",
        "df_large_strike_volume_mean = df_large_strike[\"Volume\"].mean()\n",
        "print(\"df_large_non_strike_volume_mean\", df_large_non_strike_volume_mean)\n",
        "print(\"df_large_strike_volume_mean\", df_large_strike_volume_mean)"
      ],
      "execution_count": 170,
      "outputs": [
        {
          "output_type": "stream",
          "text": [
            "df_large_non_strike_volume_mean 52895.753391304344\n",
            "df_large_strike_volume_mean 67455.73333333334\n"
          ],
          "name": "stdout"
        }
      ]
    },
    {
      "cell_type": "code",
      "metadata": {
        "id": "IdDkr0qSB_MA",
        "colab_type": "code",
        "colab": {
          "base_uri": "https://localhost:8080/",
          "height": 331
        },
        "outputId": "8f079b7a-ef7e-4a20-e908-cbaf4b688a74"
      },
      "source": [
        "# graph for large\n",
        "df_large_non_strike_volume = df_large_non_strike[\"Volume\"]\n",
        "df_large_strike_volume = df_large_strike[\"Volume\"]\n",
        "plt.figure(figsize=(20,5))\n",
        "pyplot.hist(x, alpha=0.5, label='x')\n",
        "pyplot.hist(y, alpha=0.5, label='y')\n",
        "pyplot.legend(loc='upper right')\n",
        "pyplot.show()"
      ],
      "execution_count": 171,
      "outputs": [
        {
          "output_type": "display_data",
          "data": {
            "image/png": "[encoded data removed]",
            "text/plain": [
              "<Figure size 1440x360 with 1 Axes>"
            ]
          },
          "metadata": {
            "tags": []
          }
        }
      ]
    },
    {
      "cell_type": "code",
      "metadata": {
        "id": "F0AFzSHSEp1G",
        "colab_type": "code",
        "colab": {
          "base_uri": "https://localhost:8080/",
          "height": 415
        },
        "outputId": "3e152697-84b5-4796-9262-ddc13d5a1f95"
      },
      "source": [
        "df_medium_strike = df_events_strike.loc[(df_events_strike[\"Groups\"] == \"Medium\")]\n",
        "df_large_strike"
      ],
      "execution_count": 172,
      "outputs": [
        {
          "output_type": "execute_result",
          "data": {
            "text/html": [
              "<div>\n",
              "<style scoped>\n",
              "    .dataframe tbody tr th:only-of-type {\n",
              "        vertical-align: middle;\n",
              "    }\n",
              "\n",
              "    .dataframe tbody tr th {\n",
              "        vertical-align: top;\n",
              "    }\n",
              "\n",
              "    .dataframe thead th {\n",
              "        text-align: right;\n",
              "    }\n",
              "</style>\n",
              "<table border=\"1\" class=\"dataframe\">\n",
              "  <thead>\n",
              "    <tr style=\"text-align: right;\">\n",
              "      <th></th>\n",
              "      <th>Year</th>\n",
              "      <th>Week_Number</th>\n",
              "      <th>Customer</th>\n",
              "      <th>Volume</th>\n",
              "      <th>Event1</th>\n",
              "      <th>Event2</th>\n",
              "      <th>Groups</th>\n",
              "    </tr>\n",
              "  </thead>\n",
              "  <tbody>\n",
              "    <tr>\n",
              "      <th>1290</th>\n",
              "      <td>2018</td>\n",
              "      <td>43</td>\n",
              "      <td>benison</td>\n",
              "      <td>7534</td>\n",
              "      <td>0</td>\n",
              "      <td>strike</td>\n",
              "      <td>Large</td>\n",
              "    </tr>\n",
              "    <tr>\n",
              "      <th>1291</th>\n",
              "      <td>2018</td>\n",
              "      <td>44</td>\n",
              "      <td>benison</td>\n",
              "      <td>7228</td>\n",
              "      <td>0</td>\n",
              "      <td>strike</td>\n",
              "      <td>Large</td>\n",
              "    </tr>\n",
              "    <tr>\n",
              "      <th>1292</th>\n",
              "      <td>2018</td>\n",
              "      <td>45</td>\n",
              "      <td>benison</td>\n",
              "      <td>6499</td>\n",
              "      <td>peek2018</td>\n",
              "      <td>strike</td>\n",
              "      <td>Large</td>\n",
              "    </tr>\n",
              "    <tr>\n",
              "      <th>1293</th>\n",
              "      <td>2018</td>\n",
              "      <td>46</td>\n",
              "      <td>benison</td>\n",
              "      <td>7513</td>\n",
              "      <td>peek2018</td>\n",
              "      <td>strike</td>\n",
              "      <td>Large</td>\n",
              "    </tr>\n",
              "    <tr>\n",
              "      <th>1294</th>\n",
              "      <td>2018</td>\n",
              "      <td>47</td>\n",
              "      <td>benison</td>\n",
              "      <td>10464</td>\n",
              "      <td>peek2018</td>\n",
              "      <td>strike</td>\n",
              "      <td>Large</td>\n",
              "    </tr>\n",
              "    <tr>\n",
              "      <th>...</th>\n",
              "      <td>...</td>\n",
              "      <td>...</td>\n",
              "      <td>...</td>\n",
              "      <td>...</td>\n",
              "      <td>...</td>\n",
              "      <td>...</td>\n",
              "      <td>...</td>\n",
              "    </tr>\n",
              "    <tr>\n",
              "      <th>11512</th>\n",
              "      <td>2018</td>\n",
              "      <td>44</td>\n",
              "      <td>triduum</td>\n",
              "      <td>21747</td>\n",
              "      <td>0</td>\n",
              "      <td>strike</td>\n",
              "      <td>Large</td>\n",
              "    </tr>\n",
              "    <tr>\n",
              "      <th>11513</th>\n",
              "      <td>2018</td>\n",
              "      <td>45</td>\n",
              "      <td>triduum</td>\n",
              "      <td>19426</td>\n",
              "      <td>peek2018</td>\n",
              "      <td>strike</td>\n",
              "      <td>Large</td>\n",
              "    </tr>\n",
              "    <tr>\n",
              "      <th>11514</th>\n",
              "      <td>2018</td>\n",
              "      <td>46</td>\n",
              "      <td>triduum</td>\n",
              "      <td>32283</td>\n",
              "      <td>peek2018</td>\n",
              "      <td>strike</td>\n",
              "      <td>Large</td>\n",
              "    </tr>\n",
              "    <tr>\n",
              "      <th>11515</th>\n",
              "      <td>2018</td>\n",
              "      <td>47</td>\n",
              "      <td>triduum</td>\n",
              "      <td>55554</td>\n",
              "      <td>peek2018</td>\n",
              "      <td>strike</td>\n",
              "      <td>Large</td>\n",
              "    </tr>\n",
              "    <tr>\n",
              "      <th>11516</th>\n",
              "      <td>2018</td>\n",
              "      <td>48</td>\n",
              "      <td>triduum</td>\n",
              "      <td>95847</td>\n",
              "      <td>peek2018</td>\n",
              "      <td>strike</td>\n",
              "      <td>Large</td>\n",
              "    </tr>\n",
              "  </tbody>\n",
              "</table>\n",
              "<p>150 rows × 7 columns</p>\n",
              "</div>"
            ],
            "text/plain": [
              "       Year  Week_Number Customer  Volume    Event1  Event2 Groups\n",
              "1290   2018           43  benison    7534         0  strike  Large\n",
              "1291   2018           44  benison    7228         0  strike  Large\n",
              "1292   2018           45  benison    6499  peek2018  strike  Large\n",
              "1293   2018           46  benison    7513  peek2018  strike  Large\n",
              "1294   2018           47  benison   10464  peek2018  strike  Large\n",
              "...     ...          ...      ...     ...       ...     ...    ...\n",
              "11512  2018           44  triduum   21747         0  strike  Large\n",
              "11513  2018           45  triduum   19426  peek2018  strike  Large\n",
              "11514  2018           46  triduum   32283  peek2018  strike  Large\n",
              "11515  2018           47  triduum   55554  peek2018  strike  Large\n",
              "11516  2018           48  triduum   95847  peek2018  strike  Large\n",
              "\n",
              "[150 rows x 7 columns]"
            ]
          },
          "metadata": {
            "tags": []
          },
          "execution_count": 172
        }
      ]
    },
    {
      "cell_type": "code",
      "metadata": {
        "id": "fXjDgrsPFl1j",
        "colab_type": "code",
        "colab": {}
      },
      "source": [
        "df_medium_non_strike = df_events_non_strike.loc[(df_events_non_strike[\"Groups\"] == \"Medium\")]"
      ],
      "execution_count": 173,
      "outputs": []
    },
    {
      "cell_type": "code",
      "metadata": {
        "id": "J5Txhr8YFueu",
        "colab_type": "code",
        "colab": {
          "base_uri": "https://localhost:8080/",
          "height": 35
        },
        "outputId": "51b9caea-7a57-4023-a1a0-6101bcf64afe"
      },
      "source": [
        "#test result for medium\n",
        "test_result4 = stats.ttest_ind(df_medium_non_strike[\"Volume\"], df_medium_strike[\"Volume\"])\n",
        "test_result4"
      ],
      "execution_count": 174,
      "outputs": [
        {
          "output_type": "execute_result",
          "data": {
            "text/plain": [
              "Ttest_indResult(statistic=-2.5179656793122995, pvalue=0.011844128908918481)"
            ]
          },
          "metadata": {
            "tags": []
          },
          "execution_count": 174
        }
      ]
    },
    {
      "cell_type": "code",
      "metadata": {
        "id": "cirnxQOsGusr",
        "colab_type": "code",
        "colab": {
          "base_uri": "https://localhost:8080/",
          "height": 52
        },
        "outputId": "7c61c046-d0bb-4abf-a0f9-96f50e9f02be"
      },
      "source": [
        "# means for medium\n",
        "# it can be seen that mean of volume during strike is higher than \n",
        "df_medium_non_strike_volume_mean = df_medium_non_strike[\"Volume\"].mean()\n",
        "df_medium_strike_volume_mean = df_medium_strike[\"Volume\"].mean()\n",
        "print(\"df_medium_non_strike_volume_mean\", df_medium_non_strike_volume_mean)\n",
        "print(\"df_medium_strike_volume_mean\", df_medium_strike_volume_mean)"
      ],
      "execution_count": 175,
      "outputs": [
        {
          "output_type": "stream",
          "text": [
            "df_medium_non_strike_volume_mean 645.2896189950304\n",
            "df_medium_strike_volume_mean 817.4895833333334\n"
          ],
          "name": "stdout"
        }
      ]
    },
    {
      "cell_type": "code",
      "metadata": {
        "id": "8Cs5r_P5F5-3",
        "colab_type": "code",
        "colab": {
          "base_uri": "https://localhost:8080/",
          "height": 331
        },
        "outputId": "95209c41-a8d0-470c-8e09-3d94606a0ec4"
      },
      "source": [
        "# graph for medium\n",
        "df_medium_non_strike_volume = df_medium_non_strike[\"Volume\"]\n",
        "df_medium_strike_volume = df_medium_strike[\"Volume\"]\n",
        "plt.figure(figsize=(20,5))\n",
        "pyplot.hist(x, alpha=0.5, label='df_medium_non_strike_volume')\n",
        "pyplot.hist(y, alpha=0.5, label='df_medium_strike_volume')\n",
        "pyplot.legend(loc='upper right')\n",
        "pyplot.show()"
      ],
      "execution_count": 176,
      "outputs": [
        {
          "output_type": "display_data",
          "data": {
            "image/png": "[encoded data removed]",
            "text/plain": [
              "<Figure size 1440x360 with 1 Axes>"
            ]
          },
          "metadata": {
            "tags": []
          }
        }
      ]
    },
    {
      "cell_type": "code",
      "metadata": {
        "id": "da2wbEDER7cu",
        "colab_type": "code",
        "colab": {
          "base_uri": "https://localhost:8080/",
          "height": 415
        },
        "outputId": "fd3259b1-cebe-489b-d274-2dea59d18d68"
      },
      "source": [
        "df_events"
      ],
      "execution_count": 177,
      "outputs": [
        {
          "output_type": "execute_result",
          "data": {
            "text/html": [
              "<div>\n",
              "<style scoped>\n",
              "    .dataframe tbody tr th:only-of-type {\n",
              "        vertical-align: middle;\n",
              "    }\n",
              "\n",
              "    .dataframe tbody tr th {\n",
              "        vertical-align: top;\n",
              "    }\n",
              "\n",
              "    .dataframe thead th {\n",
              "        text-align: right;\n",
              "    }\n",
              "</style>\n",
              "<table border=\"1\" class=\"dataframe\">\n",
              "  <thead>\n",
              "    <tr style=\"text-align: right;\">\n",
              "      <th></th>\n",
              "      <th>Year</th>\n",
              "      <th>Week_Number</th>\n",
              "      <th>Customer</th>\n",
              "      <th>Volume</th>\n",
              "      <th>Event1</th>\n",
              "      <th>Event2</th>\n",
              "      <th>Groups</th>\n",
              "    </tr>\n",
              "  </thead>\n",
              "  <tbody>\n",
              "    <tr>\n",
              "      <th>0</th>\n",
              "      <td>2017</td>\n",
              "      <td>1</td>\n",
              "      <td>agulhas</td>\n",
              "      <td>83</td>\n",
              "      <td>0</td>\n",
              "      <td>0</td>\n",
              "      <td>Small</td>\n",
              "    </tr>\n",
              "    <tr>\n",
              "      <th>1</th>\n",
              "      <td>2017</td>\n",
              "      <td>2</td>\n",
              "      <td>agulhas</td>\n",
              "      <td>98</td>\n",
              "      <td>0</td>\n",
              "      <td>0</td>\n",
              "      <td>Small</td>\n",
              "    </tr>\n",
              "    <tr>\n",
              "      <th>2</th>\n",
              "      <td>2017</td>\n",
              "      <td>3</td>\n",
              "      <td>agulhas</td>\n",
              "      <td>57</td>\n",
              "      <td>0</td>\n",
              "      <td>0</td>\n",
              "      <td>Small</td>\n",
              "    </tr>\n",
              "    <tr>\n",
              "      <th>3</th>\n",
              "      <td>2017</td>\n",
              "      <td>4</td>\n",
              "      <td>agulhas</td>\n",
              "      <td>127</td>\n",
              "      <td>0</td>\n",
              "      <td>0</td>\n",
              "      <td>Small</td>\n",
              "    </tr>\n",
              "    <tr>\n",
              "      <th>4</th>\n",
              "      <td>2017</td>\n",
              "      <td>5</td>\n",
              "      <td>agulhas</td>\n",
              "      <td>121</td>\n",
              "      <td>0</td>\n",
              "      <td>0</td>\n",
              "      <td>Small</td>\n",
              "    </tr>\n",
              "    <tr>\n",
              "      <th>...</th>\n",
              "      <td>...</td>\n",
              "      <td>...</td>\n",
              "      <td>...</td>\n",
              "      <td>...</td>\n",
              "      <td>...</td>\n",
              "      <td>...</td>\n",
              "      <td>...</td>\n",
              "    </tr>\n",
              "    <tr>\n",
              "      <th>12126</th>\n",
              "      <td>2019</td>\n",
              "      <td>13</td>\n",
              "      <td>woodser</td>\n",
              "      <td>1853</td>\n",
              "      <td>0</td>\n",
              "      <td>0</td>\n",
              "      <td>Medium</td>\n",
              "    </tr>\n",
              "    <tr>\n",
              "      <th>12127</th>\n",
              "      <td>2019</td>\n",
              "      <td>14</td>\n",
              "      <td>woodser</td>\n",
              "      <td>1618</td>\n",
              "      <td>0</td>\n",
              "      <td>0</td>\n",
              "      <td>Medium</td>\n",
              "    </tr>\n",
              "    <tr>\n",
              "      <th>12128</th>\n",
              "      <td>2019</td>\n",
              "      <td>15</td>\n",
              "      <td>woodser</td>\n",
              "      <td>1584</td>\n",
              "      <td>0</td>\n",
              "      <td>0</td>\n",
              "      <td>Medium</td>\n",
              "    </tr>\n",
              "    <tr>\n",
              "      <th>12129</th>\n",
              "      <td>2019</td>\n",
              "      <td>16</td>\n",
              "      <td>woodser</td>\n",
              "      <td>1732</td>\n",
              "      <td>0</td>\n",
              "      <td>0</td>\n",
              "      <td>Medium</td>\n",
              "    </tr>\n",
              "    <tr>\n",
              "      <th>12130</th>\n",
              "      <td>2019</td>\n",
              "      <td>17</td>\n",
              "      <td>woodser</td>\n",
              "      <td>1651</td>\n",
              "      <td>0</td>\n",
              "      <td>0</td>\n",
              "      <td>Medium</td>\n",
              "    </tr>\n",
              "  </tbody>\n",
              "</table>\n",
              "<p>12131 rows × 7 columns</p>\n",
              "</div>"
            ],
            "text/plain": [
              "       Year  Week_Number Customer  Volume Event1 Event2  Groups\n",
              "0      2017            1  agulhas      83      0      0   Small\n",
              "1      2017            2  agulhas      98      0      0   Small\n",
              "2      2017            3  agulhas      57      0      0   Small\n",
              "3      2017            4  agulhas     127      0      0   Small\n",
              "4      2017            5  agulhas     121      0      0   Small\n",
              "...     ...          ...      ...     ...    ...    ...     ...\n",
              "12126  2019           13  woodser    1853      0      0  Medium\n",
              "12127  2019           14  woodser    1618      0      0  Medium\n",
              "12128  2019           15  woodser    1584      0      0  Medium\n",
              "12129  2019           16  woodser    1732      0      0  Medium\n",
              "12130  2019           17  woodser    1651      0      0  Medium\n",
              "\n",
              "[12131 rows x 7 columns]"
            ]
          },
          "metadata": {
            "tags": []
          },
          "execution_count": 177
        }
      ]
    },
    {
      "cell_type": "code",
      "metadata": {
        "id": "wEyIHPfEQpPP",
        "colab_type": "code",
        "colab": {
          "base_uri": "https://localhost:8080/",
          "height": 35
        },
        "outputId": "f7df5916-a7e0-42a6-d343-3da70d60cd6b"
      },
      "source": [
        "list_of_strike_weeks =  df_events_strike[\"Week_Number\"].unique().tolist()\n",
        "list_of_strike_weeks"
      ],
      "execution_count": 178,
      "outputs": [
        {
          "output_type": "execute_result",
          "data": {
            "text/plain": [
              "[43, 44, 45, 46, 47, 48]"
            ]
          },
          "metadata": {
            "tags": []
          },
          "execution_count": 178
        }
      ]
    },
    {
      "cell_type": "code",
      "metadata": {
        "id": "1TL23kJrRIOG",
        "colab_type": "code",
        "colab": {
          "base_uri": "https://localhost:8080/",
          "height": 415
        },
        "outputId": "87298123-2624-4167-9ed3-39526aa355d5"
      },
      "source": [
        "df_prestrike_2017_byweeks = df_events.loc[(df_events[\"Week_Number\"].isin(list_of_strike_weeks)) & (df_events[\"Year\"]==2017) ]\n",
        "df_prestrike_2017_byweeks"
      ],
      "execution_count": 179,
      "outputs": [
        {
          "output_type": "execute_result",
          "data": {
            "text/html": [
              "<div>\n",
              "<style scoped>\n",
              "    .dataframe tbody tr th:only-of-type {\n",
              "        vertical-align: middle;\n",
              "    }\n",
              "\n",
              "    .dataframe tbody tr th {\n",
              "        vertical-align: top;\n",
              "    }\n",
              "\n",
              "    .dataframe thead th {\n",
              "        text-align: right;\n",
              "    }\n",
              "</style>\n",
              "<table border=\"1\" class=\"dataframe\">\n",
              "  <thead>\n",
              "    <tr style=\"text-align: right;\">\n",
              "      <th></th>\n",
              "      <th>Year</th>\n",
              "      <th>Week_Number</th>\n",
              "      <th>Customer</th>\n",
              "      <th>Volume</th>\n",
              "      <th>Event1</th>\n",
              "      <th>Event2</th>\n",
              "      <th>Groups</th>\n",
              "    </tr>\n",
              "  </thead>\n",
              "  <tbody>\n",
              "    <tr>\n",
              "      <th>42</th>\n",
              "      <td>2017</td>\n",
              "      <td>43</td>\n",
              "      <td>agulhas</td>\n",
              "      <td>118</td>\n",
              "      <td>0</td>\n",
              "      <td>0</td>\n",
              "      <td>Small</td>\n",
              "    </tr>\n",
              "    <tr>\n",
              "      <th>43</th>\n",
              "      <td>2017</td>\n",
              "      <td>44</td>\n",
              "      <td>agulhas</td>\n",
              "      <td>109</td>\n",
              "      <td>0</td>\n",
              "      <td>0</td>\n",
              "      <td>Small</td>\n",
              "    </tr>\n",
              "    <tr>\n",
              "      <th>44</th>\n",
              "      <td>2017</td>\n",
              "      <td>45</td>\n",
              "      <td>agulhas</td>\n",
              "      <td>116</td>\n",
              "      <td>0</td>\n",
              "      <td>0</td>\n",
              "      <td>Small</td>\n",
              "    </tr>\n",
              "    <tr>\n",
              "      <th>45</th>\n",
              "      <td>2017</td>\n",
              "      <td>46</td>\n",
              "      <td>agulhas</td>\n",
              "      <td>182</td>\n",
              "      <td>0</td>\n",
              "      <td>0</td>\n",
              "      <td>Small</td>\n",
              "    </tr>\n",
              "    <tr>\n",
              "      <th>46</th>\n",
              "      <td>2017</td>\n",
              "      <td>47</td>\n",
              "      <td>agulhas</td>\n",
              "      <td>140</td>\n",
              "      <td>peek2017</td>\n",
              "      <td>0</td>\n",
              "      <td>Small</td>\n",
              "    </tr>\n",
              "    <tr>\n",
              "      <th>...</th>\n",
              "      <td>...</td>\n",
              "      <td>...</td>\n",
              "      <td>...</td>\n",
              "      <td>...</td>\n",
              "      <td>...</td>\n",
              "      <td>...</td>\n",
              "      <td>...</td>\n",
              "    </tr>\n",
              "    <tr>\n",
              "      <th>12053</th>\n",
              "      <td>2017</td>\n",
              "      <td>44</td>\n",
              "      <td>woodser</td>\n",
              "      <td>1872</td>\n",
              "      <td>0</td>\n",
              "      <td>0</td>\n",
              "      <td>Medium</td>\n",
              "    </tr>\n",
              "    <tr>\n",
              "      <th>12054</th>\n",
              "      <td>2017</td>\n",
              "      <td>45</td>\n",
              "      <td>woodser</td>\n",
              "      <td>2212</td>\n",
              "      <td>0</td>\n",
              "      <td>0</td>\n",
              "      <td>Medium</td>\n",
              "    </tr>\n",
              "    <tr>\n",
              "      <th>12055</th>\n",
              "      <td>2017</td>\n",
              "      <td>46</td>\n",
              "      <td>woodser</td>\n",
              "      <td>2424</td>\n",
              "      <td>0</td>\n",
              "      <td>0</td>\n",
              "      <td>Medium</td>\n",
              "    </tr>\n",
              "    <tr>\n",
              "      <th>12056</th>\n",
              "      <td>2017</td>\n",
              "      <td>47</td>\n",
              "      <td>woodser</td>\n",
              "      <td>3357</td>\n",
              "      <td>peek2017</td>\n",
              "      <td>0</td>\n",
              "      <td>Medium</td>\n",
              "    </tr>\n",
              "    <tr>\n",
              "      <th>12057</th>\n",
              "      <td>2017</td>\n",
              "      <td>48</td>\n",
              "      <td>woodser</td>\n",
              "      <td>4162</td>\n",
              "      <td>peek2017</td>\n",
              "      <td>0</td>\n",
              "      <td>Medium</td>\n",
              "    </tr>\n",
              "  </tbody>\n",
              "</table>\n",
              "<p>612 rows × 7 columns</p>\n",
              "</div>"
            ],
            "text/plain": [
              "       Year  Week_Number Customer  Volume    Event1 Event2  Groups\n",
              "42     2017           43  agulhas     118         0      0   Small\n",
              "43     2017           44  agulhas     109         0      0   Small\n",
              "44     2017           45  agulhas     116         0      0   Small\n",
              "45     2017           46  agulhas     182         0      0   Small\n",
              "46     2017           47  agulhas     140  peek2017      0   Small\n",
              "...     ...          ...      ...     ...       ...    ...     ...\n",
              "12053  2017           44  woodser    1872         0      0  Medium\n",
              "12054  2017           45  woodser    2212         0      0  Medium\n",
              "12055  2017           46  woodser    2424         0      0  Medium\n",
              "12056  2017           47  woodser    3357  peek2017      0  Medium\n",
              "12057  2017           48  woodser    4162  peek2017      0  Medium\n",
              "\n",
              "[612 rows x 7 columns]"
            ]
          },
          "metadata": {
            "tags": []
          },
          "execution_count": 179
        }
      ]
    },
    {
      "cell_type": "code",
      "metadata": {
        "id": "-fzhB7m8S7gN",
        "colab_type": "code",
        "colab": {
          "base_uri": "https://localhost:8080/",
          "height": 52
        },
        "outputId": "e87b4800-cb4b-4068-8274-9a42bed9ad73"
      },
      "source": [
        "# Testing the influence of the strike\n",
        "df_events_strike_volume_mean = df_events_strike[\"Volume\"].mean()\n",
        "df_prestrike_2017_byweeks_volume_mean = df_prestrike_2017_byweeks[\"Volume\"].mean()\n",
        "print(\"df_events_strike_volume_mean = \", df_events_strike_volume_mean)\n",
        "print(\"df_prestrike_2017_byweeks_volume_mean = \", df_prestrike_2017_byweeks_volume_mean)"
      ],
      "execution_count": 180,
      "outputs": [
        {
          "output_type": "stream",
          "text": [
            "df_events_strike_volume_mean =  16814.269607843136\n",
            "df_prestrike_2017_byweeks_volume_mean =  17057.43137254902\n"
          ],
          "name": "stdout"
        }
      ]
    },
    {
      "cell_type": "code",
      "metadata": {
        "id": "1E2_gCaRT0PO",
        "colab_type": "code",
        "colab": {
          "base_uri": "https://localhost:8080/",
          "height": 35
        },
        "outputId": "aee7bbea-a85e-4816-fe33-dd599346afa3"
      },
      "source": [
        "#test result for Strike prestrike(2017)\n",
        "test_result5 = stats.ttest_ind(df_events_strike[\"Volume\"], df_prestrike_2017_byweeks[\"Volume\"])\n",
        "test_result5\n",
        "# Overall, strike reduced the number of parcels, but very insignificantly"
      ],
      "execution_count": 181,
      "outputs": [
        {
          "output_type": "execute_result",
          "data": {
            "text/plain": [
              "Ttest_indResult(statistic=-0.047381742569375364, pvalue=0.962216722147955)"
            ]
          },
          "metadata": {
            "tags": []
          },
          "execution_count": 181
        }
      ]
    },
    {
      "cell_type": "code",
      "metadata": {
        "id": "qbyR5sl-Ot9J",
        "colab_type": "code",
        "colab": {
          "base_uri": "https://localhost:8080/",
          "height": 335
        },
        "outputId": "b17d5f2c-3f00-4f5d-d2de-35377fa687c5"
      },
      "source": [
        "# graph overall\n",
        "df_prestrike_2017_byweeks_volume = df_prestrike_2017_byweeks[\"Volume\"]\n",
        "df_events_strike_volume = df_events_strike[\"Volume\"]\n",
        "plt.figure(figsize=(20,5))\n",
        "pyplot.hist(df_prestrike_2017_byweeks_volume, alpha=0.5, label='df_prestrike_2017_byweeks_volume')\n",
        "pyplot.hist(df_events_strike_volume, alpha=0.5, label='df_events_strike_volume')\n",
        "pyplot.legend(loc='upper right')\n",
        "pyplot.show()"
      ],
      "execution_count": 182,
      "outputs": [
        {
          "output_type": "display_data",
          "data": {
            "image/png": "[encoded data removed]",
            "text/plain": [
              "<Figure size 1440x360 with 1 Axes>"
            ]
          },
          "metadata": {
            "tags": []
          }
        }
      ]
    },
    {
      "cell_type": "code",
      "metadata": {
        "id": "bgIwc61bWjoA",
        "colab_type": "code",
        "colab": {}
      },
      "source": [
        "# subset all 3 groups by size\n",
        "df_small_prestrike_2017_byweeks = df_prestrike_2017_byweeks.loc[(df_prestrike_2017_byweeks[\"Groups\"] == \"Small\" )]\n",
        "df_medium_prestrike_2017_byweeks = df_prestrike_2017_byweeks.loc[(df_prestrike_2017_byweeks[\"Groups\"] == \"Medium\" )]\n",
        "df_large_prestrike_2017_byweeks = df_prestrike_2017_byweeks.loc[(df_prestrike_2017_byweeks[\"Groups\"] == \"Large\" )]"
      ],
      "execution_count": 183,
      "outputs": []
    },
    {
      "cell_type": "code",
      "metadata": {
        "id": "earYlADBetKi",
        "colab_type": "code",
        "colab": {
          "base_uri": "https://localhost:8080/",
          "height": 52
        },
        "outputId": "a644ecf1-afb4-4bde-8f3d-026b4964cf87"
      },
      "source": [
        "df_small_strike_mean = df_small_strike[\"Volume\"].mean()\n",
        "df_small_prestrike_2017_byweeks_mean = df_small_prestrike_2017_byweeks[\"Volume\"].mean()\n",
        "print(\"df_small_strike_mean = \", df_small_strike_mean)\n",
        "print(\"df_small_prestrike_2017_byweeks_mean = \", df_small_prestrike_2017_byweeks_mean)"
      ],
      "execution_count": 184,
      "outputs": [
        {
          "output_type": "stream",
          "text": [
            "df_small_strike_mean =  55.611111111111114\n",
            "df_small_prestrike_2017_byweeks_mean =  75.46666666666667\n"
          ],
          "name": "stdout"
        }
      ]
    },
    {
      "cell_type": "code",
      "metadata": {
        "id": "yI7yvmgFnUBc",
        "colab_type": "code",
        "colab": {
          "base_uri": "https://localhost:8080/",
          "height": 415
        },
        "outputId": "c6ef104a-778c-4070-c768-4883c5acdef3"
      },
      "source": [
        "df_small_prestrike_2017_byweeks"
      ],
      "execution_count": 185,
      "outputs": [
        {
          "output_type": "execute_result",
          "data": {
            "text/html": [
              "<div>\n",
              "<style scoped>\n",
              "    .dataframe tbody tr th:only-of-type {\n",
              "        vertical-align: middle;\n",
              "    }\n",
              "\n",
              "    .dataframe tbody tr th {\n",
              "        vertical-align: top;\n",
              "    }\n",
              "\n",
              "    .dataframe thead th {\n",
              "        text-align: right;\n",
              "    }\n",
              "</style>\n",
              "<table border=\"1\" class=\"dataframe\">\n",
              "  <thead>\n",
              "    <tr style=\"text-align: right;\">\n",
              "      <th></th>\n",
              "      <th>Year</th>\n",
              "      <th>Week_Number</th>\n",
              "      <th>Customer</th>\n",
              "      <th>Volume</th>\n",
              "      <th>Event1</th>\n",
              "      <th>Event2</th>\n",
              "      <th>Groups</th>\n",
              "    </tr>\n",
              "  </thead>\n",
              "  <tbody>\n",
              "    <tr>\n",
              "      <th>42</th>\n",
              "      <td>2017</td>\n",
              "      <td>43</td>\n",
              "      <td>agulhas</td>\n",
              "      <td>118</td>\n",
              "      <td>0</td>\n",
              "      <td>0</td>\n",
              "      <td>Small</td>\n",
              "    </tr>\n",
              "    <tr>\n",
              "      <th>43</th>\n",
              "      <td>2017</td>\n",
              "      <td>44</td>\n",
              "      <td>agulhas</td>\n",
              "      <td>109</td>\n",
              "      <td>0</td>\n",
              "      <td>0</td>\n",
              "      <td>Small</td>\n",
              "    </tr>\n",
              "    <tr>\n",
              "      <th>44</th>\n",
              "      <td>2017</td>\n",
              "      <td>45</td>\n",
              "      <td>agulhas</td>\n",
              "      <td>116</td>\n",
              "      <td>0</td>\n",
              "      <td>0</td>\n",
              "      <td>Small</td>\n",
              "    </tr>\n",
              "    <tr>\n",
              "      <th>45</th>\n",
              "      <td>2017</td>\n",
              "      <td>46</td>\n",
              "      <td>agulhas</td>\n",
              "      <td>182</td>\n",
              "      <td>0</td>\n",
              "      <td>0</td>\n",
              "      <td>Small</td>\n",
              "    </tr>\n",
              "    <tr>\n",
              "      <th>46</th>\n",
              "      <td>2017</td>\n",
              "      <td>47</td>\n",
              "      <td>agulhas</td>\n",
              "      <td>140</td>\n",
              "      <td>peek2017</td>\n",
              "      <td>0</td>\n",
              "      <td>Small</td>\n",
              "    </tr>\n",
              "    <tr>\n",
              "      <th>...</th>\n",
              "      <td>...</td>\n",
              "      <td>...</td>\n",
              "      <td>...</td>\n",
              "      <td>...</td>\n",
              "      <td>...</td>\n",
              "      <td>...</td>\n",
              "      <td>...</td>\n",
              "    </tr>\n",
              "    <tr>\n",
              "      <th>11814</th>\n",
              "      <td>2017</td>\n",
              "      <td>44</td>\n",
              "      <td>twinned</td>\n",
              "      <td>75</td>\n",
              "      <td>0</td>\n",
              "      <td>0</td>\n",
              "      <td>Small</td>\n",
              "    </tr>\n",
              "    <tr>\n",
              "      <th>11815</th>\n",
              "      <td>2017</td>\n",
              "      <td>45</td>\n",
              "      <td>twinned</td>\n",
              "      <td>145</td>\n",
              "      <td>0</td>\n",
              "      <td>0</td>\n",
              "      <td>Small</td>\n",
              "    </tr>\n",
              "    <tr>\n",
              "      <th>11816</th>\n",
              "      <td>2017</td>\n",
              "      <td>46</td>\n",
              "      <td>twinned</td>\n",
              "      <td>118</td>\n",
              "      <td>0</td>\n",
              "      <td>0</td>\n",
              "      <td>Small</td>\n",
              "    </tr>\n",
              "    <tr>\n",
              "      <th>11817</th>\n",
              "      <td>2017</td>\n",
              "      <td>47</td>\n",
              "      <td>twinned</td>\n",
              "      <td>108</td>\n",
              "      <td>peek2017</td>\n",
              "      <td>0</td>\n",
              "      <td>Small</td>\n",
              "    </tr>\n",
              "    <tr>\n",
              "      <th>11818</th>\n",
              "      <td>2017</td>\n",
              "      <td>48</td>\n",
              "      <td>twinned</td>\n",
              "      <td>135</td>\n",
              "      <td>peek2017</td>\n",
              "      <td>0</td>\n",
              "      <td>Small</td>\n",
              "    </tr>\n",
              "  </tbody>\n",
              "</table>\n",
              "<p>270 rows × 7 columns</p>\n",
              "</div>"
            ],
            "text/plain": [
              "       Year  Week_Number Customer  Volume    Event1 Event2 Groups\n",
              "42     2017           43  agulhas     118         0      0  Small\n",
              "43     2017           44  agulhas     109         0      0  Small\n",
              "44     2017           45  agulhas     116         0      0  Small\n",
              "45     2017           46  agulhas     182         0      0  Small\n",
              "46     2017           47  agulhas     140  peek2017      0  Small\n",
              "...     ...          ...      ...     ...       ...    ...    ...\n",
              "11814  2017           44  twinned      75         0      0  Small\n",
              "11815  2017           45  twinned     145         0      0  Small\n",
              "11816  2017           46  twinned     118         0      0  Small\n",
              "11817  2017           47  twinned     108  peek2017      0  Small\n",
              "11818  2017           48  twinned     135  peek2017      0  Small\n",
              "\n",
              "[270 rows x 7 columns]"
            ]
          },
          "metadata": {
            "tags": []
          },
          "execution_count": 185
        }
      ]
    },
    {
      "cell_type": "code",
      "metadata": {
        "id": "SWi_89o4XbkT",
        "colab_type": "code",
        "colab": {
          "base_uri": "https://localhost:8080/",
          "height": 35
        },
        "outputId": "564497f7-2ea5-4305-8873-8a55e26127ca"
      },
      "source": [
        "#test result for Strike prestrike SMALL (2017)\n",
        "test_result6 = stats.ttest_ind(df_small_strike[\"Volume\"], df_small_prestrike_2017_byweeks[\"Volume\"])\n",
        "test_result6\n",
        "# The small customers significantly reduced their number of parcels"
      ],
      "execution_count": 186,
      "outputs": [
        {
          "output_type": "execute_result",
          "data": {
            "text/plain": [
              "Ttest_indResult(statistic=-2.936986420084576, pvalue=0.0034561139727879646)"
            ]
          },
          "metadata": {
            "tags": []
          },
          "execution_count": 186
        }
      ]
    },
    {
      "cell_type": "code",
      "metadata": {
        "id": "-N6B_f5GfRLP",
        "colab_type": "code",
        "colab": {
          "base_uri": "https://localhost:8080/",
          "height": 52
        },
        "outputId": "b19e46a2-fde4-4e1d-af8a-ea222b761835"
      },
      "source": [
        "df_medium_strike_mean = df_medium_strike[\"Volume\"].mean()\n",
        "df_medium_prestrike_2017_byweeks_mean = df_medium_prestrike_2017_byweeks[\"Volume\"].mean()\n",
        "print(\"df_medium_strike_mean = \", df_medium_strike_mean)\n",
        "print(\"df_medium_prestrike_2017_byweeks_mean = \", df_medium_prestrike_2017_byweeks_mean)"
      ],
      "execution_count": 187,
      "outputs": [
        {
          "output_type": "stream",
          "text": [
            "df_medium_strike_mean =  817.4895833333334\n",
            "df_medium_prestrike_2017_byweeks_mean =  843.5625\n"
          ],
          "name": "stdout"
        }
      ]
    },
    {
      "cell_type": "code",
      "metadata": {
        "id": "5G7fGs3GpRuA",
        "colab_type": "code",
        "colab": {}
      },
      "source": [
        ""
      ],
      "execution_count": 187,
      "outputs": []
    },
    {
      "cell_type": "code",
      "metadata": {
        "id": "9GgsATPlXr-r",
        "colab_type": "code",
        "colab": {
          "base_uri": "https://localhost:8080/",
          "height": 35
        },
        "outputId": "30091614-8752-4104-94df-19f1ac8cc84e"
      },
      "source": [
        "#test result for Strike prestrike MEDIUM (2017)\n",
        "test_result7 = stats.ttest_ind(df_medium_strike[\"Volume\"], df_medium_prestrike_2017_byweeks[\"Volume\"])\n",
        "test_result7\n",
        "# Just like overall, the medium customers reduced their number of parcels,\n",
        "# but very insignificantly. "
      ],
      "execution_count": 188,
      "outputs": [
        {
          "output_type": "execute_result",
          "data": {
            "text/plain": [
              "Ttest_indResult(statistic=-0.19260777621179626, pvalue=0.8473685092108073)"
            ]
          },
          "metadata": {
            "tags": []
          },
          "execution_count": 188
        }
      ]
    },
    {
      "cell_type": "code",
      "metadata": {
        "id": "V6F-NuqXfkjA",
        "colab_type": "code",
        "colab": {
          "base_uri": "https://localhost:8080/",
          "height": 52
        },
        "outputId": "821d3dd7-8415-4582-fe9a-03ac370e1801"
      },
      "source": [
        "df_large_strike_mean = df_large_strike[\"Volume\"].mean()\n",
        "df_large_prestrike_2017_byweeks_mean = df_large_prestrike_2017_byweeks[\"Volume\"].mean()\n",
        "print(\"df_large_strike_mean = \", df_large_strike_mean)\n",
        "print(\"df_large_prestrike_2017_byweeks_mean = \", df_large_prestrike_2017_byweeks_mean)"
      ],
      "execution_count": 189,
      "outputs": [
        {
          "output_type": "stream",
          "text": [
            "df_large_strike_mean =  67455.73333333334\n",
            "df_large_prestrike_2017_byweeks_mean =  68378.72\n"
          ],
          "name": "stdout"
        }
      ]
    },
    {
      "cell_type": "code",
      "metadata": {
        "id": "9Ih6ycgXX4m2",
        "colab_type": "code",
        "colab": {
          "base_uri": "https://localhost:8080/",
          "height": 35
        },
        "outputId": "b45ae269-5083-4523-9483-b8c557a8abb7"
      },
      "source": [
        "#test result for Strike prestrike LARGE (2017)\n",
        "test_result8 = stats.ttest_ind(df_large_strike[\"Volume\"], df_large_prestrike_2017_byweeks[\"Volume\"])\n",
        "test_result8\n",
        "# Just like overall and medium, the large customers reduced their number of parcels,\n",
        "# but very insignificantly. "
      ],
      "execution_count": 190,
      "outputs": [
        {
          "output_type": "execute_result",
          "data": {
            "text/plain": [
              "Ttest_indResult(statistic=-0.04647656126037419, pvalue=0.96296154554833)"
            ]
          },
          "metadata": {
            "tags": []
          },
          "execution_count": 190
        }
      ]
    },
    {
      "cell_type": "code",
      "metadata": {
        "id": "5_PoGcrcYCh3",
        "colab_type": "code",
        "colab": {
          "base_uri": "https://localhost:8080/",
          "height": 943
        },
        "outputId": "c59e108c-7944-4c2d-e3a4-3bb59aa65980"
      },
      "source": [
        "# graph for small\n",
        "df_small_prestrike_2017_byweeks_volume = df_small_prestrike_2017_byweeks[\"Volume\"]\n",
        "df_small_strike_volume = df_small_strike[\"Volume\"]\n",
        "plt.figure(figsize=(20,5))\n",
        "pyplot.hist(df_small_prestrike_2017_byweeks_volume, alpha=0.5, label='df_small_prestrike_2017_byweeks_volume')\n",
        "pyplot.hist(df_small_strike_volume, alpha=0.5, label='df_small_strike_volume')\n",
        "pyplot.legend(loc='upper right')\n",
        "# graph for medium\n",
        "df_medium_prestrike_2017_byweeks_volume = df_medium_prestrike_2017_byweeks[\"Volume\"]\n",
        "df_medium_strike_volume = df_medium_strike[\"Volume\"]\n",
        "plt.figure(figsize=(20,5))\n",
        "pyplot.hist(df_medium_prestrike_2017_byweeks_volume, alpha=0.5, label='df_medium_prestrike_2017_byweeks_volume')\n",
        "pyplot.hist(df_medium_strike_volume, alpha=0.5, label='df_medium_strike_volume')\n",
        "pyplot.legend(loc='upper right')\n",
        "# graph for large\n",
        "df_large_prestrike_2017_byweeks_volume = df_large_prestrike_2017_byweeks[\"Volume\"]\n",
        "df_large_strike_volume = df_large_strike[\"Volume\"]\n",
        "plt.figure(figsize=(20,5))\n",
        "pyplot.hist(df_large_prestrike_2017_byweeks_volume, alpha=0.5, label='df_large_prestrike_2017_byweeks_volume')\n",
        "pyplot.hist(df_large_strike_volume, alpha=0.5, label='df_medium_strike_volume')\n",
        "pyplot.legend(loc='upper right')\n",
        "\n",
        "pyplot.show()"
      ],
      "execution_count": 191,
      "outputs": [
        {
          "output_type": "display_data",
          "data": {
            "image/png": "[encoded data removed]",
            "text/plain": [
              "<Figure size 1440x360 with 1 Axes>"
            ]
          },
          "metadata": {
            "tags": []
          }
        },
        {
          "output_type": "display_data",
          "data": {
            "image/png": "[encoded data removed]",
            "text/plain": [
              "<Figure size 1440x360 with 1 Axes>"
            ]
          },
          "metadata": {
            "tags": []
          }
        },
        {
          "output_type": "display_data",
          "data": {
            "image/png": "[encoded data removed]",
            "text/plain": [
              "<Figure size 1440x360 with 1 Axes>"
            ]
          },
          "metadata": {
            "tags": []
          }
        }
      ]
    },
    {
      "cell_type": "code",
      "metadata": {
        "id": "kmoQwrjaTmq0",
        "colab_type": "code",
        "colab": {
          "base_uri": "https://localhost:8080/",
          "height": 52
        },
        "outputId": "9c6dec7b-5239-4c24-a4bb-a9b42c8b26a8"
      },
      "source": [
        "\n",
        "list_of_weeks_2017 = [i for i in range(49,53)]\n",
        "list_of_weeks_2018 = [i for i in range(1,18)]\n",
        "print(list_of_weeks_2017)\n",
        "print(list_of_weeks_2018)"
      ],
      "execution_count": 192,
      "outputs": [
        {
          "output_type": "stream",
          "text": [
            "[49, 50, 51, 52]\n",
            "[1, 2, 3, 4, 5, 6, 7, 8, 9, 10, 11, 12, 13, 14, 15, 16, 17]\n"
          ],
          "name": "stdout"
        }
      ]
    },
    {
      "cell_type": "code",
      "metadata": {
        "id": "LDwgh_SQZafE",
        "colab_type": "code",
        "colab": {
          "base_uri": "https://localhost:8080/",
          "height": 415
        },
        "outputId": "8dfcb51f-62d7-4857-ad2a-8a14229e1ffc"
      },
      "source": [
        "list_of_weeks_2017 = [i for i in range(49,52)]\n",
        "list_of_weeks_2018 = [i for i in range(1,17)]\n",
        "df_before_strike = df_events[((df_events['Week_Number'].isin(list_of_weeks_2017)) & (df_events['Year']==2017)) | \n",
        "               ((df_events['Week_Number'].isin(list_of_weeks_2018)) & (df_events['Year']==2018))]\n",
        "df_before_strike"
      ],
      "execution_count": 193,
      "outputs": [
        {
          "output_type": "execute_result",
          "data": {
            "text/html": [
              "<div>\n",
              "<style scoped>\n",
              "    .dataframe tbody tr th:only-of-type {\n",
              "        vertical-align: middle;\n",
              "    }\n",
              "\n",
              "    .dataframe tbody tr th {\n",
              "        vertical-align: top;\n",
              "    }\n",
              "\n",
              "    .dataframe thead th {\n",
              "        text-align: right;\n",
              "    }\n",
              "</style>\n",
              "<table border=\"1\" class=\"dataframe\">\n",
              "  <thead>\n",
              "    <tr style=\"text-align: right;\">\n",
              "      <th></th>\n",
              "      <th>Year</th>\n",
              "      <th>Week_Number</th>\n",
              "      <th>Customer</th>\n",
              "      <th>Volume</th>\n",
              "      <th>Event1</th>\n",
              "      <th>Event2</th>\n",
              "      <th>Groups</th>\n",
              "    </tr>\n",
              "  </thead>\n",
              "  <tbody>\n",
              "    <tr>\n",
              "      <th>48</th>\n",
              "      <td>2017</td>\n",
              "      <td>49</td>\n",
              "      <td>agulhas</td>\n",
              "      <td>74</td>\n",
              "      <td>0</td>\n",
              "      <td>0</td>\n",
              "      <td>Small</td>\n",
              "    </tr>\n",
              "    <tr>\n",
              "      <th>49</th>\n",
              "      <td>2017</td>\n",
              "      <td>50</td>\n",
              "      <td>agulhas</td>\n",
              "      <td>106</td>\n",
              "      <td>0</td>\n",
              "      <td>0</td>\n",
              "      <td>Small</td>\n",
              "    </tr>\n",
              "    <tr>\n",
              "      <th>50</th>\n",
              "      <td>2017</td>\n",
              "      <td>51</td>\n",
              "      <td>agulhas</td>\n",
              "      <td>51</td>\n",
              "      <td>0</td>\n",
              "      <td>0</td>\n",
              "      <td>Small</td>\n",
              "    </tr>\n",
              "    <tr>\n",
              "      <th>52</th>\n",
              "      <td>2018</td>\n",
              "      <td>1</td>\n",
              "      <td>agulhas</td>\n",
              "      <td>87</td>\n",
              "      <td>0</td>\n",
              "      <td>0</td>\n",
              "      <td>Small</td>\n",
              "    </tr>\n",
              "    <tr>\n",
              "      <th>53</th>\n",
              "      <td>2018</td>\n",
              "      <td>10</td>\n",
              "      <td>agulhas</td>\n",
              "      <td>106</td>\n",
              "      <td>0</td>\n",
              "      <td>0</td>\n",
              "      <td>Small</td>\n",
              "    </tr>\n",
              "    <tr>\n",
              "      <th>...</th>\n",
              "      <td>...</td>\n",
              "      <td>...</td>\n",
              "      <td>...</td>\n",
              "      <td>...</td>\n",
              "      <td>...</td>\n",
              "      <td>...</td>\n",
              "      <td>...</td>\n",
              "    </tr>\n",
              "    <tr>\n",
              "      <th>12106</th>\n",
              "      <td>2018</td>\n",
              "      <td>5</td>\n",
              "      <td>woodser</td>\n",
              "      <td>2474</td>\n",
              "      <td>0</td>\n",
              "      <td>0</td>\n",
              "      <td>Medium</td>\n",
              "    </tr>\n",
              "    <tr>\n",
              "      <th>12110</th>\n",
              "      <td>2018</td>\n",
              "      <td>6</td>\n",
              "      <td>woodser</td>\n",
              "      <td>2595</td>\n",
              "      <td>0</td>\n",
              "      <td>0</td>\n",
              "      <td>Medium</td>\n",
              "    </tr>\n",
              "    <tr>\n",
              "      <th>12111</th>\n",
              "      <td>2018</td>\n",
              "      <td>7</td>\n",
              "      <td>woodser</td>\n",
              "      <td>2034</td>\n",
              "      <td>0</td>\n",
              "      <td>0</td>\n",
              "      <td>Medium</td>\n",
              "    </tr>\n",
              "    <tr>\n",
              "      <th>12112</th>\n",
              "      <td>2018</td>\n",
              "      <td>8</td>\n",
              "      <td>woodser</td>\n",
              "      <td>1858</td>\n",
              "      <td>0</td>\n",
              "      <td>0</td>\n",
              "      <td>Medium</td>\n",
              "    </tr>\n",
              "    <tr>\n",
              "      <th>12113</th>\n",
              "      <td>2018</td>\n",
              "      <td>9</td>\n",
              "      <td>woodser</td>\n",
              "      <td>1949</td>\n",
              "      <td>0</td>\n",
              "      <td>0</td>\n",
              "      <td>Medium</td>\n",
              "    </tr>\n",
              "  </tbody>\n",
              "</table>\n",
              "<p>1938 rows × 7 columns</p>\n",
              "</div>"
            ],
            "text/plain": [
              "       Year  Week_Number Customer  Volume Event1 Event2  Groups\n",
              "48     2017           49  agulhas      74      0      0   Small\n",
              "49     2017           50  agulhas     106      0      0   Small\n",
              "50     2017           51  agulhas      51      0      0   Small\n",
              "52     2018            1  agulhas      87      0      0   Small\n",
              "53     2018           10  agulhas     106      0      0   Small\n",
              "...     ...          ...      ...     ...    ...    ...     ...\n",
              "12106  2018            5  woodser    2474      0      0  Medium\n",
              "12110  2018            6  woodser    2595      0      0  Medium\n",
              "12111  2018            7  woodser    2034      0      0  Medium\n",
              "12112  2018            8  woodser    1858      0      0  Medium\n",
              "12113  2018            9  woodser    1949      0      0  Medium\n",
              "\n",
              "[1938 rows x 7 columns]"
            ]
          },
          "metadata": {
            "tags": []
          },
          "execution_count": 193
        }
      ]
    },
    {
      "cell_type": "code",
      "metadata": {
        "id": "JX4c6RVwaWc-",
        "colab_type": "code",
        "colab": {
          "base_uri": "https://localhost:8080/",
          "height": 415
        },
        "outputId": "9590ab8a-0ed1-437f-a7d2-081e664115f7"
      },
      "source": [
        "df_after_strike = df_events[((df_events['Week_Number'].isin(list_of_weeks_2017)) & (df_events['Year']==2018)) | \n",
        "               ((df_events['Week_Number'].isin(list_of_weeks_2018)) & (df_events['Year']==2019))]\n",
        "df_after_strike"
      ],
      "execution_count": 194,
      "outputs": [
        {
          "output_type": "execute_result",
          "data": {
            "text/html": [
              "<div>\n",
              "<style scoped>\n",
              "    .dataframe tbody tr th:only-of-type {\n",
              "        vertical-align: middle;\n",
              "    }\n",
              "\n",
              "    .dataframe tbody tr th {\n",
              "        vertical-align: top;\n",
              "    }\n",
              "\n",
              "    .dataframe thead th {\n",
              "        text-align: right;\n",
              "    }\n",
              "</style>\n",
              "<table border=\"1\" class=\"dataframe\">\n",
              "  <thead>\n",
              "    <tr style=\"text-align: right;\">\n",
              "      <th></th>\n",
              "      <th>Year</th>\n",
              "      <th>Week_Number</th>\n",
              "      <th>Customer</th>\n",
              "      <th>Volume</th>\n",
              "      <th>Event1</th>\n",
              "      <th>Event2</th>\n",
              "      <th>Groups</th>\n",
              "    </tr>\n",
              "  </thead>\n",
              "  <tbody>\n",
              "    <tr>\n",
              "      <th>95</th>\n",
              "      <td>2018</td>\n",
              "      <td>49</td>\n",
              "      <td>agulhas</td>\n",
              "      <td>41</td>\n",
              "      <td>peek2018</td>\n",
              "      <td>0</td>\n",
              "      <td>Small</td>\n",
              "    </tr>\n",
              "    <tr>\n",
              "      <th>97</th>\n",
              "      <td>2018</td>\n",
              "      <td>50</td>\n",
              "      <td>agulhas</td>\n",
              "      <td>113</td>\n",
              "      <td>peek2018</td>\n",
              "      <td>0</td>\n",
              "      <td>Small</td>\n",
              "    </tr>\n",
              "    <tr>\n",
              "      <th>98</th>\n",
              "      <td>2018</td>\n",
              "      <td>51</td>\n",
              "      <td>agulhas</td>\n",
              "      <td>42</td>\n",
              "      <td>peek2018</td>\n",
              "      <td>0</td>\n",
              "      <td>Small</td>\n",
              "    </tr>\n",
              "    <tr>\n",
              "      <th>104</th>\n",
              "      <td>2019</td>\n",
              "      <td>1</td>\n",
              "      <td>agulhas</td>\n",
              "      <td>71</td>\n",
              "      <td>peek2018</td>\n",
              "      <td>0</td>\n",
              "      <td>Small</td>\n",
              "    </tr>\n",
              "    <tr>\n",
              "      <th>105</th>\n",
              "      <td>2019</td>\n",
              "      <td>2</td>\n",
              "      <td>agulhas</td>\n",
              "      <td>123</td>\n",
              "      <td>peek2018</td>\n",
              "      <td>0</td>\n",
              "      <td>Small</td>\n",
              "    </tr>\n",
              "    <tr>\n",
              "      <th>...</th>\n",
              "      <td>...</td>\n",
              "      <td>...</td>\n",
              "      <td>...</td>\n",
              "      <td>...</td>\n",
              "      <td>...</td>\n",
              "      <td>...</td>\n",
              "      <td>...</td>\n",
              "    </tr>\n",
              "    <tr>\n",
              "      <th>12125</th>\n",
              "      <td>2019</td>\n",
              "      <td>12</td>\n",
              "      <td>woodser</td>\n",
              "      <td>1821</td>\n",
              "      <td>0</td>\n",
              "      <td>0</td>\n",
              "      <td>Medium</td>\n",
              "    </tr>\n",
              "    <tr>\n",
              "      <th>12126</th>\n",
              "      <td>2019</td>\n",
              "      <td>13</td>\n",
              "      <td>woodser</td>\n",
              "      <td>1853</td>\n",
              "      <td>0</td>\n",
              "      <td>0</td>\n",
              "      <td>Medium</td>\n",
              "    </tr>\n",
              "    <tr>\n",
              "      <th>12127</th>\n",
              "      <td>2019</td>\n",
              "      <td>14</td>\n",
              "      <td>woodser</td>\n",
              "      <td>1618</td>\n",
              "      <td>0</td>\n",
              "      <td>0</td>\n",
              "      <td>Medium</td>\n",
              "    </tr>\n",
              "    <tr>\n",
              "      <th>12128</th>\n",
              "      <td>2019</td>\n",
              "      <td>15</td>\n",
              "      <td>woodser</td>\n",
              "      <td>1584</td>\n",
              "      <td>0</td>\n",
              "      <td>0</td>\n",
              "      <td>Medium</td>\n",
              "    </tr>\n",
              "    <tr>\n",
              "      <th>12129</th>\n",
              "      <td>2019</td>\n",
              "      <td>16</td>\n",
              "      <td>woodser</td>\n",
              "      <td>1732</td>\n",
              "      <td>0</td>\n",
              "      <td>0</td>\n",
              "      <td>Medium</td>\n",
              "    </tr>\n",
              "  </tbody>\n",
              "</table>\n",
              "<p>1737 rows × 7 columns</p>\n",
              "</div>"
            ],
            "text/plain": [
              "       Year  Week_Number Customer  Volume    Event1 Event2  Groups\n",
              "95     2018           49  agulhas      41  peek2018      0   Small\n",
              "97     2018           50  agulhas     113  peek2018      0   Small\n",
              "98     2018           51  agulhas      42  peek2018      0   Small\n",
              "104    2019            1  agulhas      71  peek2018      0   Small\n",
              "105    2019            2  agulhas     123  peek2018      0   Small\n",
              "...     ...          ...      ...     ...       ...    ...     ...\n",
              "12125  2019           12  woodser    1821         0      0  Medium\n",
              "12126  2019           13  woodser    1853         0      0  Medium\n",
              "12127  2019           14  woodser    1618         0      0  Medium\n",
              "12128  2019           15  woodser    1584         0      0  Medium\n",
              "12129  2019           16  woodser    1732         0      0  Medium\n",
              "\n",
              "[1737 rows x 7 columns]"
            ]
          },
          "metadata": {
            "tags": []
          },
          "execution_count": 194
        }
      ]
    },
    {
      "cell_type": "code",
      "metadata": {
        "id": "Ylj3yC6YkreR",
        "colab_type": "code",
        "colab": {
          "base_uri": "https://localhost:8080/",
          "height": 52
        },
        "outputId": "58bb8ace-0301-4b65-d0e3-55b0b9b7ee96"
      },
      "source": [
        "df_before_strike_mean = df_before_strike[\"Volume\"].mean()\n",
        "df_after_strike_mean = df_after_strike[\"Volume\"].mean()\n",
        "print(\"df_before_strike_mean = \", df_before_strike_mean)\n",
        "print(\"df_after_strike_mean = \", df_after_strike_mean)"
      ],
      "execution_count": 195,
      "outputs": [
        {
          "output_type": "stream",
          "text": [
            "df_before_strike_mean =  13918.105779153766\n",
            "df_after_strike_mean =  18313.42544617156\n"
          ],
          "name": "stdout"
        }
      ]
    },
    {
      "cell_type": "code",
      "metadata": {
        "id": "tOWStC5ylLwY",
        "colab_type": "code",
        "colab": {
          "base_uri": "https://localhost:8080/",
          "height": 35
        },
        "outputId": "2aaa229f-4f11-4635-e7da-f12f595249e2"
      },
      "source": [
        "#test result for Strike prestrike LARGE (2017)\n",
        "test_result_pre_after_strike = stats.ttest_ind(df_before_strike[\"Volume\"], df_after_strike[\"Volume\"])\n",
        "test_result_pre_after_strike"
      ],
      "execution_count": 196,
      "outputs": [
        {
          "output_type": "execute_result",
          "data": {
            "text/plain": [
              "Ttest_indResult(statistic=-1.4499456924669467, pvalue=0.1471590441287624)"
            ]
          },
          "metadata": {
            "tags": []
          },
          "execution_count": 196
        }
      ]
    },
    {
      "cell_type": "code",
      "metadata": {
        "id": "O3GRz_UCjz7Q",
        "colab_type": "code",
        "colab": {
          "base_uri": "https://localhost:8080/",
          "height": 337
        },
        "outputId": "1c2103d5-2902-452b-b3dd-4b803f07f7b4"
      },
      "source": [
        "df_before_strike_volume = df_before_strike[\"Volume\"]\n",
        "df_after_strike_volume = df_after_strike[\"Volume\"]\n",
        "plt.figure(figsize=(20,5))\n",
        "pyplot.hist(df_before_strike_volume, alpha=0.5, label='df_before_strike_volume')\n",
        "pyplot.hist(df_after_strike_volume, alpha=0.5, label='df_after_strike_volume')\n",
        "pyplot.legend(loc='upper right')\n",
        "pyplot.show()"
      ],
      "execution_count": 197,
      "outputs": [
        {
          "output_type": "display_data",
          "data": {
            "image/png": "[encoded data removed]",
            "text/plain": [
              "<Figure size 1440x360 with 1 Axes>"
            ]
          },
          "metadata": {
            "tags": []
          }
        }
      ]
    },
    {
      "cell_type": "code",
      "metadata": {
        "id": "ZY1_lw6bqSjV",
        "colab_type": "code",
        "colab": {}
      },
      "source": [
        "# Creating groups for df_before_strike\n",
        "df_small_before_strike = df_before_strike.loc[(df_before_strike[\"Groups\"] == \"Small\" )]\n",
        "df_medium_before_strike = df_before_strike.loc[(df_before_strike[\"Groups\"] == \"Medium\" )]\n",
        "df_large_before_strike = df_before_strike.loc[(df_before_strike[\"Groups\"] == \"Large\" )]"
      ],
      "execution_count": 198,
      "outputs": []
    },
    {
      "cell_type": "code",
      "metadata": {
        "id": "ExfovAitrIMw",
        "colab_type": "code",
        "colab": {}
      },
      "source": [
        "# Creating groups for df_after_strike\n",
        "df_small_after_strike = df_after_strike.loc[(df_after_strike[\"Groups\"] == \"Small\" )]\n",
        "df_medium_after_strike = df_after_strike.loc[(df_after_strike[\"Groups\"] == \"Medium\" )]\n",
        "df_large_after_strike = df_after_strike.loc[(df_after_strike[\"Groups\"] == \"Large\" )]"
      ],
      "execution_count": 199,
      "outputs": []
    },
    {
      "cell_type": "code",
      "metadata": {
        "id": "VOwFEHdurhP1",
        "colab_type": "code",
        "colab": {}
      },
      "source": [
        "#Creating all the mean values for groups\n",
        "df_small_before_strike_mean = df_small_before_strike[\"Volume\"].mean()\n",
        "df_medium_before_strike_mean = df_medium_before_strike[\"Volume\"].mean()\n",
        "df_large_before_strike_mean = df_large_before_strike[\"Volume\"].mean()\n",
        "df_small_after_strike_mean = df_small_after_strike[\"Volume\"].mean()\n",
        "df_medium_after_strike_mean = df_medium_after_strike[\"Volume\"].mean()\n",
        "df_large_after_strike_mean = df_large_after_strike[\"Volume\"].mean()\n"
      ],
      "execution_count": 200,
      "outputs": []
    },
    {
      "cell_type": "code",
      "metadata": {
        "id": "PUSwFm5YsTWm",
        "colab_type": "code",
        "colab": {
          "base_uri": "https://localhost:8080/",
          "height": 52
        },
        "outputId": "093f6ae0-5394-4a5c-def3-cffc93248c60"
      },
      "source": [
        "print(\"df_small_before_strike_mean = \",df_small_before_strike_mean)\n",
        "print(\"df_small_after_strike_mean = \", df_small_after_strike_mean)"
      ],
      "execution_count": 201,
      "outputs": [
        {
          "output_type": "stream",
          "text": [
            "df_small_before_strike_mean =  67.49707602339181\n",
            "df_small_after_strike_mean =  75.25108225108225\n"
          ],
          "name": "stdout"
        }
      ]
    },
    {
      "cell_type": "code",
      "metadata": {
        "id": "6ZomWAj_tZpe",
        "colab_type": "code",
        "colab": {
          "base_uri": "https://localhost:8080/",
          "height": 35
        },
        "outputId": "912fac9a-75a5-4a06-be56-4e93f63aa4dd"
      },
      "source": [
        "#test result for Strike prestrike SMALL\n",
        "test_result_small_pre_after_strike = stats.ttest_ind(df_small_before_strike[\"Volume\"], df_small_after_strike[\"Volume\"])\n",
        "test_result_small_pre_after_strike"
      ],
      "execution_count": 202,
      "outputs": [
        {
          "output_type": "execute_result",
          "data": {
            "text/plain": [
              "Ttest_indResult(statistic=-1.9145247368924465, pvalue=0.055737545043341837)"
            ]
          },
          "metadata": {
            "tags": []
          },
          "execution_count": 202
        }
      ]
    },
    {
      "cell_type": "code",
      "metadata": {
        "id": "kDOTN5A7uZPv",
        "colab_type": "code",
        "colab": {
          "base_uri": "https://localhost:8080/",
          "height": 325
        },
        "outputId": "6c5fb82d-ba84-48a3-bbdb-83e19eaf79be"
      },
      "source": [
        "df_small_before_strike_volume = df_small_before_strike[\"Volume\"]\n",
        "df_small_after_strike_volume = df_small_after_strike[\"Volume\"]\n",
        "plt.figure(figsize=(20,5))\n",
        "pyplot.hist(df_small_before_strike_volume, alpha=0.5, label='df_small_before_strike_volume')\n",
        "pyplot.hist(df_small_after_strike_volume, alpha=0.5, label='df_small_after_strike_volume')\n",
        "pyplot.legend(loc='upper right')\n",
        "\n",
        "pyplot.show()"
      ],
      "execution_count": 203,
      "outputs": [
        {
          "output_type": "display_data",
          "data": {
            "image/png": "[encoded data removed]",
            "text/plain": [
              "<Figure size 1440x360 with 1 Axes>"
            ]
          },
          "metadata": {
            "tags": []
          }
        }
      ]
    },
    {
      "cell_type": "code",
      "metadata": {
        "id": "lIlr2fJZtpyC",
        "colab_type": "code",
        "colab": {
          "base_uri": "https://localhost:8080/",
          "height": 52
        },
        "outputId": "158dcf6c-0723-4878-bcf4-aa4768a45265"
      },
      "source": [
        "print(\"df_medium_before_strike_mean = \",df_medium_before_strike_mean)\n",
        "print(\"df_meium_after_strike_mean = \", df_medium_after_strike_mean)"
      ],
      "execution_count": 204,
      "outputs": [
        {
          "output_type": "stream",
          "text": [
            "df_medium_before_strike_mean =  678.53125\n",
            "df_meium_after_strike_mean =  714.4195298372514\n"
          ],
          "name": "stdout"
        }
      ]
    },
    {
      "cell_type": "code",
      "metadata": {
        "id": "Hp-FN9RtuW3q",
        "colab_type": "code",
        "colab": {
          "base_uri": "https://localhost:8080/",
          "height": 35
        },
        "outputId": "340834ad-36c2-4b69-8da5-6fe81d641dd1"
      },
      "source": [
        "#test result for Strike prestrike MEDIUM\n",
        "test_result_medium_pre_after_strike = stats.ttest_ind(df_medium_before_strike[\"Volume\"], df_medium_after_strike[\"Volume\"])\n",
        "test_result_medium_pre_after_strike"
      ],
      "execution_count": 205,
      "outputs": [
        {
          "output_type": "execute_result",
          "data": {
            "text/plain": [
              "Ttest_indResult(statistic=-0.6135534016867631, pvalue=0.5396308766257327)"
            ]
          },
          "metadata": {
            "tags": []
          },
          "execution_count": 205
        }
      ]
    },
    {
      "cell_type": "code",
      "metadata": {
        "id": "E1IA6NC2vwuc",
        "colab_type": "code",
        "colab": {
          "base_uri": "https://localhost:8080/",
          "height": 321
        },
        "outputId": "388dff11-94ad-40d8-eff3-e065d6981303"
      },
      "source": [
        "df_medium_before_strike_volume = df_medium_before_strike[\"Volume\"]\n",
        "df_medium_after_strike_volume = df_medium_after_strike[\"Volume\"]\n",
        "plt.figure(figsize=(20,5))\n",
        "pyplot.hist(df_medium_before_strike_volume, alpha=0.5, label='df_medium_before_strike_volume')\n",
        "pyplot.hist(df_medium_after_strike_volume, alpha=0.5, label='df_medium_after_strike_volume')\n",
        "pyplot.legend(loc='upper right')\n",
        "\n",
        "pyplot.show()"
      ],
      "execution_count": 206,
      "outputs": [
        {
          "output_type": "display_data",
          "data": {
            "image/png": "[encoded data removed]",
            "text/plain": [
              "<Figure size 1440x360 with 1 Axes>"
            ]
          },
          "metadata": {
            "tags": []
          }
        }
      ]
    },
    {
      "cell_type": "code",
      "metadata": {
        "id": "ifzPNQ9vwrRU",
        "colab_type": "code",
        "colab": {
          "base_uri": "https://localhost:8080/",
          "height": 52
        },
        "outputId": "dda03b01-7c2c-4e7c-9cfe-c90f7dcba3d2"
      },
      "source": [
        "print(\"df_large_before_strike_mean = \",df_large_before_strike_mean)\n",
        "print(\"df_large_after_strike_mean = \", df_large_after_strike_mean)"
      ],
      "execution_count": 207,
      "outputs": [
        {
          "output_type": "stream",
          "text": [
            "df_large_before_strike_mean =  55795.85684210526\n",
            "df_large_after_strike_mean =  65986.50736842105\n"
          ],
          "name": "stdout"
        }
      ]
    },
    {
      "cell_type": "code",
      "metadata": {
        "id": "bPMq2Bpvw_Ke",
        "colab_type": "code",
        "colab": {
          "base_uri": "https://localhost:8080/",
          "height": 35
        },
        "outputId": "84a9e1ee-19b0-48dd-a79c-c925378616ff"
      },
      "source": [
        "#test result for Strike prestrike Large\n",
        "test_result_large_pre_after_strike = stats.ttest_ind(df_large_before_strike[\"Volume\"], df_large_after_strike[\"Volume\"])\n",
        "test_result_large_pre_after_strike"
      ],
      "execution_count": 208,
      "outputs": [
        {
          "output_type": "execute_result",
          "data": {
            "text/plain": [
              "Ttest_indResult(statistic=-0.908542272310762, pvalue=0.3638226966687237)"
            ]
          },
          "metadata": {
            "tags": []
          },
          "execution_count": 208
        }
      ]
    },
    {
      "cell_type": "code",
      "metadata": {
        "id": "z92eRt_exUK9",
        "colab_type": "code",
        "colab": {
          "base_uri": "https://localhost:8080/",
          "height": 335
        },
        "outputId": "a8304665-744b-4353-d0a4-aec89b5b142e"
      },
      "source": [
        "df_large_before_strike_volume = df_large_before_strike[\"Volume\"]\n",
        "df_large_after_strike_volume = df_large_after_strike[\"Volume\"]\n",
        "plt.figure(figsize=(20,5))\n",
        "pyplot.hist(df_large_before_strike_volume, alpha=0.5, label='df_large_before_strike_volume')\n",
        "pyplot.hist(df_large_after_strike_volume, alpha=0.5, label='df_large_after_strike_volume')\n",
        "pyplot.legend(loc='upper right')\n",
        "\n",
        "pyplot.show()"
      ],
      "execution_count": 209,
      "outputs": [
        {
          "output_type": "display_data",
          "data": {
            "image/png": "[encoded data removed]",
            "text/plain": [
              "<Figure size 1440x360 with 1 Axes>"
            ]
          },
          "metadata": {
            "tags": []
          }
        }
      ]
    },
    {
      "cell_type": "code",
      "metadata": {
        "id": "7JLNavZnLvY8",
        "colab_type": "code",
        "colab": {}
      },
      "source": [
        "media_week_numer = 37\n",
        "union_voted_week_number = 39"
      ],
      "execution_count": 210,
      "outputs": []
    },
    {
      "cell_type": "code",
      "metadata": {
        "id": "fbS20xMAMgp5",
        "colab_type": "code",
        "colab": {}
      },
      "source": [
        "df_media_2018 = df_events[((df_events['Week_Number'] == 37) & (df_events['Year']==2018))]\n",
        "df_media_2017 = df_events[((df_events['Week_Number'] == 37) & (df_events['Year']==2017))]\n",
        "df_union_voted_2018 = df_events[((df_events['Week_Number'] == 39) & (df_events['Year']==2018))]\n",
        "df_union_voted_2017 = df_events[((df_events['Week_Number'] == 39) & (df_events['Year']==2017))]"
      ],
      "execution_count": 211,
      "outputs": []
    },
    {
      "cell_type": "code",
      "metadata": {
        "id": "e5xqDi79Nnus",
        "colab_type": "code",
        "colab": {
          "base_uri": "https://localhost:8080/",
          "height": 52
        },
        "outputId": "1a925523-593d-4f1c-ceff-cb2744c30ea0"
      },
      "source": [
        "df_media_2018_mean = df_media_2018[\"Volume\"].mean()\n",
        "df_media_2017_mean = df_media_2017[\"Volume\"].mean()\n",
        "print(\"df_media_2018_mean = \", df_media_2018_mean)\n",
        "print(\"df_media_2017_mean = \", df_media_2017_mean)"
      ],
      "execution_count": 212,
      "outputs": [
        {
          "output_type": "stream",
          "text": [
            "df_media_2018_mean =  14808.549019607843\n",
            "df_media_2017_mean =  12284.519607843138\n"
          ],
          "name": "stdout"
        }
      ]
    },
    {
      "cell_type": "code",
      "metadata": {
        "id": "F4gJ6QVrOD5l",
        "colab_type": "code",
        "colab": {
          "base_uri": "https://localhost:8080/",
          "height": 35
        },
        "outputId": "f9997ae6-0ac4-42a4-8122-f5f32ead582a"
      },
      "source": [
        "# T-test for media\n",
        "test_result_media = stats.ttest_ind(df_media_2018[\"Volume\"], df_media_2017[\"Volume\"])\n",
        "test_result_media"
      ],
      "execution_count": 213,
      "outputs": [
        {
          "output_type": "execute_result",
          "data": {
            "text/plain": [
              "Ttest_indResult(statistic=0.2640578174466393, pvalue=0.7920045671424991)"
            ]
          },
          "metadata": {
            "tags": []
          },
          "execution_count": 213
        }
      ]
    },
    {
      "cell_type": "code",
      "metadata": {
        "id": "ELg1kdMHObbx",
        "colab_type": "code",
        "colab": {
          "base_uri": "https://localhost:8080/",
          "height": 321
        },
        "outputId": "730f6ad0-e168-4c53-c913-79f1dd48e4f0"
      },
      "source": [
        "df_media_2018_volume = df_media_2018[\"Volume\"]\n",
        "df_media_2017_volume = df_media_2017[\"Volume\"]\n",
        "plt.figure(figsize=(20,5))\n",
        "pyplot.hist(df_media_2018_volume, alpha=0.5, label='df_media_2018_volume')\n",
        "pyplot.hist(df_media_2017_volume, alpha=0.5, label='df_media_2017_volume')\n",
        "pyplot.legend(loc='upper right')\n",
        "\n",
        "pyplot.show()"
      ],
      "execution_count": 214,
      "outputs": [
        {
          "output_type": "display_data",
          "data": {
            "image/png": "[encoded data removed]",
            "text/plain": [
              "<Figure size 1440x360 with 1 Axes>"
            ]
          },
          "metadata": {
            "tags": []
          }
        }
      ]
    },
    {
      "cell_type": "code",
      "metadata": {
        "id": "xH3EtsS6PCEF",
        "colab_type": "code",
        "colab": {
          "base_uri": "https://localhost:8080/",
          "height": 52
        },
        "outputId": "88d8d4ac-7109-405b-ce32-d73cbe65eb40"
      },
      "source": [
        "df_union_voted_2018_mean = df_union_voted_2018[\"Volume\"].mean()\n",
        "df_union_voted_2017_mean = df_union_voted_2017[\"Volume\"].mean()\n",
        "print(\"df_union_voted_2018_mean = \", df_union_voted_2018_mean)\n",
        "print(\"df_union_voted_2017_mean = \", df_union_voted_2017_mean)"
      ],
      "execution_count": 215,
      "outputs": [
        {
          "output_type": "stream",
          "text": [
            "df_union_voted_2018_mean =  12414.43137254902\n",
            "df_union_voted_2017_mean =  9352.754901960785\n"
          ],
          "name": "stdout"
        }
      ]
    },
    {
      "cell_type": "code",
      "metadata": {
        "id": "UuYz72D6QKLd",
        "colab_type": "code",
        "colab": {
          "base_uri": "https://localhost:8080/",
          "height": 35
        },
        "outputId": "6719504f-fd18-4f27-f1b1-67635873a0c7"
      },
      "source": [
        "# T-test for union voted event\n",
        "test_result_union_voted = stats.ttest_ind(df_union_voted_2018[\"Volume\"], df_union_voted_2017[\"Volume\"])\n",
        "test_result_union_voted"
      ],
      "execution_count": 216,
      "outputs": [
        {
          "output_type": "execute_result",
          "data": {
            "text/plain": [
              "Ttest_indResult(statistic=0.4040631876087712, pvalue=0.68659371444835)"
            ]
          },
          "metadata": {
            "tags": []
          },
          "execution_count": 216
        }
      ]
    },
    {
      "cell_type": "code",
      "metadata": {
        "id": "IcICBtRiQh3y",
        "colab_type": "code",
        "colab": {
          "base_uri": "https://localhost:8080/",
          "height": 321
        },
        "outputId": "2c77792b-96e3-4948-8ec5-ad3b9b351036"
      },
      "source": [
        "df_union_voted_2018_volume = df_union_voted_2018[\"Volume\"]\n",
        "df_union_voted_2017_volume = df_union_voted_2017[\"Volume\"]\n",
        "plt.figure(figsize=(20,5))\n",
        "pyplot.hist(df_union_voted_2018_volume, alpha=0.5, label='df_union_voting_2018_volume')\n",
        "pyplot.hist(df_union_voted_2017_volume, alpha=0.5, label='df_union_voting_2017_volume')\n",
        "pyplot.legend(loc='upper right')\n",
        "\n",
        "pyplot.show()"
      ],
      "execution_count": 217,
      "outputs": [
        {
          "output_type": "display_data",
          "data": {
            "image/png": "[encoded data removed]",
            "text/plain": [
              "<Figure size 1440x360 with 1 Axes>"
            ]
          },
          "metadata": {
            "tags": []
          }
        }
      ]
    },
    {
      "cell_type": "code",
      "metadata": {
        "id": "iNxO0gv5xtkm",
        "colab_type": "code",
        "colab": {}
      },
      "source": [
        ""
      ],
      "execution_count": 217,
      "outputs": []
    }
  ]
}